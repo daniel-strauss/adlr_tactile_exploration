{
 "cells": [
  {
   "cell_type": "markdown",
   "metadata": {},
   "source": [
    "# Example usage of trainer class"
   ]
  },
  {
   "cell_type": "code",
   "execution_count": 1,
   "metadata": {},
   "outputs": [],
   "source": [
    "# autoreload after code has changed\n",
    "%load_ext autoreload\n",
    "%autoreload 2"
   ]
  },
  {
   "cell_type": "code",
   "execution_count": 2,
   "metadata": {},
   "outputs": [
    {
     "name": "stdout",
     "output_type": "stream",
     "text": [
      "Running first time, moving up one dir level\n",
      "This path should be the root directory of the project:  /home/daniels/Documents/uni/ADLR/tum-adlr-02\n"
     ]
    }
   ],
   "source": [
    "import os\n",
    "\n",
    "# move into the correct dirrectory, e.g. move up one directory level iif this cell is run for the first time\n",
    "try:\n",
    "    a = first_time\n",
    "except NameError:\n",
    "    print(\"Running first time, moving up one dir level\")\n",
    "    os.chdir('..')  # Move up one directory level to the root directory of project\n",
    "    first_time = False\n",
    "\n",
    "print(\"This path should be the root directory of the project: \", os.getcwd())\n",
    "    \n"
   ]
  },
  {
   "cell_type": "markdown",
   "metadata": {},
   "source": [
    "## Define Dataset\n",
    "Creating the dataset object and applzing transformations to the data."
   ]
  },
  {
   "cell_type": "code",
   "execution_count": 3,
   "metadata": {},
   "outputs": [],
   "source": [
    "from data.model_classes import Mug, Bottle\n",
    "from data.dataconverter import DataConverter\n",
    "\n",
    "# generate data\n",
    "dataconverter = DataConverter(\n",
    "    classes=[Mug(),Bottle()],\n",
    "    min_order = 1, #small parameter amounts for testing\n",
    "    tact_order = 2,\n",
    "    rand_rotations=2\n",
    "    \n",
    ")\n",
    "# set regenerate to true, if you run this after changes in dataconverter have been made\n",
    "#dataconverter.generate_2d_dataset(show_results=False, regenerate=False)\n"
   ]
  },
  {
   "cell_type": "code",
   "execution_count": 4,
   "metadata": {},
   "outputs": [],
   "source": [
    "from data.reconstruction_dataset import *\n",
    "\n",
    "csv_file = './datasets/2D_shapes/annotations.csv'\n",
    "root_dir = './datasets/2D_shapes'\n",
    "#composed = transforms.Compose([RandomOrientation(),\n",
    "#                               ToTensor()])\n",
    "\n",
    "dataset = ReconstructionDataset(csv_file=csv_file,\n",
    "                                root_dir=root_dir)#,\n",
    "                                #transform=composed)"
   ]
  },
  {
   "cell_type": "markdown",
   "metadata": {},
   "source": [
    "Examplary data pairs:"
   ]
  },
  {
   "cell_type": "code",
   "execution_count": 5,
   "metadata": {},
   "outputs": [
    {
     "name": "stdout",
     "output_type": "stream",
     "text": [
      "[[[0. 0. 0. ... 0. 0. 0.]\n",
      "  [0. 0. 0. ... 0. 0. 0.]\n",
      "  [0. 0. 0. ... 0. 0. 0.]\n",
      "  ...\n",
      "  [0. 0. 0. ... 0. 0. 0.]\n",
      "  [0. 0. 0. ... 0. 0. 0.]\n",
      "  [0. 0. 0. ... 0. 0. 0.]]]\n"
     ]
    },
    {
     "data": {
      "text/plain": [
       "<Figure size 640x480 with 0 Axes>"
      ]
     },
     "metadata": {},
     "output_type": "display_data"
    },
    {
     "data": {
      "image/png": "[encoded data removed]",
      "text/plain": [
       "<Figure size 640x480 with 2 Axes>"
      ]
     },
     "metadata": {},
     "output_type": "display_data"
    }
   ],
   "source": [
    "example_data = dataset[5]\n",
    "\n",
    "plt.figure()\n",
    "print(example_data['image'])\n",
    "show_datapair(example_data['image'], example_data['label'])\n",
    "plt.show()"
   ]
  },
  {
   "cell_type": "markdown",
   "metadata": {},
   "source": [
    "## Choose Hyperparamters\n",
    "\n",
    "Look into the file neural_nets.trainer to see which hyperparameters you can choose.\n",
    "The seperation into tunable and non tunable hyperparameters is made, because this makes parameter searches with ray easier.\n"
   ]
  },
  {
   "cell_type": "markdown",
   "metadata": {},
   "source": [
    "#### Non Tunable Hyperparameters\n"
   ]
  },
  {
   "cell_type": "code",
   "execution_count": 6,
   "metadata": {},
   "outputs": [],
   "source": [
    "from neural_nets.trainer import NonTHparams\n",
    "\n",
    "\n",
    "nt_h = NonTHparams()\n",
    "nt_h.num_epochs = 50\n",
    "nt_h.train_prop = 0.9\n",
    "\n",
    "nt_h.log_train_period = 1\n",
    "nt_h.log_val_freq = 1\n"
   ]
  },
  {
   "cell_type": "markdown",
   "metadata": {},
   "source": [
    "#### Tunable Hyperparameters"
   ]
  },
  {
   "cell_type": "code",
   "execution_count": 7,
   "metadata": {},
   "outputs": [],
   "source": [
    "import torch.nn as nn\n",
    "import torch.optim as optim\n",
    "\n",
    "from neural_nets.trainer import THparams\n",
    "from neural_nets.weight_inits import weight_init_kx\n",
    "from neural_nets.models.unet import UNet2\n",
    "\n",
    "\n",
    "t_h = THparams()\n",
    "t_h.batch_size = 16\n",
    "\n",
    "t_h.model = UNet2\n",
    "t_h.weight_init = weight_init_kx\n",
    "t_h.depth = 5\n",
    "t_h.channels = 64\n",
    "t_h.first_kernel_size = 41\n",
    "\n",
    "t_h.lr = 1e-4\n",
    "t_h.optimizer = optim.Adam\n",
    "t_h.loss_func = nn.BCELoss()\n",
    "\n",
    "\n"
   ]
  },
  {
   "cell_type": "markdown",
   "metadata": {},
   "source": [
    "## Initialize Trainer"
   ]
  },
  {
   "cell_type": "code",
   "execution_count": 8,
   "metadata": {},
   "outputs": [
    {
     "name": "stdout",
     "output_type": "stream",
     "text": [
      "During training, progress will be logged to tensorboard. Go to project folder, activate appropriateconda environment and run 'tensorboard --logdir runs/' to see the logs.\n"
     ]
    },
    {
     "name": "stderr",
     "output_type": "stream",
     "text": [
      "/home/daniels/Documents/uni/ADLR/tum-adlr-02/neural_nets/trainer.py:114: UserWarning: Cuda is not available, device used instead: cpu\n",
      "  warnings.warn(\"Cuda is not available, device used instead: \" + str(self.device))\n"
     ]
    }
   ],
   "source": [
    "from neural_nets.trainer import Trainer\n",
    "\n",
    "trainer = Trainer(nt_h,t_h, dataset)\n",
    "\n"
   ]
  },
  {
   "cell_type": "markdown",
   "metadata": {},
   "source": [
    "## Training"
   ]
  },
  {
   "cell_type": "code",
   "execution_count": null,
   "metadata": {},
   "outputs": [
    {
     "name": "stderr",
     "output_type": "stream",
     "text": [
      "/home/daniels/Documents/uni/ADLR/tum-adlr-02/neural_nets/trainer.py:141: UserWarning: Cuda is not available, device used instead: cpu\n",
      "  warnings.warn(\"Cuda is not available, device used instead: \" + str(self.device))\n"
     ]
    },
    {
     "name": "stdout",
     "output_type": "stream",
     "text": [
      "Total trainable parameters: 28094465\n"
     ]
    },
    {
     "name": "stderr",
     "output_type": "stream",
     "text": [
      "/home/daniels/.conda/envs/adlr/lib/python3.10/site-packages/ray/train/_internal/session.py:651: UserWarning: `get_checkpoint` is meant to only be called inside a function that is executed by a Tuner or Trainer. Returning `None`.\n",
      "  warnings.warn(\n"
     ]
    },
    {
     "name": "stdout",
     "output_type": "stream",
     "text": [
      "Epoch [1/50], Step [1/1443], Train Loss: 0.6927 , Logging Time Proportion: 0.0004, Data Loading Time Proportion: 0.0000\n",
      "Epoch [1/50], Step [2/1443], Train Loss: 0.6788 , Logging Time Proportion: 0.0007, Data Loading Time Proportion: 0.0000\n",
      "Epoch [1/50], Step [3/1443], Train Loss: 0.6485 , Logging Time Proportion: 0.0006, Data Loading Time Proportion: 0.0000\n",
      "Epoch [1/50], Step [4/1443], Train Loss: 0.5738 , Logging Time Proportion: 0.0007, Data Loading Time Proportion: 0.0000\n",
      "Epoch [1/50], Step [5/1443], Train Loss: 0.4500 , Logging Time Proportion: 0.0005, Data Loading Time Proportion: 0.0000\n",
      "Epoch [1/50], Step [6/1443], Train Loss: 0.5574 , Logging Time Proportion: 0.0005, Data Loading Time Proportion: 0.0000\n",
      "Epoch [1/50], Step [7/1443], Train Loss: 0.4212 , Logging Time Proportion: 0.0005, Data Loading Time Proportion: 0.0000\n",
      "Epoch [1/50], Step [8/1443], Train Loss: 0.3680 , Logging Time Proportion: 0.0007, Data Loading Time Proportion: 0.0000\n",
      "Epoch [1/50], Step [9/1443], Train Loss: 0.3857 , Logging Time Proportion: 0.0005, Data Loading Time Proportion: 0.0000\n",
      "Epoch [1/50], Step [10/1443], Train Loss: 0.3864 , Logging Time Proportion: 0.0009, Data Loading Time Proportion: 0.0000\n",
      "Epoch [1/50], Step [11/1443], Train Loss: 0.3607 , Logging Time Proportion: 0.0005, Data Loading Time Proportion: 0.0000\n",
      "Epoch [1/50], Step [12/1443], Train Loss: 0.3194 , Logging Time Proportion: 0.0006, Data Loading Time Proportion: 0.0000\n",
      "Epoch [1/50], Step [13/1443], Train Loss: 0.2927 , Logging Time Proportion: 0.0005, Data Loading Time Proportion: 0.0000\n",
      "Epoch [1/50], Step [14/1443], Train Loss: 0.3194 , Logging Time Proportion: 0.0005, Data Loading Time Proportion: 0.0000\n",
      "Epoch [1/50], Step [15/1443], Train Loss: 0.2925 , Logging Time Proportion: 0.0006, Data Loading Time Proportion: 0.0000\n",
      "Epoch [1/50], Step [16/1443], Train Loss: 0.2932 , Logging Time Proportion: 0.0005, Data Loading Time Proportion: 0.0000\n",
      "Epoch [1/50], Step [17/1443], Train Loss: 0.2470 , Logging Time Proportion: 0.0005, Data Loading Time Proportion: 0.0000\n",
      "Epoch [1/50], Step [18/1443], Train Loss: 0.2612 , Logging Time Proportion: 0.0007, Data Loading Time Proportion: 0.0000\n",
      "Epoch [1/50], Step [19/1443], Train Loss: 0.2654 , Logging Time Proportion: 0.0006, Data Loading Time Proportion: 0.0000\n",
      "Epoch [1/50], Step [20/1443], Train Loss: 0.2524 , Logging Time Proportion: 0.0005, Data Loading Time Proportion: 0.0000\n",
      "Epoch [1/50], Step [21/1443], Train Loss: 0.2596 , Logging Time Proportion: 0.0007, Data Loading Time Proportion: 0.0000\n",
      "Epoch [1/50], Step [22/1443], Train Loss: 0.2482 , Logging Time Proportion: 0.0007, Data Loading Time Proportion: 0.0000\n",
      "Epoch [1/50], Step [23/1443], Train Loss: 0.2524 , Logging Time Proportion: 0.0008, Data Loading Time Proportion: 0.0000\n",
      "Epoch [1/50], Step [24/1443], Train Loss: 0.2453 , Logging Time Proportion: 0.0007, Data Loading Time Proportion: 0.0000\n",
      "Epoch [1/50], Step [25/1443], Train Loss: 0.2381 , Logging Time Proportion: 0.0005, Data Loading Time Proportion: 0.0000\n",
      "Epoch [1/50], Step [26/1443], Train Loss: 0.2318 , Logging Time Proportion: 0.0005, Data Loading Time Proportion: 0.0000\n",
      "Epoch [1/50], Step [27/1443], Train Loss: 0.2384 , Logging Time Proportion: 0.0005, Data Loading Time Proportion: 0.0000\n",
      "Epoch [1/50], Step [28/1443], Train Loss: 0.2166 , Logging Time Proportion: 0.0005, Data Loading Time Proportion: 0.0000\n",
      "Epoch [1/50], Step [29/1443], Train Loss: 0.2175 , Logging Time Proportion: 0.0008, Data Loading Time Proportion: 0.0000\n",
      "Epoch [1/50], Step [30/1443], Train Loss: 0.2204 , Logging Time Proportion: 0.0008, Data Loading Time Proportion: 0.0000\n",
      "Epoch [1/50], Step [31/1443], Train Loss: 0.2179 , Logging Time Proportion: 0.0005, Data Loading Time Proportion: 0.0000\n",
      "Epoch [1/50], Step [32/1443], Train Loss: 0.2123 , Logging Time Proportion: 0.0005, Data Loading Time Proportion: 0.0000\n",
      "Epoch [1/50], Step [33/1443], Train Loss: 0.2084 , Logging Time Proportion: 0.0006, Data Loading Time Proportion: 0.0000\n",
      "Epoch [1/50], Step [34/1443], Train Loss: 0.1940 , Logging Time Proportion: 0.0005, Data Loading Time Proportion: 0.0000\n",
      "Epoch [1/50], Step [35/1443], Train Loss: 0.1898 , Logging Time Proportion: 0.0005, Data Loading Time Proportion: 0.0000\n",
      "Epoch [1/50], Step [36/1443], Train Loss: 0.1839 , Logging Time Proportion: 0.0005, Data Loading Time Proportion: 0.0000\n",
      "Epoch [1/50], Step [37/1443], Train Loss: 0.1943 , Logging Time Proportion: 0.0005, Data Loading Time Proportion: 0.0000\n",
      "Epoch [1/50], Step [38/1443], Train Loss: 0.1703 , Logging Time Proportion: 0.0005, Data Loading Time Proportion: 0.0000\n",
      "Epoch [1/50], Step [39/1443], Train Loss: 0.1753 , Logging Time Proportion: 0.0005, Data Loading Time Proportion: 0.0000\n",
      "Epoch [1/50], Step [40/1443], Train Loss: 0.1747 , Logging Time Proportion: 0.0005, Data Loading Time Proportion: 0.0000\n",
      "Epoch [1/50], Step [41/1443], Train Loss: 0.1631 , Logging Time Proportion: 0.0007, Data Loading Time Proportion: 0.0000\n",
      "Epoch [1/50], Step [42/1443], Train Loss: 0.1590 , Logging Time Proportion: 0.0010, Data Loading Time Proportion: 0.0000\n",
      "Epoch [1/50], Step [43/1443], Train Loss: 0.1523 , Logging Time Proportion: 0.0005, Data Loading Time Proportion: 0.0000\n",
      "Epoch [1/50], Step [44/1443], Train Loss: 0.1487 , Logging Time Proportion: 0.0005, Data Loading Time Proportion: 0.0000\n",
      "Epoch [1/50], Step [45/1443], Train Loss: 0.1389 , Logging Time Proportion: 0.0005, Data Loading Time Proportion: 0.0000\n",
      "Epoch [1/50], Step [46/1443], Train Loss: 0.1368 , Logging Time Proportion: 0.0005, Data Loading Time Proportion: 0.0000\n",
      "Epoch [1/50], Step [47/1443], Train Loss: 0.1327 , Logging Time Proportion: 0.0005, Data Loading Time Proportion: 0.0000\n",
      "Epoch [1/50], Step [48/1443], Train Loss: 0.1236 , Logging Time Proportion: 0.0004, Data Loading Time Proportion: 0.0000\n",
      "Epoch [1/50], Step [49/1443], Train Loss: 0.1270 , Logging Time Proportion: 0.0004, Data Loading Time Proportion: 0.0000\n",
      "Epoch [1/50], Step [50/1443], Train Loss: 0.1291 , Logging Time Proportion: 0.0004, Data Loading Time Proportion: 0.0000\n",
      "Epoch [1/50], Step [51/1443], Train Loss: 0.1509 , Logging Time Proportion: 0.0004, Data Loading Time Proportion: 0.0000\n",
      "Epoch [1/50], Step [52/1443], Train Loss: 0.1459 , Logging Time Proportion: 0.0004, Data Loading Time Proportion: 0.0000\n",
      "Epoch [1/50], Step [53/1443], Train Loss: 0.1261 , Logging Time Proportion: 0.0004, Data Loading Time Proportion: 0.0000\n",
      "Epoch [1/50], Step [54/1443], Train Loss: 0.1200 , Logging Time Proportion: 0.0006, Data Loading Time Proportion: 0.0000\n",
      "Epoch [1/50], Step [55/1443], Train Loss: 0.1104 , Logging Time Proportion: 0.0003, Data Loading Time Proportion: 0.0000\n",
      "Epoch [1/50], Step [56/1443], Train Loss: 0.1141 , Logging Time Proportion: 0.0003, Data Loading Time Proportion: 0.0000\n",
      "Epoch [1/50], Step [57/1443], Train Loss: 0.1059 , Logging Time Proportion: 0.0003, Data Loading Time Proportion: 0.0000\n",
      "Epoch [1/50], Step [58/1443], Train Loss: 0.1064 , Logging Time Proportion: 0.0005, Data Loading Time Proportion: 0.0000\n",
      "Epoch [1/50], Step [59/1443], Train Loss: 0.1031 , Logging Time Proportion: 0.0003, Data Loading Time Proportion: 0.0000\n",
      "Epoch [1/50], Step [60/1443], Train Loss: 0.1049 , Logging Time Proportion: 0.0004, Data Loading Time Proportion: 0.0000\n",
      "Epoch [1/50], Step [61/1443], Train Loss: 0.1017 , Logging Time Proportion: 0.0004, Data Loading Time Proportion: 0.0000\n",
      "Epoch [1/50], Step [62/1443], Train Loss: 0.1016 , Logging Time Proportion: 0.0003, Data Loading Time Proportion: 0.0000\n",
      "Epoch [1/50], Step [63/1443], Train Loss: 0.1021 , Logging Time Proportion: 0.0002, Data Loading Time Proportion: 0.0000\n",
      "Epoch [1/50], Step [64/1443], Train Loss: 0.0988 , Logging Time Proportion: 0.0002, Data Loading Time Proportion: 0.0000\n",
      "Epoch [1/50], Step [65/1443], Train Loss: 0.1005 , Logging Time Proportion: 0.0002, Data Loading Time Proportion: 0.0000\n",
      "Epoch [1/50], Step [66/1443], Train Loss: 0.1059 , Logging Time Proportion: 0.0003, Data Loading Time Proportion: 0.0000\n",
      "Epoch [1/50], Step [67/1443], Train Loss: 0.0975 , Logging Time Proportion: 0.0002, Data Loading Time Proportion: 0.0000\n",
      "Epoch [1/50], Step [68/1443], Train Loss: 0.0985 , Logging Time Proportion: 0.0003, Data Loading Time Proportion: 0.0000\n",
      "Epoch [1/50], Step [69/1443], Train Loss: 0.1009 , Logging Time Proportion: 0.0004, Data Loading Time Proportion: 0.0000\n",
      "Epoch [1/50], Step [70/1443], Train Loss: 0.0948 , Logging Time Proportion: 0.0002, Data Loading Time Proportion: 0.0000\n",
      "Epoch [1/50], Step [71/1443], Train Loss: 0.0977 , Logging Time Proportion: 0.0002, Data Loading Time Proportion: 0.0000\n",
      "Epoch [1/50], Step [72/1443], Train Loss: 0.0963 , Logging Time Proportion: 0.0002, Data Loading Time Proportion: 0.0000\n",
      "Epoch [1/50], Step [73/1443], Train Loss: 0.0911 , Logging Time Proportion: 0.0002, Data Loading Time Proportion: 0.0000\n",
      "Epoch [1/50], Step [74/1443], Train Loss: 0.0926 , Logging Time Proportion: 0.0002, Data Loading Time Proportion: 0.0000\n",
      "Epoch [1/50], Step [75/1443], Train Loss: 0.0905 , Logging Time Proportion: 0.0002, Data Loading Time Proportion: 0.0000\n",
      "Epoch [1/50], Step [76/1443], Train Loss: 0.0925 , Logging Time Proportion: 0.0002, Data Loading Time Proportion: 0.0000\n",
      "Epoch [1/50], Step [77/1443], Train Loss: 0.0948 , Logging Time Proportion: 0.0003, Data Loading Time Proportion: 0.0000\n",
      "Epoch [1/50], Step [78/1443], Train Loss: 0.0925 , Logging Time Proportion: 0.0003, Data Loading Time Proportion: 0.0000\n",
      "Epoch [1/50], Step [79/1443], Train Loss: 0.0917 , Logging Time Proportion: 0.0003, Data Loading Time Proportion: 0.0000\n",
      "Epoch [1/50], Step [80/1443], Train Loss: 0.0862 , Logging Time Proportion: 0.0003, Data Loading Time Proportion: 0.0000\n",
      "Epoch [1/50], Step [81/1443], Train Loss: 0.1045 , Logging Time Proportion: 0.0003, Data Loading Time Proportion: 0.0000\n",
      "Epoch [1/50], Step [82/1443], Train Loss: 0.0978 , Logging Time Proportion: 0.0003, Data Loading Time Proportion: 0.0000\n",
      "Epoch [1/50], Step [83/1443], Train Loss: 0.0924 , Logging Time Proportion: 0.0003, Data Loading Time Proportion: 0.0000\n",
      "Epoch [1/50], Step [84/1443], Train Loss: 0.0921 , Logging Time Proportion: 0.0003, Data Loading Time Proportion: 0.0000\n",
      "Epoch [1/50], Step [85/1443], Train Loss: 0.0919 , Logging Time Proportion: 0.0003, Data Loading Time Proportion: 0.0000\n",
      "Epoch [1/50], Step [86/1443], Train Loss: 0.0921 , Logging Time Proportion: 0.0003, Data Loading Time Proportion: 0.0000\n",
      "Epoch [1/50], Step [87/1443], Train Loss: 0.0952 , Logging Time Proportion: 0.0003, Data Loading Time Proportion: 0.0000\n",
      "Epoch [1/50], Step [88/1443], Train Loss: 0.0918 , Logging Time Proportion: 0.0003, Data Loading Time Proportion: 0.0000\n",
      "Epoch [1/50], Step [89/1443], Train Loss: 0.0917 , Logging Time Proportion: 0.0003, Data Loading Time Proportion: 0.0000\n",
      "Epoch [1/50], Step [90/1443], Train Loss: 0.0892 , Logging Time Proportion: 0.0005, Data Loading Time Proportion: 0.0000\n",
      "Epoch [1/50], Step [91/1443], Train Loss: 0.0883 , Logging Time Proportion: 0.0005, Data Loading Time Proportion: 0.0000\n",
      "Epoch [1/50], Step [92/1443], Train Loss: 0.0938 , Logging Time Proportion: 0.0003, Data Loading Time Proportion: 0.0000\n",
      "Epoch [1/50], Step [93/1443], Train Loss: 0.0827 , Logging Time Proportion: 0.0003, Data Loading Time Proportion: 0.0000\n",
      "Epoch [1/50], Step [94/1443], Train Loss: 0.0822 , Logging Time Proportion: 0.0003, Data Loading Time Proportion: 0.0000\n",
      "Epoch [1/50], Step [95/1443], Train Loss: 0.0924 , Logging Time Proportion: 0.0003, Data Loading Time Proportion: 0.0000\n",
      "Epoch [1/50], Step [96/1443], Train Loss: 0.0929 , Logging Time Proportion: 0.0003, Data Loading Time Proportion: 0.0000\n",
      "Epoch [1/50], Step [97/1443], Train Loss: 0.0910 , Logging Time Proportion: 0.0004, Data Loading Time Proportion: 0.0000\n",
      "Epoch [1/50], Step [98/1443], Train Loss: 0.0863 , Logging Time Proportion: 0.0004, Data Loading Time Proportion: 0.0000\n",
      "Epoch [1/50], Step [99/1443], Train Loss: 0.0904 , Logging Time Proportion: 0.0004, Data Loading Time Proportion: 0.0000\n",
      "Epoch [1/50], Step [100/1443], Train Loss: 0.0873 , Logging Time Proportion: 0.0003, Data Loading Time Proportion: 0.0000\n",
      "Epoch [1/50], Step [101/1443], Train Loss: 0.0901 , Logging Time Proportion: 0.0004, Data Loading Time Proportion: 0.0000\n",
      "Epoch [1/50], Step [102/1443], Train Loss: 0.0913 , Logging Time Proportion: 0.0004, Data Loading Time Proportion: 0.0000\n",
      "Epoch [1/50], Step [103/1443], Train Loss: 0.0923 , Logging Time Proportion: 0.0003, Data Loading Time Proportion: 0.0000\n",
      "Epoch [1/50], Step [104/1443], Train Loss: 0.0911 , Logging Time Proportion: 0.0003, Data Loading Time Proportion: 0.0000\n",
      "Epoch [1/50], Step [105/1443], Train Loss: 0.0923 , Logging Time Proportion: 0.0003, Data Loading Time Proportion: 0.0000\n",
      "Epoch [1/50], Step [106/1443], Train Loss: 0.0886 , Logging Time Proportion: 0.0004, Data Loading Time Proportion: 0.0000\n",
      "Epoch [1/50], Step [107/1443], Train Loss: 0.0869 , Logging Time Proportion: 0.0003, Data Loading Time Proportion: 0.0000\n",
      "Epoch [1/50], Step [108/1443], Train Loss: 0.0922 , Logging Time Proportion: 0.0003, Data Loading Time Proportion: 0.0000\n",
      "Epoch [1/50], Step [109/1443], Train Loss: 0.0972 , Logging Time Proportion: 0.0003, Data Loading Time Proportion: 0.0000\n",
      "Epoch [1/50], Step [110/1443], Train Loss: 0.0882 , Logging Time Proportion: 0.0007, Data Loading Time Proportion: 0.0000\n",
      "Epoch [1/50], Step [111/1443], Train Loss: 0.0887 , Logging Time Proportion: 0.0003, Data Loading Time Proportion: 0.0000\n",
      "Epoch [1/50], Step [112/1443], Train Loss: 0.0929 , Logging Time Proportion: 0.0006, Data Loading Time Proportion: 0.0000\n",
      "Epoch [1/50], Step [113/1443], Train Loss: 0.0904 , Logging Time Proportion: 0.0003, Data Loading Time Proportion: 0.0000\n",
      "Epoch [1/50], Step [114/1443], Train Loss: 0.0888 , Logging Time Proportion: 0.0003, Data Loading Time Proportion: 0.0000\n",
      "Epoch [1/50], Step [115/1443], Train Loss: 0.0912 , Logging Time Proportion: 0.0003, Data Loading Time Proportion: 0.0000\n",
      "Epoch [1/50], Step [116/1443], Train Loss: 0.0917 , Logging Time Proportion: 0.0003, Data Loading Time Proportion: 0.0000\n",
      "Epoch [1/50], Step [117/1443], Train Loss: 0.0880 , Logging Time Proportion: 0.0005, Data Loading Time Proportion: 0.0000\n",
      "Epoch [1/50], Step [118/1443], Train Loss: 0.0853 , Logging Time Proportion: 0.0004, Data Loading Time Proportion: 0.0000\n",
      "Epoch [1/50], Step [119/1443], Train Loss: 0.0900 , Logging Time Proportion: 0.0003, Data Loading Time Proportion: 0.0000\n",
      "Epoch [1/50], Step [120/1443], Train Loss: 0.0940 , Logging Time Proportion: 0.0003, Data Loading Time Proportion: 0.0000\n",
      "Epoch [1/50], Step [121/1443], Train Loss: 0.0877 , Logging Time Proportion: 0.0003, Data Loading Time Proportion: 0.0000\n",
      "Epoch [1/50], Step [122/1443], Train Loss: 0.0897 , Logging Time Proportion: 0.0003, Data Loading Time Proportion: 0.0000\n",
      "Epoch [1/50], Step [123/1443], Train Loss: 0.0902 , Logging Time Proportion: 0.0006, Data Loading Time Proportion: 0.0000\n",
      "Epoch [1/50], Step [124/1443], Train Loss: 0.0862 , Logging Time Proportion: 0.0003, Data Loading Time Proportion: 0.0000\n",
      "Epoch [1/50], Step [125/1443], Train Loss: 0.0870 , Logging Time Proportion: 0.0003, Data Loading Time Proportion: 0.0000\n",
      "Epoch [1/50], Step [126/1443], Train Loss: 0.0853 , Logging Time Proportion: 0.0003, Data Loading Time Proportion: 0.0000\n",
      "Epoch [1/50], Step [127/1443], Train Loss: 0.0842 , Logging Time Proportion: 0.0003, Data Loading Time Proportion: 0.0000\n",
      "Epoch [1/50], Step [128/1443], Train Loss: 0.0851 , Logging Time Proportion: 0.0003, Data Loading Time Proportion: 0.0000\n",
      "Epoch [1/50], Step [129/1443], Train Loss: 0.0866 , Logging Time Proportion: 0.0003, Data Loading Time Proportion: 0.0000\n",
      "Epoch [1/50], Step [130/1443], Train Loss: 0.0923 , Logging Time Proportion: 0.0005, Data Loading Time Proportion: 0.0000\n",
      "Epoch [1/50], Step [131/1443], Train Loss: 0.0875 , Logging Time Proportion: 0.0003, Data Loading Time Proportion: 0.0000\n",
      "Epoch [1/50], Step [132/1443], Train Loss: 0.0905 , Logging Time Proportion: 0.0004, Data Loading Time Proportion: 0.0000\n",
      "Epoch [1/50], Step [133/1443], Train Loss: 0.0911 , Logging Time Proportion: 0.0003, Data Loading Time Proportion: 0.0000\n",
      "Epoch [1/50], Step [134/1443], Train Loss: 0.0851 , Logging Time Proportion: 0.0005, Data Loading Time Proportion: 0.0000\n",
      "Epoch [1/50], Step [135/1443], Train Loss: 0.0874 , Logging Time Proportion: 0.0004, Data Loading Time Proportion: 0.0000\n",
      "Epoch [1/50], Step [136/1443], Train Loss: 0.0878 , Logging Time Proportion: 0.0002, Data Loading Time Proportion: 0.0000\n",
      "Epoch [1/50], Step [137/1443], Train Loss: 0.0890 , Logging Time Proportion: 0.0003, Data Loading Time Proportion: 0.0000\n",
      "Epoch [1/50], Step [138/1443], Train Loss: 0.0854 , Logging Time Proportion: 0.0003, Data Loading Time Proportion: 0.0000\n",
      "Epoch [1/50], Step [139/1443], Train Loss: 0.0876 , Logging Time Proportion: 0.0003, Data Loading Time Proportion: 0.0000\n",
      "Epoch [1/50], Step [140/1443], Train Loss: 0.0873 , Logging Time Proportion: 0.0003, Data Loading Time Proportion: 0.0000\n",
      "Epoch [1/50], Step [141/1443], Train Loss: 0.0892 , Logging Time Proportion: 0.0004, Data Loading Time Proportion: 0.0000\n",
      "Epoch [1/50], Step [142/1443], Train Loss: 0.0853 , Logging Time Proportion: 0.0004, Data Loading Time Proportion: 0.0000\n",
      "Epoch [1/50], Step [143/1443], Train Loss: 0.0842 , Logging Time Proportion: 0.0004, Data Loading Time Proportion: 0.0000\n",
      "Epoch [1/50], Step [144/1443], Train Loss: 0.0851 , Logging Time Proportion: 0.0004, Data Loading Time Proportion: 0.0000\n",
      "Epoch [1/50], Step [145/1443], Train Loss: 0.0882 , Logging Time Proportion: 0.0005, Data Loading Time Proportion: 0.0000\n",
      "Epoch [1/50], Step [146/1443], Train Loss: 0.0896 , Logging Time Proportion: 0.0003, Data Loading Time Proportion: 0.0000\n",
      "Epoch [1/50], Step [147/1443], Train Loss: 0.0866 , Logging Time Proportion: 0.0004, Data Loading Time Proportion: 0.0000\n",
      "Epoch [1/50], Step [148/1443], Train Loss: 0.0863 , Logging Time Proportion: 0.0004, Data Loading Time Proportion: 0.0000\n",
      "Epoch [1/50], Step [149/1443], Train Loss: 0.0886 , Logging Time Proportion: 0.0004, Data Loading Time Proportion: 0.0000\n",
      "Epoch [1/50], Step [150/1443], Train Loss: 0.0806 , Logging Time Proportion: 0.0003, Data Loading Time Proportion: 0.0000\n",
      "Epoch [1/50], Step [151/1443], Train Loss: 0.0854 , Logging Time Proportion: 0.0004, Data Loading Time Proportion: 0.0000\n",
      "Epoch [1/50], Step [152/1443], Train Loss: 0.0828 , Logging Time Proportion: 0.0003, Data Loading Time Proportion: 0.0000\n",
      "Epoch [1/50], Step [153/1443], Train Loss: 0.0841 , Logging Time Proportion: 0.0004, Data Loading Time Proportion: 0.0000\n",
      "Epoch [1/50], Step [154/1443], Train Loss: 0.0821 , Logging Time Proportion: 0.0003, Data Loading Time Proportion: 0.0000\n",
      "Epoch [1/50], Step [155/1443], Train Loss: 0.0839 , Logging Time Proportion: 0.0004, Data Loading Time Proportion: 0.0000\n",
      "Epoch [1/50], Step [156/1443], Train Loss: 0.0787 , Logging Time Proportion: 0.0004, Data Loading Time Proportion: 0.0000\n",
      "Epoch [1/50], Step [157/1443], Train Loss: 0.0868 , Logging Time Proportion: 0.0004, Data Loading Time Proportion: 0.0000\n",
      "Epoch [1/50], Step [158/1443], Train Loss: 0.0922 , Logging Time Proportion: 0.0003, Data Loading Time Proportion: 0.0000\n",
      "Epoch [1/50], Step [159/1443], Train Loss: 0.0847 , Logging Time Proportion: 0.0003, Data Loading Time Proportion: 0.0000\n",
      "Epoch [1/50], Step [160/1443], Train Loss: 0.0883 , Logging Time Proportion: 0.0003, Data Loading Time Proportion: 0.0000\n",
      "Epoch [1/50], Step [161/1443], Train Loss: 0.0885 , Logging Time Proportion: 0.0005, Data Loading Time Proportion: 0.0000\n",
      "Epoch [1/50], Step [162/1443], Train Loss: 0.0808 , Logging Time Proportion: 0.0004, Data Loading Time Proportion: 0.0000\n",
      "Epoch [1/50], Step [163/1443], Train Loss: 0.0844 , Logging Time Proportion: 0.0003, Data Loading Time Proportion: 0.0000\n",
      "Epoch [1/50], Step [164/1443], Train Loss: 0.0843 , Logging Time Proportion: 0.0003, Data Loading Time Proportion: 0.0000\n",
      "Epoch [1/50], Step [165/1443], Train Loss: 0.0856 , Logging Time Proportion: 0.0004, Data Loading Time Proportion: 0.0000\n",
      "Epoch [1/50], Step [166/1443], Train Loss: 0.0856 , Logging Time Proportion: 0.0003, Data Loading Time Proportion: 0.0000\n",
      "Epoch [1/50], Step [167/1443], Train Loss: 0.0887 , Logging Time Proportion: 0.0005, Data Loading Time Proportion: 0.0000\n",
      "Epoch [1/50], Step [168/1443], Train Loss: 0.0954 , Logging Time Proportion: 0.0003, Data Loading Time Proportion: 0.0000\n",
      "Epoch [1/50], Step [169/1443], Train Loss: 0.0858 , Logging Time Proportion: 0.0004, Data Loading Time Proportion: 0.0000\n",
      "Epoch [1/50], Step [170/1443], Train Loss: 0.0809 , Logging Time Proportion: 0.0003, Data Loading Time Proportion: 0.0000\n",
      "Epoch [1/50], Step [171/1443], Train Loss: 0.0818 , Logging Time Proportion: 0.0006, Data Loading Time Proportion: 0.0000\n",
      "Epoch [1/50], Step [172/1443], Train Loss: 0.0912 , Logging Time Proportion: 0.0006, Data Loading Time Proportion: 0.0000\n",
      "Epoch [1/50], Step [173/1443], Train Loss: 0.0884 , Logging Time Proportion: 0.0003, Data Loading Time Proportion: 0.0000\n",
      "Epoch [1/50], Step [174/1443], Train Loss: 0.0844 , Logging Time Proportion: 0.0003, Data Loading Time Proportion: 0.0000\n",
      "Epoch [1/50], Step [175/1443], Train Loss: 0.0877 , Logging Time Proportion: 0.0003, Data Loading Time Proportion: 0.0000\n",
      "Epoch [1/50], Step [176/1443], Train Loss: 0.0895 , Logging Time Proportion: 0.0003, Data Loading Time Proportion: 0.0000\n",
      "Epoch [1/50], Step [177/1443], Train Loss: 0.0840 , Logging Time Proportion: 0.0003, Data Loading Time Proportion: 0.0000\n",
      "Epoch [1/50], Step [178/1443], Train Loss: 0.0874 , Logging Time Proportion: 0.0003, Data Loading Time Proportion: 0.0000\n",
      "Epoch [1/50], Step [179/1443], Train Loss: 0.0887 , Logging Time Proportion: 0.0006, Data Loading Time Proportion: 0.0000\n",
      "Epoch [1/50], Step [180/1443], Train Loss: 0.0889 , Logging Time Proportion: 0.0005, Data Loading Time Proportion: 0.0000\n",
      "Epoch [1/50], Step [181/1443], Train Loss: 0.0886 , Logging Time Proportion: 0.0003, Data Loading Time Proportion: 0.0000\n",
      "Epoch [1/50], Step [182/1443], Train Loss: 0.0911 , Logging Time Proportion: 0.0006, Data Loading Time Proportion: 0.0000\n",
      "Epoch [1/50], Step [183/1443], Train Loss: 0.0877 , Logging Time Proportion: 0.0008, Data Loading Time Proportion: 0.0000\n",
      "Epoch [1/50], Step [184/1443], Train Loss: 0.0885 , Logging Time Proportion: 0.0008, Data Loading Time Proportion: 0.0000\n",
      "Epoch [1/50], Step [185/1443], Train Loss: 0.0869 , Logging Time Proportion: 0.0005, Data Loading Time Proportion: 0.0000\n",
      "Epoch [1/50], Step [186/1443], Train Loss: 0.0832 , Logging Time Proportion: 0.0004, Data Loading Time Proportion: 0.0000\n",
      "Epoch [1/50], Step [187/1443], Train Loss: 0.0836 , Logging Time Proportion: 0.0003, Data Loading Time Proportion: 0.0000\n",
      "Epoch [1/50], Step [188/1443], Train Loss: 0.0890 , Logging Time Proportion: 0.0005, Data Loading Time Proportion: 0.0000\n",
      "Epoch [1/50], Step [189/1443], Train Loss: 0.0820 , Logging Time Proportion: 0.0003, Data Loading Time Proportion: 0.0000\n",
      "Epoch [1/50], Step [190/1443], Train Loss: 0.0877 , Logging Time Proportion: 0.0004, Data Loading Time Proportion: 0.0000\n",
      "Epoch [1/50], Step [191/1443], Train Loss: 0.0832 , Logging Time Proportion: 0.0003, Data Loading Time Proportion: 0.0000\n",
      "Epoch [1/50], Step [192/1443], Train Loss: 0.0866 , Logging Time Proportion: 0.0004, Data Loading Time Proportion: 0.0000\n",
      "Epoch [1/50], Step [193/1443], Train Loss: 0.0897 , Logging Time Proportion: 0.0003, Data Loading Time Proportion: 0.0000\n",
      "Epoch [1/50], Step [194/1443], Train Loss: 0.0867 , Logging Time Proportion: 0.0003, Data Loading Time Proportion: 0.0000\n",
      "Epoch [1/50], Step [195/1443], Train Loss: 0.0818 , Logging Time Proportion: 0.0004, Data Loading Time Proportion: 0.0000\n",
      "Epoch [1/50], Step [196/1443], Train Loss: 0.0788 , Logging Time Proportion: 0.0003, Data Loading Time Proportion: 0.0000\n",
      "Epoch [1/50], Step [197/1443], Train Loss: 0.0893 , Logging Time Proportion: 0.0003, Data Loading Time Proportion: 0.0000\n",
      "Epoch [1/50], Step [198/1443], Train Loss: 0.0802 , Logging Time Proportion: 0.0004, Data Loading Time Proportion: 0.0000\n",
      "Epoch [1/50], Step [199/1443], Train Loss: 0.0832 , Logging Time Proportion: 0.0003, Data Loading Time Proportion: 0.0000\n",
      "Epoch [1/50], Step [200/1443], Train Loss: 0.0869 , Logging Time Proportion: 0.0003, Data Loading Time Proportion: 0.0000\n",
      "Epoch [1/50], Step [201/1443], Train Loss: 0.0870 , Logging Time Proportion: 0.0004, Data Loading Time Proportion: 0.0000\n",
      "Epoch [1/50], Step [202/1443], Train Loss: 0.0856 , Logging Time Proportion: 0.0005, Data Loading Time Proportion: 0.0000\n",
      "Epoch [1/50], Step [203/1443], Train Loss: 0.0834 , Logging Time Proportion: 0.0005, Data Loading Time Proportion: 0.0000\n",
      "Epoch [1/50], Step [204/1443], Train Loss: 0.0851 , Logging Time Proportion: 0.0004, Data Loading Time Proportion: 0.0000\n",
      "Epoch [1/50], Step [205/1443], Train Loss: 0.0883 , Logging Time Proportion: 0.0004, Data Loading Time Proportion: 0.0000\n",
      "Epoch [1/50], Step [206/1443], Train Loss: 0.0836 , Logging Time Proportion: 0.0004, Data Loading Time Proportion: 0.0000\n",
      "Epoch [1/50], Step [207/1443], Train Loss: 0.0785 , Logging Time Proportion: 0.0003, Data Loading Time Proportion: 0.0000\n",
      "Epoch [1/50], Step [208/1443], Train Loss: 0.0857 , Logging Time Proportion: 0.0003, Data Loading Time Proportion: 0.0000\n",
      "Epoch [1/50], Step [209/1443], Train Loss: 0.0863 , Logging Time Proportion: 0.0003, Data Loading Time Proportion: 0.0000\n",
      "Epoch [1/50], Step [210/1443], Train Loss: 0.0844 , Logging Time Proportion: 0.0014, Data Loading Time Proportion: 0.0000\n",
      "Epoch [1/50], Step [211/1443], Train Loss: 0.0896 , Logging Time Proportion: 0.0004, Data Loading Time Proportion: 0.0000\n",
      "Epoch [1/50], Step [212/1443], Train Loss: 0.0879 , Logging Time Proportion: 0.0004, Data Loading Time Proportion: 0.0000\n",
      "Epoch [1/50], Step [213/1443], Train Loss: 0.0840 , Logging Time Proportion: 0.0004, Data Loading Time Proportion: 0.0000\n",
      "Epoch [1/50], Step [214/1443], Train Loss: 0.0826 , Logging Time Proportion: 0.0005, Data Loading Time Proportion: 0.0000\n",
      "Epoch [1/50], Step [215/1443], Train Loss: 0.0839 , Logging Time Proportion: 0.0004, Data Loading Time Proportion: 0.0000\n",
      "Epoch [1/50], Step [216/1443], Train Loss: 0.0767 , Logging Time Proportion: 0.0003, Data Loading Time Proportion: 0.0000\n",
      "Epoch [1/50], Step [217/1443], Train Loss: 0.0823 , Logging Time Proportion: 0.0003, Data Loading Time Proportion: 0.0000\n",
      "Epoch [1/50], Step [218/1443], Train Loss: 0.0857 , Logging Time Proportion: 0.0004, Data Loading Time Proportion: 0.0000\n",
      "Epoch [1/50], Step [219/1443], Train Loss: 0.0884 , Logging Time Proportion: 0.0004, Data Loading Time Proportion: 0.0000\n",
      "Epoch [1/50], Step [220/1443], Train Loss: 0.0870 , Logging Time Proportion: 0.0006, Data Loading Time Proportion: 0.0000\n",
      "Epoch [1/50], Step [221/1443], Train Loss: 0.0850 , Logging Time Proportion: 0.0004, Data Loading Time Proportion: 0.0000\n",
      "Epoch [1/50], Step [222/1443], Train Loss: 0.0826 , Logging Time Proportion: 0.0004, Data Loading Time Proportion: 0.0000\n",
      "Epoch [1/50], Step [223/1443], Train Loss: 0.0905 , Logging Time Proportion: 0.0004, Data Loading Time Proportion: 0.0000\n",
      "Epoch [1/50], Step [224/1443], Train Loss: 0.0795 , Logging Time Proportion: 0.0004, Data Loading Time Proportion: 0.0000\n",
      "Epoch [1/50], Step [225/1443], Train Loss: 0.0842 , Logging Time Proportion: 0.0003, Data Loading Time Proportion: 0.0000\n",
      "Epoch [1/50], Step [226/1443], Train Loss: 0.0871 , Logging Time Proportion: 0.0003, Data Loading Time Proportion: 0.0000\n",
      "Epoch [1/50], Step [227/1443], Train Loss: 0.0873 , Logging Time Proportion: 0.0003, Data Loading Time Proportion: 0.0000\n",
      "Epoch [1/50], Step [228/1443], Train Loss: 0.0878 , Logging Time Proportion: 0.0006, Data Loading Time Proportion: 0.0000\n",
      "Epoch [1/50], Step [229/1443], Train Loss: 0.0839 , Logging Time Proportion: 0.0003, Data Loading Time Proportion: 0.0000\n",
      "Epoch [1/50], Step [230/1443], Train Loss: 0.0834 , Logging Time Proportion: 0.0003, Data Loading Time Proportion: 0.0000\n",
      "Epoch [1/50], Step [231/1443], Train Loss: 0.0868 , Logging Time Proportion: 0.0003, Data Loading Time Proportion: 0.0000\n",
      "Epoch [1/50], Step [232/1443], Train Loss: 0.0801 , Logging Time Proportion: 0.0005, Data Loading Time Proportion: 0.0000\n",
      "Epoch [1/50], Step [233/1443], Train Loss: 0.0822 , Logging Time Proportion: 0.0003, Data Loading Time Proportion: 0.0000\n",
      "Epoch [1/50], Step [234/1443], Train Loss: 0.0844 , Logging Time Proportion: 0.0003, Data Loading Time Proportion: 0.0000\n",
      "Epoch [1/50], Step [235/1443], Train Loss: 0.0821 , Logging Time Proportion: 0.0004, Data Loading Time Proportion: 0.0000\n",
      "Epoch [1/50], Step [236/1443], Train Loss: 0.0872 , Logging Time Proportion: 0.0003, Data Loading Time Proportion: 0.0000\n",
      "Epoch [1/50], Step [237/1443], Train Loss: 0.0793 , Logging Time Proportion: 0.0004, Data Loading Time Proportion: 0.0000\n",
      "Epoch [1/50], Step [238/1443], Train Loss: 0.0841 , Logging Time Proportion: 0.0003, Data Loading Time Proportion: 0.0000\n",
      "Epoch [1/50], Step [239/1443], Train Loss: 0.0769 , Logging Time Proportion: 0.0005, Data Loading Time Proportion: 0.0000\n",
      "Epoch [1/50], Step [240/1443], Train Loss: 0.0803 , Logging Time Proportion: 0.0005, Data Loading Time Proportion: 0.0000\n",
      "Epoch [1/50], Step [241/1443], Train Loss: 0.0853 , Logging Time Proportion: 0.0004, Data Loading Time Proportion: 0.0000\n",
      "Epoch [1/50], Step [242/1443], Train Loss: 0.0867 , Logging Time Proportion: 0.0003, Data Loading Time Proportion: 0.0000\n"
     ]
    }
   ],
   "source": [
    "trainer.train()"
   ]
  },
  {
   "cell_type": "code",
   "execution_count": null,
   "metadata": {},
   "outputs": [],
   "source": []
  },
  {
   "cell_type": "code",
   "execution_count": null,
   "metadata": {},
   "outputs": [],
   "source": []
  }
 ],
 "metadata": {
  "kernelspec": {
   "display_name": "Python 3 (ipykernel)",
   "language": "python",
   "name": "python3"
  },
  "language_info": {
   "codemirror_mode": {
    "name": "ipython",
    "version": 3
   },
   "file_extension": ".py",
   "mimetype": "text/x-python",
   "name": "python",
   "nbconvert_exporter": "python",
   "pygments_lexer": "ipython3",
   "version": "3.10.14"
  }
 },
 "nbformat": 4,
 "nbformat_minor": 4
}
