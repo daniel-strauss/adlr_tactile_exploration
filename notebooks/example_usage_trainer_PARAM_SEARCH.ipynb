{
 "cells": [
  {
   "cell_type": "markdown",
   "metadata": {},
   "source": [
    "# Example usage of trainer class"
   ]
  },
  {
   "cell_type": "code",
   "execution_count": 1,
   "metadata": {},
   "outputs": [],
   "source": [
    "# autoreload after code has changed\n",
    "%load_ext autoreload\n",
    "%autoreload 2"
   ]
  },
  {
   "cell_type": "code",
   "execution_count": 2,
   "metadata": {},
   "outputs": [
    {
     "name": "stdout",
     "output_type": "stream",
     "text": [
      "Running first time, moving up one dir level\n",
      "This path should be the root directory of the project:  /home/daniel/Documents/TUM/ADLR/tum-adlr-02\n"
     ]
    }
   ],
   "source": [
    "import os\n",
    "\n",
    "# move into the correct dirrectory, e.g. move up one directory level iif this cell is run for the first time\n",
    "try:\n",
    "    a = first_time\n",
    "except NameError:\n",
    "    print(\"Running first time, moving up one dir level\")\n",
    "    os.chdir('..')  # Move up one directory level to the root directory of project\n",
    "    first_time = False\n",
    "\n",
    "print(\"This path should be the root directory of the project: \", os.getcwd())\n",
    "    \n"
   ]
  },
  {
   "cell_type": "markdown",
   "metadata": {},
   "source": [
    "## Define Dataset\n",
    "Creating the dataset object and applzing transformations to the data."
   ]
  },
  {
   "cell_type": "code",
   "execution_count": 3,
   "metadata": {},
   "outputs": [],
   "source": [
    "from data.model_classes import Mug, Bottle\n",
    "from data.dataconverter import DataConverter\n",
    "\n",
    "# generate data\n",
    "dataconverter = DataConverter(\n",
    "    classes=[Mug(),Bottle()],\n",
    "    min_order = 1,\n",
    "    tact_order = 10,\n",
    "    tact_number=2, \n",
    "    rand_rotations=2\n",
    "    \n",
    ")\n",
    "# set regenerate to true, if you run this after changes in dataconverter have been made\n",
    "#dataconverter.generate_2d_dataset(show_results=False, regenerate=False)\n"
   ]
  },
  {
   "cell_type": "code",
   "execution_count": 4,
   "metadata": {},
   "outputs": [],
   "source": [
    "from data.reconstruction_dataset import *\n",
    "\n",
    "csv_file = './datasets/2D_shapes/annotations.csv'\n",
    "root_dir = './datasets/2D_shapes'\n",
    "composed = transforms.Compose([RandomOrientation(),\n",
    "                               ToTensor()])\n",
    "\n",
    "dataset = ReconstructionDataset(csv_file=csv_file,\n",
    "                                root_dir=root_dir,\n",
    "                                transform=composed)"
   ]
  },
  {
   "cell_type": "markdown",
   "metadata": {},
   "source": [
    "Examplary data pairs:"
   ]
  },
  {
   "cell_type": "code",
   "execution_count": 5,
   "metadata": {},
   "outputs": [
    {
     "name": "stdout",
     "output_type": "stream",
     "text": [
      "tensor([[[0., 0., 0.,  ..., 0., 0., 0.],\n",
      "         [0., 0., 0.,  ..., 0., 0., 0.],\n",
      "         [0., 0., 0.,  ..., 0., 0., 0.],\n",
      "         ...,\n",
      "         [0., 0., 0.,  ..., 0., 0., 0.],\n",
      "         [0., 0., 0.,  ..., 0., 0., 0.],\n",
      "         [0., 0., 0.,  ..., 0., 0., 0.]]])\n"
     ]
    },
    {
     "data": {
      "text/plain": [
       "<Figure size 640x480 with 0 Axes>"
      ]
     },
     "metadata": {},
     "output_type": "display_data"
    },
    {
     "data": {
      "image/png": "[encoded data removed]",
      "text/plain": [
       "<Figure size 640x480 with 2 Axes>"
      ]
     },
     "metadata": {},
     "output_type": "display_data"
    }
   ],
   "source": [
    "example_data = dataset[5]\n",
    "\n",
    "plt.figure()\n",
    "print(example_data['image'])\n",
    "show_datapair(example_data['image'], example_data['label'])\n",
    "plt.show()"
   ]
  },
  {
   "cell_type": "markdown",
   "metadata": {},
   "source": [
    "## Choose Hyperparamters\n",
    "\n",
    "Look into the file neural_nets.trainer to see which hyperparameters you can choose.\n",
    "The seperation into tunable and non tunable hyperparameters is made, because this makes parameter searches with ray easier.\n"
   ]
  },
  {
   "cell_type": "markdown",
   "metadata": {},
   "source": [
    "#### Non Tunable Hyperparameters\n"
   ]
  },
  {
   "cell_type": "code",
   "execution_count": 6,
   "metadata": {},
   "outputs": [],
   "source": [
    "from neural_nets.trainer import NonTHparams\n",
    "\n",
    "\n",
    "nt_h = NonTHparams()\n",
    "nt_h.num_epochs = 50\n",
    "nt_h.train_prop = 0.93 # set way to high to make validation period short and make testing this search easier\n",
    "\n",
    "nt_h.print_log = True # to better see param search results\n",
    "nt_h.log_train_period = 100\n",
    "nt_h.log_val_freq = 5 #int(nt_h.train_prop*len(dataset)/f)-1 #set low to test this parameter search\n"
   ]
  },
  {
   "cell_type": "markdown",
   "metadata": {},
   "source": [
    "#### Define Tunable Hyperparameters and parameter spaces for upgrade\n",
    "\n",
    "The hyperparameters we want to tone have to be put into a list of possible values and that list into a dict, for the hyperparameter optimizer to do its job."
   ]
  },
  {
   "cell_type": "code",
   "execution_count": 7,
   "metadata": {},
   "outputs": [],
   "source": [
    "import numpy as np\n",
    "import torch.nn as nn\n",
    "import torch.optim as optim\n",
    "\n",
    "from neural_nets.trainer import THparams\n",
    "from neural_nets.weight_inits import weight_init_kx\n",
    "from neural_nets.models.unet import UNet2\n",
    "\n",
    "\n",
    "from ray import tune\n",
    "from ray import train\n",
    "from ray.train import Checkpoint, get_checkpoint\n",
    "from ray.tune.schedulers import ASHAScheduler\n",
    "import ray.cloudpickle as pickle\n",
    "\n",
    "t_h = THparams()\n",
    "t_h.batch_size = 16\n",
    "\n",
    "t_h.model = UNet2\n",
    "t_h.weight_init = weight_init_kx\n",
    "t_h.depth = 5\n",
    "t_h.channels = 64\n",
    "\n",
    "t_h.lr = 1e-4\n",
    "t_h.optimizer = optim.Adam\n",
    "t_h.loss_func = nn.BCELoss()\n",
    "\n",
    "\n",
    "image_resolution = dataset[0]['image'].shape[1]\n",
    "max_unet_depth = int(np.log2(image_resolution))\n",
    "\n",
    "# config is the set of params, that will be searched, they got to ghave the same key names, as variables in THparams\n",
    "config = {\n",
    "    \"batch_size\": tune.choice([2 ** i for i in range(2,5)]),\n",
    "    \"lr\": tune.loguniform(1e-7, 1e-2),\n",
    "    \"depth\": tune.choice([i for i in range(3,max_unet_depth+1-2)]),\n",
    "    \"channels\": tune.choice([2 ** i for i in range(4,9)])\n",
    "}\n",
    "\n",
    "\n"
   ]
  },
  {
   "cell_type": "markdown",
   "metadata": {},
   "source": [
    "## Initialize Trainer"
   ]
  },
  {
   "cell_type": "code",
   "execution_count": 8,
   "metadata": {},
   "outputs": [
    {
     "name": "stdout",
     "output_type": "stream",
     "text": [
      "During training, progress will be logged to tensorboard. Go to project folder, activate appropritae conda environment and run 'tensorboard --logdir runs/' to see the logs.\n"
     ]
    }
   ],
   "source": [
    "from neural_nets.trainer import Trainer\n",
    "\n",
    "trainer = Trainer(nt_h, t_h, dataset)\n",
    "\n"
   ]
  },
  {
   "cell_type": "markdown",
   "metadata": {},
   "source": [
    "## Run Parameter Search"
   ]
  },
  {
   "cell_type": "code",
   "execution_count": null,
   "metadata": {},
   "outputs": [],
   "source": [
    "import ray\n",
    "import GPUtil\n",
    "\n",
    "\n",
    "\n",
    "os.environ[\"RAY_CHDIR_TO_TRIAL_DIR\"] = \"0\" # needed so that we still can load files using path relative to working directory, \n",
    "                                           # as these fuckers change it \n",
    "ray.shutdown()\n",
    "context = ray.init(num_cpus=10)\n",
    "print(\"Ray dashboard URL: \", context.dashboard_url)\n",
    "\n",
    "def tune_func(config):\n",
    "        tune.utils.wait_for_gpu(target_util=0.2)\n",
    "        trainer.train_from_dict(config)\n",
    "    \n"
   ]
  },
  {
   "cell_type": "markdown",
   "metadata": {},
   "source": [
    "### Early Stopping, ASHAScheduler"
   ]
  },
  {
   "cell_type": "code",
   "execution_count": 9,
   "metadata": {},
   "outputs": [
    {
     "name": "stderr",
     "output_type": "stream",
     "text": [
      "2024-06-23 03:06:45,004\tINFO worker.py:1761 -- Started a local Ray instance. View the dashboard at \u001b[1m\u001b[32m127.0.0.1:8265 \u001b[39m\u001b[22m\n",
      "2024-06-23 03:06:45,807\tINFO tune.py:616 -- [output] This uses the legacy output and progress reporter, as Jupyter notebooks are not supported by the new engine, yet. For more information, please see https://github.com/ray-project/ray/issues/36949\n"
     ]
    },
    {
     "name": "stdout",
     "output_type": "stream",
     "text": [
      "Ray dashboard URL:  127.0.0.1:8265\n"
     ]
    },
    {
     "data": {
      "text/html": [
       "<div class=\"tuneStatus\">\n",
       "  <div style=\"display: flex;flex-direction: row\">\n",
       "    <div style=\"display: flex;flex-direction: column;\">\n",
       "      <h3>Tune Status</h3>\n",
       "      <table>\n",
       "<tbody>\n",
       "<tr><td>Current time:</td><td>2024-06-23 12:13:39</td></tr>\n",
       "<tr><td>Running for: </td><td>09:06:53.34        </td></tr>\n",
       "<tr><td>Memory:      </td><td>6.2/15.6 GiB       </td></tr>\n",
       "</tbody>\n",
       "</table>\n",
       "    </div>\n",
       "    <div class=\"vDivider\"></div>\n",
       "    <div class=\"systemInfo\">\n",
       "      <h3>System Info</h3>\n",
       "      Using AsyncHyperBand: num_stopped=33<br>Bracket: Iter 16.000: -0.03888818422510788 | Iter 8.000: -0.041409649585429704 | Iter 4.000: -0.04596507245847581 | Iter 2.000: -0.058713703451549554 | Iter 1.000: -0.12045653084913889<br>Logical resource usage: 10.0/10 CPUs, 1.0/1 GPUs (0.0/1.0 accelerator_type:G)\n",
       "    </div>\n",
       "    <div class=\"vDivider\"></div>\n",
       "<div class=\"messages\">\n",
       "  <h3>Messages</h3>\n",
       "  \n",
       "  \n",
       "  Number of errored trials: 7<br><table>\n",
       "<thead>\n",
       "<tr><th>Trial name           </th><th style=\"text-align: right;\">  # failures</th><th>error file                                                                                                                                                                                                                        </th></tr>\n",
       "</thead>\n",
       "<tbody>\n",
       "<tr><td>tune_func_dc56f_00003</td><td style=\"text-align: right;\">           1</td><td>/tmp/ray/session_2024-06-23_03-06-42_828331_66204/artifacts/2024-06-23_03-06-45/tune_func_2024-06-23_03-06-45/driver_artifacts/tune_func_dc56f_00003_3_batch_size=8,channels=256,depth=6,lr=0.0001_2024-06-23_03-06-46/error.txt  </td></tr>\n",
       "<tr><td>tune_func_dc56f_00006</td><td style=\"text-align: right;\">           1</td><td>/tmp/ray/session_2024-06-23_03-06-42_828331_66204/artifacts/2024-06-23_03-06-45/tune_func_2024-06-23_03-06-45/driver_artifacts/tune_func_dc56f_00006_6_batch_size=16,channels=256,depth=6,lr=0.0020_2024-06-23_03-06-46/error.txt </td></tr>\n",
       "<tr><td>tune_func_dc56f_00007</td><td style=\"text-align: right;\">           1</td><td>/tmp/ray/session_2024-06-23_03-06-42_828331_66204/artifacts/2024-06-23_03-06-45/tune_func_2024-06-23_03-06-45/driver_artifacts/tune_func_dc56f_00007_7_batch_size=4,channels=128,depth=6,lr=0.0000_2024-06-23_03-06-46/error.txt  </td></tr>\n",
       "<tr><td>tune_func_dc56f_00008</td><td style=\"text-align: right;\">           1</td><td>/tmp/ray/session_2024-06-23_03-06-42_828331_66204/artifacts/2024-06-23_03-06-45/tune_func_2024-06-23_03-06-45/driver_artifacts/tune_func_dc56f_00008_8_batch_size=4,channels=256,depth=6,lr=0.0000_2024-06-23_03-06-46/error.txt  </td></tr>\n",
       "<tr><td>tune_func_dc56f_00010</td><td style=\"text-align: right;\">           1</td><td>/tmp/ray/session_2024-06-23_03-06-42_828331_66204/artifacts/2024-06-23_03-06-45/tune_func_2024-06-23_03-06-45/driver_artifacts/tune_func_dc56f_00010_10_batch_size=16,channels=256,depth=6,lr=0.0000_2024-06-23_03-06-46/error.txt</td></tr>\n",
       "<tr><td>tune_func_dc56f_00029</td><td style=\"text-align: right;\">           1</td><td>/tmp/ray/session_2024-06-23_03-06-42_828331_66204/artifacts/2024-06-23_03-06-45/tune_func_2024-06-23_03-06-45/driver_artifacts/tune_func_dc56f_00029_29_batch_size=16,channels=128,depth=5,lr=0.0000_2024-06-23_03-06-46/error.txt</td></tr>\n",
       "<tr><td>tune_func_dc56f_00039</td><td style=\"text-align: right;\">           1</td><td>/tmp/ray/session_2024-06-23_03-06-42_828331_66204/artifacts/2024-06-23_03-06-45/tune_func_2024-06-23_03-06-45/driver_artifacts/tune_func_dc56f_00039_39_batch_size=4,channels=256,depth=5,lr=0.0000_2024-06-23_03-06-47/error.txt </td></tr>\n",
       "</tbody>\n",
       "</table>\n",
       "</div>\n",
       "<style>\n",
       ".messages {\n",
       "  color: var(--jp-ui-font-color1);\n",
       "  display: flex;\n",
       "  flex-direction: column;\n",
       "  padding-left: 1em;\n",
       "  overflow-y: auto;\n",
       "}\n",
       ".messages h3 {\n",
       "  font-weight: bold;\n",
       "}\n",
       ".vDivider {\n",
       "  border-left-width: var(--jp-border-width);\n",
       "  border-left-color: var(--jp-border-color0);\n",
       "  border-left-style: solid;\n",
       "  margin: 0.5em 1em 0.5em 1em;\n",
       "}\n",
       "</style>\n",
       "\n",
       "  </div>\n",
       "  <div class=\"hDivider\"></div>\n",
       "  <div class=\"trialStatus\">\n",
       "    <h3>Trial Status</h3>\n",
       "    <table>\n",
       "<thead>\n",
       "<tr><th>Trial name           </th><th>status    </th><th>loc                 </th><th style=\"text-align: right;\">  batch_size</th><th style=\"text-align: right;\">  channels</th><th style=\"text-align: right;\">  depth</th><th style=\"text-align: right;\">         lr</th><th style=\"text-align: right;\">  iter</th><th style=\"text-align: right;\">  total time (s)</th><th style=\"text-align: right;\">     loss</th></tr>\n",
       "</thead>\n",
       "<tbody>\n",
       "<tr><td>tune_func_dc56f_00000</td><td>TERMINATED</td><td>192.168.42.46:66937 </td><td style=\"text-align: right;\">           4</td><td style=\"text-align: right;\">        32</td><td style=\"text-align: right;\">      6</td><td style=\"text-align: right;\">6.68677e-06</td><td style=\"text-align: right;\">    20</td><td style=\"text-align: right;\">       2755.01  </td><td style=\"text-align: right;\">0.0387934</td></tr>\n",
       "<tr><td>tune_func_dc56f_00001</td><td>TERMINATED</td><td>192.168.42.46:70590 </td><td style=\"text-align: right;\">           8</td><td style=\"text-align: right;\">        16</td><td style=\"text-align: right;\">      3</td><td style=\"text-align: right;\">2.19177e-06</td><td style=\"text-align: right;\">     1</td><td style=\"text-align: right;\">         77.2215</td><td style=\"text-align: right;\">0.681804 </td></tr>\n",
       "<tr><td>tune_func_dc56f_00002</td><td>TERMINATED</td><td>192.168.42.46:70857 </td><td style=\"text-align: right;\">           8</td><td style=\"text-align: right;\">        16</td><td style=\"text-align: right;\">      3</td><td style=\"text-align: right;\">1.12103e-06</td><td style=\"text-align: right;\">     1</td><td style=\"text-align: right;\">         65.7343</td><td style=\"text-align: right;\">0.686831 </td></tr>\n",
       "<tr><td>tune_func_dc56f_00004</td><td>TERMINATED</td><td>192.168.42.46:71201 </td><td style=\"text-align: right;\">           4</td><td style=\"text-align: right;\">        16</td><td style=\"text-align: right;\">      5</td><td style=\"text-align: right;\">8.81222e-06</td><td style=\"text-align: right;\">     2</td><td style=\"text-align: right;\">        510.385 </td><td style=\"text-align: right;\">0.0805165</td></tr>\n",
       "<tr><td>tune_func_dc56f_00005</td><td>TERMINATED</td><td>192.168.42.46:71894 </td><td style=\"text-align: right;\">          16</td><td style=\"text-align: right;\">        16</td><td style=\"text-align: right;\">      5</td><td style=\"text-align: right;\">1.87738e-05</td><td style=\"text-align: right;\">     1</td><td style=\"text-align: right;\">         65.1647</td><td style=\"text-align: right;\">0.577256 </td></tr>\n",
       "<tr><td>tune_func_dc56f_00009</td><td>TERMINATED</td><td>192.168.42.46:72514 </td><td style=\"text-align: right;\">           8</td><td style=\"text-align: right;\">        32</td><td style=\"text-align: right;\">      5</td><td style=\"text-align: right;\">2.95724e-07</td><td style=\"text-align: right;\">     1</td><td style=\"text-align: right;\">        261.605 </td><td style=\"text-align: right;\">0.675441 </td></tr>\n",
       "<tr><td>tune_func_dc56f_00011</td><td>TERMINATED</td><td>192.168.42.46:73005 </td><td style=\"text-align: right;\">           4</td><td style=\"text-align: right;\">        32</td><td style=\"text-align: right;\">      6</td><td style=\"text-align: right;\">9.58041e-07</td><td style=\"text-align: right;\">     2</td><td style=\"text-align: right;\">        361.749 </td><td style=\"text-align: right;\">0.0899495</td></tr>\n",
       "<tr><td>tune_func_dc56f_00012</td><td>TERMINATED</td><td>192.168.42.46:73565 </td><td style=\"text-align: right;\">           4</td><td style=\"text-align: right;\">        64</td><td style=\"text-align: right;\">      5</td><td style=\"text-align: right;\">0.00451693 </td><td style=\"text-align: right;\">     1</td><td style=\"text-align: right;\">        211.796 </td><td style=\"text-align: right;\">6.06036  </td></tr>\n",
       "<tr><td>tune_func_dc56f_00013</td><td>TERMINATED</td><td>192.168.42.46:73981 </td><td style=\"text-align: right;\">          16</td><td style=\"text-align: right;\">        32</td><td style=\"text-align: right;\">      6</td><td style=\"text-align: right;\">7.51958e-06</td><td style=\"text-align: right;\">     2</td><td style=\"text-align: right;\">        207.015 </td><td style=\"text-align: right;\">0.0836752</td></tr>\n",
       "<tr><td>tune_func_dc56f_00014</td><td>TERMINATED</td><td>192.168.42.46:74365 </td><td style=\"text-align: right;\">          16</td><td style=\"text-align: right;\">        16</td><td style=\"text-align: right;\">      4</td><td style=\"text-align: right;\">0.00148747 </td><td style=\"text-align: right;\">     2</td><td style=\"text-align: right;\">        107.109 </td><td style=\"text-align: right;\">0.0905624</td></tr>\n",
       "<tr><td>tune_func_dc56f_00015</td><td>TERMINATED</td><td>192.168.42.46:74602 </td><td style=\"text-align: right;\">           4</td><td style=\"text-align: right;\">        16</td><td style=\"text-align: right;\">      6</td><td style=\"text-align: right;\">0.000421323</td><td style=\"text-align: right;\">    20</td><td style=\"text-align: right;\">       1429.6   </td><td style=\"text-align: right;\">0.0382846</td></tr>\n",
       "<tr><td>tune_func_dc56f_00016</td><td>TERMINATED</td><td>192.168.42.46:76696 </td><td style=\"text-align: right;\">           4</td><td style=\"text-align: right;\">        16</td><td style=\"text-align: right;\">      5</td><td style=\"text-align: right;\">0.00102371 </td><td style=\"text-align: right;\">     4</td><td style=\"text-align: right;\">        197.069 </td><td style=\"text-align: right;\">0.0488761</td></tr>\n",
       "<tr><td>tune_func_dc56f_00017</td><td>TERMINATED</td><td>192.168.42.46:77089 </td><td style=\"text-align: right;\">           4</td><td style=\"text-align: right;\">        16</td><td style=\"text-align: right;\">      6</td><td style=\"text-align: right;\">0.000313264</td><td style=\"text-align: right;\">    20</td><td style=\"text-align: right;\">       1385.37  </td><td style=\"text-align: right;\">0.0384537</td></tr>\n",
       "<tr><td>tune_func_dc56f_00018</td><td>TERMINATED</td><td>192.168.42.46:79076 </td><td style=\"text-align: right;\">          16</td><td style=\"text-align: right;\">       128</td><td style=\"text-align: right;\">      3</td><td style=\"text-align: right;\">6.28668e-05</td><td style=\"text-align: right;\">     1</td><td style=\"text-align: right;\">        326.682 </td><td style=\"text-align: right;\">0.14687  </td></tr>\n",
       "<tr><td>tune_func_dc56f_00019</td><td>TERMINATED</td><td>192.168.42.46:79631 </td><td style=\"text-align: right;\">           8</td><td style=\"text-align: right;\">        64</td><td style=\"text-align: right;\">      5</td><td style=\"text-align: right;\">7.26331e-07</td><td style=\"text-align: right;\">     1</td><td style=\"text-align: right;\">        166.019 </td><td style=\"text-align: right;\">0.284088 </td></tr>\n",
       "<tr><td>tune_func_dc56f_00020</td><td>TERMINATED</td><td>192.168.42.46:79980 </td><td style=\"text-align: right;\">           4</td><td style=\"text-align: right;\">       128</td><td style=\"text-align: right;\">      5</td><td style=\"text-align: right;\">2.59598e-05</td><td style=\"text-align: right;\">    20</td><td style=\"text-align: right;\">      11905.3   </td><td style=\"text-align: right;\">0.0388843</td></tr>\n",
       "<tr><td>tune_func_dc56f_00021</td><td>TERMINATED</td><td>192.168.42.46:97264 </td><td style=\"text-align: right;\">          16</td><td style=\"text-align: right;\">        64</td><td style=\"text-align: right;\">      4</td><td style=\"text-align: right;\">4.74434e-06</td><td style=\"text-align: right;\">     1</td><td style=\"text-align: right;\">        207.664 </td><td style=\"text-align: right;\">0.160157 </td></tr>\n",
       "<tr><td>tune_func_dc56f_00022</td><td>TERMINATED</td><td>192.168.42.46:97647 </td><td style=\"text-align: right;\">           8</td><td style=\"text-align: right;\">        32</td><td style=\"text-align: right;\">      4</td><td style=\"text-align: right;\">9.69884e-05</td><td style=\"text-align: right;\">     2</td><td style=\"text-align: right;\">        194.179 </td><td style=\"text-align: right;\">0.0967198</td></tr>\n",
       "<tr><td>tune_func_dc56f_00023</td><td>TERMINATED</td><td>192.168.42.46:98009 </td><td style=\"text-align: right;\">           4</td><td style=\"text-align: right;\">        32</td><td style=\"text-align: right;\">      6</td><td style=\"text-align: right;\">2.13454e-07</td><td style=\"text-align: right;\">     1</td><td style=\"text-align: right;\">        126.524 </td><td style=\"text-align: right;\">0.674282 </td></tr>\n",
       "<tr><td>tune_func_dc56f_00024</td><td>TERMINATED</td><td>192.168.42.46:98298 </td><td style=\"text-align: right;\">           8</td><td style=\"text-align: right;\">        64</td><td style=\"text-align: right;\">      5</td><td style=\"text-align: right;\">0.000399368</td><td style=\"text-align: right;\">     4</td><td style=\"text-align: right;\">        882.293 </td><td style=\"text-align: right;\">0.0463802</td></tr>\n",
       "<tr><td>tune_func_dc56f_00025</td><td>TERMINATED</td><td>192.168.42.46:99388 </td><td style=\"text-align: right;\">           4</td><td style=\"text-align: right;\">        64</td><td style=\"text-align: right;\">      6</td><td style=\"text-align: right;\">0.000274854</td><td style=\"text-align: right;\">     8</td><td style=\"text-align: right;\">       2614.36  </td><td style=\"text-align: right;\">0.0415489</td></tr>\n",
       "<tr><td>tune_func_dc56f_00026</td><td>TERMINATED</td><td>192.168.42.46:102560</td><td style=\"text-align: right;\">           8</td><td style=\"text-align: right;\">       128</td><td style=\"text-align: right;\">      5</td><td style=\"text-align: right;\">0.000289549</td><td style=\"text-align: right;\">     4</td><td style=\"text-align: right;\">       2273.06  </td><td style=\"text-align: right;\">0.0531888</td></tr>\n",
       "<tr><td>tune_func_dc56f_00027</td><td>TERMINATED</td><td>192.168.42.46:105388</td><td style=\"text-align: right;\">           8</td><td style=\"text-align: right;\">        32</td><td style=\"text-align: right;\">      5</td><td style=\"text-align: right;\">0.000624816</td><td style=\"text-align: right;\">     8</td><td style=\"text-align: right;\">        832.872 </td><td style=\"text-align: right;\">0.0437211</td></tr>\n",
       "<tr><td>tune_func_dc56f_00028</td><td>TERMINATED</td><td>192.168.42.46:106547</td><td style=\"text-align: right;\">           8</td><td style=\"text-align: right;\">        16</td><td style=\"text-align: right;\">      4</td><td style=\"text-align: right;\">1.06828e-06</td><td style=\"text-align: right;\">     1</td><td style=\"text-align: right;\">         92.7229</td><td style=\"text-align: right;\">0.618417 </td></tr>\n",
       "<tr><td>tune_func_dc56f_00030</td><td>TERMINATED</td><td>192.168.42.46:106921</td><td style=\"text-align: right;\">           8</td><td style=\"text-align: right;\">       256</td><td style=\"text-align: right;\">      3</td><td style=\"text-align: right;\">1.11641e-05</td><td style=\"text-align: right;\">     1</td><td style=\"text-align: right;\">       1269.82  </td><td style=\"text-align: right;\">0.144419 </td></tr>\n",
       "<tr><td>tune_func_dc56f_00031</td><td>TERMINATED</td><td>192.168.42.46:108506</td><td style=\"text-align: right;\">           4</td><td style=\"text-align: right;\">        16</td><td style=\"text-align: right;\">      6</td><td style=\"text-align: right;\">0.000245858</td><td style=\"text-align: right;\">    20</td><td style=\"text-align: right;\">       1976.03  </td><td style=\"text-align: right;\">0.0379545</td></tr>\n",
       "<tr><td>tune_func_dc56f_00032</td><td>TERMINATED</td><td>192.168.42.46:111093</td><td style=\"text-align: right;\">           4</td><td style=\"text-align: right;\">       128</td><td style=\"text-align: right;\">      5</td><td style=\"text-align: right;\">0.00385599 </td><td style=\"text-align: right;\">     1</td><td style=\"text-align: right;\">        586.09  </td><td style=\"text-align: right;\">6.06002  </td></tr>\n",
       "<tr><td>tune_func_dc56f_00033</td><td>TERMINATED</td><td>192.168.42.46:111905</td><td style=\"text-align: right;\">           8</td><td style=\"text-align: right;\">        16</td><td style=\"text-align: right;\">      4</td><td style=\"text-align: right;\">1.26185e-06</td><td style=\"text-align: right;\">     1</td><td style=\"text-align: right;\">        130.164 </td><td style=\"text-align: right;\">0.677539 </td></tr>\n",
       "<tr><td>tune_func_dc56f_00034</td><td>TERMINATED</td><td>192.168.42.46:112189</td><td style=\"text-align: right;\">           8</td><td style=\"text-align: right;\">        32</td><td style=\"text-align: right;\">      4</td><td style=\"text-align: right;\">0.000139871</td><td style=\"text-align: right;\">     2</td><td style=\"text-align: right;\">        188.344 </td><td style=\"text-align: right;\">0.0900438</td></tr>\n",
       "<tr><td>tune_func_dc56f_00035</td><td>TERMINATED</td><td>192.168.42.46:112524</td><td style=\"text-align: right;\">          16</td><td style=\"text-align: right;\">       128</td><td style=\"text-align: right;\">      3</td><td style=\"text-align: right;\">3.43947e-06</td><td style=\"text-align: right;\">     1</td><td style=\"text-align: right;\">        348.202 </td><td style=\"text-align: right;\">0.18697  </td></tr>\n",
       "<tr><td>tune_func_dc56f_00036</td><td>TERMINATED</td><td>192.168.42.46:113062</td><td style=\"text-align: right;\">          16</td><td style=\"text-align: right;\">        32</td><td style=\"text-align: right;\">      4</td><td style=\"text-align: right;\">9.24956e-07</td><td style=\"text-align: right;\">     1</td><td style=\"text-align: right;\">         79.8853</td><td style=\"text-align: right;\">0.683236 </td></tr>\n",
       "<tr><td>tune_func_dc56f_00037</td><td>TERMINATED</td><td>192.168.42.46:113278</td><td style=\"text-align: right;\">           4</td><td style=\"text-align: right;\">        32</td><td style=\"text-align: right;\">      4</td><td style=\"text-align: right;\">0.00017319 </td><td style=\"text-align: right;\">     2</td><td style=\"text-align: right;\">        153.608 </td><td style=\"text-align: right;\">0.0879482</td></tr>\n",
       "<tr><td>tune_func_dc56f_00038</td><td>TERMINATED</td><td>192.168.42.46:113581</td><td style=\"text-align: right;\">           8</td><td style=\"text-align: right;\">        16</td><td style=\"text-align: right;\">      4</td><td style=\"text-align: right;\">6.90483e-05</td><td style=\"text-align: right;\">     2</td><td style=\"text-align: right;\">        101.875 </td><td style=\"text-align: right;\">0.108059 </td></tr>\n",
       "<tr><td>tune_func_dc56f_00003</td><td>ERROR     </td><td>192.168.42.46:71051 </td><td style=\"text-align: right;\">           8</td><td style=\"text-align: right;\">       256</td><td style=\"text-align: right;\">      6</td><td style=\"text-align: right;\">8.91487e-05</td><td style=\"text-align: right;\">      </td><td style=\"text-align: right;\">                </td><td style=\"text-align: right;\">         </td></tr>\n",
       "<tr><td>tune_func_dc56f_00006</td><td>ERROR     </td><td>192.168.42.46:72098 </td><td style=\"text-align: right;\">          16</td><td style=\"text-align: right;\">       256</td><td style=\"text-align: right;\">      6</td><td style=\"text-align: right;\">0.00200085 </td><td style=\"text-align: right;\">      </td><td style=\"text-align: right;\">                </td><td style=\"text-align: right;\">         </td></tr>\n",
       "<tr><td>tune_func_dc56f_00007</td><td>ERROR     </td><td>192.168.42.46:72252 </td><td style=\"text-align: right;\">           4</td><td style=\"text-align: right;\">       128</td><td style=\"text-align: right;\">      6</td><td style=\"text-align: right;\">4.25046e-05</td><td style=\"text-align: right;\">      </td><td style=\"text-align: right;\">                </td><td style=\"text-align: right;\">         </td></tr>\n",
       "<tr><td>tune_func_dc56f_00008</td><td>ERROR     </td><td>192.168.42.46:72374 </td><td style=\"text-align: right;\">           4</td><td style=\"text-align: right;\">       256</td><td style=\"text-align: right;\">      6</td><td style=\"text-align: right;\">6.16848e-06</td><td style=\"text-align: right;\">      </td><td style=\"text-align: right;\">                </td><td style=\"text-align: right;\">         </td></tr>\n",
       "<tr><td>tune_func_dc56f_00010</td><td>ERROR     </td><td>192.168.42.46:72871 </td><td style=\"text-align: right;\">          16</td><td style=\"text-align: right;\">       256</td><td style=\"text-align: right;\">      6</td><td style=\"text-align: right;\">2.92912e-05</td><td style=\"text-align: right;\">      </td><td style=\"text-align: right;\">                </td><td style=\"text-align: right;\">         </td></tr>\n",
       "<tr><td>tune_func_dc56f_00029</td><td>ERROR     </td><td>192.168.42.46:106791</td><td style=\"text-align: right;\">          16</td><td style=\"text-align: right;\">       128</td><td style=\"text-align: right;\">      5</td><td style=\"text-align: right;\">4.37986e-07</td><td style=\"text-align: right;\">      </td><td style=\"text-align: right;\">                </td><td style=\"text-align: right;\">         </td></tr>\n",
       "<tr><td>tune_func_dc56f_00039</td><td>ERROR     </td><td>192.168.42.46:113831</td><td style=\"text-align: right;\">           4</td><td style=\"text-align: right;\">       256</td><td style=\"text-align: right;\">      5</td><td style=\"text-align: right;\">2.00399e-07</td><td style=\"text-align: right;\">      </td><td style=\"text-align: right;\">                </td><td style=\"text-align: right;\">         </td></tr>\n",
       "</tbody>\n",
       "</table>\n",
       "  </div>\n",
       "</div>\n",
       "<style>\n",
       ".tuneStatus {\n",
       "  color: var(--jp-ui-font-color1);\n",
       "}\n",
       ".tuneStatus .systemInfo {\n",
       "  display: flex;\n",
       "  flex-direction: column;\n",
       "}\n",
       ".tuneStatus td {\n",
       "  white-space: nowrap;\n",
       "}\n",
       ".tuneStatus .trialStatus {\n",
       "  display: flex;\n",
       "  flex-direction: column;\n",
       "}\n",
       ".tuneStatus h3 {\n",
       "  font-weight: bold;\n",
       "}\n",
       ".tuneStatus .hDivider {\n",
       "  border-bottom-width: var(--jp-border-width);\n",
       "  border-bottom-color: var(--jp-border-color0);\n",
       "  border-bottom-style: solid;\n",
       "}\n",
       ".tuneStatus .vDivider {\n",
       "  border-left-width: var(--jp-border-width);\n",
       "  border-left-color: var(--jp-border-color0);\n",
       "  border-left-style: solid;\n",
       "  margin: 0.5em 1em 0.5em 1em;\n",
       "}\n",
       "</style>\n"
      ],
      "text/plain": [
       "<IPython.core.display.HTML object>"
      ]
     },
     "metadata": {},
     "output_type": "display_data"
    },
    {
     "name": "stdout",
     "output_type": "stream",
     "text": [
      "\u001b[36m(tune_func pid=66937)\u001b[0m Hurray! GPU available.\n",
      "\u001b[36m(tune_func pid=66937)\u001b[0m Total trainable parameters: 27973889\n",
      "\u001b[36m(tune_func pid=66937)\u001b[0m Epoch [1/50], Step [100/5961], Train Loss: 0.6862 , Logging Time Proportion: 0.0030, Data Loading Time Proportion: 0.0052\n",
      "\u001b[36m(tune_func pid=66937)\u001b[0m Epoch [1/50], Step [200/5961], Train Loss: 0.6649 , Logging Time Proportion: 0.0016, Data Loading Time Proportion: 0.0048\n",
      "\u001b[36m(tune_func pid=66937)\u001b[0m Epoch [1/50], Step [300/5961], Train Loss: 0.6296 , Logging Time Proportion: 0.0019, Data Loading Time Proportion: 0.0052\n",
      "\u001b[36m(tune_func pid=66937)\u001b[0m Epoch [1/50], Step [400/5961], Train Loss: 0.5631 , Logging Time Proportion: 0.0017, Data Loading Time Proportion: 0.0048\n",
      "\u001b[36m(tune_func pid=66937)\u001b[0m Epoch [1/50], Step [500/5961], Train Loss: 0.2917 , Logging Time Proportion: 0.0022, Data Loading Time Proportion: 0.0053\n",
      "\u001b[36m(tune_func pid=66937)\u001b[0m Epoch [1/50], Step [600/5961], Train Loss: 0.0994 , Logging Time Proportion: 0.0020, Data Loading Time Proportion: 0.0048\n",
      "\u001b[36m(tune_func pid=66937)\u001b[0m Epoch [1/50], Step [700/5961], Train Loss: 0.0870 , Logging Time Proportion: 0.0019, Data Loading Time Proportion: 0.0049\n",
      "\u001b[36m(tune_func pid=66937)\u001b[0m Epoch [1/50], Step [800/5961], Train Loss: 0.0818 , Logging Time Proportion: 0.0016, Data Loading Time Proportion: 0.0047\n",
      "\u001b[36m(tune_func pid=66937)\u001b[0m Epoch [1/50], Step [900/5961], Train Loss: 0.0737 , Logging Time Proportion: 0.0018, Data Loading Time Proportion: 0.0052\n",
      "\u001b[36m(tune_func pid=66937)\u001b[0m Epoch [1/50], Step [1000/5961], Train Loss: 0.0677 , Logging Time Proportion: 0.0018, Data Loading Time Proportion: 0.0052\n",
      "\u001b[36m(tune_func pid=66937)\u001b[0m Epoch [1/50], Step [1100/5961], Train Loss: 0.0663 , Logging Time Proportion: 0.0015, Data Loading Time Proportion: 0.0050\n",
      "\u001b[36m(tune_func pid=66937)\u001b[0m #######################################################################################\n",
      "\u001b[36m(tune_func pid=66937)\u001b[0m Epoch [1/50], Step [1192/5961], Val Loss: 0.0629 Val Log Time Proportion: 0.1745\n",
      "\u001b[36m(tune_func pid=66937)\u001b[0m #######################################################################################\n"
     ]
    },
    {
     "data": {
      "text/html": [
       "<div class=\"trialProgress\">\n",
       "  <h3>Trial Progress</h3>\n",
       "  <table>\n",
       "<thead>\n",
       "<tr><th>Trial name           </th></tr>\n",
       "</thead>\n",
       "<tbody>\n",
       "<tr><td>tune_func_dc56f_00000</td></tr>\n",
       "<tr><td>tune_func_dc56f_00001</td></tr>\n",
       "<tr><td>tune_func_dc56f_00002</td></tr>\n",
       "<tr><td>tune_func_dc56f_00003</td></tr>\n",
       "<tr><td>tune_func_dc56f_00004</td></tr>\n",
       "<tr><td>tune_func_dc56f_00005</td></tr>\n",
       "<tr><td>tune_func_dc56f_00006</td></tr>\n",
       "<tr><td>tune_func_dc56f_00007</td></tr>\n",
       "<tr><td>tune_func_dc56f_00008</td></tr>\n",
       "<tr><td>tune_func_dc56f_00009</td></tr>\n",
       "<tr><td>tune_func_dc56f_00010</td></tr>\n",
       "<tr><td>tune_func_dc56f_00011</td></tr>\n",
       "<tr><td>tune_func_dc56f_00012</td></tr>\n",
       "<tr><td>tune_func_dc56f_00013</td></tr>\n",
       "<tr><td>tune_func_dc56f_00014</td></tr>\n",
       "<tr><td>tune_func_dc56f_00015</td></tr>\n",
       "<tr><td>tune_func_dc56f_00016</td></tr>\n",
       "<tr><td>tune_func_dc56f_00017</td></tr>\n",
       "<tr><td>tune_func_dc56f_00018</td></tr>\n",
       "<tr><td>tune_func_dc56f_00019</td></tr>\n",
       "<tr><td>tune_func_dc56f_00020</td></tr>\n",
       "<tr><td>tune_func_dc56f_00021</td></tr>\n",
       "<tr><td>tune_func_dc56f_00022</td></tr>\n",
       "<tr><td>tune_func_dc56f_00023</td></tr>\n",
       "<tr><td>tune_func_dc56f_00024</td></tr>\n",
       "<tr><td>tune_func_dc56f_00025</td></tr>\n",
       "<tr><td>tune_func_dc56f_00026</td></tr>\n",
       "<tr><td>tune_func_dc56f_00027</td></tr>\n",
       "<tr><td>tune_func_dc56f_00028</td></tr>\n",
       "<tr><td>tune_func_dc56f_00029</td></tr>\n",
       "<tr><td>tune_func_dc56f_00030</td></tr>\n",
       "<tr><td>tune_func_dc56f_00031</td></tr>\n",
       "<tr><td>tune_func_dc56f_00032</td></tr>\n",
       "<tr><td>tune_func_dc56f_00033</td></tr>\n",
       "<tr><td>tune_func_dc56f_00034</td></tr>\n",
       "<tr><td>tune_func_dc56f_00035</td></tr>\n",
       "<tr><td>tune_func_dc56f_00036</td></tr>\n",
       "<tr><td>tune_func_dc56f_00037</td></tr>\n",
       "<tr><td>tune_func_dc56f_00038</td></tr>\n",
       "<tr><td>tune_func_dc56f_00039</td></tr>\n",
       "</tbody>\n",
       "</table>\n",
       "</div>\n",
       "<style>\n",
       ".trialProgress {\n",
       "  display: flex;\n",
       "  flex-direction: column;\n",
       "  color: var(--jp-ui-font-color1);\n",
       "}\n",
       ".trialProgress h3 {\n",
       "  font-weight: bold;\n",
       "}\n",
       ".trialProgress td {\n",
       "  white-space: nowrap;\n",
       "}\n",
       "</style>\n"
      ],
      "text/plain": [
       "<IPython.core.display.HTML object>"
      ]
     },
     "metadata": {},
     "output_type": "display_data"
    },
    {
     "name": "stderr",
     "output_type": "stream",
     "text": [
      "\u001b[36m(tune_func pid=66937)\u001b[0m Checkpoint successfully created at: Checkpoint(filesystem=local, path=/home/daniel/ray_results/tune_func_2024-06-23_03-06-45/tune_func_dc56f_00000_0_batch_size=4,channels=32,depth=6,lr=0.0000_2024-06-23_03-06-46/checkpoint_000000)\n"
     ]
    },
    {
     "name": "stdout",
     "output_type": "stream",
     "text": [
      "\u001b[36m(tune_func pid=66937)\u001b[0m Epoch [1/50], Step [1200/5961], Train Loss: 0.0644 , Logging Time Proportion: 0.0007, Data Loading Time Proportion: 0.0016\n",
      "\u001b[36m(tune_func pid=66937)\u001b[0m Epoch [1/50], Step [1300/5961], Train Loss: 0.0625 , Logging Time Proportion: 0.0013, Data Loading Time Proportion: 0.0041\n",
      "\u001b[36m(tune_func pid=66937)\u001b[0m Epoch [1/50], Step [1400/5961], Train Loss: 0.0608 , Logging Time Proportion: 0.0012, Data Loading Time Proportion: 0.0037\n",
      "\u001b[36m(tune_func pid=66937)\u001b[0m Epoch [1/50], Step [1500/5961], Train Loss: 0.0607 , Logging Time Proportion: 0.0016, Data Loading Time Proportion: 0.0050\n",
      "\u001b[36m(tune_func pid=66937)\u001b[0m Epoch [1/50], Step [1600/5961], Train Loss: 0.0591 , Logging Time Proportion: 0.0014, Data Loading Time Proportion: 0.0049\n",
      "\u001b[36m(tune_func pid=66937)\u001b[0m Epoch [1/50], Step [1700/5961], Train Loss: 0.0583 , Logging Time Proportion: 0.0013, Data Loading Time Proportion: 0.0048\n",
      "\u001b[36m(tune_func pid=66937)\u001b[0m Epoch [1/50], Step [1800/5961], Train Loss: 0.0571 , Logging Time Proportion: 0.0015, Data Loading Time Proportion: 0.0046\n",
      "\u001b[36m(tune_func pid=66937)\u001b[0m Epoch [1/50], Step [1900/5961], Train Loss: 0.0565\n",
      "\u001b[36m(tune_func pid=66937)\u001b[0m  , Logging Time Proportion: 0.0014, Data Loading Time Proportion: 0.0050\n",
      "\u001b[36m(tune_func pid=66937)\u001b[0m Epoch [1/50], Step [2000/5961], Train Loss: 0.0560 , Logging Time Proportion: 0.0016, Data Loading Time Proportion: 0.0048\n",
      "\u001b[36m(tune_func pid=66937)\u001b[0m Epoch [1/50], Step [2100/5961], Train Loss: 0.0562 , Logging Time Proportion: 0.0019, Data Loading Time Proportion: 0.0051\n",
      "\u001b[36m(tune_func pid=66937)\u001b[0m Epoch [1/50], Step [2200/5961], Train Loss: 0.0548 , Logging Time Proportion: 0.0014, Data Loading Time Proportion: 0.0045\n",
      "\u001b[36m(tune_func pid=66937)\u001b[0m Epoch [1/50], Step [2300/5961], Train Loss: 0.0537 , Logging Time Proportion: 0.0019, Data Loading Time Proportion: 0.0047\n",
      "\u001b[36m(tune_func pid=66937)\u001b[0m #######################################################################################\n",
      "\u001b[36m(tune_func pid=66937)\u001b[0m Epoch [1/50], Step [2384/5961], Val Loss: 0.0554 Val Log Time Proportion: 0.1122\n",
      "\u001b[36m(tune_func pid=66937)\u001b[0m #######################################################################################\n"
     ]
    },
    {
     "name": "stderr",
     "output_type": "stream",
     "text": [
      "\u001b[36m(tune_func pid=66937)\u001b[0m Checkpoint successfully created at: Checkpoint(filesystem=local, path=/home/daniel/ray_results/tune_func_2024-06-23_03-06-45/tune_func_dc56f_00000_0_batch_size=4,channels=32,depth=6,lr=0.0000_2024-06-23_03-06-46/checkpoint_000001)\n"
     ]
    },
    {
     "name": "stdout",
     "output_type": "stream",
     "text": [
      "\u001b[36m(tune_func pid=66937)\u001b[0m Epoch [1/50], Step [2400/5961], Train Loss: 0.0543 , Logging Time Proportion: 0.0005, Data Loading Time Proportion: 0.0019\n",
      "\u001b[36m(tune_func pid=66937)\u001b[0m Epoch [1/50], Step [2500/5961], Train Loss: 0.0518 , Logging Time Proportion: 0.0010, Data Loading Time Proportion: 0.0036\n",
      "\u001b[36m(tune_func pid=66937)\u001b[0m Epoch [1/50], Step [2600/5961], Train Loss: 0.0523 , Logging Time Proportion: 0.0014, Data Loading Time Proportion: 0.0044\n",
      "\u001b[36m(tune_func pid=66937)\u001b[0m Epoch [1/50], Step [2700/5961], Train Loss: 0.0533 , Logging Time Proportion: 0.0014, Data Loading Time Proportion: 0.0042\n",
      "\u001b[36m(tune_func pid=66937)\u001b[0m Epoch [1/50], Step [2800/5961], Train Loss: 0.0527 , Logging Time Proportion: 0.0015, Data Loading Time Proportion: 0.0045\n",
      "\u001b[36m(tune_func pid=66937)\u001b[0m Epoch [1/50], Step [2900/5961], Train Loss: 0.0518 , Logging Time Proportion: 0.0013, Data Loading Time Proportion: 0.0044\n",
      "\u001b[36m(tune_func pid=66937)\u001b[0m Epoch [1/50], Step [3000/5961], Train Loss: 0.0525 , Logging Time Proportion: 0.0015, Data Loading Time Proportion: 0.0050\n",
      "\u001b[36m(tune_func pid=66937)\u001b[0m Epoch [1/50], Step [3100/5961], Train Loss: 0.0522 , Logging Time Proportion: 0.0013, Data Loading Time Proportion: 0.0044\n",
      "\u001b[36m(tune_func pid=66937)\u001b[0m Epoch [1/50], Step [3200/5961], Train Loss: 0.0514 , Logging Time Proportion: 0.0012, Data Loading Time Proportion: 0.0048\n",
      "\u001b[36m(tune_func pid=66937)\u001b[0m Epoch [1/50], Step [3300/5961], Train Loss: 0.0510 , Logging Time Proportion: 0.0012, Data Loading Time Proportion: 0.0043\n",
      "\u001b[36m(tune_func pid=66937)\u001b[0m Epoch [1/50], Step [3400/5961], Train Loss: 0.0515 , Logging Time Proportion: 0.0013, Data Loading Time Proportion: 0.0044\n",
      "\u001b[36m(tune_func pid=66937)\u001b[0m Epoch [1/50], Step [3500/5961], Train Loss: 0.0502 , Logging Time Proportion: 0.0018, Data Loading Time Proportion: 0.0045\n",
      "\u001b[36m(tune_func pid=66937)\u001b[0m #######################################################################################\n",
      "\u001b[36m(tune_func pid=66937)\u001b[0m \n",
      "\u001b[36m(tune_func pid=66937)\u001b[0m Epoch [1/50], Step [3576/5961], Val Loss: 0.0498 Val Log Time Proportion: 0.1144\n",
      "\u001b[36m(tune_func pid=66937)\u001b[0m #######################################################################################\n"
     ]
    },
    {
     "name": "stderr",
     "output_type": "stream",
     "text": [
      "\u001b[36m(tune_func pid=66937)\u001b[0m Checkpoint successfully created at: Checkpoint(filesystem=local, path=/home/daniel/ray_results/tune_func_2024-06-23_03-06-45/tune_func_dc56f_00000_0_batch_size=4,channels=32,depth=6,lr=0.0000_2024-06-23_03-06-46/checkpoint_000002)\n"
     ]
    },
    {
     "name": "stdout",
     "output_type": "stream",
     "text": [
      "\u001b[36m(tune_func pid=66937)\u001b[0m Epoch [1/50], Step [3600/5961], Train Loss: 0.0504 , Logging Time Proportion: 0.0005, Data Loading Time Proportion: 0.0019\n",
      "\u001b[36m(tune_func pid=66937)\u001b[0m Epoch [1/50], Step [3700/5961], Train Loss: 0.0496 , Logging Time Proportion: 0.0009, Data Loading Time Proportion: 0.0036\n",
      "\u001b[36m(tune_func pid=66937)\u001b[0m Epoch [1/50], Step [3800/5961], Train Loss: 0.0504 , Logging Time Proportion: 0.0013, Data Loading Time Proportion: 0.0044\n",
      "\u001b[36m(tune_func pid=66937)\u001b[0m Epoch [1/50], Step [3900/5961], Train Loss: 0.0511 , Logging Time Proportion: 0.0014, Data Loading Time Proportion: 0.0043\n",
      "\u001b[36m(tune_func pid=66937)\u001b[0m Epoch [1/50], Step [4000/5961], Train Loss: 0.0509 , Logging Time Proportion: 0.0015, Data Loading Time Proportion: 0.0042\n",
      "\u001b[36m(tune_func pid=66937)\u001b[0m Epoch [1/50], Step [4100/5961], Train Loss: 0.0494 , Logging Time Proportion: 0.0013, Data Loading Time Proportion: 0.0043\n",
      "\u001b[36m(tune_func pid=66937)\u001b[0m Epoch [1/50], Step [4200/5961], Train Loss: 0.0481 , Logging Time Proportion: 0.0014, Data Loading Time Proportion: 0.0042\n",
      "\u001b[36m(tune_func pid=66937)\u001b[0m Epoch [1/50], Step [4300/5961], Train Loss: 0.0490 , Logging Time Proportion: 0.0011, Data Loading Time Proportion: 0.0044\n",
      "\u001b[36m(tune_func pid=66937)\u001b[0m Epoch [1/50], Step [4400/5961], Train Loss: 0.0486 , Logging Time Proportion: 0.0010, Data Loading Time Proportion: 0.0043\n",
      "\u001b[36m(tune_func pid=66937)\u001b[0m Epoch [1/50], Step [4500/5961], Train Loss: 0.0493\n",
      "\u001b[36m(tune_func pid=66937)\u001b[0m  , Logging Time Proportion: 0.0012, Data Loading Time Proportion: 0.0043\n",
      "\u001b[36m(tune_func pid=66937)\u001b[0m Epoch [1/50], Step [4600/5961], Train Loss: 0.0494 , Logging Time Proportion: 0.0013, Data Loading Time Proportion: 0.0041\n",
      "\u001b[36m(tune_func pid=66937)\u001b[0m Epoch [1/50], Step [4700/5961], Train Loss: 0.0480 , Logging Time Proportion: 0.0014, Data Loading Time Proportion: 0.0041\n",
      "\u001b[36m(tune_func pid=66937)\u001b[0m #######################################################################################\n",
      "\u001b[36m(tune_func pid=66937)\u001b[0m Epoch [1/50], Step [4768/5961], Val Loss: 0.0494 Val Log Time Proportion: 0.0850\n",
      "\u001b[36m(tune_func pid=66937)\u001b[0m #######################################################################################\n"
     ]
    },
    {
     "name": "stderr",
     "output_type": "stream",
     "text": [
      "\u001b[36m(tune_func pid=66937)\u001b[0m Checkpoint successfully created at: Checkpoint(filesystem=local, path=/home/daniel/ray_results/tune_func_2024-06-23_03-06-45/tune_func_dc56f_00000_0_batch_size=4,channels=32,depth=6,lr=0.0000_2024-06-23_03-06-46/checkpoint_000003)\n"
     ]
    },
    {
     "name": "stdout",
     "output_type": "stream",
     "text": [
      "\u001b[36m(tune_func pid=66937)\u001b[0m Epoch [1/50], Step [4800/5961], Train Loss: 0.0476 , Logging Time Proportion: 0.0006, Data Loading Time Proportion: 0.0021\n",
      "\u001b[36m(tune_func pid=66937)\u001b[0m Epoch [1/50], Step [4900/5961], Train Loss: 0.0474 , Logging Time Proportion: 0.0010, Data Loading Time Proportion: 0.0034\n",
      "\u001b[36m(tune_func pid=66937)\u001b[0m Epoch [1/50], Step [5000/5961], Train Loss: 0.0474 , Logging Time Proportion: 0.0010, Data Loading Time Proportion: 0.0037\n",
      "\u001b[36m(tune_func pid=66937)\u001b[0m Epoch [1/50], Step [5100/5961], Train Loss: 0.0500 , Logging Time Proportion: 0.0014, Data Loading Time Proportion: 0.0039\n",
      "\u001b[36m(tune_func pid=66937)\u001b[0m Epoch [1/50], Step [5200/5961], Train Loss: 0.0468 , Logging Time Proportion: 0.0010, Data Loading Time Proportion: 0.0034\n",
      "\u001b[36m(tune_func pid=66937)\u001b[0m Epoch [1/50], Step [5300/5961], Train Loss: 0.0455 , Logging Time Proportion: 0.0011, Data Loading Time Proportion: 0.0039\n",
      "\u001b[36m(tune_func pid=66937)\u001b[0m Epoch [1/50], Step [5400/5961], Train Loss: 0.0477 , Logging Time Proportion: 0.0011, Data Loading Time Proportion: 0.0041\n",
      "\u001b[36m(tune_func pid=66937)\u001b[0m Epoch [1/50], Step [5500/5961], Train Loss: 0.0475 , Logging Time Proportion: 0.0013, Data Loading Time Proportion: 0.0041\n",
      "\u001b[36m(tune_func pid=66937)\u001b[0m Epoch [1/50], Step [5600/5961], Train Loss: 0.0464 , Logging Time Proportion: 0.0011, Data Loading Time Proportion: 0.0040\n",
      "\u001b[36m(tune_func pid=66937)\u001b[0m Epoch [1/50], Step [5700/5961], Train Loss: 0.0474 , Logging Time Proportion: 0.0012, Data Loading Time Proportion: 0.0042\n",
      "\u001b[36m(tune_func pid=66937)\u001b[0m Epoch [1/50], Step [5800/5961], Train Loss: 0.0469 , Logging Time Proportion: 0.0019, Data Loading Time Proportion: 0.0044\n",
      "\u001b[36m(tune_func pid=66937)\u001b[0m Epoch [1/50], Step [5900/5961], Train Loss: 0.0471 , Logging Time Proportion: 0.0011, Data Loading Time Proportion: 0.0040\n",
      "\u001b[36m(tune_func pid=66937)\u001b[0m #######################################################################################\n",
      "\u001b[36m(tune_func pid=66937)\u001b[0m Epoch [1/50], Step [5960/5961], Val Loss: 0.0473 Val Log Time Proportion: 0.0772\n",
      "\u001b[36m(tune_func pid=66937)\u001b[0m #######################################################################################\n"
     ]
    },
    {
     "name": "stderr",
     "output_type": "stream",
     "text": [
      "\u001b[36m(tune_func pid=66937)\u001b[0m Checkpoint successfully created at: Checkpoint(filesystem=local, path=/home/daniel/ray_results/tune_func_2024-06-23_03-06-45/tune_func_dc56f_00000_0_batch_size=4,channels=32,depth=6,lr=0.0000_2024-06-23_03-06-46/checkpoint_000004)\n"
     ]
    },
    {
     "name": "stdout",
     "output_type": "stream",
     "text": [
      "\u001b[36m(tune_func pid=66937)\u001b[0m Epoch [2/50], Step [39/5961], Train Loss: 0.0181 , Logging Time Proportion: 0.0005, Data Loading Time Proportion: 0.0021\n",
      "\u001b[36m(tune_func pid=66937)\u001b[0m Epoch [2/50], Step [139/5961], Train Loss: 0.0473 , Logging Time Proportion: 0.0010, Data Loading Time Proportion: 0.0040\n",
      "\u001b[36m(tune_func pid=66937)\u001b[0m Epoch [2/50], Step [239/5961], Train Loss: 0.0455 , Logging Time Proportion: 0.0013, Data Loading Time Proportion: 0.0050\n",
      "\u001b[36m(tune_func pid=66937)\u001b[0m Epoch [2/50], Step [339/5961], Train Loss: 0.0493 , Logging Time Proportion: 0.0012, Data Loading Time Proportion: 0.0050\n",
      "\u001b[36m(tune_func pid=66937)\u001b[0m Epoch [2/50], Step [439/5961], Train Loss: 0.0462 , Logging Time Proportion: 0.0015, Data Loading Time Proportion: 0.0048\n",
      "\u001b[36m(tune_func pid=66937)\u001b[0m Epoch [2/50], Step [539/5961], Train Loss: 0.0450\n",
      "\u001b[36m(tune_func pid=66937)\u001b[0m  , Logging Time Proportion: 0.0016, Data Loading Time Proportion: 0.0050\n",
      "\u001b[36m(tune_func pid=66937)\u001b[0m Epoch [2/50], Step [639/5961], Train Loss: 0.0456 , Logging Time Proportion: 0.0015, Data Loading Time Proportion: 0.0049\n",
      "\u001b[36m(tune_func pid=66937)\u001b[0m Epoch [2/50], Step [739/5961], Train Loss: 0.0466 , Logging Time Proportion: 0.0012, Data Loading Time Proportion: 0.0052\n",
      "\u001b[36m(tune_func pid=66937)\u001b[0m Epoch [2/50], Step [839/5961], Train Loss: 0.0471 , Logging Time Proportion: 0.0016, Data Loading Time Proportion: 0.0050\n",
      "\u001b[36m(tune_func pid=66937)\u001b[0m Epoch [2/50], Step [939/5961], Train Loss: 0.0449 , Logging Time Proportion: 0.0016, Data Loading Time Proportion: 0.0052\n",
      "\u001b[36m(tune_func pid=66937)\u001b[0m Epoch [2/50], Step [1039/5961], Train Loss: 0.0451 , Logging Time Proportion: 0.0016, Data Loading Time Proportion: 0.0053\n",
      "\u001b[36m(tune_func pid=66937)\u001b[0m Epoch [2/50], Step [1139/5961], Train Loss: 0.0442 , Logging Time Proportion: 0.0016, Data Loading Time Proportion: 0.0052\n",
      "\u001b[36m(tune_func pid=66937)\u001b[0m #######################################################################################\n",
      "\u001b[36m(tune_func pid=66937)\u001b[0m Epoch [2/50], Step [1192/5961], Val Loss: 0.0456 Val Log Time Proportion: 0.0935\n",
      "\u001b[36m(tune_func pid=66937)\u001b[0m #######################################################################################\n"
     ]
    },
    {
     "name": "stderr",
     "output_type": "stream",
     "text": [
      "\u001b[36m(tune_func pid=66937)\u001b[0m Checkpoint successfully created at: Checkpoint(filesystem=local, path=/home/daniel/ray_results/tune_func_2024-06-23_03-06-45/tune_func_dc56f_00000_0_batch_size=4,channels=32,depth=6,lr=0.0000_2024-06-23_03-06-46/checkpoint_000005)\n"
     ]
    },
    {
     "name": "stdout",
     "output_type": "stream",
     "text": [
      "\u001b[36m(tune_func pid=66937)\u001b[0m Epoch [2/50], Step [1239/5961], Train Loss: 0.0458 , Logging Time Proportion: 0.0006, Data Loading Time Proportion: 0.0021\n",
      "\u001b[36m(tune_func pid=66937)\u001b[0m Epoch [2/50], Step [1339/5961], Train Loss: 0.0460 , Logging Time Proportion: 0.0011, Data Loading Time Proportion: 0.0033\n",
      "\u001b[36m(tune_func pid=66937)\u001b[0m Epoch [2/50], Step [1439/5961], Train Loss: 0.0452 , Logging Time Proportion: 0.0015, Data Loading Time Proportion: 0.0047\n",
      "\u001b[36m(tune_func pid=66937)\u001b[0m Epoch [2/50], Step [1539/5961], Train Loss: 0.0433 , Logging Time Proportion: 0.0015, Data Loading Time Proportion: 0.0049\n",
      "\u001b[36m(tune_func pid=66937)\u001b[0m Epoch [2/50], Step [1639/5961], Train Loss: 0.0433 , Logging Time Proportion: 0.0013, Data Loading Time Proportion: 0.0049\n",
      "\u001b[36m(tune_func pid=66937)\u001b[0m Epoch [2/50], Step [1739/5961], Train Loss: 0.0457 , Logging Time Proportion: 0.0013, Data Loading Time Proportion: 0.0048\n",
      "\u001b[36m(tune_func pid=66937)\u001b[0m Epoch [2/50], Step [1839/5961], Train Loss: 0.0441 , Logging Time Proportion: 0.0018, Data Loading Time Proportion: 0.0049\n",
      "\u001b[36m(tune_func pid=66937)\u001b[0m Epoch [2/50], Step [1939/5961], Train Loss: 0.0443 , Logging Time Proportion: 0.0015, Data Loading Time Proportion: 0.0052\n",
      "\u001b[36m(tune_func pid=66937)\u001b[0m Epoch [2/50], Step [2039/5961], Train Loss: 0.0456 , Logging Time Proportion: 0.0014, Data Loading Time Proportion: 0.0050\n",
      "\u001b[36m(tune_func pid=66937)\u001b[0m Epoch [2/50], Step [2139/5961], Train Loss: 0.0461 , Logging Time Proportion: 0.0011, Data Loading Time Proportion: 0.0046\n",
      "\u001b[36m(tune_func pid=66937)\u001b[0m Epoch [2/50], Step [2239/5961], Train Loss: 0.0421 , Logging Time Proportion: 0.0017, Data Loading Time Proportion: 0.0048\n",
      "\u001b[36m(tune_func pid=66937)\u001b[0m Epoch [2/50], Step [2339/5961], Train Loss: 0.0461 , Logging Time Proportion: 0.0017, Data Loading Time Proportion: 0.0045\n",
      "\u001b[36m(tune_func pid=66937)\u001b[0m #######################################################################################\n",
      "\u001b[36m(tune_func pid=66937)\u001b[0m Epoch [2/50], Step [2384/5961], Val Loss: 0.0443 Val Log Time Proportion: 0.0806\n",
      "\u001b[36m(tune_func pid=66937)\u001b[0m #######################################################################################\n"
     ]
    },
    {
     "name": "stderr",
     "output_type": "stream",
     "text": [
      "\u001b[36m(tune_func pid=66937)\u001b[0m Checkpoint successfully created at: Checkpoint(filesystem=local, path=/home/daniel/ray_results/tune_func_2024-06-23_03-06-45/tune_func_dc56f_00000_0_batch_size=4,channels=32,depth=6,lr=0.0000_2024-06-23_03-06-46/checkpoint_000006)\n"
     ]
    },
    {
     "name": "stdout",
     "output_type": "stream",
     "text": [
      "\u001b[36m(tune_func pid=66937)\u001b[0m Epoch [2/50], Step [2439/5961], Train Loss: 0.0451 , Logging Time Proportion: 0.0008, Data Loading Time Proportion: 0.0020\n",
      "\u001b[36m(tune_func pid=66937)\u001b[0m Epoch [2/50], Step [2539/5961], Train Loss: 0.0455 , Logging Time Proportion: 0.0009, Data Loading Time Proportion: 0.0037\n",
      "\u001b[36m(tune_func pid=66937)\u001b[0m Epoch [2/50], Step [2639/5961], Train Loss: 0.0442 , Logging Time Proportion: 0.0013, Data Loading Time Proportion: 0.0044\n",
      "\u001b[36m(tune_func pid=66937)\u001b[0m Epoch [2/50], Step [2739/5961], Train Loss: 0.0445 , Logging Time Proportion: 0.0014, Data Loading Time Proportion: 0.0045\n",
      "\u001b[36m(tune_func pid=66937)\u001b[0m Epoch [2/50], Step [2839/5961], Train Loss: 0.0429 , Logging Time Proportion: 0.0011, Data Loading Time Proportion: 0.0042\n",
      "\u001b[36m(tune_func pid=66937)\u001b[0m Epoch [2/50], Step [2939/5961], Train Loss: 0.0430 , Logging Time Proportion: 0.0012, Data Loading Time Proportion: 0.0032\n",
      "\u001b[36m(tune_func pid=66937)\u001b[0m Epoch [2/50], Step [3039/5961], Train Loss: 0.0450 , Logging Time Proportion: 0.0011, Data Loading Time Proportion: 0.0041\n",
      "\u001b[36m(tune_func pid=66937)\u001b[0m Epoch [2/50], Step [3139/5961], Train Loss: 0.0451 , Logging Time Proportion: 0.0014, Data Loading Time Proportion: 0.0047\n",
      "\u001b[36m(tune_func pid=66937)\u001b[0m Epoch [2/50], Step [3239/5961], Train Loss: 0.0439 , Logging Time Proportion: 0.0012, Data Loading Time Proportion: 0.0046\n",
      "\u001b[36m(tune_func pid=66937)\u001b[0m Epoch [2/50], Step [3339/5961], Train Loss: 0.0437 , Logging Time Proportion: 0.0013, Data Loading Time Proportion: 0.0046\n",
      "\u001b[36m(tune_func pid=66937)\u001b[0m Epoch [2/50], Step [3439/5961], Train Loss: 0.0434\n",
      "\u001b[36m(tune_func pid=66937)\u001b[0m  , Logging Time Proportion: 0.0011, Data Loading Time Proportion: 0.0043\n",
      "\u001b[36m(tune_func pid=66937)\u001b[0m Epoch [2/50], Step [3539/5961], Train Loss: 0.0436 , Logging Time Proportion: 0.0011, Data Loading Time Proportion: 0.0037\n",
      "\u001b[36m(tune_func pid=66937)\u001b[0m #######################################################################################\n",
      "\u001b[36m(tune_func pid=66937)\u001b[0m Epoch [2/50], Step [3576/5961], Val Loss: 0.0431 Val Log Time Proportion: 0.0835\n",
      "\u001b[36m(tune_func pid=66937)\u001b[0m #######################################################################################\n"
     ]
    },
    {
     "name": "stderr",
     "output_type": "stream",
     "text": [
      "\u001b[36m(tune_func pid=66937)\u001b[0m Checkpoint successfully created at: Checkpoint(filesystem=local, path=/home/daniel/ray_results/tune_func_2024-06-23_03-06-45/tune_func_dc56f_00000_0_batch_size=4,channels=32,depth=6,lr=0.0000_2024-06-23_03-06-46/checkpoint_000007)\n"
     ]
    },
    {
     "name": "stdout",
     "output_type": "stream",
     "text": [
      "\u001b[36m(tune_func pid=66937)\u001b[0m Epoch [2/50], Step [3639/5961], Train Loss: 0.0432 , Logging Time Proportion: 0.0006, Data Loading Time Proportion: 0.0021\n",
      "\u001b[36m(tune_func pid=66937)\u001b[0m Epoch [2/50], Step [3739/5961], Train Loss: 0.0426 , Logging Time Proportion: 0.0010, Data Loading Time Proportion: 0.0034\n",
      "\u001b[36m(tune_func pid=66937)\u001b[0m Epoch [2/50], Step [3839/5961], Train Loss: 0.0450 , Logging Time Proportion: 0.0013, Data Loading Time Proportion: 0.0045\n",
      "\u001b[36m(tune_func pid=66937)\u001b[0m Epoch [2/50], Step [3939/5961], Train Loss: 0.0436 , Logging Time Proportion: 0.0010, Data Loading Time Proportion: 0.0038\n",
      "\u001b[36m(tune_func pid=66937)\u001b[0m Epoch [2/50], Step [4039/5961], Train Loss: 0.0436 , Logging Time Proportion: 0.0010, Data Loading Time Proportion: 0.0033\n",
      "\u001b[36m(tune_func pid=66937)\u001b[0m Epoch [2/50], Step [4139/5961], Train Loss: 0.0433 , Logging Time Proportion: 0.0018, Data Loading Time Proportion: 0.0043\n",
      "\u001b[36m(tune_func pid=66937)\u001b[0m Epoch [2/50], Step [4239/5961], Train Loss: 0.0436 , Logging Time Proportion: 0.0014, Data Loading Time Proportion: 0.0042\n",
      "\u001b[36m(tune_func pid=66937)\u001b[0m Epoch [2/50], Step [4339/5961], Train Loss: 0.0417 , Logging Time Proportion: 0.0013, Data Loading Time Proportion: 0.0041\n",
      "\u001b[36m(tune_func pid=66937)\u001b[0m Epoch [2/50], Step [4439/5961], Train Loss: 0.0425 , Logging Time Proportion: 0.0011, Data Loading Time Proportion: 0.0040\n",
      "\u001b[36m(tune_func pid=66937)\u001b[0m Epoch [2/50], Step [4539/5961], Train Loss: 0.0442 , Logging Time Proportion: 0.0015, Data Loading Time Proportion: 0.0037\n",
      "\u001b[36m(tune_func pid=66937)\u001b[0m Epoch [2/50], Step [4639/5961], Train Loss: 0.0438 , Logging Time Proportion: 0.0012, Data Loading Time Proportion: 0.0040\n",
      "\u001b[36m(tune_func pid=66937)\u001b[0m Epoch [2/50], Step [4739/5961], Train Loss: 0.0429 , Logging Time Proportion: 0.0014, Data Loading Time Proportion: 0.0041\n",
      "\u001b[36m(tune_func pid=66937)\u001b[0m #######################################################################################\n",
      "\u001b[36m(tune_func pid=66937)\u001b[0m Epoch [2/50], Step [4768/5961], Val Loss: 0.0424 Val Log Time Proportion: 0.0853\n",
      "\u001b[36m(tune_func pid=66937)\u001b[0m #######################################################################################\n"
     ]
    },
    {
     "name": "stderr",
     "output_type": "stream",
     "text": [
      "\u001b[36m(tune_func pid=66937)\u001b[0m Checkpoint successfully created at: Checkpoint(filesystem=local, path=/home/daniel/ray_results/tune_func_2024-06-23_03-06-45/tune_func_dc56f_00000_0_batch_size=4,channels=32,depth=6,lr=0.0000_2024-06-23_03-06-46/checkpoint_000008)\n"
     ]
    },
    {
     "name": "stdout",
     "output_type": "stream",
     "text": [
      "\u001b[36m(tune_func pid=66937)\u001b[0m Epoch [2/50], Step [4839/5961], Train Loss: 0.0416 , Logging Time Proportion: 0.0007, Data Loading Time Proportion: 0.0019\n",
      "\u001b[36m(tune_func pid=66937)\u001b[0m Epoch [2/50], Step [4939/5961], Train Loss: 0.0422\n",
      "\u001b[36m(tune_func pid=66937)\u001b[0m  , Logging Time Proportion: 0.0008, Data Loading Time Proportion: 0.0028\n",
      "\u001b[36m(tune_func pid=66937)\u001b[0m Epoch [2/50], Step [5039/5961], Train Loss: 0.0432 , Logging Time Proportion: 0.0008, Data Loading Time Proportion: 0.0030\n",
      "\u001b[36m(tune_func pid=66937)\u001b[0m Epoch [2/50], Step [5139/5961], Train Loss: 0.0427 , Logging Time Proportion: 0.0011, Data Loading Time Proportion: 0.0042\n",
      "\u001b[36m(tune_func pid=66937)\u001b[0m Epoch [2/50], Step [5239/5961], Train Loss: 0.0423 , Logging Time Proportion: 0.0010, Data Loading Time Proportion: 0.0043\n",
      "\u001b[36m(tune_func pid=66937)\u001b[0m Epoch [2/50], Step [5339/5961], Train Loss: 0.0438 , Logging Time Proportion: 0.0013, Data Loading Time Proportion: 0.0037\n",
      "\u001b[36m(tune_func pid=66937)\u001b[0m Epoch [2/50], Step [5439/5961], Train Loss: 0.0443 , Logging Time Proportion: 0.0013, Data Loading Time Proportion: 0.0040\n",
      "\u001b[36m(tune_func pid=66937)\u001b[0m Epoch [2/50], Step [5539/5961], Train Loss: 0.0428 , Logging Time Proportion: 0.0006, Data Loading Time Proportion: 0.0026\n",
      "\u001b[36m(tune_func pid=66937)\u001b[0m Epoch [2/50], Step [5639/5961], Train Loss: 0.0417 , Logging Time Proportion: 0.0007, Data Loading Time Proportion: 0.0024\n",
      "\u001b[36m(tune_func pid=66937)\u001b[0m Epoch [2/50], Step [5739/5961], Train Loss: 0.0424 , Logging Time Proportion: 0.0009, Data Loading Time Proportion: 0.0033\n",
      "\u001b[36m(tune_func pid=66937)\u001b[0m Epoch [2/50], Step [5839/5961], Train Loss: 0.0419 , Logging Time Proportion: 0.0010, Data Loading Time Proportion: 0.0034\n",
      "\u001b[36m(tune_func pid=66937)\u001b[0m Epoch [2/50], Step [5939/5961], Train Loss: 0.0422 , Logging Time Proportion: 0.0011, Data Loading Time Proportion: 0.0035\n",
      "\u001b[36m(tune_func pid=66937)\u001b[0m #######################################################################################\n",
      "\u001b[36m(tune_func pid=66937)\u001b[0m Epoch [2/50], Step [5960/5961], Val Loss: 0.0417 Val Log Time Proportion: 0.0969\n",
      "\u001b[36m(tune_func pid=66937)\u001b[0m #######################################################################################\n"
     ]
    },
    {
     "name": "stderr",
     "output_type": "stream",
     "text": [
      "\u001b[36m(tune_func pid=66937)\u001b[0m Checkpoint successfully created at: Checkpoint(filesystem=local, path=/home/daniel/ray_results/tune_func_2024-06-23_03-06-45/tune_func_dc56f_00000_0_batch_size=4,channels=32,depth=6,lr=0.0000_2024-06-23_03-06-46/checkpoint_000009)\n"
     ]
    },
    {
     "name": "stdout",
     "output_type": "stream",
     "text": [
      "\u001b[36m(tune_func pid=66937)\u001b[0m Epoch [3/50], Step [78/5961], Train Loss: 0.0332 , Logging Time Proportion: 0.0006, Data Loading Time Proportion: 0.0017\n",
      "\u001b[36m(tune_func pid=66937)\u001b[0m Epoch [3/50], Step [178/5961], Train Loss: 0.0422 , Logging Time Proportion: 0.0010, Data Loading Time Proportion: 0.0034\n",
      "\u001b[36m(tune_func pid=66937)\u001b[0m Epoch [3/50], Step [278/5961], Train Loss: 0.0434 , Logging Time Proportion: 0.0013, Data Loading Time Proportion: 0.0045\n",
      "\u001b[36m(tune_func pid=66937)\u001b[0m Epoch [3/50], Step [378/5961], Train Loss: 0.0427 , Logging Time Proportion: 0.0013, Data Loading Time Proportion: 0.0046\n",
      "\u001b[36m(tune_func pid=66937)\u001b[0m Epoch [3/50], Step [478/5961], Train Loss: 0.0420 , Logging Time Proportion: 0.0017, Data Loading Time Proportion: 0.0046\n",
      "\u001b[36m(tune_func pid=66937)\u001b[0m Epoch [3/50], Step [578/5961], Train Loss: 0.0422 , Logging Time Proportion: 0.0011, Data Loading Time Proportion: 0.0048\n",
      "\u001b[36m(tune_func pid=66937)\u001b[0m Epoch [3/50], Step [678/5961], Train Loss: 0.0432 , Logging Time Proportion: 0.0015, Data Loading Time Proportion: 0.0047\n",
      "\u001b[36m(tune_func pid=66937)\u001b[0m Epoch [3/50], Step [778/5961], Train Loss: 0.0415 , Logging Time Proportion: 0.0013, Data Loading Time Proportion: 0.0049\n",
      "\u001b[36m(tune_func pid=66937)\u001b[0m Epoch [3/50], Step [878/5961], Train Loss: 0.0426 , Logging Time Proportion: 0.0013, Data Loading Time Proportion: 0.0048\n",
      "\u001b[36m(tune_func pid=66937)\u001b[0m Epoch [3/50], Step [978/5961], Train Loss: 0.0436 , Logging Time Proportion: 0.0015, Data Loading Time Proportion: 0.0048\n",
      "\u001b[36m(tune_func pid=66937)\u001b[0m Epoch [3/50], Step [1078/5961], Train Loss: 0.0416 , Logging Time Proportion: 0.0012, Data Loading Time Proportion: 0.0048\n",
      "\u001b[36m(tune_func pid=66937)\u001b[0m Epoch [3/50], Step [1178/5961], Train Loss: 0.0422 , Logging Time Proportion: 0.0015, Data Loading Time Proportion: 0.0048\n",
      "\u001b[36m(tune_func pid=66937)\u001b[0m #######################################################################################\n",
      "\u001b[36m(tune_func pid=66937)\u001b[0m Epoch [3/50], Step [1192/5961], Val Loss: 0.0422 Val Log Time Proportion: 0.1184\n",
      "\u001b[36m(tune_func pid=66937)\u001b[0m #######################################################################################\n"
     ]
    },
    {
     "name": "stderr",
     "output_type": "stream",
     "text": [
      "\u001b[36m(tune_func pid=66937)\u001b[0m Checkpoint successfully created at: Checkpoint(filesystem=local, path=/home/daniel/ray_results/tune_func_2024-06-23_03-06-45/tune_func_dc56f_00000_0_batch_size=4,channels=32,depth=6,lr=0.0000_2024-06-23_03-06-46/checkpoint_000010)\n"
     ]
    },
    {
     "name": "stdout",
     "output_type": "stream",
     "text": [
      "\u001b[36m(tune_func pid=66937)\u001b[0m Epoch [3/50], Step [1278/5961], Train Loss: 0.0418 , Logging Time Proportion: 0.0005, Data Loading Time Proportion: 0.0017\n",
      "\u001b[36m(tune_func pid=66937)\u001b[0m Epoch [3/50], Step [1378/5961], Train Loss: 0.0430 , Logging Time Proportion: 0.0013, Data Loading Time Proportion: 0.0044\n",
      "\u001b[36m(tune_func pid=66937)\u001b[0m Epoch [3/50], Step [1478/5961], Train Loss: 0.0412 , Logging Time Proportion: 0.0015, Data Loading Time Proportion: 0.0045\n",
      "\u001b[36m(tune_func pid=66937)\u001b[0m Epoch [3/50], Step [1578/5961], Train Loss: 0.0397 , Logging Time Proportion: 0.0014, Data Loading Time Proportion: 0.0043\n",
      "\u001b[36m(tune_func pid=66937)\u001b[0m Epoch [3/50], Step [1678/5961], Train Loss: 0.0430 , Logging Time Proportion: 0.0014, Data Loading Time Proportion: 0.0045\n",
      "\u001b[36m(tune_func pid=66937)\u001b[0m Epoch [3/50], Step [1778/5961], Train Loss: 0.0416 , Logging Time Proportion: 0.0012, Data Loading Time Proportion: 0.0044\n",
      "\u001b[36m(tune_func pid=66937)\u001b[0m Epoch [3/50], Step [1878/5961], Train Loss: 0.0420 , Logging Time Proportion: 0.0019, Data Loading Time Proportion: 0.0045\n",
      "\u001b[36m(tune_func pid=66937)\u001b[0m Epoch [3/50], Step [1978/5961], Train Loss: 0.0422 , Logging Time Proportion: 0.0012, Data Loading Time Proportion: 0.0046\n",
      "\u001b[36m(tune_func pid=66937)\u001b[0m Epoch [3/50], Step [2078/5961], Train Loss: 0.0415 , Logging Time Proportion: 0.0013, Data Loading Time Proportion: 0.0046\n",
      "\u001b[36m(tune_func pid=66937)\u001b[0m Epoch [3/50], Step [2178/5961], Train Loss: 0.0407 , Logging Time Proportion: 0.0013, Data Loading Time Proportion: 0.0046\n",
      "\u001b[36m(tune_func pid=66937)\u001b[0m Epoch [3/50], Step [2278/5961], Train Loss: 0.0393 , Logging Time Proportion: 0.0011, Data Loading Time Proportion: 0.0045\n",
      "\u001b[36m(tune_func pid=66937)\u001b[0m Epoch [3/50], Step [2378/5961], Train Loss: 0.0427 , Logging Time Proportion: 0.0013, Data Loading Time Proportion: 0.0046\n",
      "\u001b[36m(tune_func pid=66937)\u001b[0m #######################################################################################\n",
      "\u001b[36m(tune_func pid=66937)\u001b[0m Epoch [3/50], Step [2384/5961], Val Loss: 0.0406 Val Log Time Proportion: 0.1376\n",
      "\u001b[36m(tune_func pid=66937)\u001b[0m #######################################################################################\n"
     ]
    },
    {
     "name": "stderr",
     "output_type": "stream",
     "text": [
      "\u001b[36m(tune_func pid=66937)\u001b[0m Checkpoint successfully created at: Checkpoint(filesystem=local, path=/home/daniel/ray_results/tune_func_2024-06-23_03-06-45/tune_func_dc56f_00000_0_batch_size=4,channels=32,depth=6,lr=0.0000_2024-06-23_03-06-46/checkpoint_000011)\n"
     ]
    },
    {
     "name": "stdout",
     "output_type": "stream",
     "text": [
      "\u001b[36m(tune_func pid=66937)\u001b[0m Epoch [3/50], Step [2478/5961], Train Loss: 0.0417 , Logging Time Proportion: 0.0004, Data Loading Time Proportion: 0.0015\n",
      "\u001b[36m(tune_func pid=66937)\u001b[0m Epoch [3/50], Step [2578/5961], Train Loss: 0.0411 , Logging Time Proportion: 0.0013, Data Loading Time Proportion: 0.0044\n",
      "\u001b[36m(tune_func pid=66937)\u001b[0m Epoch [3/50], Step [2678/5961], Train Loss: 0.0427 , Logging Time Proportion: 0.0016, Data Loading Time Proportion: 0.0045\n",
      "\u001b[36m(tune_func pid=66937)\u001b[0m Epoch [3/50], Step [2778/5961], Train Loss: 0.0410 , Logging Time Proportion: 0.0012, Data Loading Time Proportion: 0.0039\n",
      "\u001b[36m(tune_func pid=66937)\u001b[0m Epoch [3/50], Step [2878/5961], Train Loss: 0.0434 , Logging Time Proportion: 0.0012, Data Loading Time Proportion: 0.0041\n",
      "\u001b[36m(tune_func pid=66937)\u001b[0m Epoch [3/50], Step [2978/5961], Train Loss: 0.0420 , Logging Time Proportion: 0.0014, Data Loading Time Proportion: 0.0042\n",
      "\u001b[36m(tune_func pid=66937)\u001b[0m Epoch [3/50], Step [3078/5961], Train Loss: 0.0399 , Logging Time Proportion: 0.0010, Data Loading Time Proportion: 0.0044\n",
      "\u001b[36m(tune_func pid=66937)\u001b[0m Epoch [3/50], Step [3178/5961], Train Loss: 0.0404 , Logging Time Proportion: 0.0011, Data Loading Time Proportion: 0.0043\n",
      "\u001b[36m(tune_func pid=66937)\u001b[0m Epoch [3/50], Step [3278/5961], Train Loss: 0.0411 , Logging Time Proportion: 0.0018, Data Loading Time Proportion: 0.0043\n",
      "\u001b[36m(tune_func pid=66937)\u001b[0m Epoch [3/50], Step [3378/5961], Train Loss: 0.0413 , Logging Time Proportion: 0.0011, Data Loading Time Proportion: 0.0036\n",
      "\u001b[36m(tune_func pid=66937)\u001b[0m Epoch [3/50], Step [3478/5961], Train Loss: 0.0418 , Logging Time Proportion: 0.0011, Data Loading Time Proportion: 0.0042\n",
      "\u001b[36m(tune_func pid=66937)\u001b[0m #######################################################################################\n",
      "\u001b[36m(tune_func pid=66937)\u001b[0m Epoch [3/50], Step [3576/5961], Val Loss: 0.0407 Val Log Time Proportion: 0.1217\n",
      "\u001b[36m(tune_func pid=66937)\u001b[0m #######################################################################################\n"
     ]
    },
    {
     "name": "stderr",
     "output_type": "stream",
     "text": [
      "\u001b[36m(tune_func pid=66937)\u001b[0m Checkpoint successfully created at: Checkpoint(filesystem=local, path=/home/daniel/ray_results/tune_func_2024-06-23_03-06-45/tune_func_dc56f_00000_0_batch_size=4,channels=32,depth=6,lr=0.0000_2024-06-23_03-06-46/checkpoint_000012)\n"
     ]
    },
    {
     "name": "stdout",
     "output_type": "stream",
     "text": [
      "\u001b[36m(tune_func pid=66937)\u001b[0m Epoch [3/50], Step [3578/5961], Train Loss: 0.0423 , Logging Time Proportion: 0.0006, Data Loading Time Proportion: 0.0016\n",
      "\u001b[36m(tune_func pid=66937)\u001b[0m Epoch [3/50], Step [3678/5961], Train Loss: 0.0420 , Logging Time Proportion: 0.0008, Data Loading Time Proportion: 0.0032\n",
      "\u001b[36m(tune_func pid=66937)\u001b[0m Epoch [3/50], Step [3778/5961], Train Loss: 0.0413 , Logging Time Proportion: 0.0009, Data Loading Time Proportion: 0.0035\n",
      "\u001b[36m(tune_func pid=66937)\u001b[0m Epoch [3/50], Step [3878/5961], Train Loss: 0.0402 , Logging Time Proportion: 0.0016, Data Loading Time Proportion: 0.0040\n",
      "\u001b[36m(tune_func pid=66937)\u001b[0m Epoch [3/50], Step [3978/5961], Train Loss: 0.0415 , Logging Time Proportion: 0.0016, Data Loading Time Proportion: 0.0035\n",
      "\u001b[36m(tune_func pid=66937)\u001b[0m Epoch [3/50], Step [4078/5961], Train Loss: 0.0418 , Logging Time Proportion: 0.0012, Data Loading Time Proportion: 0.0038\n",
      "\u001b[36m(tune_func pid=66937)\u001b[0m Epoch [3/50], Step [4178/5961], Train Loss: 0.0405 , Logging Time Proportion: 0.0010, Data Loading Time Proportion: 0.0037\n",
      "\u001b[36m(tune_func pid=66937)\u001b[0m Epoch [3/50], Step [4278/5961], Train Loss: 0.0410 , Logging Time Proportion: 0.0012, Data Loading Time Proportion: 0.0037\n",
      "\u001b[36m(tune_func pid=66937)\u001b[0m Epoch [3/50], Step [4378/5961], Train Loss: 0.0417 , Logging Time Proportion: 0.0015, Data Loading Time Proportion: 0.0038\n",
      "\u001b[36m(tune_func pid=66937)\u001b[0m Epoch [3/50], Step [4478/5961], Train Loss: 0.0406 , Logging Time Proportion: 0.0012, Data Loading Time Proportion: 0.0039\n",
      "\u001b[36m(tune_func pid=66937)\u001b[0m Epoch [3/50], Step [4578/5961], Train Loss: 0.0399 , Logging Time Proportion: 0.0029, Data Loading Time Proportion: 0.0034\n",
      "\u001b[36m(tune_func pid=66937)\u001b[0m Epoch [3/50], Step [4678/5961], Train Loss: 0.0416 , Logging Time Proportion: 0.0012, Data Loading Time Proportion: 0.0039\n",
      "\u001b[36m(tune_func pid=66937)\u001b[0m #######################################################################################\n",
      "\u001b[36m(tune_func pid=66937)\u001b[0m \n",
      "\u001b[36m(tune_func pid=66937)\u001b[0m Epoch [3/50], Step [4768/5961], Val Loss: 0.0430 Val Log Time Proportion: 0.0796\n",
      "\u001b[36m(tune_func pid=66937)\u001b[0m #######################################################################################\n"
     ]
    },
    {
     "name": "stderr",
     "output_type": "stream",
     "text": [
      "\u001b[36m(tune_func pid=66937)\u001b[0m Checkpoint successfully created at: Checkpoint(filesystem=local, path=/home/daniel/ray_results/tune_func_2024-06-23_03-06-45/tune_func_dc56f_00000_0_batch_size=4,channels=32,depth=6,lr=0.0000_2024-06-23_03-06-46/checkpoint_000013)\n"
     ]
    },
    {
     "name": "stdout",
     "output_type": "stream",
     "text": [
      "\u001b[36m(tune_func pid=66937)\u001b[0m Epoch [3/50], Step [4778/5961], Train Loss: 0.0422 , Logging Time Proportion: 0.0006, Data Loading Time Proportion: 0.0019\n",
      "\u001b[36m(tune_func pid=66937)\u001b[0m Epoch [3/50], Step [4878/5961], Train Loss: 0.0397 , Logging Time Proportion: 0.0009, Data Loading Time Proportion: 0.0030\n",
      "\u001b[36m(tune_func pid=66937)\u001b[0m Epoch [3/50], Step [4978/5961], Train Loss: 0.0401 , Logging Time Proportion: 0.0012, Data Loading Time Proportion: 0.0040\n",
      "\u001b[36m(tune_func pid=66937)\u001b[0m Epoch [3/50], Step [5078/5961], Train Loss: 0.0395 , Logging Time Proportion: 0.0012, Data Loading Time Proportion: 0.0040\n",
      "\u001b[36m(tune_func pid=66937)\u001b[0m Epoch [3/50], Step [5178/5961], Train Loss: 0.0402 , Logging Time Proportion: 0.0009, Data Loading Time Proportion: 0.0037\n",
      "\u001b[36m(tune_func pid=66937)\u001b[0m Epoch [3/50], Step [5278/5961], Train Loss: 0.0393 , Logging Time Proportion: 0.0010, Data Loading Time Proportion: 0.0038\n",
      "\u001b[36m(tune_func pid=66937)\u001b[0m Epoch [3/50], Step [5378/5961], Train Loss: 0.0402 , Logging Time Proportion: 0.0010, Data Loading Time Proportion: 0.0039\n",
      "\u001b[36m(tune_func pid=66937)\u001b[0m Epoch [3/50], Step [5478/5961], Train Loss: 0.0396 , Logging Time Proportion: 0.0009, Data Loading Time Proportion: 0.0036\n",
      "\u001b[36m(tune_func pid=66937)\u001b[0m Epoch [3/50], Step [5578/5961], Train Loss: 0.0427 , Logging Time Proportion: 0.0010, Data Loading Time Proportion: 0.0038\n",
      "\u001b[36m(tune_func pid=66937)\u001b[0m Epoch [3/50], Step [5678/5961], Train Loss: 0.0416 , Logging Time Proportion: 0.0010, Data Loading Time Proportion: 0.0036\n",
      "\u001b[36m(tune_func pid=66937)\u001b[0m Epoch [3/50], Step [5778/5961], Train Loss: 0.0416 , Logging Time Proportion: 0.0011, Data Loading Time Proportion: 0.0036\n",
      "\u001b[36m(tune_func pid=66937)\u001b[0m Epoch [3/50], Step [5878/5961], Train Loss: 0.0414 , Logging Time Proportion: 0.0023, Data Loading Time Proportion: 0.0038\n",
      "\u001b[36m(tune_func pid=66937)\u001b[0m #######################################################################################\n",
      "\u001b[36m(tune_func pid=66937)\u001b[0m Epoch [3/50], Step [5960/5961], Val Loss: 0.0408 Val Log Time Proportion: 0.0763\n",
      "\u001b[36m(tune_func pid=66937)\u001b[0m #######################################################################################\n"
     ]
    },
    {
     "name": "stderr",
     "output_type": "stream",
     "text": [
      "\u001b[36m(tune_func pid=66937)\u001b[0m Checkpoint successfully created at: Checkpoint(filesystem=local, path=/home/daniel/ray_results/tune_func_2024-06-23_03-06-45/tune_func_dc56f_00000_0_batch_size=4,channels=32,depth=6,lr=0.0000_2024-06-23_03-06-46/checkpoint_000014)\n"
     ]
    },
    {
     "name": "stdout",
     "output_type": "stream",
     "text": [
      "\u001b[36m(tune_func pid=66937)\u001b[0m Epoch [4/50], Step [17/5961], Train Loss: 0.0055 , Logging Time Proportion: 0.0006, Data Loading Time Proportion: 0.0019\n",
      "\u001b[36m(tune_func pid=66937)\u001b[0m Epoch [4/50], Step [117/5961], Train Loss: 0.0401 , Logging Time Proportion: 0.0012, Data Loading Time Proportion: 0.0037\n",
      "\u001b[36m(tune_func pid=66937)\u001b[0m Epoch [4/50], Step [217/5961], Train Loss: 0.0409 , Logging Time Proportion: 0.0015, Data Loading Time Proportion: 0.0041\n",
      "\u001b[36m(tune_func pid=66937)\u001b[0m Epoch [4/50], Step [317/5961], Train Loss: 0.0408 , Logging Time Proportion: 0.0014, Data Loading Time Proportion: 0.0055\n",
      "\u001b[36m(tune_func pid=66937)\u001b[0m Epoch [4/50], Step [417/5961], Train Loss: 0.0396 , Logging Time Proportion: 0.0014, Data Loading Time Proportion: 0.0052\n",
      "\u001b[36m(tune_func pid=66937)\u001b[0m Epoch [4/50], Step [517/5961], Train Loss: 0.0412 , Logging Time Proportion: 0.0014, Data Loading Time Proportion: 0.0052\n",
      "\u001b[36m(tune_func pid=66937)\u001b[0m Epoch [4/50], Step [617/5961], Train Loss: 0.0400\n",
      "\u001b[36m(tune_func pid=66937)\u001b[0m  , Logging Time Proportion: 0.0016, Data Loading Time Proportion: 0.0051\n",
      "\u001b[36m(tune_func pid=66937)\u001b[0m Epoch [4/50], Step [717/5961], Train Loss: 0.0400 , Logging Time Proportion: 0.0017, Data Loading Time Proportion: 0.0054\n",
      "\u001b[36m(tune_func pid=66937)\u001b[0m Epoch [4/50], Step [817/5961], Train Loss: 0.0398 , Logging Time Proportion: 0.0012, Data Loading Time Proportion: 0.0048\n",
      "\u001b[36m(tune_func pid=66937)\u001b[0m Epoch [4/50], Step [917/5961], Train Loss: 0.0403 , Logging Time Proportion: 0.0019, Data Loading Time Proportion: 0.0050\n",
      "\u001b[36m(tune_func pid=66937)\u001b[0m Epoch [4/50], Step [1017/5961], Train Loss: 0.0404\n",
      "\u001b[36m(tune_func pid=66937)\u001b[0m  , Logging Time Proportion: 0.0017, Data Loading Time Proportion: 0.0053\n",
      "\u001b[36m(tune_func pid=66937)\u001b[0m Epoch [4/50], Step [1117/5961], Train Loss: 0.0397 , Logging Time Proportion: 0.0015, Data Loading Time Proportion: 0.0055\n",
      "\u001b[36m(tune_func pid=66937)\u001b[0m #######################################################################################\n",
      "\u001b[36m(tune_func pid=66937)\u001b[0m Epoch [4/50], Step [1192/5961], Val Loss: 0.0400 Val Log Time Proportion: 0.0926\n",
      "\u001b[36m(tune_func pid=66937)\u001b[0m #######################################################################################\n"
     ]
    },
    {
     "name": "stderr",
     "output_type": "stream",
     "text": [
      "\u001b[36m(tune_func pid=66937)\u001b[0m Checkpoint successfully created at: Checkpoint(filesystem=local, path=/home/daniel/ray_results/tune_func_2024-06-23_03-06-45/tune_func_dc56f_00000_0_batch_size=4,channels=32,depth=6,lr=0.0000_2024-06-23_03-06-46/checkpoint_000015)\n"
     ]
    },
    {
     "name": "stdout",
     "output_type": "stream",
     "text": [
      "\u001b[36m(tune_func pid=66937)\u001b[0m Epoch [4/50], Step [1217/5961], Train Loss: 0.0409 , Logging Time Proportion: 0.0006, Data Loading Time Proportion: 0.0022\n",
      "\u001b[36m(tune_func pid=66937)\u001b[0m Epoch [4/50], Step [1317/5961], Train Loss: 0.0397 , Logging Time Proportion: 0.0010, Data Loading Time Proportion: 0.0037\n",
      "\u001b[36m(tune_func pid=66937)\u001b[0m Epoch [4/50], Step [1417/5961], Train Loss: 0.0411 , Logging Time Proportion: 0.0011, Data Loading Time Proportion: 0.0050\n",
      "\u001b[36m(tune_func pid=66937)\u001b[0m Epoch [4/50], Step [1517/5961], Train Loss: 0.0397 , Logging Time Proportion: 0.0019, Data Loading Time Proportion: 0.0047\n",
      "\u001b[36m(tune_func pid=66937)\u001b[0m Epoch [4/50], Step [1617/5961], Train Loss: 0.0423 , Logging Time Proportion: 0.0015, Data Loading Time Proportion: 0.0048\n",
      "\u001b[36m(tune_func pid=66937)\u001b[0m Epoch [4/50], Step [1717/5961], Train Loss: 0.0417 , Logging Time Proportion: 0.0012, Data Loading Time Proportion: 0.0048\n",
      "\u001b[36m(tune_func pid=66937)\u001b[0m Epoch [4/50], Step [1817/5961], Train Loss: 0.0428 , Logging Time Proportion: 0.0014, Data Loading Time Proportion: 0.0048\n",
      "\u001b[36m(tune_func pid=66937)\u001b[0m Epoch [4/50], Step [1917/5961], Train Loss: 0.0400 , Logging Time Proportion: 0.0015, Data Loading Time Proportion: 0.0052\n",
      "\u001b[36m(tune_func pid=66937)\u001b[0m Epoch [4/50], Step [2017/5961], Train Loss: 0.0398 , Logging Time Proportion: 0.0015, Data Loading Time Proportion: 0.0047\n",
      "\u001b[36m(tune_func pid=66937)\u001b[0m Epoch [4/50], Step [2117/5961], Train Loss: 0.0424 , Logging Time Proportion: 0.0015, Data Loading Time Proportion: 0.0048\n",
      "\u001b[36m(tune_func pid=66937)\u001b[0m Epoch [4/50], Step [2217/5961], Train Loss: 0.0387 , Logging Time Proportion: 0.0012, Data Loading Time Proportion: 0.0050\n",
      "\u001b[36m(tune_func pid=66937)\u001b[0m Epoch [4/50], Step [2317/5961], Train Loss: 0.0420 , Logging Time Proportion: 0.0018, Data Loading Time Proportion: 0.0051\n",
      "\u001b[36m(tune_func pid=66937)\u001b[0m #######################################################################################\n",
      "\u001b[36m(tune_func pid=66937)\u001b[0m Epoch [4/50], Step [2384/5961], Val Loss: 0.0398 Val Log Time Proportion: 0.0828\n",
      "\u001b[36m(tune_func pid=66937)\u001b[0m #######################################################################################\n"
     ]
    },
    {
     "name": "stderr",
     "output_type": "stream",
     "text": [
      "\u001b[36m(tune_func pid=66937)\u001b[0m Checkpoint successfully created at: Checkpoint(filesystem=local, path=/home/daniel/ray_results/tune_func_2024-06-23_03-06-45/tune_func_dc56f_00000_0_batch_size=4,channels=32,depth=6,lr=0.0000_2024-06-23_03-06-46/checkpoint_000016)\n"
     ]
    },
    {
     "name": "stdout",
     "output_type": "stream",
     "text": [
      "\u001b[36m(tune_func pid=66937)\u001b[0m Epoch [4/50], Step [2417/5961], Train Loss: 0.0401 , Logging Time Proportion: 0.0007, Data Loading Time Proportion: 0.0023\n",
      "\u001b[36m(tune_func pid=66937)\u001b[0m Epoch [4/50], Step [2517/5961], Train Loss: 0.0426 , Logging Time Proportion: 0.0014, Data Loading Time Proportion: 0.0037\n",
      "\u001b[36m(tune_func pid=66937)\u001b[0m Epoch [4/50], Step [2617/5961], Train Loss: 0.0413 , Logging Time Proportion: 0.0017, Data Loading Time Proportion: 0.0048\n",
      "\u001b[36m(tune_func pid=66937)\u001b[0m Epoch [4/50], Step [2717/5961], Train Loss: 0.0385 , Logging Time Proportion: 0.0011, Data Loading Time Proportion: 0.0046\n",
      "\u001b[36m(tune_func pid=66937)\u001b[0m Epoch [4/50], Step [2817/5961], Train Loss: 0.0392 , Logging Time Proportion: 0.0015, Data Loading Time Proportion: 0.0048\n",
      "\u001b[36m(tune_func pid=66937)\u001b[0m Epoch [4/50], Step [2917/5961], Train Loss: 0.0395 , Logging Time Proportion: 0.0012, Data Loading Time Proportion: 0.0048\n",
      "\u001b[36m(tune_func pid=66937)\u001b[0m Epoch [4/50], Step [3017/5961], Train Loss: 0.0410 , Logging Time Proportion: 0.0012, Data Loading Time Proportion: 0.0040\n",
      "\u001b[36m(tune_func pid=66937)\u001b[0m Epoch [4/50], Step [3117/5961], Train Loss: 0.0408 , Logging Time Proportion: 0.0012, Data Loading Time Proportion: 0.0052\n",
      "\u001b[36m(tune_func pid=66937)\u001b[0m Epoch [4/50], Step [3217/5961], Train Loss: 0.0402 , Logging Time Proportion: 0.0013, Data Loading Time Proportion: 0.0045\n",
      "\u001b[36m(tune_func pid=66937)\u001b[0m Epoch [4/50], Step [3317/5961], Train Loss: 0.0377 , Logging Time Proportion: 0.0015, Data Loading Time Proportion: 0.0045\n",
      "\u001b[36m(tune_func pid=66937)\u001b[0m Epoch [4/50], Step [3417/5961], Train Loss: 0.0385 , Logging Time Proportion: 0.0015, Data Loading Time Proportion: 0.0049\n",
      "\u001b[36m(tune_func pid=66937)\u001b[0m Epoch [4/50], Step [3517/5961], Train Loss: 0.0386 , Logging Time Proportion: 0.0010, Data Loading Time Proportion: 0.0037\n",
      "\u001b[36m(tune_func pid=66937)\u001b[0m #######################################################################################\n",
      "\u001b[36m(tune_func pid=66937)\u001b[0m Epoch [4/50], Step [3576/5961], Val Loss: 0.0401 Val Log Time Proportion: 0.0775\n",
      "\u001b[36m(tune_func pid=66937)\u001b[0m #######################################################################################\n"
     ]
    },
    {
     "name": "stderr",
     "output_type": "stream",
     "text": [
      "\u001b[36m(tune_func pid=66937)\u001b[0m Checkpoint successfully created at: Checkpoint(filesystem=local, path=/home/daniel/ray_results/tune_func_2024-06-23_03-06-45/tune_func_dc56f_00000_0_batch_size=4,channels=32,depth=6,lr=0.0000_2024-06-23_03-06-46/checkpoint_000017)\n"
     ]
    },
    {
     "name": "stdout",
     "output_type": "stream",
     "text": [
      "\u001b[36m(tune_func pid=66937)\u001b[0m Epoch [4/50], Step [3617/5961], Train Loss: 0.0387 , Logging Time Proportion: 0.0006, Data Loading Time Proportion: 0.0023\n",
      "\u001b[36m(tune_func pid=66937)\u001b[0m Epoch [4/50], Step [3717/5961], Train Loss: 0.0397 , Logging Time Proportion: 0.0011, Data Loading Time Proportion: 0.0033\n",
      "\u001b[36m(tune_func pid=66937)\u001b[0m Epoch [4/50], Step [3817/5961], Train Loss: 0.0401 , Logging Time Proportion: 0.0013, Data Loading Time Proportion: 0.0045\n",
      "\u001b[36m(tune_func pid=66937)\u001b[0m Epoch [4/50], Step [3917/5961], Train Loss: 0.0405 , Logging Time Proportion: 0.0012, Data Loading Time Proportion: 0.0043\n",
      "\u001b[36m(tune_func pid=66937)\u001b[0m Epoch [4/50], Step [4017/5961], Train Loss: 0.0389 , Logging Time Proportion: 0.0008, Data Loading Time Proportion: 0.0026\n",
      "\u001b[36m(tune_func pid=66937)\u001b[0m Epoch [4/50], Step [4117/5961], Train Loss: 0.0402 , Logging Time Proportion: 0.0010, Data Loading Time Proportion: 0.0036\n",
      "\u001b[36m(tune_func pid=66937)\u001b[0m Epoch [4/50], Step [4217/5961], Train Loss: 0.0402 , Logging Time Proportion: 0.0013, Data Loading Time Proportion: 0.0042\n",
      "\u001b[36m(tune_func pid=66937)\u001b[0m Epoch [4/50], Step [4317/5961], Train Loss: 0.0400 , Logging Time Proportion: 0.0013, Data Loading Time Proportion: 0.0042\n",
      "\u001b[36m(tune_func pid=66937)\u001b[0m Epoch [4/50], Step [4417/5961], Train Loss: 0.0392 , Logging Time Proportion: 0.0012, Data Loading Time Proportion: 0.0040\n",
      "\u001b[36m(tune_func pid=66937)\u001b[0m Epoch [4/50], Step [4517/5961], Train Loss: 0.0397 , Logging Time Proportion: 0.0014, Data Loading Time Proportion: 0.0041\n",
      "\u001b[36m(tune_func pid=66937)\u001b[0m Epoch [4/50], Step [4617/5961], Train Loss: 0.0384 , Logging Time Proportion: 0.0013, Data Loading Time Proportion: 0.0041\n",
      "\u001b[36m(tune_func pid=66937)\u001b[0m Epoch [4/50], Step [4717/5961], Train Loss: 0.0399 , Logging Time Proportion: 0.0013, Data Loading Time Proportion: 0.0043\n",
      "\u001b[36m(tune_func pid=66937)\u001b[0m #######################################################################################\n",
      "\u001b[36m(tune_func pid=66937)\u001b[0m \n",
      "\u001b[36m(tune_func pid=66937)\u001b[0m Epoch [4/50], Step [4768/5961], Val Loss: 0.0397 Val Log Time Proportion: 0.0771\n",
      "\u001b[36m(tune_func pid=66937)\u001b[0m #######################################################################################\n"
     ]
    },
    {
     "name": "stderr",
     "output_type": "stream",
     "text": [
      "\u001b[36m(tune_func pid=66937)\u001b[0m Checkpoint successfully created at: Checkpoint(filesystem=local, path=/home/daniel/ray_results/tune_func_2024-06-23_03-06-45/tune_func_dc56f_00000_0_batch_size=4,channels=32,depth=6,lr=0.0000_2024-06-23_03-06-46/checkpoint_000018)\n"
     ]
    },
    {
     "name": "stdout",
     "output_type": "stream",
     "text": [
      "\u001b[36m(tune_func pid=66937)\u001b[0m Epoch [4/50], Step [4817/5961], Train Loss: 0.0395 , Logging Time Proportion: 0.0006, Data Loading Time Proportion: 0.0020\n",
      "\u001b[36m(tune_func pid=66937)\u001b[0m Epoch [4/50], Step [4917/5961], Train Loss: 0.0398 , Logging Time Proportion: 0.0007, Data Loading Time Proportion: 0.0030\n",
      "\u001b[36m(tune_func pid=66937)\u001b[0m Epoch [4/50], Step [5017/5961], Train Loss: 0.0395 , Logging Time Proportion: 0.0011, Data Loading Time Proportion: 0.0036\n",
      "\u001b[36m(tune_func pid=66937)\u001b[0m Epoch [4/50], Step [5117/5961], Train Loss: 0.0409 , Logging Time Proportion: 0.0011, Data Loading Time Proportion: 0.0041\n",
      "\u001b[36m(tune_func pid=66937)\u001b[0m Epoch [4/50], Step [5217/5961], Train Loss: 0.0391 , Logging Time Proportion: 0.0013, Data Loading Time Proportion: 0.0038\n",
      "\u001b[36m(tune_func pid=66937)\u001b[0m Epoch [4/50], Step [5317/5961], Train Loss: 0.0390 , Logging Time Proportion: 0.0013, Data Loading Time Proportion: 0.0042\n",
      "\u001b[36m(tune_func pid=66937)\u001b[0m Epoch [4/50], Step [5417/5961], Train Loss: 0.0402 , Logging Time Proportion: 0.0013, Data Loading Time Proportion: 0.0040\n",
      "\u001b[36m(tune_func pid=66937)\u001b[0m Epoch [4/50], Step [5517/5961], Train Loss: 0.0408 , Logging Time Proportion: 0.0012, Data Loading Time Proportion: 0.0040\n",
      "\u001b[36m(tune_func pid=66937)\u001b[0m Epoch [4/50], Step [5617/5961], Train Loss: 0.0390 , Logging Time Proportion: 0.0010, Data Loading Time Proportion: 0.0035\n",
      "\u001b[36m(tune_func pid=66937)\u001b[0m Epoch [4/50], Step [5717/5961], Train Loss: 0.0373 , Logging Time Proportion: 0.0012, Data Loading Time Proportion: 0.0039\n",
      "\u001b[36m(tune_func pid=66937)\u001b[0m Epoch [4/50], Step [5817/5961], Train Loss: 0.0378 , Logging Time Proportion: 0.0012, Data Loading Time Proportion: 0.0042\n",
      "\u001b[36m(tune_func pid=66937)\u001b[0m Epoch [4/50], Step [5917/5961], Train Loss: 0.0401 , Logging Time Proportion: 0.0010, Data Loading Time Proportion: 0.0035\n",
      "\u001b[36m(tune_func pid=66937)\u001b[0m #######################################################################################\n",
      "\u001b[36m(tune_func pid=66937)\u001b[0m Epoch [4/50], Step [5960/5961], Val Loss: 0.0388 Val Log Time Proportion: 0.0799\n",
      "\u001b[36m(tune_func pid=66937)\u001b[0m #######################################################################################\n"
     ]
    },
    {
     "name": "stderr",
     "output_type": "stream",
     "text": [
      "\u001b[36m(tune_func pid=66937)\u001b[0m Checkpoint successfully created at: Checkpoint(filesystem=local, path=/home/daniel/ray_results/tune_func_2024-06-23_03-06-45/tune_func_dc56f_00000_0_batch_size=4,channels=32,depth=6,lr=0.0000_2024-06-23_03-06-46/checkpoint_000019)\n"
     ]
    },
    {
     "name": "stdout",
     "output_type": "stream",
     "text": [
      "\u001b[36m(tune_func pid=70590)\u001b[0m Hurray! GPU available.\n",
      "\u001b[36m(tune_func pid=70590)\u001b[0m Total trainable parameters: 110913\n",
      "\u001b[36m(tune_func pid=70590)\u001b[0m Epoch [1/50], Step [100/2981], Train Loss: 0.6926 , Logging Time Proportion: 0.0096, Data Loading Time Proportion: 0.0062\n",
      "\u001b[36m(tune_func pid=70590)\u001b[0m Epoch [1/50], Step [200/2981], Train Loss: 0.6910 , Logging Time Proportion: 0.0013, Data Loading Time Proportion: 0.0062\n",
      "\u001b[36m(tune_func pid=70590)\u001b[0m Epoch [1/50], Step [300/2981], Train Loss: 0.6892 , Logging Time Proportion: 0.0016, Data Loading Time Proportion: 0.0065\n",
      "\u001b[36m(tune_func pid=70590)\u001b[0m Epoch [1/50], Step [400/2981], Train Loss: 0.6873 , Logging Time Proportion: 0.0013, Data Loading Time Proportion: 0.0065\n",
      "\u001b[36m(tune_func pid=70590)\u001b[0m Epoch [1/50], Step [500/2981], Train Loss: 0.6852 , Logging Time Proportion: 0.0007, Data Loading Time Proportion: 0.0043\n",
      "\u001b[36m(tune_func pid=70590)\u001b[0m #######################################################################################\n",
      "\u001b[36m(tune_func pid=70590)\u001b[0m Epoch [1/50], Step [596/2981], Val Loss: 0.6818 Val Log Time Proportion: 0.1069\n",
      "\u001b[36m(tune_func pid=70590)\u001b[0m #######################################################################################\n"
     ]
    },
    {
     "name": "stderr",
     "output_type": "stream",
     "text": [
      "\u001b[36m(tune_func pid=70590)\u001b[0m Checkpoint successfully created at: Checkpoint(filesystem=local, path=/home/daniel/ray_results/tune_func_2024-06-23_03-06-45/tune_func_dc56f_00001_1_batch_size=8,channels=16,depth=3,lr=0.0000_2024-06-23_03-06-46/checkpoint_000000)\n"
     ]
    },
    {
     "name": "stdout",
     "output_type": "stream",
     "text": [
      "\u001b[36m(tune_func pid=70857)\u001b[0m Hurray! GPU available.\n",
      "\u001b[36m(tune_func pid=70857)\u001b[0m Total trainable parameters: 110913\n",
      "\u001b[36m(tune_func pid=70857)\u001b[0m Epoch [1/50], Step [100/2981], Train Loss: 0.6931 , Logging Time Proportion: 0.0024, Data Loading Time Proportion: 0.0082\n",
      "\u001b[36m(tune_func pid=70857)\u001b[0m Epoch [1/50], Step [200/2981], Train Loss: 0.6920 , Logging Time Proportion: 0.0019, Data Loading Time Proportion: 0.0081\n",
      "\u001b[36m(tune_func pid=70857)\u001b[0m Epoch [1/50], Step [300/2981], Train Loss: 0.6909 , Logging Time Proportion: 0.0011, Data Loading Time Proportion: 0.0067\n",
      "\u001b[36m(tune_func pid=70857)\u001b[0m Epoch [1/50], Step [400/2981], Train Loss: 0.6897 , Logging Time Proportion: 0.0010, Data Loading Time Proportion: 0.0054\n",
      "\u001b[36m(tune_func pid=70857)\u001b[0m Epoch [1/50], Step [500/2981], Train Loss: 0.6886 , Logging Time Proportion: 0.0016, Data Loading Time Proportion: 0.0078\n"
     ]
    },
    {
     "name": "stderr",
     "output_type": "stream",
     "text": [
      "\u001b[36m(tune_func pid=70857)\u001b[0m Checkpoint successfully created at: Checkpoint(filesystem=local, path=/home/daniel/ray_results/tune_func_2024-06-23_03-06-45/tune_func_dc56f_00002_2_batch_size=8,channels=16,depth=3,lr=0.0000_2024-06-23_03-06-46/checkpoint_000000)\n"
     ]
    },
    {
     "name": "stdout",
     "output_type": "stream",
     "text": [
      "\u001b[36m(tune_func pid=70857)\u001b[0m #######################################################################################\n",
      "\u001b[36m(tune_func pid=70857)\u001b[0m Epoch [1/50], Step [596/2981], Val Loss: 0.6868 Val Log Time Proportion: 0.1201\n",
      "\u001b[36m(tune_func pid=70857)\u001b[0m #######################################################################################\n",
      "\u001b[36m(tune_func pid=71051)\u001b[0m Hurray! GPU available.\n",
      "\u001b[36m(tune_func pid=71051)\u001b[0m Total trainable parameters: 1789913089\n"
     ]
    },
    {
     "name": "stderr",
     "output_type": "stream",
     "text": [
      "2024-06-23 03:56:52,675\tERROR tune_controller.py:1331 -- Trial task failed for trial tune_func_dc56f_00003\n",
      "Traceback (most recent call last):\n",
      "  File \"/home/daniel/anaconda3/envs/adlr/lib/python3.9/site-packages/ray/air/execution/_internal/event_manager.py\", line 110, in resolve_future\n",
      "    result = ray.get(future)\n",
      "  File \"/home/daniel/anaconda3/envs/adlr/lib/python3.9/site-packages/ray/_private/auto_init_hook.py\", line 21, in auto_init_wrapper\n",
      "    return fn(*args, **kwargs)\n",
      "  File \"/home/daniel/anaconda3/envs/adlr/lib/python3.9/site-packages/ray/_private/client_mode_hook.py\", line 103, in wrapper\n",
      "    return func(*args, **kwargs)\n",
      "  File \"/home/daniel/anaconda3/envs/adlr/lib/python3.9/site-packages/ray/_private/worker.py\", line 2630, in get\n",
      "    values, debugger_breakpoint = worker.get_objects(object_refs, timeout=timeout)\n",
      "  File \"/home/daniel/anaconda3/envs/adlr/lib/python3.9/site-packages/ray/_private/worker.py\", line 863, in get_objects\n",
      "    raise value.as_instanceof_cause()\n",
      "ray.exceptions.RayTaskError(OutOfMemoryError): \u001b[36mray::ImplicitFunc.train()\u001b[39m (pid=71051, ip=192.168.42.46, actor_id=f3869df36255816cdc1d909301000000, repr=tune_func)\n",
      "  File \"/home/daniel/anaconda3/envs/adlr/lib/python3.9/site-packages/ray/tune/trainable/trainable.py\", line 331, in train\n",
      "    raise skipped from exception_cause(skipped)\n",
      "  File \"/home/daniel/anaconda3/envs/adlr/lib/python3.9/site-packages/ray/air/_internal/util.py\", line 98, in run\n",
      "    self._ret = self._target(*self._args, **self._kwargs)\n",
      "  File \"/home/daniel/anaconda3/envs/adlr/lib/python3.9/site-packages/ray/tune/trainable/function_trainable.py\", line 45, in <lambda>\n",
      "    training_func=lambda: self._trainable_func(self.config),\n",
      "  File \"/home/daniel/anaconda3/envs/adlr/lib/python3.9/site-packages/ray/tune/trainable/function_trainable.py\", line 248, in _trainable_func\n",
      "    output = fn()\n",
      "  File \"/tmp/ipykernel_66204/815730020.py\", line 25, in tune_func\n",
      "  File \"/home/daniel/Documents/TUM/ADLR/tum-adlr-02/neural_nets/trainer.py\", line 131, in train_from_dict\n",
      "    self.train()\n",
      "  File \"/home/daniel/Documents/TUM/ADLR/tum-adlr-02/neural_nets/trainer.py\", line 211, in train\n",
      "    outputs = model(inputs)\n",
      "  File \"/home/daniel/anaconda3/envs/adlr/lib/python3.9/site-packages/torch/nn/modules/module.py\", line 1532, in _wrapped_call_impl\n",
      "    return self._call_impl(*args, **kwargs)\n",
      "  File \"/home/daniel/anaconda3/envs/adlr/lib/python3.9/site-packages/torch/nn/modules/module.py\", line 1541, in _call_impl\n",
      "    return forward_call(*args, **kwargs)\n",
      "  File \"/home/daniel/Documents/TUM/ADLR/tum-adlr-02/neural_nets/models/unet.py\", line 60, in forward\n",
      "    x = encode(x)\n",
      "  File \"/home/daniel/anaconda3/envs/adlr/lib/python3.9/site-packages/torch/nn/modules/module.py\", line 1532, in _wrapped_call_impl\n",
      "    return self._call_impl(*args, **kwargs)\n",
      "  File \"/home/daniel/anaconda3/envs/adlr/lib/python3.9/site-packages/torch/nn/modules/module.py\", line 1541, in _call_impl\n",
      "    return forward_call(*args, **kwargs)\n",
      "  File \"/home/daniel/anaconda3/envs/adlr/lib/python3.9/site-packages/torch/nn/modules/container.py\", line 217, in forward\n",
      "    input = module(input)\n",
      "  File \"/home/daniel/anaconda3/envs/adlr/lib/python3.9/site-packages/torch/nn/modules/module.py\", line 1532, in _wrapped_call_impl\n",
      "    return self._call_impl(*args, **kwargs)\n",
      "  File \"/home/daniel/anaconda3/envs/adlr/lib/python3.9/site-packages/torch/nn/modules/module.py\", line 1541, in _call_impl\n",
      "    return forward_call(*args, **kwargs)\n",
      "  File \"/home/daniel/anaconda3/envs/adlr/lib/python3.9/site-packages/torch/nn/modules/activation.py\", line 103, in forward\n",
      "    return F.relu(input, inplace=self.inplace)\n",
      "  File \"/home/daniel/anaconda3/envs/adlr/lib/python3.9/site-packages/torch/nn/functional.py\", line 1500, in relu\n",
      "    result = torch.relu(input)\n",
      "torch.cuda.OutOfMemoryError: CUDA out of memory. Tried to allocate 512.00 MiB. GPU\n"
     ]
    },
    {
     "name": "stdout",
     "output_type": "stream",
     "text": [
      "\u001b[36m(tune_func pid=71201)\u001b[0m Hurray! GPU available.\n",
      "\u001b[36m(tune_func pid=71201)\u001b[0m Total trainable parameters: 1750657\n",
      "\u001b[36m(tune_func pid=71201)\u001b[0m Epoch [1/50], Step [100/5961], Train Loss: 0.6369 , Logging Time Proportion: 0.0015, Data Loading Time Proportion: 0.0014\n",
      "\u001b[36m(tune_func pid=71201)\u001b[0m Epoch [1/50], Step [200/5961], Train Loss: 0.3654 , Logging Time Proportion: 0.0007, Data Loading Time Proportion: 0.0014\n",
      "\u001b[36m(tune_func pid=71201)\u001b[0m Epoch [1/50], Step [300/5961], Train Loss: 0.2677 , Logging Time Proportion: 0.0006, Data Loading Time Proportion: 0.0012\n",
      "\u001b[36m(tune_func pid=71201)\u001b[0m Epoch [1/50], Step [400/5961], Train Loss: 0.1777 , Logging Time Proportion: 0.0007, Data Loading Time Proportion: 0.0012\n",
      "\u001b[36m(tune_func pid=71201)\u001b[0m Epoch [1/50], Step [500/5961], Train Loss: 0.1417 , Logging Time Proportion: 0.0009, Data Loading Time Proportion: 0.0019\n",
      "\u001b[36m(tune_func pid=71201)\u001b[0m Epoch [1/50], Step [600/5961], Train Loss: 0.1258 , Logging Time Proportion: 0.0007, Data Loading Time Proportion: 0.0019\n",
      "\u001b[36m(tune_func pid=71201)\u001b[0m Epoch [1/50], Step [700/5961], Train Loss: 0.1142 , Logging Time Proportion: 0.0004, Data Loading Time Proportion: 0.0015\n",
      "\u001b[36m(tune_func pid=71201)\u001b[0m Epoch [1/50], Step [800/5961], Train Loss: 0.1064 , Logging Time Proportion: 0.0005, Data Loading Time Proportion: 0.0017\n",
      "\u001b[36m(tune_func pid=71201)\u001b[0m Epoch [1/50], Step [900/5961], Train Loss: 0.0986 , Logging Time Proportion: 0.0006, Data Loading Time Proportion: 0.0014\n",
      "\u001b[36m(tune_func pid=71201)\u001b[0m Epoch [1/50], Step [1000/5961], Train Loss: 0.0921 , Logging Time Proportion: 0.0005, Data Loading Time Proportion: 0.0014\n",
      "\u001b[36m(tune_func pid=71201)\u001b[0m Epoch [1/50], Step [1100/5961], Train Loss: 0.0909 , Logging Time Proportion: 0.0007, Data Loading Time Proportion: 0.0020\n",
      "\u001b[36m(tune_func pid=71201)\u001b[0m #######################################################################################\n",
      "\u001b[36m(tune_func pid=71201)\u001b[0m Epoch [1/50], Step [1192/5961], Val Loss: 0.0866 Val Log Time Proportion: 0.0766\n",
      "\u001b[36m(tune_func pid=71201)\u001b[0m #######################################################################################\n"
     ]
    },
    {
     "name": "stderr",
     "output_type": "stream",
     "text": [
      "\u001b[36m(tune_func pid=71201)\u001b[0m Checkpoint successfully created at: Checkpoint(filesystem=local, path=/home/daniel/ray_results/tune_func_2024-06-23_03-06-45/tune_func_dc56f_00004_4_batch_size=4,channels=16,depth=5,lr=0.0000_2024-06-23_03-06-46/checkpoint_000000)\n"
     ]
    },
    {
     "name": "stdout",
     "output_type": "stream",
     "text": [
      "\u001b[36m(tune_func pid=71201)\u001b[0m Epoch [1/50], Step [1200/5961], Train Loss: 0.0859 , Logging Time Proportion: 0.0003, Data Loading Time Proportion: 0.0009\n",
      "\u001b[36m(tune_func pid=71201)\u001b[0m Epoch [1/50], Step [1300/5961], Train Loss: 0.0866 , Logging Time Proportion: 0.0019, Data Loading Time Proportion: 0.0049\n",
      "\u001b[36m(tune_func pid=71201)\u001b[0m Epoch [1/50], Step [1400/5961], Train Loss: 0.0846 , Logging Time Proportion: 0.0025, Data Loading Time Proportion: 0.0057\n",
      "\u001b[36m(tune_func pid=71201)\u001b[0m Epoch [1/50], Step [1500/5961], Train Loss: 0.0837 , Logging Time Proportion: 0.0026, Data Loading Time Proportion: 0.0056\n",
      "\u001b[36m(tune_func pid=71201)\u001b[0m Epoch [1/50], Step [1600/5961], Train Loss: 0.0830 , Logging Time Proportion: 0.0019, Data Loading Time Proportion: 0.0055\n",
      "\u001b[36m(tune_func pid=71201)\u001b[0m Epoch [1/50], Step [1700/5961], Train Loss: 0.0827 , Logging Time Proportion: 0.0019, Data Loading Time Proportion: 0.0050\n",
      "\u001b[36m(tune_func pid=71201)\u001b[0m Epoch [1/50], Step [1800/5961], Train Loss: 0.0832\n",
      "\u001b[36m(tune_func pid=71201)\u001b[0m  , Logging Time Proportion: 0.0017, Data Loading Time Proportion: 0.0056\n",
      "\u001b[36m(tune_func pid=71201)\u001b[0m Epoch [1/50], Step [1900/5961], Train Loss: 0.0826 , Logging Time Proportion: 0.0022, Data Loading Time Proportion: 0.0050\n",
      "\u001b[36m(tune_func pid=71201)\u001b[0m Epoch [1/50], Step [2000/5961], Train Loss: 0.0818 , Logging Time Proportion: 0.0021, Data Loading Time Proportion: 0.0047\n",
      "\u001b[36m(tune_func pid=71201)\u001b[0m Epoch [1/50], Step [2100/5961], Train Loss: 0.0814 , Logging Time Proportion: 0.0018, Data Loading Time Proportion: 0.0050\n",
      "\u001b[36m(tune_func pid=71201)\u001b[0m Epoch [1/50], Step [2200/5961], Train Loss: 0.0806 , Logging Time Proportion: 0.0019, Data Loading Time Proportion: 0.0054\n",
      "\u001b[36m(tune_func pid=71201)\u001b[0m Epoch [1/50], Step [2300/5961], Train Loss: 0.0807 , Logging Time Proportion: 0.0016, Data Loading Time Proportion: 0.0045\n",
      "\u001b[36m(tune_func pid=71201)\u001b[0m #######################################################################################\n",
      "\u001b[36m(tune_func pid=71201)\u001b[0m Epoch [1/50], Step [2384/5961], Val Loss: 0.0805 Val Log Time Proportion: 0.0458\n",
      "\u001b[36m(tune_func pid=71201)\u001b[0m #######################################################################################\n"
     ]
    },
    {
     "name": "stderr",
     "output_type": "stream",
     "text": [
      "\u001b[36m(tune_func pid=71201)\u001b[0m Checkpoint successfully created at: Checkpoint(filesystem=local, path=/home/daniel/ray_results/tune_func_2024-06-23_03-06-45/tune_func_dc56f_00004_4_batch_size=4,channels=16,depth=5,lr=0.0000_2024-06-23_03-06-46/checkpoint_000001)\n"
     ]
    },
    {
     "name": "stdout",
     "output_type": "stream",
     "text": [
      "\u001b[36m(tune_func pid=71894)\u001b[0m Hurray! GPU available.\n",
      "\u001b[36m(tune_func pid=71894)\u001b[0m Total trainable parameters: 1750657\n",
      "\u001b[36m(tune_func pid=71894)\u001b[0m Epoch [1/50], Step [100/1491], Train Loss: 0.6865 , Logging Time Proportion: 0.0008, Data Loading Time Proportion: 0.0062\n",
      "\u001b[36m(tune_func pid=71894)\u001b[0m Epoch [1/50], Step [200/1491], Train Loss: 0.6633 , Logging Time Proportion: 0.0007, Data Loading Time Proportion: 0.0069\n",
      "\u001b[36m(tune_func pid=71894)\u001b[0m #######################################################################################\n",
      "\u001b[36m(tune_func pid=71894)\u001b[0m Epoch [1/50], Step [298/1491], Val Loss: 0.5773 Val Log Time Proportion: 0.0708\n",
      "\u001b[36m(tune_func pid=71894)\u001b[0m #######################################################################################\n"
     ]
    },
    {
     "name": "stderr",
     "output_type": "stream",
     "text": [
      "\u001b[36m(tune_func pid=71894)\u001b[0m Checkpoint successfully created at: Checkpoint(filesystem=local, path=/home/daniel/ray_results/tune_func_2024-06-23_03-06-45/tune_func_dc56f_00005_5_batch_size=16,channels=16,depth=5,lr=0.0000_2024-06-23_03-06-46/checkpoint_000000)\n"
     ]
    },
    {
     "name": "stdout",
     "output_type": "stream",
     "text": [
      "\u001b[36m(tune_func pid=72098)\u001b[0m Hurray! GPU available.\n",
      "\u001b[36m(tune_func pid=72098)\u001b[0m Total trainable parameters: 1789913089\n"
     ]
    },
    {
     "name": "stderr",
     "output_type": "stream",
     "text": [
      "2024-06-23 04:07:07,909\tERROR tune_controller.py:1331 -- Trial task failed for trial tune_func_dc56f_00006\n",
      "Traceback (most recent call last):\n",
      "  File \"/home/daniel/anaconda3/envs/adlr/lib/python3.9/site-packages/ray/air/execution/_internal/event_manager.py\", line 110, in resolve_future\n",
      "    result = ray.get(future)\n",
      "  File \"/home/daniel/anaconda3/envs/adlr/lib/python3.9/site-packages/ray/_private/auto_init_hook.py\", line 21, in auto_init_wrapper\n",
      "    return fn(*args, **kwargs)\n",
      "  File \"/home/daniel/anaconda3/envs/adlr/lib/python3.9/site-packages/ray/_private/client_mode_hook.py\", line 103, in wrapper\n",
      "    return func(*args, **kwargs)\n",
      "  File \"/home/daniel/anaconda3/envs/adlr/lib/python3.9/site-packages/ray/_private/worker.py\", line 2630, in get\n",
      "    values, debugger_breakpoint = worker.get_objects(object_refs, timeout=timeout)\n",
      "  File \"/home/daniel/anaconda3/envs/adlr/lib/python3.9/site-packages/ray/_private/worker.py\", line 863, in get_objects\n",
      "    raise value.as_instanceof_cause()\n",
      "ray.exceptions.RayTaskError(OutOfMemoryError): \u001b[36mray::ImplicitFunc.train()\u001b[39m (pid=72098, ip=192.168.42.46, actor_id=f1152b8d7c544375ed1b232f01000000, repr=tune_func)\n",
      "  File \"/home/daniel/anaconda3/envs/adlr/lib/python3.9/site-packages/ray/tune/trainable/trainable.py\", line 331, in train\n",
      "    raise skipped from exception_cause(skipped)\n",
      "  File \"/home/daniel/anaconda3/envs/adlr/lib/python3.9/site-packages/ray/air/_internal/util.py\", line 98, in run\n",
      "    self._ret = self._target(*self._args, **self._kwargs)\n",
      "  File \"/home/daniel/anaconda3/envs/adlr/lib/python3.9/site-packages/ray/tune/trainable/function_trainable.py\", line 45, in <lambda>\n",
      "    training_func=lambda: self._trainable_func(self.config),\n",
      "  File \"/home/daniel/anaconda3/envs/adlr/lib/python3.9/site-packages/ray/tune/trainable/function_trainable.py\", line 248, in _trainable_func\n",
      "    output = fn()\n",
      "  File \"/tmp/ipykernel_66204/815730020.py\", line 25, in tune_func\n",
      "  File \"/home/daniel/Documents/TUM/ADLR/tum-adlr-02/neural_nets/trainer.py\", line 131, in train_from_dict\n",
      "    self.train()\n",
      "  File \"/home/daniel/Documents/TUM/ADLR/tum-adlr-02/neural_nets/trainer.py\", line 211, in train\n",
      "    outputs = model(inputs)\n",
      "  File \"/home/daniel/anaconda3/envs/adlr/lib/python3.9/site-packages/torch/nn/modules/module.py\", line 1532, in _wrapped_call_impl\n",
      "    return self._call_impl(*args, **kwargs)\n",
      "  File \"/home/daniel/anaconda3/envs/adlr/lib/python3.9/site-packages/torch/nn/modules/module.py\", line 1541, in _call_impl\n",
      "    return forward_call(*args, **kwargs)\n",
      "  File \"/home/daniel/Documents/TUM/ADLR/tum-adlr-02/neural_nets/models/unet.py\", line 60, in forward\n",
      "    x = encode(x)\n",
      "  File \"/home/daniel/anaconda3/envs/adlr/lib/python3.9/site-packages/torch/nn/modules/module.py\", line 1532, in _wrapped_call_impl\n",
      "    return self._call_impl(*args, **kwargs)\n",
      "  File \"/home/daniel/anaconda3/envs/adlr/lib/python3.9/site-packages/torch/nn/modules/module.py\", line 1541, in _call_impl\n",
      "    return forward_call(*args, **kwargs)\n",
      "  File \"/home/daniel/anaconda3/envs/adlr/lib/python3.9/site-packages/torch/nn/modules/container.py\", line 217, in forward\n",
      "    input = module(input)\n",
      "  File \"/home/daniel/anaconda3/envs/adlr/lib/python3.9/site-packages/torch/nn/modules/module.py\", line 1532, in _wrapped_call_impl\n",
      "    return self._call_impl(*args, **kwargs)\n",
      "  File \"/home/daniel/anaconda3/envs/adlr/lib/python3.9/site-packages/torch/nn/modules/module.py\", line 1541, in _call_impl\n",
      "    return forward_call(*args, **kwargs)\n",
      "  File \"/home/daniel/anaconda3/envs/adlr/lib/python3.9/site-packages/torch/nn/modules/conv.py\", line 460, in forward\n",
      "    return self._conv_forward(input, self.weight, self.bias)\n",
      "  File \"/home/daniel/anaconda3/envs/adlr/lib/python3.9/site-packages/torch/nn/modules/conv.py\", line 456, in _conv_forward\n",
      "    return F.conv2d(input, weight, bias, self.stride,\n",
      "torch.cuda.OutOfMemoryError: CUDA out of memory. Tried to allocate 1024.00 MiB. GPU\n"
     ]
    },
    {
     "name": "stdout",
     "output_type": "stream",
     "text": [
      "\u001b[36m(tune_func pid=72252)\u001b[0m Hurray! GPU available.\n",
      "\u001b[36m(tune_func pid=72252)\u001b[0m Total trainable parameters: 447493121\n"
     ]
    },
    {
     "name": "stderr",
     "output_type": "stream",
     "text": [
      "2024-06-23 04:07:18,834\tERROR tune_controller.py:1331 -- Trial task failed for trial tune_func_dc56f_00007\n",
      "Traceback (most recent call last):\n",
      "  File \"/home/daniel/anaconda3/envs/adlr/lib/python3.9/site-packages/ray/air/execution/_internal/event_manager.py\", line 110, in resolve_future\n",
      "    result = ray.get(future)\n",
      "  File \"/home/daniel/anaconda3/envs/adlr/lib/python3.9/site-packages/ray/_private/auto_init_hook.py\", line 21, in auto_init_wrapper\n",
      "    return fn(*args, **kwargs)\n",
      "  File \"/home/daniel/anaconda3/envs/adlr/lib/python3.9/site-packages/ray/_private/client_mode_hook.py\", line 103, in wrapper\n",
      "    return func(*args, **kwargs)\n",
      "  File \"/home/daniel/anaconda3/envs/adlr/lib/python3.9/site-packages/ray/_private/worker.py\", line 2630, in get\n",
      "    values, debugger_breakpoint = worker.get_objects(object_refs, timeout=timeout)\n",
      "  File \"/home/daniel/anaconda3/envs/adlr/lib/python3.9/site-packages/ray/_private/worker.py\", line 863, in get_objects\n",
      "    raise value.as_instanceof_cause()\n",
      "ray.exceptions.RayTaskError(OutOfMemoryError): \u001b[36mray::ImplicitFunc.train()\u001b[39m (pid=72252, ip=192.168.42.46, actor_id=83b9c608a9db3b04a0764d5b01000000, repr=tune_func)\n",
      "  File \"/home/daniel/anaconda3/envs/adlr/lib/python3.9/site-packages/ray/tune/trainable/trainable.py\", line 331, in train\n",
      "    raise skipped from exception_cause(skipped)\n",
      "  File \"/home/daniel/anaconda3/envs/adlr/lib/python3.9/site-packages/ray/air/_internal/util.py\", line 98, in run\n",
      "    self._ret = self._target(*self._args, **self._kwargs)\n",
      "  File \"/home/daniel/anaconda3/envs/adlr/lib/python3.9/site-packages/ray/tune/trainable/function_trainable.py\", line 45, in <lambda>\n",
      "    training_func=lambda: self._trainable_func(self.config),\n",
      "  File \"/home/daniel/anaconda3/envs/adlr/lib/python3.9/site-packages/ray/tune/trainable/function_trainable.py\", line 248, in _trainable_func\n",
      "    output = fn()\n",
      "  File \"/tmp/ipykernel_66204/815730020.py\", line 25, in tune_func\n",
      "  File \"/home/daniel/Documents/TUM/ADLR/tum-adlr-02/neural_nets/trainer.py\", line 131, in train_from_dict\n",
      "    self.train()\n",
      "  File \"/home/daniel/Documents/TUM/ADLR/tum-adlr-02/neural_nets/trainer.py\", line 214, in train\n",
      "    optimizer.step()\n",
      "  File \"/home/daniel/anaconda3/envs/adlr/lib/python3.9/site-packages/torch/optim/optimizer.py\", line 391, in wrapper\n",
      "    out = func(*args, **kwargs)\n",
      "  File \"/home/daniel/anaconda3/envs/adlr/lib/python3.9/site-packages/torch/optim/optimizer.py\", line 76, in _use_grad\n",
      "    ret = func(self, *args, **kwargs)\n",
      "  File \"/home/daniel/anaconda3/envs/adlr/lib/python3.9/site-packages/torch/optim/adam.py\", line 168, in step\n",
      "    adam(\n",
      "  File \"/home/daniel/anaconda3/envs/adlr/lib/python3.9/site-packages/torch/optim/adam.py\", line 318, in adam\n",
      "    func(params,\n",
      "  File \"/home/daniel/anaconda3/envs/adlr/lib/python3.9/site-packages/torch/optim/adam.py\", line 581, in _multi_tensor_adam\n",
      "    exp_avg_sq_sqrt = torch._foreach_sqrt(device_exp_avg_sqs)\n",
      "torch.cuda.OutOfMemoryError: CUDA out of memory. Tried to allocate 576.00 MiB. GPU\n"
     ]
    },
    {
     "name": "stdout",
     "output_type": "stream",
     "text": [
      "\u001b[36m(tune_func pid=72374)\u001b[0m Hurray! GPU available.\n",
      "\u001b[36m(tune_func pid=72374)\u001b[0m Total trainable parameters: 1789913089\n"
     ]
    },
    {
     "name": "stderr",
     "output_type": "stream",
     "text": [
      "2024-06-23 04:07:36,742\tERROR tune_controller.py:1331 -- Trial task failed for trial tune_func_dc56f_00008\n",
      "Traceback (most recent call last):\n",
      "  File \"/home/daniel/anaconda3/envs/adlr/lib/python3.9/site-packages/ray/air/execution/_internal/event_manager.py\", line 110, in resolve_future\n",
      "    result = ray.get(future)\n",
      "  File \"/home/daniel/anaconda3/envs/adlr/lib/python3.9/site-packages/ray/_private/auto_init_hook.py\", line 21, in auto_init_wrapper\n",
      "    return fn(*args, **kwargs)\n",
      "  File \"/home/daniel/anaconda3/envs/adlr/lib/python3.9/site-packages/ray/_private/client_mode_hook.py\", line 103, in wrapper\n",
      "    return func(*args, **kwargs)\n",
      "  File \"/home/daniel/anaconda3/envs/adlr/lib/python3.9/site-packages/ray/_private/worker.py\", line 2630, in get\n",
      "    values, debugger_breakpoint = worker.get_objects(object_refs, timeout=timeout)\n",
      "  File \"/home/daniel/anaconda3/envs/adlr/lib/python3.9/site-packages/ray/_private/worker.py\", line 863, in get_objects\n",
      "    raise value.as_instanceof_cause()\n",
      "ray.exceptions.RayTaskError(OutOfMemoryError): \u001b[36mray::ImplicitFunc.train()\u001b[39m (pid=72374, ip=192.168.42.46, actor_id=0a7920dac619533ce331c8f201000000, repr=tune_func)\n",
      "  File \"/home/daniel/anaconda3/envs/adlr/lib/python3.9/site-packages/ray/tune/trainable/trainable.py\", line 331, in train\n",
      "    raise skipped from exception_cause(skipped)\n",
      "  File \"/home/daniel/anaconda3/envs/adlr/lib/python3.9/site-packages/ray/air/_internal/util.py\", line 98, in run\n",
      "    self._ret = self._target(*self._args, **self._kwargs)\n",
      "  File \"/home/daniel/anaconda3/envs/adlr/lib/python3.9/site-packages/ray/tune/trainable/function_trainable.py\", line 45, in <lambda>\n",
      "    training_func=lambda: self._trainable_func(self.config),\n",
      "  File \"/home/daniel/anaconda3/envs/adlr/lib/python3.9/site-packages/ray/tune/trainable/function_trainable.py\", line 248, in _trainable_func\n",
      "    output = fn()\n",
      "  File \"/tmp/ipykernel_66204/815730020.py\", line 25, in tune_func\n",
      "  File \"/home/daniel/Documents/TUM/ADLR/tum-adlr-02/neural_nets/trainer.py\", line 131, in train_from_dict\n",
      "    self.train()\n",
      "  File \"/home/daniel/Documents/TUM/ADLR/tum-adlr-02/neural_nets/trainer.py\", line 211, in train\n",
      "    outputs = model(inputs)\n",
      "  File \"/home/daniel/anaconda3/envs/adlr/lib/python3.9/site-packages/torch/nn/modules/module.py\", line 1532, in _wrapped_call_impl\n",
      "    return self._call_impl(*args, **kwargs)\n",
      "  File \"/home/daniel/anaconda3/envs/adlr/lib/python3.9/site-packages/torch/nn/modules/module.py\", line 1541, in _call_impl\n",
      "    return forward_call(*args, **kwargs)\n",
      "  File \"/home/daniel/Documents/TUM/ADLR/tum-adlr-02/neural_nets/models/unet.py\", line 60, in forward\n",
      "    x = encode(x)\n",
      "  File \"/home/daniel/anaconda3/envs/adlr/lib/python3.9/site-packages/torch/nn/modules/module.py\", line 1532, in _wrapped_call_impl\n",
      "    return self._call_impl(*args, **kwargs)\n",
      "  File \"/home/daniel/anaconda3/envs/adlr/lib/python3.9/site-packages/torch/nn/modules/module.py\", line 1541, in _call_impl\n",
      "    return forward_call(*args, **kwargs)\n",
      "  File \"/home/daniel/anaconda3/envs/adlr/lib/python3.9/site-packages/torch/nn/modules/container.py\", line 217, in forward\n",
      "    input = module(input)\n",
      "  File \"/home/daniel/anaconda3/envs/adlr/lib/python3.9/site-packages/torch/nn/modules/module.py\", line 1532, in _wrapped_call_impl\n",
      "    return self._call_impl(*args, **kwargs)\n",
      "  File \"/home/daniel/anaconda3/envs/adlr/lib/python3.9/site-packages/torch/nn/modules/module.py\", line 1541, in _call_impl\n",
      "    return forward_call(*args, **kwargs)\n",
      "  File \"/home/daniel/anaconda3/envs/adlr/lib/python3.9/site-packages/torch/nn/modules/activation.py\", line 103, in forward\n",
      "    return F.relu(input, inplace=self.inplace)\n",
      "  File \"/home/daniel/anaconda3/envs/adlr/lib/python3.9/site-packages/torch/nn/functional.py\", line 1500, in relu\n",
      "    result = torch.relu(input)\n",
      "torch.cuda.OutOfMemoryError: CUDA out of memory. Tried to allocate 256.00 MiB. GPU\n"
     ]
    },
    {
     "name": "stdout",
     "output_type": "stream",
     "text": [
      "\u001b[36m(tune_func pid=72514)\u001b[0m Hurray! GPU available.\n",
      "\u001b[36m(tune_func pid=72514)\u001b[0m Total trainable parameters: 6998785\n",
      "\u001b[36m(tune_func pid=72514)\u001b[0m Epoch [1/50], Step [100/2981], Train Loss: 0.6924 , Logging Time Proportion: 0.0012, Data Loading Time Proportion: 0.0013\n",
      "\u001b[36m(tune_func pid=72514)\u001b[0m Epoch [1/50], Step [200/2981], Train Loss: 0.6904 , Logging Time Proportion: 0.0003, Data Loading Time Proportion: 0.0019\n",
      "\u001b[36m(tune_func pid=72514)\u001b[0m Epoch [1/50], Step [300/2981], Train Loss: 0.6881 , Logging Time Proportion: 0.0004, Data Loading Time Proportion: 0.0020\n",
      "\u001b[36m(tune_func pid=72514)\u001b[0m Epoch [1/50], Step [400/2981], Train Loss: 0.6854 , Logging Time Proportion: 0.0009, Data Loading Time Proportion: 0.0038\n",
      "\u001b[36m(tune_func pid=72514)\u001b[0m Epoch [1/50], Step [500/2981], Train Loss: 0.6822 , Logging Time Proportion: 0.0011, Data Loading Time Proportion: 0.0037\n",
      "\u001b[36m(tune_func pid=72514)\u001b[0m #######################################################################################\n",
      "\u001b[36m(tune_func pid=72514)\u001b[0m Epoch [1/50], Step [596/2981], Val Loss: 0.6754 Val Log Time Proportion: 0.1480\n",
      "\u001b[36m(tune_func pid=72514)\u001b[0m #######################################################################################\n"
     ]
    },
    {
     "name": "stderr",
     "output_type": "stream",
     "text": [
      "\u001b[36m(tune_func pid=72514)\u001b[0m Checkpoint successfully created at: Checkpoint(filesystem=local, path=/home/daniel/ray_results/tune_func_2024-06-23_03-06-45/tune_func_dc56f_00009_9_batch_size=8,channels=32,depth=5,lr=0.0000_2024-06-23_03-06-46/checkpoint_000000)\n"
     ]
    },
    {
     "name": "stdout",
     "output_type": "stream",
     "text": [
      "\u001b[36m(tune_func pid=72871)\u001b[0m Hurray! GPU available.\n",
      "\u001b[36m(tune_func pid=72871)\u001b[0m Total trainable parameters: 1789913089\n"
     ]
    },
    {
     "name": "stderr",
     "output_type": "stream",
     "text": [
      "2024-06-23 04:12:22,837\tERROR tune_controller.py:1331 -- Trial task failed for trial tune_func_dc56f_00010\n",
      "Traceback (most recent call last):\n",
      "  File \"/home/daniel/anaconda3/envs/adlr/lib/python3.9/site-packages/ray/air/execution/_internal/event_manager.py\", line 110, in resolve_future\n",
      "    result = ray.get(future)\n",
      "  File \"/home/daniel/anaconda3/envs/adlr/lib/python3.9/site-packages/ray/_private/auto_init_hook.py\", line 21, in auto_init_wrapper\n",
      "    return fn(*args, **kwargs)\n",
      "  File \"/home/daniel/anaconda3/envs/adlr/lib/python3.9/site-packages/ray/_private/client_mode_hook.py\", line 103, in wrapper\n",
      "    return func(*args, **kwargs)\n",
      "  File \"/home/daniel/anaconda3/envs/adlr/lib/python3.9/site-packages/ray/_private/worker.py\", line 2630, in get\n",
      "    values, debugger_breakpoint = worker.get_objects(object_refs, timeout=timeout)\n",
      "  File \"/home/daniel/anaconda3/envs/adlr/lib/python3.9/site-packages/ray/_private/worker.py\", line 863, in get_objects\n",
      "    raise value.as_instanceof_cause()\n",
      "ray.exceptions.RayTaskError(OutOfMemoryError): \u001b[36mray::ImplicitFunc.train()\u001b[39m (pid=72871, ip=192.168.42.46, actor_id=44794b14cc0377eda692469201000000, repr=tune_func)\n",
      "  File \"/home/daniel/anaconda3/envs/adlr/lib/python3.9/site-packages/ray/tune/trainable/trainable.py\", line 331, in train\n",
      "    raise skipped from exception_cause(skipped)\n",
      "  File \"/home/daniel/anaconda3/envs/adlr/lib/python3.9/site-packages/ray/air/_internal/util.py\", line 98, in run\n",
      "    self._ret = self._target(*self._args, **self._kwargs)\n",
      "  File \"/home/daniel/anaconda3/envs/adlr/lib/python3.9/site-packages/ray/tune/trainable/function_trainable.py\", line 45, in <lambda>\n",
      "    training_func=lambda: self._trainable_func(self.config),\n",
      "  File \"/home/daniel/anaconda3/envs/adlr/lib/python3.9/site-packages/ray/tune/trainable/function_trainable.py\", line 248, in _trainable_func\n",
      "    output = fn()\n",
      "  File \"/tmp/ipykernel_66204/815730020.py\", line 25, in tune_func\n",
      "  File \"/home/daniel/Documents/TUM/ADLR/tum-adlr-02/neural_nets/trainer.py\", line 131, in train_from_dict\n",
      "    self.train()\n",
      "  File \"/home/daniel/Documents/TUM/ADLR/tum-adlr-02/neural_nets/trainer.py\", line 211, in train\n",
      "    outputs = model(inputs)\n",
      "  File \"/home/daniel/anaconda3/envs/adlr/lib/python3.9/site-packages/torch/nn/modules/module.py\", line 1532, in _wrapped_call_impl\n",
      "    return self._call_impl(*args, **kwargs)\n",
      "  File \"/home/daniel/anaconda3/envs/adlr/lib/python3.9/site-packages/torch/nn/modules/module.py\", line 1541, in _call_impl\n",
      "    return forward_call(*args, **kwargs)\n",
      "  File \"/home/daniel/Documents/TUM/ADLR/tum-adlr-02/neural_nets/models/unet.py\", line 60, in forward\n",
      "    x = encode(x)\n",
      "  File \"/home/daniel/anaconda3/envs/adlr/lib/python3.9/site-packages/torch/nn/modules/module.py\", line 1532, in _wrapped_call_impl\n",
      "    return self._call_impl(*args, **kwargs)\n",
      "  File \"/home/daniel/anaconda3/envs/adlr/lib/python3.9/site-packages/torch/nn/modules/module.py\", line 1541, in _call_impl\n",
      "    return forward_call(*args, **kwargs)\n",
      "  File \"/home/daniel/anaconda3/envs/adlr/lib/python3.9/site-packages/torch/nn/modules/container.py\", line 217, in forward\n",
      "    input = module(input)\n",
      "  File \"/home/daniel/anaconda3/envs/adlr/lib/python3.9/site-packages/torch/nn/modules/module.py\", line 1532, in _wrapped_call_impl\n",
      "    return self._call_impl(*args, **kwargs)\n",
      "  File \"/home/daniel/anaconda3/envs/adlr/lib/python3.9/site-packages/torch/nn/modules/module.py\", line 1541, in _call_impl\n",
      "    return forward_call(*args, **kwargs)\n",
      "  File \"/home/daniel/anaconda3/envs/adlr/lib/python3.9/site-packages/torch/nn/modules/conv.py\", line 460, in forward\n",
      "    return self._conv_forward(input, self.weight, self.bias)\n",
      "  File \"/home/daniel/anaconda3/envs/adlr/lib/python3.9/site-packages/torch/nn/modules/conv.py\", line 456, in _conv_forward\n",
      "    return F.conv2d(input, weight, bias, self.stride,\n",
      "torch.cuda.OutOfMemoryError: CUDA out of memory. Tried to allocate 1024.00 MiB. GPU\n"
     ]
    },
    {
     "name": "stdout",
     "output_type": "stream",
     "text": [
      "\u001b[36m(tune_func pid=73005)\u001b[0m Hurray! GPU available.\n",
      "\u001b[36m(tune_func pid=73005)\u001b[0m Total trainable parameters: 27973889\n",
      "\u001b[36m(tune_func pid=73005)\u001b[0m Epoch [1/50], Step [100/5961], Train Loss: 0.6925 , Logging Time Proportion: 0.0010, Data Loading Time Proportion: 0.0018\n",
      "\u001b[36m(tune_func pid=73005)\u001b[0m Epoch [1/50], Step [200/5961], Train Loss: 0.6892 , Logging Time Proportion: 0.0013, Data Loading Time Proportion: 0.0031\n",
      "\u001b[36m(tune_func pid=73005)\u001b[0m Epoch [1/50], Step [300/5961], Train Loss: 0.6856 , Logging Time Proportion: 0.0013, Data Loading Time Proportion: 0.0034\n",
      "\u001b[36m(tune_func pid=73005)\u001b[0m Epoch [1/50], Step [400/5961], Train Loss: 0.6818 , Logging Time Proportion: 0.0012, Data Loading Time Proportion: 0.0037\n",
      "\u001b[36m(tune_func pid=73005)\u001b[0m Epoch [1/50], Step [500/5961], Train Loss: 0.6776 , Logging Time Proportion: 0.0010, Data Loading Time Proportion: 0.0033\n",
      "\u001b[36m(tune_func pid=73005)\u001b[0m Epoch [1/50], Step [600/5961], Train Loss: 0.6729 , Logging Time Proportion: 0.0035, Data Loading Time Proportion: 0.0036\n",
      "\u001b[36m(tune_func pid=73005)\u001b[0m Epoch [1/50], Step [700/5961], Train Loss: 0.6678 , Logging Time Proportion: 0.0012, Data Loading Time Proportion: 0.0031\n",
      "\u001b[36m(tune_func pid=73005)\u001b[0m Epoch [1/50], Step [800/5961], Train Loss: 0.6619 , Logging Time Proportion: 0.0014, Data Loading Time Proportion: 0.0036\n",
      "\u001b[36m(tune_func pid=73005)\u001b[0m Epoch [1/50], Step [900/5961], Train Loss: 0.6555 , Logging Time Proportion: 0.0009, Data Loading Time Proportion: 0.0030\n",
      "\u001b[36m(tune_func pid=73005)\u001b[0m Epoch [1/50], Step [1000/5961], Train Loss: 0.6482 , Logging Time Proportion: 0.0013, Data Loading Time Proportion: 0.0035\n",
      "\u001b[36m(tune_func pid=73005)\u001b[0m Epoch [1/50], Step [1100/5961], Train Loss: 0.6396 , Logging Time Proportion: 0.0012, Data Loading Time Proportion: 0.0037\n",
      "\u001b[36m(tune_func pid=73005)\u001b[0m #######################################################################################\n",
      "\u001b[36m(tune_func pid=73005)\u001b[0m Epoch [1/50], Step [1192/5961], Val Loss: 0.6247 Val Log Time Proportion: 0.0750\n",
      "\u001b[36m(tune_func pid=73005)\u001b[0m #######################################################################################\n"
     ]
    },
    {
     "name": "stderr",
     "output_type": "stream",
     "text": [
      "\u001b[36m(tune_func pid=73005)\u001b[0m Checkpoint successfully created at: Checkpoint(filesystem=local, path=/home/daniel/ray_results/tune_func_2024-06-23_03-06-45/tune_func_dc56f_00011_11_batch_size=4,channels=32,depth=6,lr=0.0000_2024-06-23_03-06-46/checkpoint_000000)\n"
     ]
    },
    {
     "name": "stdout",
     "output_type": "stream",
     "text": [
      "\u001b[36m(tune_func pid=73005)\u001b[0m Epoch [1/50], Step [1200/5961], Train Loss: 0.6295 , Logging Time Proportion: 0.0006, Data Loading Time Proportion: 0.0017\n",
      "\u001b[36m(tune_func pid=73005)\u001b[0m Epoch [1/50], Step [1300/5961], Train Loss: 0.6150 , Logging Time Proportion: 0.0011, Data Loading Time Proportion: 0.0028\n",
      "\u001b[36m(tune_func pid=73005)\u001b[0m Epoch [1/50], Step [1400/5961], Train Loss: 0.4629 , Logging Time Proportion: 0.0023, Data Loading Time Proportion: 0.0036\n",
      "\u001b[36m(tune_func pid=73005)\u001b[0m Epoch [1/50], Step [1500/5961], Train Loss: 0.3454 , Logging Time Proportion: 0.0021, Data Loading Time Proportion: 0.0034\n",
      "\u001b[36m(tune_func pid=73005)\u001b[0m Epoch [1/50], Step [1600/5961], Train Loss: 0.3010 , Logging Time Proportion: 0.0017, Data Loading Time Proportion: 0.0034\n",
      "\u001b[36m(tune_func pid=73005)\u001b[0m Epoch [1/50], Step [1700/5961], Train Loss: 0.2662 , Logging Time Proportion: 0.0021, Data Loading Time Proportion: 0.0035\n",
      "\u001b[36m(tune_func pid=73005)\u001b[0m Epoch [1/50], Step [1800/5961], Train Loss: 0.2150 , Logging Time Proportion: 0.0018, Data Loading Time Proportion: 0.0034\n",
      "\u001b[36m(tune_func pid=73005)\u001b[0m Epoch [1/50], Step [1900/5961], Train Loss: 0.1558 , Logging Time Proportion: 0.0019, Data Loading Time Proportion: 0.0036\n",
      "\u001b[36m(tune_func pid=73005)\u001b[0m Epoch [1/50], Step [2000/5961], Train Loss: 0.1151 , Logging Time Proportion: 0.0011, Data Loading Time Proportion: 0.0020\n",
      "\u001b[36m(tune_func pid=73005)\u001b[0m Epoch [1/50], Step [2100/5961], Train Loss: 0.0995 , Logging Time Proportion: 0.0009, Data Loading Time Proportion: 0.0024\n",
      "\u001b[36m(tune_func pid=73005)\u001b[0m Epoch [1/50], Step [2200/5961], Train Loss: 0.0945 , Logging Time Proportion: 0.0013, Data Loading Time Proportion: 0.0035\n",
      "\u001b[36m(tune_func pid=73005)\u001b[0m Epoch [1/50], Step [2300/5961], Train Loss: 0.0929 , Logging Time Proportion: 0.0011, Data Loading Time Proportion: 0.0035\n",
      "\u001b[36m(tune_func pid=73005)\u001b[0m #######################################################################################\n",
      "\u001b[36m(tune_func pid=73005)\u001b[0m Epoch [1/50], Step [2384/5961], Val Loss: 0.0899 Val Log Time Proportion: 0.0529\n",
      "\u001b[36m(tune_func pid=73005)\u001b[0m #######################################################################################\n"
     ]
    },
    {
     "name": "stderr",
     "output_type": "stream",
     "text": [
      "\u001b[36m(tune_func pid=73005)\u001b[0m Checkpoint successfully created at: Checkpoint(filesystem=local, path=/home/daniel/ray_results/tune_func_2024-06-23_03-06-45/tune_func_dc56f_00011_11_batch_size=4,channels=32,depth=6,lr=0.0000_2024-06-23_03-06-46/checkpoint_000001)\n"
     ]
    },
    {
     "name": "stdout",
     "output_type": "stream",
     "text": [
      "\u001b[36m(tune_func pid=73565)\u001b[0m Hurray! GPU available.\n",
      "\u001b[36m(tune_func pid=73565)\u001b[0m Total trainable parameters: 27987457\n",
      "\u001b[36m(tune_func pid=73565)\u001b[0m Epoch [1/50], Step [100/5961], Train Loss: 5.8676 , Logging Time Proportion: 0.0011, Data Loading Time Proportion: 0.0024\n",
      "\u001b[36m(tune_func pid=73565)\u001b[0m Epoch [1/50], Step [200/5961], Train Loss: 6.0856 , Logging Time Proportion: 0.0008, Data Loading Time Proportion: 0.0028\n",
      "\u001b[36m(tune_func pid=73565)\u001b[0m Epoch [1/50], Step [300/5961], Train Loss: 5.9607\n",
      "\u001b[36m(tune_func pid=73565)\u001b[0m  , Logging Time Proportion: 0.0010, Data Loading Time Proportion: 0.0029\n",
      "\u001b[36m(tune_func pid=73565)\u001b[0m Epoch [1/50], Step [400/5961], Train Loss: 6.0133 , Logging Time Proportion: 0.0007, Data Loading Time Proportion: 0.0029\n",
      "\u001b[36m(tune_func pid=73565)\u001b[0m Epoch [1/50], Step [500/5961], Train Loss: 5.9636 , Logging Time Proportion: 0.0006, Data Loading Time Proportion: 0.0027\n",
      "\u001b[36m(tune_func pid=73565)\u001b[0m Epoch [1/50], Step [600/5961], Train Loss: 6.0042 , Logging Time Proportion: 0.0007, Data Loading Time Proportion: 0.0028\n",
      "\u001b[36m(tune_func pid=73565)\u001b[0m Epoch [1/50], Step [700/5961], Train Loss: 6.0998 , Logging Time Proportion: 0.0009, Data Loading Time Proportion: 0.0026\n",
      "\u001b[36m(tune_func pid=73565)\u001b[0m Epoch [1/50], Step [800/5961], Train Loss: 5.9169 , Logging Time Proportion: 0.0007, Data Loading Time Proportion: 0.0027\n",
      "\u001b[36m(tune_func pid=73565)\u001b[0m Epoch [1/50], Step [900/5961], Train Loss: 6.0207 , Logging Time Proportion: 0.0011, Data Loading Time Proportion: 0.0029\n",
      "\u001b[36m(tune_func pid=73565)\u001b[0m Epoch [1/50], Step [1000/5961], Train Loss: 5.9943 , Logging Time Proportion: 0.0007, Data Loading Time Proportion: 0.0027\n",
      "\u001b[36m(tune_func pid=73565)\u001b[0m Epoch [1/50], Step [1100/5961], Train Loss: 6.0312 , Logging Time Proportion: 0.0008, Data Loading Time Proportion: 0.0024\n",
      "\u001b[36m(tune_func pid=73565)\u001b[0m #######################################################################################\n",
      "\u001b[36m(tune_func pid=73565)\u001b[0m Epoch [1/50], Step [1192/5961], Val Loss: 6.0604 Val Log Time Proportion: 0.0954\n",
      "\u001b[36m(tune_func pid=73565)\u001b[0m #######################################################################################\n"
     ]
    },
    {
     "name": "stderr",
     "output_type": "stream",
     "text": [
      "\u001b[36m(tune_func pid=73565)\u001b[0m Checkpoint successfully created at: Checkpoint(filesystem=local, path=/home/daniel/ray_results/tune_func_2024-06-23_03-06-45/tune_func_dc56f_00012_12_batch_size=4,channels=64,depth=5,lr=0.0045_2024-06-23_03-06-46/checkpoint_000000)\n"
     ]
    },
    {
     "name": "stdout",
     "output_type": "stream",
     "text": [
      "\u001b[36m(tune_func pid=73981)\u001b[0m Hurray! GPU available.\n",
      "\u001b[36m(tune_func pid=73981)\u001b[0m Total trainable parameters: 27973889\n",
      "\u001b[36m(tune_func pid=73981)\u001b[0m Epoch [1/50], Step [100/1491], Train Loss: 0.6037 , Logging Time Proportion: 0.0009, Data Loading Time Proportion: 0.0043\n",
      "\u001b[36m(tune_func pid=73981)\u001b[0m Epoch [1/50], Step [200/1491], Train Loss: 0.2382 , Logging Time Proportion: 0.0005, Data Loading Time Proportion: 0.0046\n",
      "\u001b[36m(tune_func pid=73981)\u001b[0m #######################################################################################\n",
      "\u001b[36m(tune_func pid=73981)\u001b[0m Epoch [1/50], Step [298/1491], Val Loss: 0.0918 Val Log Time Proportion: 0.0885\n",
      "\u001b[36m(tune_func pid=73981)\u001b[0m #######################################################################################\n"
     ]
    },
    {
     "name": "stderr",
     "output_type": "stream",
     "text": [
      "\u001b[36m(tune_func pid=73981)\u001b[0m Checkpoint successfully created at: Checkpoint(filesystem=local, path=/home/daniel/ray_results/tune_func_2024-06-23_03-06-45/tune_func_dc56f_00013_13_batch_size=16,channels=32,depth=6,lr=0.0000_2024-06-23_03-06-46/checkpoint_000000)\n"
     ]
    },
    {
     "name": "stdout",
     "output_type": "stream",
     "text": [
      "\u001b[36m(tune_func pid=73981)\u001b[0m Epoch [1/50], Step [300/1491], Train Loss: 0.0970 , Logging Time Proportion: 0.0004, Data Loading Time Proportion: 0.0036\n",
      "\u001b[36m(tune_func pid=73981)\u001b[0m Epoch [1/50], Step [400/1491], Train Loss: 0.0894 , Logging Time Proportion: 0.0005, Data Loading Time Proportion: 0.0044\n",
      "\u001b[36m(tune_func pid=73981)\u001b[0m Epoch [1/50], Step [500/1491], Train Loss: 0.0862 , Logging Time Proportion: 0.0007, Data Loading Time Proportion: 0.0045\n",
      "\u001b[36m(tune_func pid=73981)\u001b[0m #######################################################################################\n",
      "\u001b[36m(tune_func pid=73981)\u001b[0m Epoch [1/50], Step [596/1491], Val Loss: 0.0837 Val Log Time Proportion: 0.0910\n",
      "\u001b[36m(tune_func pid=73981)\u001b[0m #######################################################################################\n"
     ]
    },
    {
     "name": "stderr",
     "output_type": "stream",
     "text": [
      "\u001b[36m(tune_func pid=73981)\u001b[0m Checkpoint successfully created at: Checkpoint(filesystem=local, path=/home/daniel/ray_results/tune_func_2024-06-23_03-06-45/tune_func_dc56f_00013_13_batch_size=16,channels=32,depth=6,lr=0.0000_2024-06-23_03-06-46/checkpoint_000001)\n"
     ]
    },
    {
     "name": "stdout",
     "output_type": "stream",
     "text": [
      "\u001b[36m(tune_func pid=74365)\u001b[0m Hurray! GPU available.\n",
      "\u001b[36m(tune_func pid=74365)\u001b[0m Total trainable parameters: 439041\n",
      "\u001b[36m(tune_func pid=74365)\u001b[0m Epoch [1/50], Step [100/1491], Train Loss: 0.2367\n",
      "\u001b[36m(tune_func pid=74365)\u001b[0m  , Logging Time Proportion: 0.0014, Data Loading Time Proportion: 0.0070\n",
      "\u001b[36m(tune_func pid=74365)\u001b[0m Epoch [1/50], Step [200/1491], Train Loss: 0.1229 , Logging Time Proportion: 0.0009, Data Loading Time Proportion: 0.0093\n",
      "\u001b[36m(tune_func pid=74365)\u001b[0m #######################################################################################\n",
      "\u001b[36m(tune_func pid=74365)\u001b[0m Epoch [1/50], Step [298/1491], Val Loss: 0.1004 Val Log Time Proportion: 0.1286\n",
      "\u001b[36m(tune_func pid=74365)\u001b[0m #######################################################################################\n"
     ]
    },
    {
     "name": "stderr",
     "output_type": "stream",
     "text": [
      "\u001b[36m(tune_func pid=74365)\u001b[0m Checkpoint successfully created at: Checkpoint(filesystem=local, path=/home/daniel/ray_results/tune_func_2024-06-23_03-06-45/tune_func_dc56f_00014_14_batch_size=16,channels=16,depth=4,lr=0.0015_2024-06-23_03-06-46/checkpoint_000000)\n"
     ]
    },
    {
     "name": "stdout",
     "output_type": "stream",
     "text": [
      "\u001b[36m(tune_func pid=74365)\u001b[0m Epoch [1/50], Step [300/1491], Train Loss: 0.1057 , Logging Time Proportion: 0.0007, Data Loading Time Proportion: 0.0064\n",
      "\u001b[36m(tune_func pid=74365)\u001b[0m Epoch [1/50], Step [400/1491], Train Loss: 0.1026 , Logging Time Proportion: 0.0010, Data Loading Time Proportion: 0.0086\n",
      "\u001b[36m(tune_func pid=74365)\u001b[0m Epoch [1/50], Step [500/1491], Train Loss: 0.0940 , Logging Time Proportion: 0.0009, Data Loading Time Proportion: 0.0076\n",
      "\u001b[36m(tune_func pid=74365)\u001b[0m #######################################################################################\n",
      "\u001b[36m(tune_func pid=74365)\u001b[0m Epoch [1/50], Step [596/1491], Val Loss: 0.0906 Val Log Time Proportion: 0.0869\n",
      "\u001b[36m(tune_func pid=74365)\u001b[0m #######################################################################################\n"
     ]
    },
    {
     "name": "stderr",
     "output_type": "stream",
     "text": [
      "\u001b[36m(tune_func pid=74365)\u001b[0m Checkpoint successfully created at: Checkpoint(filesystem=local, path=/home/daniel/ray_results/tune_func_2024-06-23_03-06-45/tune_func_dc56f_00014_14_batch_size=16,channels=16,depth=4,lr=0.0015_2024-06-23_03-06-46/checkpoint_000001)\n"
     ]
    },
    {
     "name": "stdout",
     "output_type": "stream",
     "text": [
      "\u001b[36m(tune_func pid=74602)\u001b[0m Hurray! GPU available.\n",
      "\u001b[36m(tune_func pid=74602)\u001b[0m Total trainable parameters: 6995329\n",
      "\u001b[36m(tune_func pid=74602)\u001b[0m Epoch [1/50], Step [100/5961], Train Loss: 0.3298 , Logging Time Proportion: 0.0064, Data Loading Time Proportion: 0.0068\n",
      "\u001b[36m(tune_func pid=74602)\u001b[0m Epoch [1/50], Step [200/5961], Train Loss: 0.0858 , Logging Time Proportion: 0.0027, Data Loading Time Proportion: 0.0075\n",
      "\u001b[36m(tune_func pid=74602)\u001b[0m Epoch [1/50], Step [300/5961], Train Loss: 0.0705 , Logging Time Proportion: 0.0030, Data Loading Time Proportion: 0.0085\n",
      "\u001b[36m(tune_func pid=74602)\u001b[0m Epoch [1/50], Step [400/5961], Train Loss: 0.0629 , Logging Time Proportion: 0.0029, Data Loading Time Proportion: 0.0089\n",
      "\u001b[36m(tune_func pid=74602)\u001b[0m Epoch [1/50], Step [500/5961], Train Loss: 0.0589 , Logging Time Proportion: 0.0026, Data Loading Time Proportion: 0.0084\n",
      "\u001b[36m(tune_func pid=74602)\u001b[0m Epoch [1/50], Step [600/5961], Train Loss: 0.0585 , Logging Time Proportion: 0.0027, Data Loading Time Proportion: 0.0079\n",
      "\u001b[36m(tune_func pid=74602)\u001b[0m Epoch [1/50], Step [700/5961], Train Loss: 0.0564 , Logging Time Proportion: 0.0026, Data Loading Time Proportion: 0.0080\n",
      "\u001b[36m(tune_func pid=74602)\u001b[0m Epoch [1/50], Step [800/5961], Train Loss: 0.0575 , Logging Time Proportion: 0.0029, Data Loading Time Proportion: 0.0080\n",
      "\u001b[36m(tune_func pid=74602)\u001b[0m Epoch [1/50], Step [900/5961], Train Loss: 0.0543 , Logging Time Proportion: 0.0027, Data Loading Time Proportion: 0.0086\n",
      "\u001b[36m(tune_func pid=74602)\u001b[0m Epoch [1/50], Step [1000/5961], Train Loss: 0.0527 , Logging Time Proportion: 0.0026, Data Loading Time Proportion: 0.0085\n",
      "\u001b[36m(tune_func pid=74602)\u001b[0m Epoch [1/50], Step [1100/5961], Train Loss: 0.0537 , Logging Time Proportion: 0.0025, Data Loading Time Proportion: 0.0081\n",
      "\u001b[36m(tune_func pid=74602)\u001b[0m #######################################################################################\n",
      "\u001b[36m(tune_func pid=74602)\u001b[0m Epoch [1/50], Step [1192/5961], Val Loss: 0.0512 Val Log Time Proportion: 0.0735\n",
      "\u001b[36m(tune_func pid=74602)\u001b[0m #######################################################################################\n"
     ]
    },
    {
     "name": "stderr",
     "output_type": "stream",
     "text": [
      "\u001b[36m(tune_func pid=74602)\u001b[0m Checkpoint successfully created at: Checkpoint(filesystem=local, path=/home/daniel/ray_results/tune_func_2024-06-23_03-06-45/tune_func_dc56f_00015_15_batch_size=4,channels=16,depth=6,lr=0.0004_2024-06-23_03-06-46/checkpoint_000000)\n"
     ]
    },
    {
     "name": "stdout",
     "output_type": "stream",
     "text": [
      "\u001b[36m(tune_func pid=74602)\u001b[0m Epoch [1/50], Step [1200/5961], Train Loss: 0.0524 , Logging Time Proportion: 0.0013, Data Loading Time Proportion: 0.0040\n",
      "\u001b[36m(tune_func pid=74602)\u001b[0m Epoch [1/50], Step [1300/5961], Train Loss: 0.0529 , Logging Time Proportion: 0.0025, Data Loading Time Proportion: 0.0088\n",
      "\u001b[36m(tune_func pid=74602)\u001b[0m Epoch [1/50], Step [1400/5961], Train Loss: 0.0525 , Logging Time Proportion: 0.0021, Data Loading Time Proportion: 0.0074\n",
      "\u001b[36m(tune_func pid=74602)\u001b[0m Epoch [1/50], Step [1500/5961], Train Loss: 0.0503 , Logging Time Proportion: 0.0028, Data Loading Time Proportion: 0.0083\n",
      "\u001b[36m(tune_func pid=74602)\u001b[0m Epoch [1/50], Step [1600/5961], Train Loss: 0.0498 , Logging Time Proportion: 0.0025, Data Loading Time Proportion: 0.0078\n",
      "\u001b[36m(tune_func pid=74602)\u001b[0m Epoch [1/50], Step [1700/5961], Train Loss: 0.0508 , Logging Time Proportion: 0.0031, Data Loading Time Proportion: 0.0085\n",
      "\u001b[36m(tune_func pid=74602)\u001b[0m Epoch [1/50], Step [1800/5961], Train Loss: 0.0497 , Logging Time Proportion: 0.0025, Data Loading Time Proportion: 0.0081\n",
      "\u001b[36m(tune_func pid=74602)\u001b[0m Epoch [1/50], Step [1900/5961], Train Loss: 0.0514 , Logging Time Proportion: 0.0027, Data Loading Time Proportion: 0.0083\n",
      "\u001b[36m(tune_func pid=74602)\u001b[0m Epoch [1/50], Step [2000/5961], Train Loss: 0.0487 , Logging Time Proportion: 0.0036, Data Loading Time Proportion: 0.0083\n",
      "\u001b[36m(tune_func pid=74602)\u001b[0m Epoch [1/50], Step [2100/5961], Train Loss: 0.0505 , Logging Time Proportion: 0.0026, Data Loading Time Proportion: 0.0080\n",
      "\u001b[36m(tune_func pid=74602)\u001b[0m Epoch [1/50], Step [2200/5961], Train Loss: 0.0482 , Logging Time Proportion: 0.0020, Data Loading Time Proportion: 0.0068\n",
      "\u001b[36m(tune_func pid=74602)\u001b[0m Epoch [1/50], Step [2300/5961], Train Loss: 0.0486 , Logging Time Proportion: 0.0027, Data Loading Time Proportion: 0.0077\n",
      "\u001b[36m(tune_func pid=74602)\u001b[0m #######################################################################################\n",
      "\u001b[36m(tune_func pid=74602)\u001b[0m Epoch [1/50], Step [2384/5961], Val Loss: 0.0483 Val Log Time Proportion: 0.0703\n",
      "\u001b[36m(tune_func pid=74602)\u001b[0m #######################################################################################\n"
     ]
    },
    {
     "name": "stderr",
     "output_type": "stream",
     "text": [
      "\u001b[36m(tune_func pid=74602)\u001b[0m Checkpoint successfully created at: Checkpoint(filesystem=local, path=/home/daniel/ray_results/tune_func_2024-06-23_03-06-45/tune_func_dc56f_00015_15_batch_size=4,channels=16,depth=6,lr=0.0004_2024-06-23_03-06-46/checkpoint_000001)\n"
     ]
    },
    {
     "name": "stdout",
     "output_type": "stream",
     "text": [
      "\u001b[36m(tune_func pid=74602)\u001b[0m Epoch [1/50], Step [2400/5961], Train Loss: 0.0478 , Logging Time Proportion: 0.0016, Data Loading Time Proportion: 0.0041\n",
      "\u001b[36m(tune_func pid=74602)\u001b[0m Epoch [1/50], Step [2500/5961], Train Loss: 0.0498 , Logging Time Proportion: 0.0022, Data Loading Time Proportion: 0.0071\n",
      "\u001b[36m(tune_func pid=74602)\u001b[0m Epoch [1/50], Step [2600/5961], Train Loss: 0.0476 , Logging Time Proportion: 0.0020, Data Loading Time Proportion: 0.0062\n",
      "\u001b[36m(tune_func pid=74602)\u001b[0m Epoch [1/50], Step [2700/5961], Train Loss: 0.0472 , Logging Time Proportion: 0.0026, Data Loading Time Proportion: 0.0067\n",
      "\u001b[36m(tune_func pid=74602)\u001b[0m Epoch [1/50], Step [2800/5961], Train Loss: 0.0463 , Logging Time Proportion: 0.0022, Data Loading Time Proportion: 0.0076\n",
      "\u001b[36m(tune_func pid=74602)\u001b[0m Epoch [1/50], Step [2900/5961], Train Loss: 0.0464 , Logging Time Proportion: 0.0023, Data Loading Time Proportion: 0.0072\n",
      "\u001b[36m(tune_func pid=74602)\u001b[0m Epoch [1/50], Step [3000/5961], Train Loss: 0.0484 , Logging Time Proportion: 0.0025, Data Loading Time Proportion: 0.0070\n",
      "\u001b[36m(tune_func pid=74602)\u001b[0m Epoch [1/50], Step [3100/5961], Train Loss: 0.0449 , Logging Time Proportion: 0.0017, Data Loading Time Proportion: 0.0070\n",
      "\u001b[36m(tune_func pid=74602)\u001b[0m Epoch [1/50], Step [3200/5961], Train Loss: 0.0474 , Logging Time Proportion: 0.0021, Data Loading Time Proportion: 0.0069\n",
      "\u001b[36m(tune_func pid=74602)\u001b[0m Epoch [1/50], Step [3300/5961], Train Loss: 0.0448 , Logging Time Proportion: 0.0020, Data Loading Time Proportion: 0.0065\n",
      "\u001b[36m(tune_func pid=74602)\u001b[0m Epoch [1/50], Step [3400/5961], Train Loss: 0.0458 , Logging Time Proportion: 0.0026, Data Loading Time Proportion: 0.0072\n",
      "\u001b[36m(tune_func pid=74602)\u001b[0m Epoch [1/50], Step [3500/5961], Train Loss: 0.0467 , Logging Time Proportion: 0.0020, Data Loading Time Proportion: 0.0070\n",
      "\u001b[36m(tune_func pid=74602)\u001b[0m #######################################################################################\n",
      "\u001b[36m(tune_func pid=74602)\u001b[0m Epoch [1/50], Step [3576/5961], Val Loss: 0.0479 Val Log Time Proportion: 0.0654\n",
      "\u001b[36m(tune_func pid=74602)\u001b[0m #######################################################################################\n"
     ]
    },
    {
     "name": "stderr",
     "output_type": "stream",
     "text": [
      "\u001b[36m(tune_func pid=74602)\u001b[0m Checkpoint successfully created at: Checkpoint(filesystem=local, path=/home/daniel/ray_results/tune_func_2024-06-23_03-06-45/tune_func_dc56f_00015_15_batch_size=4,channels=16,depth=6,lr=0.0004_2024-06-23_03-06-46/checkpoint_000002)\n"
     ]
    },
    {
     "name": "stdout",
     "output_type": "stream",
     "text": [
      "\u001b[36m(tune_func pid=74602)\u001b[0m Epoch [1/50], Step [3600/5961], Train Loss: 0.0470 , Logging Time Proportion: 0.0012, Data Loading Time Proportion: 0.0036\n",
      "\u001b[36m(tune_func pid=74602)\u001b[0m Epoch [1/50], Step [3700/5961], Train Loss: 0.0432 , Logging Time Proportion: 0.0020, Data Loading Time Proportion: 0.0065\n",
      "\u001b[36m(tune_func pid=74602)\u001b[0m Epoch [1/50], Step [3800/5961], Train Loss: 0.0447 , Logging Time Proportion: 0.0020, Data Loading Time Proportion: 0.0056\n",
      "\u001b[36m(tune_func pid=74602)\u001b[0m Epoch [1/50], Step [3900/5961], Train Loss: 0.0456 , Logging Time Proportion: 0.0020, Data Loading Time Proportion: 0.0065\n",
      "\u001b[36m(tune_func pid=74602)\u001b[0m Epoch [1/50], Step [4000/5961], Train Loss: 0.0452 , Logging Time Proportion: 0.0019, Data Loading Time Proportion: 0.0067\n",
      "\u001b[36m(tune_func pid=74602)\u001b[0m Epoch [1/50], Step [4100/5961], Train Loss: 0.0445 , Logging Time Proportion: 0.0021, Data Loading Time Proportion: 0.0064\n",
      "\u001b[36m(tune_func pid=74602)\u001b[0m Epoch [1/50], Step [4200/5961], Train Loss: 0.0454 , Logging Time Proportion: 0.0018, Data Loading Time Proportion: 0.0059\n",
      "\u001b[36m(tune_func pid=74602)\u001b[0m Epoch [1/50], Step [4300/5961], Train Loss: 0.0444 , Logging Time Proportion: 0.0025, Data Loading Time Proportion: 0.0063\n",
      "\u001b[36m(tune_func pid=74602)\u001b[0m Epoch [1/50], Step [4400/5961], Train Loss: 0.0439 , Logging Time Proportion: 0.0020, Data Loading Time Proportion: 0.0068\n",
      "\u001b[36m(tune_func pid=74602)\u001b[0m Epoch [1/50], Step [4500/5961], Train Loss: 0.0463 , Logging Time Proportion: 0.0021, Data Loading Time Proportion: 0.0056\n",
      "\u001b[36m(tune_func pid=74602)\u001b[0m Epoch [1/50], Step [4600/5961], Train Loss: 0.0443 , Logging Time Proportion: 0.0029, Data Loading Time Proportion: 0.0073\n",
      "\u001b[36m(tune_func pid=74602)\u001b[0m Epoch [1/50], Step [4700/5961], Train Loss: 0.0442 , Logging Time Proportion: 0.0021, Data Loading Time Proportion: 0.0063\n",
      "\u001b[36m(tune_func pid=74602)\u001b[0m #######################################################################################\n",
      "\u001b[36m(tune_func pid=74602)\u001b[0m Epoch [1/50], Step [4768/5961], Val Loss: 0.0463 Val Log Time Proportion: 0.0574\n",
      "\u001b[36m(tune_func pid=74602)\u001b[0m #######################################################################################\n"
     ]
    },
    {
     "name": "stderr",
     "output_type": "stream",
     "text": [
      "\u001b[36m(tune_func pid=74602)\u001b[0m Checkpoint successfully created at: Checkpoint(filesystem=local, path=/home/daniel/ray_results/tune_func_2024-06-23_03-06-45/tune_func_dc56f_00015_15_batch_size=4,channels=16,depth=6,lr=0.0004_2024-06-23_03-06-46/checkpoint_000003)\n"
     ]
    },
    {
     "name": "stdout",
     "output_type": "stream",
     "text": [
      "\u001b[36m(tune_func pid=74602)\u001b[0m Epoch [1/50], Step [4800/5961], Train Loss: 0.0438 , Logging Time Proportion: 0.0011, Data Loading Time Proportion: 0.0036\n",
      "\u001b[36m(tune_func pid=74602)\u001b[0m Epoch [1/50], Step [4900/5961], Train Loss: 0.0440 , Logging Time Proportion: 0.0015, Data Loading Time Proportion: 0.0052\n",
      "\u001b[36m(tune_func pid=74602)\u001b[0m Epoch [1/50], Step [5000/5961], Train Loss: 0.0435 , Logging Time Proportion: 0.0018, Data Loading Time Proportion: 0.0069\n",
      "\u001b[36m(tune_func pid=74602)\u001b[0m Epoch [1/50], Step [5100/5961], Train Loss: 0.0438 , Logging Time Proportion: 0.0016, Data Loading Time Proportion: 0.0064\n",
      "\u001b[36m(tune_func pid=74602)\u001b[0m Epoch [1/50], Step [5200/5961], Train Loss: 0.0450 , Logging Time Proportion: 0.0015, Data Loading Time Proportion: 0.0077\n",
      "\u001b[36m(tune_func pid=74602)\u001b[0m Epoch [1/50], Step [5300/5961], Train Loss: 0.0428 , Logging Time Proportion: 0.0018, Data Loading Time Proportion: 0.0062\n",
      "\u001b[36m(tune_func pid=74602)\u001b[0m Epoch [1/50], Step [5400/5961], Train Loss: 0.0423 , Logging Time Proportion: 0.0025, Data Loading Time Proportion: 0.0063\n",
      "\u001b[36m(tune_func pid=74602)\u001b[0m Epoch [1/50], Step [5500/5961], Train Loss: 0.0436 , Logging Time Proportion: 0.0015, Data Loading Time Proportion: 0.0062\n",
      "\u001b[36m(tune_func pid=74602)\u001b[0m Epoch [1/50], Step [5600/5961], Train Loss: 0.0451 , Logging Time Proportion: 0.0015, Data Loading Time Proportion: 0.0063\n",
      "\u001b[36m(tune_func pid=74602)\u001b[0m Epoch [1/50], Step [5700/5961], Train Loss: 0.0439 , Logging Time Proportion: 0.0018, Data Loading Time Proportion: 0.0061\n",
      "\u001b[36m(tune_func pid=74602)\u001b[0m Epoch [1/50], Step [5800/5961], Train Loss: 0.0435 , Logging Time Proportion: 0.0017, Data Loading Time Proportion: 0.0066\n",
      "\u001b[36m(tune_func pid=74602)\u001b[0m Epoch [1/50], Step [5900/5961], Train Loss: 0.0424 , Logging Time Proportion: 0.0016, Data Loading Time Proportion: 0.0059\n",
      "\u001b[36m(tune_func pid=74602)\u001b[0m #######################################################################################\n",
      "\u001b[36m(tune_func pid=74602)\u001b[0m Epoch [1/50], Step [5960/5961], Val Loss: 0.0426 Val Log Time Proportion: 0.0512\n",
      "\u001b[36m(tune_func pid=74602)\u001b[0m #######################################################################################\n"
     ]
    },
    {
     "name": "stderr",
     "output_type": "stream",
     "text": [
      "\u001b[36m(tune_func pid=74602)\u001b[0m Checkpoint successfully created at: Checkpoint(filesystem=local, path=/home/daniel/ray_results/tune_func_2024-06-23_03-06-45/tune_func_dc56f_00015_15_batch_size=4,channels=16,depth=6,lr=0.0004_2024-06-23_03-06-46/checkpoint_000004)\n"
     ]
    },
    {
     "name": "stdout",
     "output_type": "stream",
     "text": [
      "\u001b[36m(tune_func pid=74602)\u001b[0m Epoch [2/50], Step [39/5961], Train Loss: 0.0173 , Logging Time Proportion: 0.0011, Data Loading Time Proportion: 0.0039\n",
      "\u001b[36m(tune_func pid=74602)\u001b[0m Epoch [2/50], Step [139/5961], Train Loss: 0.0467 , Logging Time Proportion: 0.0024, Data Loading Time Proportion: 0.0083\n",
      "\u001b[36m(tune_func pid=74602)\u001b[0m Epoch [2/50], Step [239/5961], Train Loss: 0.0431 , Logging Time Proportion: 0.0027, Data Loading Time Proportion: 0.0095\n",
      "\u001b[36m(tune_func pid=74602)\u001b[0m Epoch [2/50], Step [339/5961], Train Loss: 0.0418 , Logging Time Proportion: 0.0023, Data Loading Time Proportion: 0.0087\n",
      "\u001b[36m(tune_func pid=74602)\u001b[0m Epoch [2/50], Step [439/5961], Train Loss: 0.0430 , Logging Time Proportion: 0.0021, Data Loading Time Proportion: 0.0087\n",
      "\u001b[36m(tune_func pid=74602)\u001b[0m Epoch [2/50], Step [539/5961], Train Loss: 0.0428 , Logging Time Proportion: 0.0025, Data Loading Time Proportion: 0.0089\n",
      "\u001b[36m(tune_func pid=74602)\u001b[0m Epoch [2/50], Step [639/5961], Train Loss: 0.0432 , Logging Time Proportion: 0.0023, Data Loading Time Proportion: 0.0091\n",
      "\u001b[36m(tune_func pid=74602)\u001b[0m Epoch [2/50], Step [739/5961], Train Loss: 0.0428 , Logging Time Proportion: 0.0026, Data Loading Time Proportion: 0.0090\n",
      "\u001b[36m(tune_func pid=74602)\u001b[0m Epoch [2/50], Step [839/5961], Train Loss: 0.0427 , Logging Time Proportion: 0.0024, Data Loading Time Proportion: 0.0085\n",
      "\u001b[36m(tune_func pid=74602)\u001b[0m Epoch [2/50], Step [939/5961], Train Loss: 0.0414 , Logging Time Proportion: 0.0024, Data Loading Time Proportion: 0.0086\n",
      "\u001b[36m(tune_func pid=74602)\u001b[0m Epoch [2/50], Step [1039/5961], Train Loss: 0.0437 , Logging Time Proportion: 0.0023, Data Loading Time Proportion: 0.0097\n",
      "\u001b[36m(tune_func pid=74602)\u001b[0m Epoch [2/50], Step [1139/5961], Train Loss: 0.0452 , Logging Time Proportion: 0.0025, Data Loading Time Proportion: 0.0083\n",
      "\u001b[36m(tune_func pid=74602)\u001b[0m #######################################################################################\n",
      "\u001b[36m(tune_func pid=74602)\u001b[0m Epoch [2/50], Step [1192/5961], Val Loss: 0.0432 Val Log Time Proportion: 0.0761\n",
      "\u001b[36m(tune_func pid=74602)\u001b[0m #######################################################################################\n"
     ]
    },
    {
     "name": "stderr",
     "output_type": "stream",
     "text": [
      "\u001b[36m(tune_func pid=74602)\u001b[0m Checkpoint successfully created at: Checkpoint(filesystem=local, path=/home/daniel/ray_results/tune_func_2024-06-23_03-06-45/tune_func_dc56f_00015_15_batch_size=4,channels=16,depth=6,lr=0.0004_2024-06-23_03-06-46/checkpoint_000005)\n"
     ]
    },
    {
     "name": "stdout",
     "output_type": "stream",
     "text": [
      "\u001b[36m(tune_func pid=74602)\u001b[0m Epoch [2/50], Step [1239/5961], Train Loss: 0.0427 , Logging Time Proportion: 0.0012, Data Loading Time Proportion: 0.0045\n",
      "\u001b[36m(tune_func pid=74602)\u001b[0m Epoch [2/50], Step [1339/5961], Train Loss: 0.0412 , Logging Time Proportion: 0.0022, Data Loading Time Proportion: 0.0064\n",
      "\u001b[36m(tune_func pid=74602)\u001b[0m Epoch [2/50], Step [1439/5961], Train Loss: 0.0413 , Logging Time Proportion: 0.0021, Data Loading Time Proportion: 0.0056\n",
      "\u001b[36m(tune_func pid=74602)\u001b[0m Epoch [2/50], Step [1539/5961], Train Loss: 0.0454\n",
      "\u001b[36m(tune_func pid=74602)\u001b[0m  , Logging Time Proportion: 0.0016, Data Loading Time Proportion: 0.0056\n",
      "\u001b[36m(tune_func pid=74602)\u001b[0m Epoch [2/50], Step [1639/5961], Train Loss: 0.0425 , Logging Time Proportion: 0.0017, Data Loading Time Proportion: 0.0056\n",
      "\u001b[36m(tune_func pid=74602)\u001b[0m Epoch [2/50], Step [1739/5961], Train Loss: 0.0440 , Logging Time Proportion: 0.0021, Data Loading Time Proportion: 0.0077\n",
      "\u001b[36m(tune_func pid=74602)\u001b[0m Epoch [2/50], Step [1839/5961], Train Loss: 0.0427 , Logging Time Proportion: 0.0022, Data Loading Time Proportion: 0.0074\n",
      "\u001b[36m(tune_func pid=74602)\u001b[0m Epoch [2/50], Step [1939/5961], Train Loss: 0.0414 , Logging Time Proportion: 0.0022, Data Loading Time Proportion: 0.0078\n",
      "\u001b[36m(tune_func pid=74602)\u001b[0m Epoch [2/50], Step [2039/5961], Train Loss: 0.0409\n",
      "\u001b[36m(tune_func pid=74602)\u001b[0m  , Logging Time Proportion: 0.0023, Data Loading Time Proportion: 0.0079\n",
      "\u001b[36m(tune_func pid=74602)\u001b[0m Epoch [2/50], Step [2139/5961], Train Loss: 0.0427 , Logging Time Proportion: 0.0025, Data Loading Time Proportion: 0.0081\n",
      "\u001b[36m(tune_func pid=74602)\u001b[0m Epoch [2/50], Step [2239/5961], Train Loss: 0.0437 , Logging Time Proportion: 0.0020, Data Loading Time Proportion: 0.0068\n",
      "\u001b[36m(tune_func pid=74602)\u001b[0m Epoch [2/50], Step [2339/5961], Train Loss: 0.0432 , Logging Time Proportion: 0.0025, Data Loading Time Proportion: 0.0068\n",
      "\u001b[36m(tune_func pid=74602)\u001b[0m #######################################################################################\n",
      "\u001b[36m(tune_func pid=74602)\u001b[0m Epoch [2/50], Step [2384/5961], Val Loss: 0.0417 Val Log Time Proportion: 0.1935\n",
      "\u001b[36m(tune_func pid=74602)\u001b[0m #######################################################################################\n"
     ]
    },
    {
     "name": "stderr",
     "output_type": "stream",
     "text": [
      "\u001b[36m(tune_func pid=74602)\u001b[0m Checkpoint successfully created at: Checkpoint(filesystem=local, path=/home/daniel/ray_results/tune_func_2024-06-23_03-06-45/tune_func_dc56f_00015_15_batch_size=4,channels=16,depth=6,lr=0.0004_2024-06-23_03-06-46/checkpoint_000006)\n"
     ]
    },
    {
     "name": "stdout",
     "output_type": "stream",
     "text": [
      "\u001b[36m(tune_func pid=74602)\u001b[0m Epoch [2/50], Step [2439/5961], Train Loss: 0.0425 , Logging Time Proportion: 0.0005, Data Loading Time Proportion: 0.0019\n",
      "\u001b[36m(tune_func pid=74602)\u001b[0m Epoch [2/50], Step [2539/5961], Train Loss: 0.0406 , Logging Time Proportion: 0.0017, Data Loading Time Proportion: 0.0057\n",
      "\u001b[36m(tune_func pid=74602)\u001b[0m Epoch [2/50], Step [2639/5961], Train Loss: 0.0404 , Logging Time Proportion: 0.0030, Data Loading Time Proportion: 0.0074\n",
      "\u001b[36m(tune_func pid=74602)\u001b[0m Epoch [2/50], Step [2739/5961], Train Loss: 0.0434 , Logging Time Proportion: 0.0028, Data Loading Time Proportion: 0.0075\n",
      "\u001b[36m(tune_func pid=74602)\u001b[0m Epoch [2/50], Step [2839/5961], Train Loss: 0.0440 , Logging Time Proportion: 0.0029, Data Loading Time Proportion: 0.0078\n",
      "\u001b[36m(tune_func pid=74602)\u001b[0m Epoch [2/50], Step [2939/5961], Train Loss: 0.0422 , Logging Time Proportion: 0.0031, Data Loading Time Proportion: 0.0080\n",
      "\u001b[36m(tune_func pid=74602)\u001b[0m Epoch [2/50], Step [3039/5961], Train Loss: 0.0418 , Logging Time Proportion: 0.0026, Data Loading Time Proportion: 0.0070\n",
      "\u001b[36m(tune_func pid=74602)\u001b[0m Epoch [2/50], Step [3139/5961], Train Loss: 0.0408 , Logging Time Proportion: 0.0021, Data Loading Time Proportion: 0.0076\n",
      "\u001b[36m(tune_func pid=74602)\u001b[0m Epoch [2/50], Step [3239/5961], Train Loss: 0.0433 , Logging Time Proportion: 0.0037, Data Loading Time Proportion: 0.0080\n",
      "\u001b[36m(tune_func pid=74602)\u001b[0m Epoch [2/50], Step [3339/5961], Train Loss: 0.0430 , Logging Time Proportion: 0.0023, Data Loading Time Proportion: 0.0070\n",
      "\u001b[36m(tune_func pid=74602)\u001b[0m Epoch [2/50], Step [3439/5961], Train Loss: 0.0398 , Logging Time Proportion: 0.0028, Data Loading Time Proportion: 0.0085\n",
      "\u001b[36m(tune_func pid=74602)\u001b[0m Epoch [2/50], Step [3539/5961], Train Loss: 0.0428 , Logging Time Proportion: 0.0019, Data Loading Time Proportion: 0.0065\n",
      "\u001b[36m(tune_func pid=74602)\u001b[0m #######################################################################################\n",
      "\u001b[36m(tune_func pid=74602)\u001b[0m Epoch [2/50], Step [3576/5961], Val Loss: 0.0407 Val Log Time Proportion: 0.0655\n",
      "\u001b[36m(tune_func pid=74602)\u001b[0m #######################################################################################\n"
     ]
    },
    {
     "name": "stderr",
     "output_type": "stream",
     "text": [
      "\u001b[36m(tune_func pid=74602)\u001b[0m Checkpoint successfully created at: Checkpoint(filesystem=local, path=/home/daniel/ray_results/tune_func_2024-06-23_03-06-45/tune_func_dc56f_00015_15_batch_size=4,channels=16,depth=6,lr=0.0004_2024-06-23_03-06-46/checkpoint_000007)\n"
     ]
    },
    {
     "name": "stdout",
     "output_type": "stream",
     "text": [
      "\u001b[36m(tune_func pid=74602)\u001b[0m Epoch [2/50], Step [3639/5961], Train Loss: 0.0417 , Logging Time Proportion: 0.0013, Data Loading Time Proportion: 0.0041\n",
      "\u001b[36m(tune_func pid=74602)\u001b[0m Epoch [2/50], Step [3739/5961], Train Loss: 0.0419 , Logging Time Proportion: 0.0025, Data Loading Time Proportion: 0.0070\n",
      "\u001b[36m(tune_func pid=74602)\u001b[0m Epoch [2/50], Step [3839/5961], Train Loss: 0.0409 , Logging Time Proportion: 0.0024, Data Loading Time Proportion: 0.0072\n",
      "\u001b[36m(tune_func pid=74602)\u001b[0m Epoch [2/50], Step [3939/5961], Train Loss: 0.0422 , Logging Time Proportion: 0.0019, Data Loading Time Proportion: 0.0079\n",
      "\u001b[36m(tune_func pid=74602)\u001b[0m Epoch [2/50], Step [4039/5961], Train Loss: 0.0410\n",
      "\u001b[36m(tune_func pid=74602)\u001b[0m  , Logging Time Proportion: 0.0020, Data Loading Time Proportion: 0.0066\n",
      "\u001b[36m(tune_func pid=74602)\u001b[0m Epoch [2/50], Step [4139/5961], Train Loss: 0.0414 , Logging Time Proportion: 0.0020, Data Loading Time Proportion: 0.0071\n",
      "\u001b[36m(tune_func pid=74602)\u001b[0m Epoch [2/50], Step [4239/5961], Train Loss: 0.0417 , Logging Time Proportion: 0.0022, Data Loading Time Proportion: 0.0071\n",
      "\u001b[36m(tune_func pid=74602)\u001b[0m Epoch [2/50], Step [4339/5961], Train Loss: 0.0413 , Logging Time Proportion: 0.0016, Data Loading Time Proportion: 0.0068\n",
      "\u001b[36m(tune_func pid=74602)\u001b[0m Epoch [2/50], Step [4439/5961], Train Loss: 0.0420 , Logging Time Proportion: 0.0020, Data Loading Time Proportion: 0.0067\n",
      "\u001b[36m(tune_func pid=74602)\u001b[0m Epoch [2/50], Step [4539/5961], Train Loss: 0.0399 , Logging Time Proportion: 0.0024, Data Loading Time Proportion: 0.0079\n",
      "\u001b[36m(tune_func pid=74602)\u001b[0m Epoch [2/50], Step [4639/5961], Train Loss: 0.0417 , Logging Time Proportion: 0.0027, Data Loading Time Proportion: 0.0074\n",
      "\u001b[36m(tune_func pid=74602)\u001b[0m Epoch [2/50], Step [4739/5961], Train Loss: 0.0416 , Logging Time Proportion: 0.0023, Data Loading Time Proportion: 0.0074\n",
      "\u001b[36m(tune_func pid=74602)\u001b[0m #######################################################################################\n",
      "\u001b[36m(tune_func pid=74602)\u001b[0m Epoch [2/50], Step [4768/5961], Val Loss: 0.0414 Val Log Time Proportion: 0.0668\n",
      "\u001b[36m(tune_func pid=74602)\u001b[0m #######################################################################################\n"
     ]
    },
    {
     "name": "stderr",
     "output_type": "stream",
     "text": [
      "\u001b[36m(tune_func pid=74602)\u001b[0m Checkpoint successfully created at: Checkpoint(filesystem=local, path=/home/daniel/ray_results/tune_func_2024-06-23_03-06-45/tune_func_dc56f_00015_15_batch_size=4,channels=16,depth=6,lr=0.0004_2024-06-23_03-06-46/checkpoint_000008)\n"
     ]
    },
    {
     "name": "stdout",
     "output_type": "stream",
     "text": [
      "\u001b[36m(tune_func pid=74602)\u001b[0m Epoch [2/50], Step [4839/5961], Train Loss: 0.0422 , Logging Time Proportion: 0.0011, Data Loading Time Proportion: 0.0037\n",
      "\u001b[36m(tune_func pid=74602)\u001b[0m Epoch [2/50], Step [4939/5961], Train Loss: 0.0431 , Logging Time Proportion: 0.0027, Data Loading Time Proportion: 0.0067\n",
      "\u001b[36m(tune_func pid=74602)\u001b[0m Epoch [2/50], Step [5039/5961], Train Loss: 0.0395 , Logging Time Proportion: 0.0019, Data Loading Time Proportion: 0.0067\n",
      "\u001b[36m(tune_func pid=74602)\u001b[0m Epoch [2/50], Step [5139/5961], Train Loss: 0.0407 , Logging Time Proportion: 0.0025, Data Loading Time Proportion: 0.0072\n",
      "\u001b[36m(tune_func pid=74602)\u001b[0m Epoch [2/50], Step [5239/5961], Train Loss: 0.0425 , Logging Time Proportion: 0.0022, Data Loading Time Proportion: 0.0072\n",
      "\u001b[36m(tune_func pid=74602)\u001b[0m Epoch [2/50], Step [5339/5961], Train Loss: 0.0416 , Logging Time Proportion: 0.0023, Data Loading Time Proportion: 0.0070\n",
      "\u001b[36m(tune_func pid=74602)\u001b[0m Epoch [2/50], Step [5439/5961], Train Loss: 0.0408 , Logging Time Proportion: 0.0018, Data Loading Time Proportion: 0.0064\n",
      "\u001b[36m(tune_func pid=74602)\u001b[0m Epoch [2/50], Step [5539/5961], Train Loss: 0.0418 , Logging Time Proportion: 0.0023, Data Loading Time Proportion: 0.0078\n",
      "\u001b[36m(tune_func pid=74602)\u001b[0m Epoch [2/50], Step [5639/5961], Train Loss: 0.0413 , Logging Time Proportion: 0.0024, Data Loading Time Proportion: 0.0067\n",
      "\u001b[36m(tune_func pid=74602)\u001b[0m Epoch [2/50], Step [5739/5961], Train Loss: 0.0394 , Logging Time Proportion: 0.0027, Data Loading Time Proportion: 0.0075\n",
      "\u001b[36m(tune_func pid=74602)\u001b[0m Epoch [2/50], Step [5839/5961], Train Loss: 0.0410 , Logging Time Proportion: 0.0028, Data Loading Time Proportion: 0.0077\n",
      "\u001b[36m(tune_func pid=74602)\u001b[0m Epoch [2/50], Step [5939/5961], Train Loss: 0.0417 , Logging Time Proportion: 0.0017, Data Loading Time Proportion: 0.0071\n",
      "\u001b[36m(tune_func pid=74602)\u001b[0m #######################################################################################\n",
      "\u001b[36m(tune_func pid=74602)\u001b[0m Epoch [2/50], Step [5960/5961], Val Loss: 0.0403 Val Log Time Proportion: 0.0607\n",
      "\u001b[36m(tune_func pid=74602)\u001b[0m #######################################################################################\n"
     ]
    },
    {
     "name": "stderr",
     "output_type": "stream",
     "text": [
      "\u001b[36m(tune_func pid=74602)\u001b[0m Checkpoint successfully created at: Checkpoint(filesystem=local, path=/home/daniel/ray_results/tune_func_2024-06-23_03-06-45/tune_func_dc56f_00015_15_batch_size=4,channels=16,depth=6,lr=0.0004_2024-06-23_03-06-46/checkpoint_000009)\n"
     ]
    },
    {
     "name": "stdout",
     "output_type": "stream",
     "text": [
      "\u001b[36m(tune_func pid=74602)\u001b[0m Epoch [3/50], Step [78/5961], Train Loss: 0.0326 , Logging Time Proportion: 0.0013, Data Loading Time Proportion: 0.0046\n",
      "\u001b[36m(tune_func pid=74602)\u001b[0m Epoch [3/50], Step [178/5961], Train Loss: 0.0395 , Logging Time Proportion: 0.0034, Data Loading Time Proportion: 0.0122\n",
      "\u001b[36m(tune_func pid=74602)\u001b[0m Epoch [3/50], Step [278/5961], Train Loss: 0.0404 , Logging Time Proportion: 0.0027, Data Loading Time Proportion: 0.0108\n",
      "\u001b[36m(tune_func pid=74602)\u001b[0m Epoch [3/50], Step [378/5961], Train Loss: 0.0396 , Logging Time Proportion: 0.0022, Data Loading Time Proportion: 0.0093\n",
      "\u001b[36m(tune_func pid=74602)\u001b[0m Epoch [3/50], Step [478/5961], Train Loss: 0.0397 , Logging Time Proportion: 0.0031, Data Loading Time Proportion: 0.0106\n",
      "\u001b[36m(tune_func pid=74602)\u001b[0m Epoch [3/50], Step [578/5961], Train Loss: 0.0410 , Logging Time Proportion: 0.0033, Data Loading Time Proportion: 0.0108\n",
      "\u001b[36m(tune_func pid=74602)\u001b[0m Epoch [3/50], Step [678/5961], Train Loss: 0.0401 , Logging Time Proportion: 0.0031, Data Loading Time Proportion: 0.0101\n",
      "\u001b[36m(tune_func pid=74602)\u001b[0m Epoch [3/50], Step [778/5961], Train Loss: 0.0432 , Logging Time Proportion: 0.0028, Data Loading Time Proportion: 0.0098\n",
      "\u001b[36m(tune_func pid=74602)\u001b[0m Epoch [3/50], Step [878/5961], Train Loss: 0.0385 , Logging Time Proportion: 0.0034, Data Loading Time Proportion: 0.0112\n",
      "\u001b[36m(tune_func pid=74602)\u001b[0m Epoch [3/50], Step [978/5961], Train Loss: 0.0435 , Logging Time Proportion: 0.0025, Data Loading Time Proportion: 0.0083\n",
      "\u001b[36m(tune_func pid=74602)\u001b[0m Epoch [3/50], Step [1078/5961], Train Loss: 0.0391 , Logging Time Proportion: 0.0025, Data Loading Time Proportion: 0.0087\n",
      "\u001b[36m(tune_func pid=74602)\u001b[0m Epoch [3/50], Step [1178/5961], Train Loss: 0.0399 , Logging Time Proportion: 0.0027, Data Loading Time Proportion: 0.0086\n",
      "\u001b[36m(tune_func pid=74602)\u001b[0m #######################################################################################\n",
      "\u001b[36m(tune_func pid=74602)\u001b[0m Epoch [3/50], Step [1192/5961], Val Loss: 0.0407 Val Log Time Proportion: 0.1136\n",
      "\u001b[36m(tune_func pid=74602)\u001b[0m #######################################################################################\n"
     ]
    },
    {
     "name": "stderr",
     "output_type": "stream",
     "text": [
      "\u001b[36m(tune_func pid=74602)\u001b[0m Checkpoint successfully created at: Checkpoint(filesystem=local, path=/home/daniel/ray_results/tune_func_2024-06-23_03-06-45/tune_func_dc56f_00015_15_batch_size=4,channels=16,depth=6,lr=0.0004_2024-06-23_03-06-46/checkpoint_000010)\n"
     ]
    },
    {
     "name": "stdout",
     "output_type": "stream",
     "text": [
      "\u001b[36m(tune_func pid=74602)\u001b[0m Epoch [3/50], Step [1278/5961], Train Loss: 0.0411 , Logging Time Proportion: 0.0012, Data Loading Time Proportion: 0.0039\n",
      "\u001b[36m(tune_func pid=74602)\u001b[0m Epoch [3/50], Step [1378/5961], Train Loss: 0.0404 , Logging Time Proportion: 0.0031, Data Loading Time Proportion: 0.0095\n",
      "\u001b[36m(tune_func pid=74602)\u001b[0m Epoch [3/50], Step [1478/5961], Train Loss: 0.0422 , Logging Time Proportion: 0.0024, Data Loading Time Proportion: 0.0089\n",
      "\u001b[36m(tune_func pid=74602)\u001b[0m Epoch [3/50], Step [1578/5961], Train Loss: 0.0405 , Logging Time Proportion: 0.0029, Data Loading Time Proportion: 0.0098\n",
      "\u001b[36m(tune_func pid=74602)\u001b[0m Epoch [3/50], Step [1678/5961], Train Loss: 0.0404 , Logging Time Proportion: 0.0026, Data Loading Time Proportion: 0.0085\n",
      "\u001b[36m(tune_func pid=74602)\u001b[0m Epoch [3/50], Step [1778/5961], Train Loss: 0.0403 , Logging Time Proportion: 0.0030, Data Loading Time Proportion: 0.0093\n",
      "\u001b[36m(tune_func pid=74602)\u001b[0m Epoch [3/50], Step [1878/5961], Train Loss: 0.0388 , Logging Time Proportion: 0.0027, Data Loading Time Proportion: 0.0109\n",
      "\u001b[36m(tune_func pid=74602)\u001b[0m Epoch [3/50], Step [1978/5961], Train Loss: 0.0396 , Logging Time Proportion: 0.0027, Data Loading Time Proportion: 0.0102\n",
      "\u001b[36m(tune_func pid=74602)\u001b[0m Epoch [3/50], Step [2078/5961], Train Loss: 0.0390 , Logging Time Proportion: 0.0030, Data Loading Time Proportion: 0.0104\n",
      "\u001b[36m(tune_func pid=74602)\u001b[0m Epoch [3/50], Step [2178/5961], Train Loss: 0.0421 , Logging Time Proportion: 0.0021, Data Loading Time Proportion: 0.0087\n",
      "\u001b[36m(tune_func pid=74602)\u001b[0m Epoch [3/50], Step [2278/5961], Train Loss: 0.0422 , Logging Time Proportion: 0.0029, Data Loading Time Proportion: 0.0100\n",
      "\u001b[36m(tune_func pid=74602)\u001b[0m Epoch [3/50], Step [2378/5961], Train Loss: 0.0405 , Logging Time Proportion: 0.0033, Data Loading Time Proportion: 0.0094\n",
      "\u001b[36m(tune_func pid=74602)\u001b[0m #######################################################################################\n",
      "\u001b[36m(tune_func pid=74602)\u001b[0m Epoch [3/50], Step [2384/5961], Val Loss: 0.0397 Val Log Time Proportion: 0.0903\n",
      "\u001b[36m(tune_func pid=74602)\u001b[0m #######################################################################################\n"
     ]
    },
    {
     "name": "stderr",
     "output_type": "stream",
     "text": [
      "\u001b[36m(tune_func pid=74602)\u001b[0m Checkpoint successfully created at: Checkpoint(filesystem=local, path=/home/daniel/ray_results/tune_func_2024-06-23_03-06-45/tune_func_dc56f_00015_15_batch_size=4,channels=16,depth=6,lr=0.0004_2024-06-23_03-06-46/checkpoint_000011)\n"
     ]
    },
    {
     "name": "stdout",
     "output_type": "stream",
     "text": [
      "\u001b[36m(tune_func pid=74602)\u001b[0m Epoch [3/50], Step [2478/5961], Train Loss: 0.0400 , Logging Time Proportion: 0.0016, Data Loading Time Proportion: 0.0041\n",
      "\u001b[36m(tune_func pid=74602)\u001b[0m Epoch [3/50], Step [2578/5961], Train Loss: 0.0402 , Logging Time Proportion: 0.0026, Data Loading Time Proportion: 0.0091\n",
      "\u001b[36m(tune_func pid=74602)\u001b[0m Epoch [3/50], Step [2678/5961], Train Loss: 0.0391 , Logging Time Proportion: 0.0032, Data Loading Time Proportion: 0.0085\n",
      "\u001b[36m(tune_func pid=74602)\u001b[0m Epoch [3/50], Step [2778/5961], Train Loss: 0.0396 , Logging Time Proportion: 0.0023, Data Loading Time Proportion: 0.0094\n",
      "\u001b[36m(tune_func pid=74602)\u001b[0m Epoch [3/50], Step [2878/5961], Train Loss: 0.0406 , Logging Time Proportion: 0.0021, Data Loading Time Proportion: 0.0085\n",
      "\u001b[36m(tune_func pid=74602)\u001b[0m Epoch [3/50], Step [2978/5961], Train Loss: 0.0393 , Logging Time Proportion: 0.0035, Data Loading Time Proportion: 0.0095\n",
      "\u001b[36m(tune_func pid=74602)\u001b[0m Epoch [3/50], Step [3078/5961], Train Loss: 0.0386 , Logging Time Proportion: 0.0025, Data Loading Time Proportion: 0.0093\n",
      "\u001b[36m(tune_func pid=74602)\u001b[0m Epoch [3/50], Step [3178/5961], Train Loss: 0.0396 , Logging Time Proportion: 0.0022, Data Loading Time Proportion: 0.0086\n",
      "\u001b[36m(tune_func pid=74602)\u001b[0m Epoch [3/50], Step [3278/5961], Train Loss: 0.0392 , Logging Time Proportion: 0.0030, Data Loading Time Proportion: 0.0098\n",
      "\u001b[36m(tune_func pid=74602)\u001b[0m Epoch [3/50], Step [3378/5961], Train Loss: 0.0428 , Logging Time Proportion: 0.0028, Data Loading Time Proportion: 0.0090\n",
      "\u001b[36m(tune_func pid=74602)\u001b[0m Epoch [3/50], Step [3478/5961], Train Loss: 0.0392 , Logging Time Proportion: 0.0024, Data Loading Time Proportion: 0.0101\n",
      "\u001b[36m(tune_func pid=74602)\u001b[0m #######################################################################################\n",
      "\u001b[36m(tune_func pid=74602)\u001b[0m Epoch [3/50], Step [3576/5961], Val Loss: 0.0405 Val Log Time Proportion: 0.0832\n",
      "\u001b[36m(tune_func pid=74602)\u001b[0m #######################################################################################\n"
     ]
    },
    {
     "name": "stderr",
     "output_type": "stream",
     "text": [
      "\u001b[36m(tune_func pid=74602)\u001b[0m Checkpoint successfully created at: Checkpoint(filesystem=local, path=/home/daniel/ray_results/tune_func_2024-06-23_03-06-45/tune_func_dc56f_00015_15_batch_size=4,channels=16,depth=6,lr=0.0004_2024-06-23_03-06-46/checkpoint_000012)\n"
     ]
    },
    {
     "name": "stdout",
     "output_type": "stream",
     "text": [
      "\u001b[36m(tune_func pid=74602)\u001b[0m Epoch [3/50], Step [3578/5961], Train Loss: 0.0394 , Logging Time Proportion: 0.0016, Data Loading Time Proportion: 0.0046\n",
      "\u001b[36m(tune_func pid=74602)\u001b[0m Epoch [3/50], Step [3678/5961], Train Loss: 0.0412 , Logging Time Proportion: 0.0031, Data Loading Time Proportion: 0.0093\n",
      "\u001b[36m(tune_func pid=74602)\u001b[0m Epoch [3/50], Step [3778/5961], Train Loss: 0.0406 , Logging Time Proportion: 0.0024, Data Loading Time Proportion: 0.0086\n",
      "\u001b[36m(tune_func pid=74602)\u001b[0m Epoch [3/50], Step [3878/5961], Train Loss: 0.0393 , Logging Time Proportion: 0.0027, Data Loading Time Proportion: 0.0088\n",
      "\u001b[36m(tune_func pid=74602)\u001b[0m Epoch [3/50], Step [3978/5961], Train Loss: 0.0386 , Logging Time Proportion: 0.0024, Data Loading Time Proportion: 0.0082\n",
      "\u001b[36m(tune_func pid=74602)\u001b[0m Epoch [3/50], Step [4078/5961], Train Loss: 0.0416 , Logging Time Proportion: 0.0020, Data Loading Time Proportion: 0.0081\n",
      "\u001b[36m(tune_func pid=74602)\u001b[0m Epoch [3/50], Step [4178/5961], Train Loss: 0.0410 , Logging Time Proportion: 0.0034, Data Loading Time Proportion: 0.0098\n",
      "\u001b[36m(tune_func pid=74602)\u001b[0m Epoch [3/50], Step [4278/5961], Train Loss: 0.0398 , Logging Time Proportion: 0.0024, Data Loading Time Proportion: 0.0095\n",
      "\u001b[36m(tune_func pid=74602)\u001b[0m Epoch [3/50], Step [4378/5961], Train Loss: 0.0394 , Logging Time Proportion: 0.0027, Data Loading Time Proportion: 0.0095\n",
      "\u001b[36m(tune_func pid=74602)\u001b[0m Epoch [3/50], Step [4478/5961], Train Loss: 0.0393 , Logging Time Proportion: 0.0028, Data Loading Time Proportion: 0.0095\n",
      "\u001b[36m(tune_func pid=74602)\u001b[0m Epoch [3/50], Step [4578/5961], Train Loss: 0.0394 , Logging Time Proportion: 0.0023, Data Loading Time Proportion: 0.0089\n",
      "\u001b[36m(tune_func pid=74602)\u001b[0m Epoch [3/50], Step [4678/5961], Train Loss: 0.0403 , Logging Time Proportion: 0.0023, Data Loading Time Proportion: 0.0091\n",
      "\u001b[36m(tune_func pid=74602)\u001b[0m #######################################################################################\n",
      "\u001b[36m(tune_func pid=74602)\u001b[0m Epoch [3/50], Step [4768/5961], Val Loss: 0.0394 Val Log Time Proportion: 0.2886\n",
      "\u001b[36m(tune_func pid=74602)\u001b[0m #######################################################################################\n"
     ]
    },
    {
     "name": "stderr",
     "output_type": "stream",
     "text": [
      "\u001b[36m(tune_func pid=74602)\u001b[0m Checkpoint successfully created at: Checkpoint(filesystem=local, path=/home/daniel/ray_results/tune_func_2024-06-23_03-06-45/tune_func_dc56f_00015_15_batch_size=4,channels=16,depth=6,lr=0.0004_2024-06-23_03-06-46/checkpoint_000013)\n"
     ]
    },
    {
     "name": "stdout",
     "output_type": "stream",
     "text": [
      "\u001b[36m(tune_func pid=74602)\u001b[0m Epoch [3/50], Step [4778/5961], Train Loss: 0.0399 , Logging Time Proportion: 0.0004, Data Loading Time Proportion: 0.0018\n",
      "\u001b[36m(tune_func pid=74602)\u001b[0m Epoch [3/50], Step [4878/5961], Train Loss: 0.0394 , Logging Time Proportion: 0.0015, Data Loading Time Proportion: 0.0065\n",
      "\u001b[36m(tune_func pid=74602)\u001b[0m Epoch [3/50], Step [4978/5961], Train Loss: 0.0420 , Logging Time Proportion: 0.0015, Data Loading Time Proportion: 0.0056\n",
      "\u001b[36m(tune_func pid=74602)\u001b[0m Epoch [3/50], Step [5078/5961], Train Loss: 0.0389 , Logging Time Proportion: 0.0016, Data Loading Time Proportion: 0.0065\n",
      "\u001b[36m(tune_func pid=74602)\u001b[0m Epoch [3/50], Step [5178/5961], Train Loss: 0.0405 , Logging Time Proportion: 0.0016, Data Loading Time Proportion: 0.0066\n",
      "\u001b[36m(tune_func pid=74602)\u001b[0m Epoch [3/50], Step [5278/5961], Train Loss: 0.0382 , Logging Time Proportion: 0.0018, Data Loading Time Proportion: 0.0057\n",
      "\u001b[36m(tune_func pid=74602)\u001b[0m Epoch [3/50], Step [5378/5961], Train Loss: 0.0414 , Logging Time Proportion: 0.0023, Data Loading Time Proportion: 0.0074\n",
      "\u001b[36m(tune_func pid=74602)\u001b[0m Epoch [3/50], Step [5478/5961], Train Loss: 0.0377 , Logging Time Proportion: 0.0018, Data Loading Time Proportion: 0.0064\n",
      "\u001b[36m(tune_func pid=74602)\u001b[0m Epoch [3/50], Step [5578/5961], Train Loss: 0.0406 , Logging Time Proportion: 0.0030, Data Loading Time Proportion: 0.0063\n",
      "\u001b[36m(tune_func pid=74602)\u001b[0m Epoch [3/50], Step [5678/5961], Train Loss: 0.0393 , Logging Time Proportion: 0.0019, Data Loading Time Proportion: 0.0072\n",
      "\u001b[36m(tune_func pid=74602)\u001b[0m Epoch [3/50], Step [5778/5961], Train Loss: 0.0398 , Logging Time Proportion: 0.0024, Data Loading Time Proportion: 0.0076\n",
      "\u001b[36m(tune_func pid=74602)\u001b[0m Epoch [3/50], Step [5878/5961], Train Loss: 0.0381 , Logging Time Proportion: 0.0019, Data Loading Time Proportion: 0.0083\n",
      "\u001b[36m(tune_func pid=74602)\u001b[0m #######################################################################################\n",
      "\u001b[36m(tune_func pid=74602)\u001b[0m Epoch [3/50], Step [5960/5961], Val Loss: 0.0395 Val Log Time Proportion: 0.1025\n",
      "\u001b[36m(tune_func pid=74602)\u001b[0m #######################################################################################\n"
     ]
    },
    {
     "name": "stderr",
     "output_type": "stream",
     "text": [
      "\u001b[36m(tune_func pid=74602)\u001b[0m Checkpoint successfully created at: Checkpoint(filesystem=local, path=/home/daniel/ray_results/tune_func_2024-06-23_03-06-45/tune_func_dc56f_00015_15_batch_size=4,channels=16,depth=6,lr=0.0004_2024-06-23_03-06-46/checkpoint_000014)\n"
     ]
    },
    {
     "name": "stdout",
     "output_type": "stream",
     "text": [
      "\u001b[36m(tune_func pid=74602)\u001b[0m Epoch [4/50], Step [17/5961], Train Loss: 0.0066 , Logging Time Proportion: 0.0010, Data Loading Time Proportion: 0.0031\n",
      "\u001b[36m(tune_func pid=74602)\u001b[0m Epoch [4/50], Step [117/5961], Train Loss: 0.0390 , Logging Time Proportion: 0.0047, Data Loading Time Proportion: 0.0107\n",
      "\u001b[36m(tune_func pid=74602)\u001b[0m Epoch [4/50], Step [217/5961], Train Loss: 0.0396 , Logging Time Proportion: 0.0033, Data Loading Time Proportion: 0.0101\n",
      "\u001b[36m(tune_func pid=74602)\u001b[0m Epoch [4/50], Step [317/5961], Train Loss: 0.0400 , Logging Time Proportion: 0.0030, Data Loading Time Proportion: 0.0098\n",
      "\u001b[36m(tune_func pid=74602)\u001b[0m Epoch [4/50], Step [417/5961], Train Loss: 0.0394 , Logging Time Proportion: 0.0026, Data Loading Time Proportion: 0.0088\n",
      "\u001b[36m(tune_func pid=74602)\u001b[0m Epoch [4/50], Step [517/5961], Train Loss: 0.0398 , Logging Time Proportion: 0.0031, Data Loading Time Proportion: 0.0108\n",
      "\u001b[36m(tune_func pid=74602)\u001b[0m Epoch [4/50], Step [617/5961], Train Loss: 0.0367 , Logging Time Proportion: 0.0029, Data Loading Time Proportion: 0.0098\n",
      "\u001b[36m(tune_func pid=74602)\u001b[0m Epoch [4/50], Step [717/5961], Train Loss: 0.0395 , Logging Time Proportion: 0.0029, Data Loading Time Proportion: 0.0110\n",
      "\u001b[36m(tune_func pid=74602)\u001b[0m Epoch [4/50], Step [817/5961], Train Loss: 0.0379 , Logging Time Proportion: 0.0031, Data Loading Time Proportion: 0.0113\n",
      "\u001b[36m(tune_func pid=74602)\u001b[0m Epoch [4/50], Step [917/5961], Train Loss: 0.0411 , Logging Time Proportion: 0.0030, Data Loading Time Proportion: 0.0104\n",
      "\u001b[36m(tune_func pid=74602)\u001b[0m Epoch [4/50], Step [1017/5961], Train Loss: 0.0410 , Logging Time Proportion: 0.0040, Data Loading Time Proportion: 0.0104\n",
      "\u001b[36m(tune_func pid=74602)\u001b[0m Epoch [4/50], Step [1117/5961], Train Loss: 0.0400 , Logging Time Proportion: 0.0029, Data Loading Time Proportion: 0.0109\n",
      "\u001b[36m(tune_func pid=74602)\u001b[0m #######################################################################################\n",
      "\u001b[36m(tune_func pid=74602)\u001b[0m Epoch [4/50], Step [1192/5961], Val Loss: 0.0393 Val Log Time Proportion: 0.0954\n",
      "\u001b[36m(tune_func pid=74602)\u001b[0m #######################################################################################\n"
     ]
    },
    {
     "name": "stderr",
     "output_type": "stream",
     "text": [
      "\u001b[36m(tune_func pid=74602)\u001b[0m Checkpoint successfully created at: Checkpoint(filesystem=local, path=/home/daniel/ray_results/tune_func_2024-06-23_03-06-45/tune_func_dc56f_00015_15_batch_size=4,channels=16,depth=6,lr=0.0004_2024-06-23_03-06-46/checkpoint_000015)\n"
     ]
    },
    {
     "name": "stdout",
     "output_type": "stream",
     "text": [
      "\u001b[36m(tune_func pid=74602)\u001b[0m Epoch [4/50], Step [1217/5961], Train Loss: 0.0381 , Logging Time Proportion: 0.0019, Data Loading Time Proportion: 0.0048\n",
      "\u001b[36m(tune_func pid=74602)\u001b[0m Epoch [4/50], Step [1317/5961], Train Loss: 0.0390 , Logging Time Proportion: 0.0029, Data Loading Time Proportion: 0.0103\n",
      "\u001b[36m(tune_func pid=74602)\u001b[0m Epoch [4/50], Step [1417/5961], Train Loss: 0.0397 , Logging Time Proportion: 0.0036, Data Loading Time Proportion: 0.0103\n",
      "\u001b[36m(tune_func pid=74602)\u001b[0m Epoch [4/50], Step [1517/5961], Train Loss: 0.0396 , Logging Time Proportion: 0.0027, Data Loading Time Proportion: 0.0088\n",
      "\u001b[36m(tune_func pid=74602)\u001b[0m Epoch [4/50], Step [1617/5961], Train Loss: 0.0375 , Logging Time Proportion: 0.0032, Data Loading Time Proportion: 0.0108\n",
      "\u001b[36m(tune_func pid=74602)\u001b[0m Epoch [4/50], Step [1717/5961], Train Loss: 0.0383 , Logging Time Proportion: 0.0031, Data Loading Time Proportion: 0.0103\n",
      "\u001b[36m(tune_func pid=74602)\u001b[0m Epoch [4/50], Step [1817/5961], Train Loss: 0.0383 , Logging Time Proportion: 0.0026, Data Loading Time Proportion: 0.0111\n",
      "\u001b[36m(tune_func pid=74602)\u001b[0m Epoch [4/50], Step [1917/5961], Train Loss: 0.0404 , Logging Time Proportion: 0.0035, Data Loading Time Proportion: 0.0104\n",
      "\u001b[36m(tune_func pid=74602)\u001b[0m Epoch [4/50], Step [2017/5961], Train Loss: 0.0393 , Logging Time Proportion: 0.0033, Data Loading Time Proportion: 0.0104\n",
      "\u001b[36m(tune_func pid=74602)\u001b[0m Epoch [4/50], Step [2117/5961], Train Loss: 0.0388 , Logging Time Proportion: 0.0033, Data Loading Time Proportion: 0.0111\n",
      "\u001b[36m(tune_func pid=74602)\u001b[0m Epoch [4/50], Step [2217/5961], Train Loss: 0.0393 , Logging Time Proportion: 0.0029, Data Loading Time Proportion: 0.0107\n",
      "\u001b[36m(tune_func pid=74602)\u001b[0m Epoch [4/50], Step [2317/5961], Train Loss: 0.0384 , Logging Time Proportion: 0.0031, Data Loading Time Proportion: 0.0106\n",
      "\u001b[36m(tune_func pid=74602)\u001b[0m #######################################################################################\n",
      "\u001b[36m(tune_func pid=74602)\u001b[0m Epoch [4/50], Step [2384/5961], Val Loss: 0.0385 Val Log Time Proportion: 0.0983\n",
      "\u001b[36m(tune_func pid=74602)\u001b[0m #######################################################################################\n"
     ]
    },
    {
     "name": "stderr",
     "output_type": "stream",
     "text": [
      "\u001b[36m(tune_func pid=74602)\u001b[0m Checkpoint successfully created at: Checkpoint(filesystem=local, path=/home/daniel/ray_results/tune_func_2024-06-23_03-06-45/tune_func_dc56f_00015_15_batch_size=4,channels=16,depth=6,lr=0.0004_2024-06-23_03-06-46/checkpoint_000016)\n"
     ]
    },
    {
     "name": "stdout",
     "output_type": "stream",
     "text": [
      "\u001b[36m(tune_func pid=74602)\u001b[0m Epoch [4/50], Step [2417/5961], Train Loss: 0.0402 , Logging Time Proportion: 0.0014, Data Loading Time Proportion: 0.0045\n",
      "\u001b[36m(tune_func pid=74602)\u001b[0m Epoch [4/50], Step [2517/5961], Train Loss: 0.0402 , Logging Time Proportion: 0.0035, Data Loading Time Proportion: 0.0113\n",
      "\u001b[36m(tune_func pid=74602)\u001b[0m Epoch [4/50], Step [2617/5961], Train Loss: 0.0383 , Logging Time Proportion: 0.0028, Data Loading Time Proportion: 0.0091\n",
      "\u001b[36m(tune_func pid=74602)\u001b[0m Epoch [4/50], Step [2717/5961], Train Loss: 0.0362 , Logging Time Proportion: 0.0025, Data Loading Time Proportion: 0.0103\n",
      "\u001b[36m(tune_func pid=74602)\u001b[0m Epoch [4/50], Step [2817/5961], Train Loss: 0.0406 , Logging Time Proportion: 0.0033, Data Loading Time Proportion: 0.0106\n",
      "\u001b[36m(tune_func pid=74602)\u001b[0m Epoch [4/50], Step [2917/5961], Train Loss: 0.0403 , Logging Time Proportion: 0.0027, Data Loading Time Proportion: 0.0098\n",
      "\u001b[36m(tune_func pid=74602)\u001b[0m Epoch [4/50], Step [3017/5961], Train Loss: 0.0403 , Logging Time Proportion: 0.0026, Data Loading Time Proportion: 0.0102\n",
      "\u001b[36m(tune_func pid=74602)\u001b[0m Epoch [4/50], Step [3117/5961], Train Loss: 0.0389 , Logging Time Proportion: 0.0033, Data Loading Time Proportion: 0.0111\n",
      "\u001b[36m(tune_func pid=74602)\u001b[0m Epoch [4/50], Step [3217/5961], Train Loss: 0.0388 , Logging Time Proportion: 0.0034, Data Loading Time Proportion: 0.0104\n",
      "\u001b[36m(tune_func pid=74602)\u001b[0m Epoch [4/50], Step [3317/5961], Train Loss: 0.0382 , Logging Time Proportion: 0.0030, Data Loading Time Proportion: 0.0098\n",
      "\u001b[36m(tune_func pid=74602)\u001b[0m Epoch [4/50], Step [3417/5961], Train Loss: 0.0380 , Logging Time Proportion: 0.0025, Data Loading Time Proportion: 0.0106\n",
      "\u001b[36m(tune_func pid=74602)\u001b[0m Epoch [4/50], Step [3517/5961], Train Loss: 0.0386 , Logging Time Proportion: 0.0044, Data Loading Time Proportion: 0.0113\n",
      "\u001b[36m(tune_func pid=74602)\u001b[0m #######################################################################################\n",
      "\u001b[36m(tune_func pid=74602)\u001b[0m Epoch [4/50], Step [3576/5961], Val Loss: 0.0408 Val Log Time Proportion: 0.0932\n",
      "\u001b[36m(tune_func pid=74602)\u001b[0m #######################################################################################\n"
     ]
    },
    {
     "name": "stderr",
     "output_type": "stream",
     "text": [
      "\u001b[36m(tune_func pid=74602)\u001b[0m Checkpoint successfully created at: Checkpoint(filesystem=local, path=/home/daniel/ray_results/tune_func_2024-06-23_03-06-45/tune_func_dc56f_00015_15_batch_size=4,channels=16,depth=6,lr=0.0004_2024-06-23_03-06-46/checkpoint_000017)\n"
     ]
    },
    {
     "name": "stdout",
     "output_type": "stream",
     "text": [
      "\u001b[36m(tune_func pid=74602)\u001b[0m Epoch [4/50], Step [3617/5961], Train Loss: 0.0391 , Logging Time Proportion: 0.0015, Data Loading Time Proportion: 0.0048\n",
      "\u001b[36m(tune_func pid=74602)\u001b[0m Epoch [4/50], Step [3717/5961], Train Loss: 0.0397 , Logging Time Proportion: 0.0021, Data Loading Time Proportion: 0.0090\n",
      "\u001b[36m(tune_func pid=74602)\u001b[0m Epoch [4/50], Step [3817/5961], Train Loss: 0.0389 , Logging Time Proportion: 0.0022, Data Loading Time Proportion: 0.0090\n",
      "\u001b[36m(tune_func pid=74602)\u001b[0m Epoch [4/50], Step [3917/5961], Train Loss: 0.0387 , Logging Time Proportion: 0.0034, Data Loading Time Proportion: 0.0104\n",
      "\u001b[36m(tune_func pid=74602)\u001b[0m Epoch [4/50], Step [4017/5961], Train Loss: 0.0389 , Logging Time Proportion: 0.0025, Data Loading Time Proportion: 0.0095\n",
      "\u001b[36m(tune_func pid=74602)\u001b[0m Epoch [4/50], Step [4117/5961], Train Loss: 0.0392 , Logging Time Proportion: 0.0034, Data Loading Time Proportion: 0.0110\n",
      "\u001b[36m(tune_func pid=74602)\u001b[0m Epoch [4/50], Step [4217/5961], Train Loss: 0.0373 , Logging Time Proportion: 0.0043, Data Loading Time Proportion: 0.0110\n",
      "\u001b[36m(tune_func pid=74602)\u001b[0m Epoch [4/50], Step [4317/5961], Train Loss: 0.0376 , Logging Time Proportion: 0.0040, Data Loading Time Proportion: 0.0098\n",
      "\u001b[36m(tune_func pid=74602)\u001b[0m Epoch [4/50], Step [4417/5961], Train Loss: 0.0391 , Logging Time Proportion: 0.0033, Data Loading Time Proportion: 0.0110\n",
      "\u001b[36m(tune_func pid=74602)\u001b[0m Epoch [4/50], Step [4517/5961], Train Loss: 0.0389 , Logging Time Proportion: 0.0028, Data Loading Time Proportion: 0.0105\n",
      "\u001b[36m(tune_func pid=74602)\u001b[0m Epoch [4/50], Step [4617/5961], Train Loss: 0.0392 , Logging Time Proportion: 0.0023, Data Loading Time Proportion: 0.0087\n",
      "\u001b[36m(tune_func pid=74602)\u001b[0m Epoch [4/50], Step [4717/5961], Train Loss: 0.0362 , Logging Time Proportion: 0.0032, Data Loading Time Proportion: 0.0093\n",
      "\u001b[36m(tune_func pid=74602)\u001b[0m #######################################################################################\n",
      "\u001b[36m(tune_func pid=74602)\u001b[0m Epoch [4/50], Step [4768/5961], Val Loss: 0.0391 Val Log Time Proportion: 0.0914\n",
      "\u001b[36m(tune_func pid=74602)\u001b[0m #######################################################################################\n"
     ]
    },
    {
     "name": "stderr",
     "output_type": "stream",
     "text": [
      "\u001b[36m(tune_func pid=74602)\u001b[0m Checkpoint successfully created at: Checkpoint(filesystem=local, path=/home/daniel/ray_results/tune_func_2024-06-23_03-06-45/tune_func_dc56f_00015_15_batch_size=4,channels=16,depth=6,lr=0.0004_2024-06-23_03-06-46/checkpoint_000018)\n"
     ]
    },
    {
     "name": "stdout",
     "output_type": "stream",
     "text": [
      "\u001b[36m(tune_func pid=74602)\u001b[0m Epoch [4/50], Step [4817/5961], Train Loss: 0.0372 , Logging Time Proportion: 0.0014, Data Loading Time Proportion: 0.0046\n",
      "\u001b[36m(tune_func pid=74602)\u001b[0m Epoch [4/50], Step [4917/5961], Train Loss: 0.0374 , Logging Time Proportion: 0.0027, Data Loading Time Proportion: 0.0091\n",
      "\u001b[36m(tune_func pid=74602)\u001b[0m Epoch [4/50], Step [5017/5961], Train Loss: 0.0381 , Logging Time Proportion: 0.0037, Data Loading Time Proportion: 0.0104\n",
      "\u001b[36m(tune_func pid=74602)\u001b[0m Epoch [4/50], Step [5117/5961], Train Loss: 0.0393\n",
      "\u001b[36m(tune_func pid=74602)\u001b[0m  , Logging Time Proportion: 0.0024, Data Loading Time Proportion: 0.0096\n",
      "\u001b[36m(tune_func pid=74602)\u001b[0m Epoch [4/50], Step [5217/5961], Train Loss: 0.0391 , Logging Time Proportion: 0.0032, Data Loading Time Proportion: 0.0105\n",
      "\u001b[36m(tune_func pid=74602)\u001b[0m Epoch [4/50], Step [5317/5961], Train Loss: 0.0387 , Logging Time Proportion: 0.0029, Data Loading Time Proportion: 0.0109\n",
      "\u001b[36m(tune_func pid=74602)\u001b[0m Epoch [4/50], Step [5417/5961], Train Loss: 0.0381 , Logging Time Proportion: 0.0032, Data Loading Time Proportion: 0.0105\n",
      "\u001b[36m(tune_func pid=74602)\u001b[0m Epoch [4/50], Step [5517/5961], Train Loss: 0.0402 , Logging Time Proportion: 0.0034, Data Loading Time Proportion: 0.0106\n",
      "\u001b[36m(tune_func pid=74602)\u001b[0m Epoch [4/50], Step [5617/5961], Train Loss: 0.0387 , Logging Time Proportion: 0.0037, Data Loading Time Proportion: 0.0104\n",
      "\u001b[36m(tune_func pid=74602)\u001b[0m Epoch [4/50], Step [5717/5961], Train Loss: 0.0380 , Logging Time Proportion: 0.0029, Data Loading Time Proportion: 0.0099\n",
      "\u001b[36m(tune_func pid=74602)\u001b[0m Epoch [4/50], Step [5817/5961], Train Loss: 0.0393 , Logging Time Proportion: 0.0036, Data Loading Time Proportion: 0.0096\n",
      "\u001b[36m(tune_func pid=74602)\u001b[0m Epoch [4/50], Step [5917/5961], Train Loss: 0.0374 , Logging Time Proportion: 0.0028, Data Loading Time Proportion: 0.0102\n",
      "\u001b[36m(tune_func pid=74602)\u001b[0m #######################################################################################\n",
      "\u001b[36m(tune_func pid=74602)\u001b[0m Epoch [4/50], Step [5960/5961], Val Loss: 0.0383 Val Log Time Proportion: 0.1346\n",
      "\u001b[36m(tune_func pid=74602)\u001b[0m #######################################################################################\n"
     ]
    },
    {
     "name": "stderr",
     "output_type": "stream",
     "text": [
      "\u001b[36m(tune_func pid=74602)\u001b[0m Checkpoint successfully created at: Checkpoint(filesystem=local, path=/home/daniel/ray_results/tune_func_2024-06-23_03-06-45/tune_func_dc56f_00015_15_batch_size=4,channels=16,depth=6,lr=0.0004_2024-06-23_03-06-46/checkpoint_000019)\n"
     ]
    },
    {
     "name": "stdout",
     "output_type": "stream",
     "text": [
      "\u001b[36m(tune_func pid=76696)\u001b[0m Hurray! GPU available.\n",
      "\u001b[36m(tune_func pid=76696)\u001b[0m Total trainable parameters: 1750657\n",
      "\u001b[36m(tune_func pid=76696)\u001b[0m Epoch [1/50], Step [100/5961], Train Loss: 0.1856 , Logging Time Proportion: 0.0203, Data Loading Time Proportion: 0.0064\n",
      "\u001b[36m(tune_func pid=76696)\u001b[0m Epoch [1/50], Step [200/5961], Train Loss: 0.0928\n",
      "\u001b[36m(tune_func pid=76696)\u001b[0m  , Logging Time Proportion: 0.0035, Data Loading Time Proportion: 0.0105\n",
      "\u001b[36m(tune_func pid=76696)\u001b[0m Epoch [1/50], Step [300/5961], Train Loss: 0.0904 , Logging Time Proportion: 0.0037, Data Loading Time Proportion: 0.0115\n",
      "\u001b[36m(tune_func pid=76696)\u001b[0m Epoch [1/50], Step [400/5961], Train Loss: 0.0888 , Logging Time Proportion: 0.0038, Data Loading Time Proportion: 0.0112\n",
      "\u001b[36m(tune_func pid=76696)\u001b[0m Epoch [1/50], Step [500/5961], Train Loss: 0.0877 , Logging Time Proportion: 0.0042, Data Loading Time Proportion: 0.0106\n",
      "\u001b[36m(tune_func pid=76696)\u001b[0m Epoch [1/50], Step [600/5961], Train Loss: 0.0861 , Logging Time Proportion: 0.0046, Data Loading Time Proportion: 0.0117\n",
      "\u001b[36m(tune_func pid=76696)\u001b[0m Epoch [1/50], Step [700/5961], Train Loss: 0.0850 , Logging Time Proportion: 0.0043, Data Loading Time Proportion: 0.0120\n",
      "\u001b[36m(tune_func pid=76696)\u001b[0m Epoch [1/50], Step [800/5961], Train Loss: 0.0844 , Logging Time Proportion: 0.0034, Data Loading Time Proportion: 0.0118\n",
      "\u001b[36m(tune_func pid=76696)\u001b[0m Epoch [1/50], Step [900/5961], Train Loss: 0.0835 , Logging Time Proportion: 0.0109, Data Loading Time Proportion: 0.0134\n",
      "\u001b[36m(tune_func pid=76696)\u001b[0m Epoch [1/50], Step [1000/5961], Train Loss: 0.0837 , Logging Time Proportion: 0.0038, Data Loading Time Proportion: 0.0127\n",
      "\u001b[36m(tune_func pid=76696)\u001b[0m Epoch [1/50], Step [1100/5961], Train Loss: 0.0791 , Logging Time Proportion: 0.0045, Data Loading Time Proportion: 0.0132\n",
      "\u001b[36m(tune_func pid=76696)\u001b[0m #######################################################################################\n",
      "\u001b[36m(tune_func pid=76696)\u001b[0m Epoch [1/50], Step [1192/5961], Val Loss: 0.0780 Val Log Time Proportion: 0.1208\n",
      "\u001b[36m(tune_func pid=76696)\u001b[0m #######################################################################################\n"
     ]
    },
    {
     "name": "stderr",
     "output_type": "stream",
     "text": [
      "\u001b[36m(tune_func pid=76696)\u001b[0m Checkpoint successfully created at: Checkpoint(filesystem=local, path=/home/daniel/ray_results/tune_func_2024-06-23_03-06-45/tune_func_dc56f_00016_16_batch_size=4,channels=16,depth=5,lr=0.0010_2024-06-23_03-06-46/checkpoint_000000)\n"
     ]
    },
    {
     "name": "stdout",
     "output_type": "stream",
     "text": [
      "\u001b[36m(tune_func pid=76696)\u001b[0m Epoch [1/50], Step [1200/5961], Train Loss: 0.0793\n",
      "\u001b[36m(tune_func pid=76696)\u001b[0m  , Logging Time Proportion: 0.0020, Data Loading Time Proportion: 0.0045\n",
      "\u001b[36m(tune_func pid=76696)\u001b[0m Epoch [1/50], Step [1300/5961], Train Loss: 0.0782 , Logging Time Proportion: 0.0036, Data Loading Time Proportion: 0.0117\n",
      "\u001b[36m(tune_func pid=76696)\u001b[0m Epoch [1/50], Step [1400/5961], Train Loss: 0.0766 , Logging Time Proportion: 0.0036, Data Loading Time Proportion: 0.0117\n",
      "\u001b[36m(tune_func pid=76696)\u001b[0m Epoch [1/50], Step [1500/5961], Train Loss: 0.0740\n",
      "\u001b[36m(tune_func pid=76696)\u001b[0m  , Logging Time Proportion: 0.0033, Data Loading Time Proportion: 0.0101\n",
      "\u001b[36m(tune_func pid=76696)\u001b[0m Epoch [1/50], Step [1600/5961], Train Loss: 0.0723 , Logging Time Proportion: 0.0035, Data Loading Time Proportion: 0.0116\n",
      "\u001b[36m(tune_func pid=76696)\u001b[0m Epoch [1/50], Step [1700/5961], Train Loss: 0.0718 , Logging Time Proportion: 0.0047, Data Loading Time Proportion: 0.0116\n",
      "\u001b[36m(tune_func pid=76696)\u001b[0m Epoch [1/50], Step [1800/5961], Train Loss: 0.0696 , Logging Time Proportion: 0.0045, Data Loading Time Proportion: 0.0121\n",
      "\u001b[36m(tune_func pid=76696)\u001b[0m Epoch [1/50], Step [1900/5961], Train Loss: 0.0655 , Logging Time Proportion: 0.0046, Data Loading Time Proportion: 0.0119\n",
      "\u001b[36m(tune_func pid=76696)\u001b[0m Epoch [1/50], Step [2000/5961], Train Loss: 0.0668 , Logging Time Proportion: 0.0055, Data Loading Time Proportion: 0.0120\n",
      "\u001b[36m(tune_func pid=76696)\u001b[0m Epoch [1/50], Step [2100/5961], Train Loss: 0.0643 , Logging Time Proportion: 0.0039, Data Loading Time Proportion: 0.0109\n",
      "\u001b[36m(tune_func pid=76696)\u001b[0m Epoch [1/50], Step [2200/5961], Train Loss: 0.0637 , Logging Time Proportion: 0.0045, Data Loading Time Proportion: 0.0127\n",
      "\u001b[36m(tune_func pid=76696)\u001b[0m Epoch [1/50], Step [2300/5961], Train Loss: 0.0629 , Logging Time Proportion: 0.0041, Data Loading Time Proportion: 0.0111\n",
      "\u001b[36m(tune_func pid=76696)\u001b[0m #######################################################################################\n",
      "\u001b[36m(tune_func pid=76696)\u001b[0m Epoch [1/50], Step [2384/5961], Val Loss: 0.0621 Val Log Time Proportion: 0.1068\n",
      "\u001b[36m(tune_func pid=76696)\u001b[0m #######################################################################################\n"
     ]
    },
    {
     "name": "stderr",
     "output_type": "stream",
     "text": [
      "\u001b[36m(tune_func pid=76696)\u001b[0m Checkpoint successfully created at: Checkpoint(filesystem=local, path=/home/daniel/ray_results/tune_func_2024-06-23_03-06-45/tune_func_dc56f_00016_16_batch_size=4,channels=16,depth=5,lr=0.0010_2024-06-23_03-06-46/checkpoint_000001)\n"
     ]
    },
    {
     "name": "stdout",
     "output_type": "stream",
     "text": [
      "\u001b[36m(tune_func pid=76696)\u001b[0m Epoch [1/50], Step [2400/5961], Train Loss: 0.0620 , Logging Time Proportion: 0.0014, Data Loading Time Proportion: 0.0051\n",
      "\u001b[36m(tune_func pid=76696)\u001b[0m Epoch [1/50], Step [2500/5961], Train Loss: 0.0631 , Logging Time Proportion: 0.0037, Data Loading Time Proportion: 0.0125\n",
      "\u001b[36m(tune_func pid=76696)\u001b[0m Epoch [1/50], Step [2600/5961], Train Loss: 0.0619 , Logging Time Proportion: 0.0040, Data Loading Time Proportion: 0.0130\n",
      "\u001b[36m(tune_func pid=76696)\u001b[0m Epoch [1/50], Step [2700/5961], Train Loss: 0.0602 , Logging Time Proportion: 0.0054, Data Loading Time Proportion: 0.0116\n",
      "\u001b[36m(tune_func pid=76696)\u001b[0m Epoch [1/50], Step [2800/5961], Train Loss: 0.0601 , Logging Time Proportion: 0.0038, Data Loading Time Proportion: 0.0117\n",
      "\u001b[36m(tune_func pid=76696)\u001b[0m Epoch [1/50], Step [2900/5961], Train Loss: 0.0617 , Logging Time Proportion: 0.0038, Data Loading Time Proportion: 0.0120\n",
      "\u001b[36m(tune_func pid=76696)\u001b[0m Epoch [1/50], Step [3000/5961], Train Loss: 0.0571 , Logging Time Proportion: 0.0036, Data Loading Time Proportion: 0.0119\n",
      "\u001b[36m(tune_func pid=76696)\u001b[0m Epoch [1/50], Step [3100/5961], Train Loss: 0.0573 , Logging Time Proportion: 0.0039, Data Loading Time Proportion: 0.0117\n",
      "\u001b[36m(tune_func pid=76696)\u001b[0m Epoch [1/50], Step [3200/5961], Train Loss: 0.0599 , Logging Time Proportion: 0.0033, Data Loading Time Proportion: 0.0119\n",
      "\u001b[36m(tune_func pid=76696)\u001b[0m Epoch [1/50], Step [3300/5961], Train Loss: 0.0561 , Logging Time Proportion: 0.0043, Data Loading Time Proportion: 0.0118\n",
      "\u001b[36m(tune_func pid=76696)\u001b[0m Epoch [1/50], Step [3400/5961], Train Loss: 0.0534\n",
      "\u001b[36m(tune_func pid=76696)\u001b[0m  , Logging Time Proportion: 0.0032, Data Loading Time Proportion: 0.0113\n",
      "\u001b[36m(tune_func pid=76696)\u001b[0m Epoch [1/50], Step [3500/5961], Train Loss: 0.0525 , Logging Time Proportion: 0.0028, Data Loading Time Proportion: 0.0116\n",
      "\u001b[36m(tune_func pid=76696)\u001b[0m #######################################################################################\n",
      "\u001b[36m(tune_func pid=76696)\u001b[0m Epoch [1/50], Step [3576/5961], Val Loss: 0.0505 Val Log Time Proportion: 0.1028\n",
      "\u001b[36m(tune_func pid=76696)\u001b[0m #######################################################################################\n"
     ]
    },
    {
     "name": "stderr",
     "output_type": "stream",
     "text": [
      "\u001b[36m(tune_func pid=76696)\u001b[0m Checkpoint successfully created at: Checkpoint(filesystem=local, path=/home/daniel/ray_results/tune_func_2024-06-23_03-06-45/tune_func_dc56f_00016_16_batch_size=4,channels=16,depth=5,lr=0.0010_2024-06-23_03-06-46/checkpoint_000002)\n"
     ]
    },
    {
     "name": "stdout",
     "output_type": "stream",
     "text": [
      "\u001b[36m(tune_func pid=76696)\u001b[0m Epoch [1/50], Step [3600/5961], Train Loss: 0.0527 , Logging Time Proportion: 0.0018, Data Loading Time Proportion: 0.0052\n",
      "\u001b[36m(tune_func pid=76696)\u001b[0m Epoch [1/50], Step [3700/5961], Train Loss: 0.0520 , Logging Time Proportion: 0.0044, Data Loading Time Proportion: 0.0105\n",
      "\u001b[36m(tune_func pid=76696)\u001b[0m Epoch [1/50], Step [3800/5961], Train Loss: 0.0498 , Logging Time Proportion: 0.0035, Data Loading Time Proportion: 0.0120\n",
      "\u001b[36m(tune_func pid=76696)\u001b[0m Epoch [1/50], Step [3900/5961], Train Loss: 0.0526 , Logging Time Proportion: 0.0035, Data Loading Time Proportion: 0.0119\n",
      "\u001b[36m(tune_func pid=76696)\u001b[0m Epoch [1/50], Step [4000/5961], Train Loss: 0.0484\n",
      "\u001b[36m(tune_func pid=76696)\u001b[0m  , Logging Time Proportion: 0.0046, Data Loading Time Proportion: 0.0112\n",
      "\u001b[36m(tune_func pid=76696)\u001b[0m Epoch [1/50], Step [4100/5961], Train Loss: 0.0502 , Logging Time Proportion: 0.0032, Data Loading Time Proportion: 0.0106\n",
      "\u001b[36m(tune_func pid=76696)\u001b[0m Epoch [1/50], Step [4200/5961], Train Loss: 0.0516 , Logging Time Proportion: 0.0043, Data Loading Time Proportion: 0.0109\n",
      "\u001b[36m(tune_func pid=76696)\u001b[0m Epoch [1/50], Step [4300/5961], Train Loss: 0.0520 , Logging Time Proportion: 0.0037, Data Loading Time Proportion: 0.0108\n",
      "\u001b[36m(tune_func pid=76696)\u001b[0m Epoch [1/50], Step [4400/5961], Train Loss: 0.0522 , Logging Time Proportion: 0.0043, Data Loading Time Proportion: 0.0118\n",
      "\u001b[36m(tune_func pid=76696)\u001b[0m Epoch [1/50], Step [4500/5961], Train Loss: 0.0489 , Logging Time Proportion: 0.0043, Data Loading Time Proportion: 0.0102\n",
      "\u001b[36m(tune_func pid=76696)\u001b[0m Epoch [1/50], Step [4600/5961], Train Loss: 0.0521 , Logging Time Proportion: 0.0062, Data Loading Time Proportion: 0.0114\n",
      "\u001b[36m(tune_func pid=76696)\u001b[0m Epoch [1/50], Step [4700/5961], Train Loss: 0.0478 , Logging Time Proportion: 0.0037, Data Loading Time Proportion: 0.0117\n",
      "\u001b[36m(tune_func pid=76696)\u001b[0m #######################################################################################\n",
      "\u001b[36m(tune_func pid=76696)\u001b[0m Epoch [1/50], Step [4768/5961], Val Loss: 0.0489 Val Log Time Proportion: 0.0959\n",
      "\u001b[36m(tune_func pid=76696)\u001b[0m #######################################################################################\n"
     ]
    },
    {
     "name": "stderr",
     "output_type": "stream",
     "text": [
      "\u001b[36m(tune_func pid=76696)\u001b[0m Checkpoint successfully created at: Checkpoint(filesystem=local, path=/home/daniel/ray_results/tune_func_2024-06-23_03-06-45/tune_func_dc56f_00016_16_batch_size=4,channels=16,depth=5,lr=0.0010_2024-06-23_03-06-46/checkpoint_000003)\n"
     ]
    },
    {
     "name": "stdout",
     "output_type": "stream",
     "text": [
      "\u001b[36m(tune_func pid=77089)\u001b[0m Hurray! GPU available.\n",
      "\u001b[36m(tune_func pid=77089)\u001b[0m Total trainable parameters: 6995329\n",
      "\u001b[36m(tune_func pid=77089)\u001b[0m Epoch [1/50], Step [100/5961], Train Loss: 0.2432 , Logging Time Proportion: 0.0077, Data Loading Time Proportion: 0.0104\n",
      "\u001b[36m(tune_func pid=77089)\u001b[0m Epoch [1/50], Step [200/5961], Train Loss: 0.0795 , Logging Time Proportion: 0.0035, Data Loading Time Proportion: 0.0112\n",
      "\u001b[36m(tune_func pid=77089)\u001b[0m Epoch [1/50], Step [300/5961], Train Loss: 0.0659 , Logging Time Proportion: 0.0040, Data Loading Time Proportion: 0.0118\n",
      "\u001b[36m(tune_func pid=77089)\u001b[0m Epoch [1/50], Step [400/5961], Train Loss: 0.0612 , Logging Time Proportion: 0.0035, Data Loading Time Proportion: 0.0110\n",
      "\u001b[36m(tune_func pid=77089)\u001b[0m Epoch [1/50], Step [500/5961], Train Loss: 0.0573 , Logging Time Proportion: 0.0038, Data Loading Time Proportion: 0.0109\n",
      "\u001b[36m(tune_func pid=77089)\u001b[0m Epoch [1/50], Step [600/5961], Train Loss: 0.0586 , Logging Time Proportion: 0.0032, Data Loading Time Proportion: 0.0114\n",
      "\u001b[36m(tune_func pid=77089)\u001b[0m Epoch [1/50], Step [700/5961], Train Loss: 0.0570 , Logging Time Proportion: 0.0035, Data Loading Time Proportion: 0.0114\n",
      "\u001b[36m(tune_func pid=77089)\u001b[0m Epoch [1/50], Step [800/5961], Train Loss: 0.0556 , Logging Time Proportion: 0.0044, Data Loading Time Proportion: 0.0109\n",
      "\u001b[36m(tune_func pid=77089)\u001b[0m Epoch [1/50], Step [900/5961], Train Loss: 0.0535 , Logging Time Proportion: 0.0037, Data Loading Time Proportion: 0.0107\n",
      "\u001b[36m(tune_func pid=77089)\u001b[0m Epoch [1/50], Step [1000/5961], Train Loss: 0.0521 , Logging Time Proportion: 0.0032, Data Loading Time Proportion: 0.0097\n",
      "\u001b[36m(tune_func pid=77089)\u001b[0m Epoch [1/50], Step [1100/5961], Train Loss: 0.0534 , Logging Time Proportion: 0.0035, Data Loading Time Proportion: 0.0108\n",
      "\u001b[36m(tune_func pid=77089)\u001b[0m #######################################################################################\n",
      "\u001b[36m(tune_func pid=77089)\u001b[0m Epoch [1/50], Step [1192/5961], Val Loss: 0.0520 Val Log Time Proportion: 0.1008\n",
      "\u001b[36m(tune_func pid=77089)\u001b[0m #######################################################################################\n"
     ]
    },
    {
     "name": "stderr",
     "output_type": "stream",
     "text": [
      "\u001b[36m(tune_func pid=77089)\u001b[0m Checkpoint successfully created at: Checkpoint(filesystem=local, path=/home/daniel/ray_results/tune_func_2024-06-23_03-06-45/tune_func_dc56f_00017_17_batch_size=4,channels=16,depth=6,lr=0.0003_2024-06-23_03-06-46/checkpoint_000000)\n"
     ]
    },
    {
     "name": "stdout",
     "output_type": "stream",
     "text": [
      "\u001b[36m(tune_func pid=77089)\u001b[0m Epoch [1/50], Step [1200/5961], Train Loss: 0.0535 , Logging Time Proportion: 0.0014, Data Loading Time Proportion: 0.0047\n",
      "\u001b[36m(tune_func pid=77089)\u001b[0m Epoch [1/50], Step [1300/5961], Train Loss: 0.0528 , Logging Time Proportion: 0.0043, Data Loading Time Proportion: 0.0109\n",
      "\u001b[36m(tune_func pid=77089)\u001b[0m Epoch [1/50], Step [1400/5961], Train Loss: 0.0520\n",
      "\u001b[36m(tune_func pid=77089)\u001b[0m  , Logging Time Proportion: 0.0034, Data Loading Time Proportion: 0.0109\n",
      "\u001b[36m(tune_func pid=77089)\u001b[0m Epoch [1/50], Step [1500/5961], Train Loss: 0.0520 , Logging Time Proportion: 0.0031, Data Loading Time Proportion: 0.0096\n",
      "\u001b[36m(tune_func pid=77089)\u001b[0m Epoch [1/50], Step [1600/5961], Train Loss: 0.0518 , Logging Time Proportion: 0.0044, Data Loading Time Proportion: 0.0110\n",
      "\u001b[36m(tune_func pid=77089)\u001b[0m Epoch [1/50], Step [1700/5961], Train Loss: 0.0506 , Logging Time Proportion: 0.0028, Data Loading Time Proportion: 0.0104\n",
      "\u001b[36m(tune_func pid=77089)\u001b[0m Epoch [1/50], Step [1800/5961], Train Loss: 0.0503 , Logging Time Proportion: 0.0031, Data Loading Time Proportion: 0.0108\n",
      "\u001b[36m(tune_func pid=77089)\u001b[0m Epoch [1/50], Step [1900/5961], Train Loss: 0.0483 , Logging Time Proportion: 0.0035, Data Loading Time Proportion: 0.0110\n",
      "\u001b[36m(tune_func pid=77089)\u001b[0m Epoch [1/50], Step [2000/5961], Train Loss: 0.0481 , Logging Time Proportion: 0.0024, Data Loading Time Proportion: 0.0105\n",
      "\u001b[36m(tune_func pid=77089)\u001b[0m Epoch [1/50], Step [2100/5961], Train Loss: 0.0471 , Logging Time Proportion: 0.0031, Data Loading Time Proportion: 0.0105\n",
      "\u001b[36m(tune_func pid=77089)\u001b[0m Epoch [1/50], Step [2200/5961], Train Loss: 0.0475 , Logging Time Proportion: 0.0029, Data Loading Time Proportion: 0.0095\n",
      "\u001b[36m(tune_func pid=77089)\u001b[0m Epoch [1/50], Step [2300/5961], Train Loss: 0.0494 , Logging Time Proportion: 0.0026, Data Loading Time Proportion: 0.0105\n",
      "\u001b[36m(tune_func pid=77089)\u001b[0m #######################################################################################\n",
      "\u001b[36m(tune_func pid=77089)\u001b[0m Epoch [1/50], Step [2384/5961], Val Loss: 0.0474 Val Log Time Proportion: 0.0988\n",
      "\u001b[36m(tune_func pid=77089)\u001b[0m #######################################################################################\n"
     ]
    },
    {
     "name": "stderr",
     "output_type": "stream",
     "text": [
      "\u001b[36m(tune_func pid=77089)\u001b[0m Checkpoint successfully created at: Checkpoint(filesystem=local, path=/home/daniel/ray_results/tune_func_2024-06-23_03-06-45/tune_func_dc56f_00017_17_batch_size=4,channels=16,depth=6,lr=0.0003_2024-06-23_03-06-46/checkpoint_000001)\n"
     ]
    },
    {
     "name": "stdout",
     "output_type": "stream",
     "text": [
      "\u001b[36m(tune_func pid=77089)\u001b[0m Epoch [1/50], Step [2400/5961], Train Loss: 0.0446 , Logging Time Proportion: 0.0014, Data Loading Time Proportion: 0.0044\n",
      "\u001b[36m(tune_func pid=77089)\u001b[0m Epoch [1/50], Step [2500/5961], Train Loss: 0.0480 , Logging Time Proportion: 0.0035, Data Loading Time Proportion: 0.0107\n",
      "\u001b[36m(tune_func pid=77089)\u001b[0m Epoch [1/50], Step [2600/5961], Train Loss: 0.0477 , Logging Time Proportion: 0.0041, Data Loading Time Proportion: 0.0100\n",
      "\u001b[36m(tune_func pid=77089)\u001b[0m Epoch [1/50], Step [2700/5961], Train Loss: 0.0471 , Logging Time Proportion: 0.0037, Data Loading Time Proportion: 0.0100\n",
      "\u001b[36m(tune_func pid=77089)\u001b[0m Epoch [1/50], Step [2800/5961], Train Loss: 0.0473 , Logging Time Proportion: 0.0026, Data Loading Time Proportion: 0.0101\n",
      "\u001b[36m(tune_func pid=77089)\u001b[0m Epoch [1/50], Step [2900/5961], Train Loss: 0.0477 , Logging Time Proportion: 0.0032, Data Loading Time Proportion: 0.0101\n",
      "\u001b[36m(tune_func pid=77089)\u001b[0m Epoch [1/50], Step [3000/5961], Train Loss: 0.0471 , Logging Time Proportion: 0.0037, Data Loading Time Proportion: 0.0102\n",
      "\u001b[36m(tune_func pid=77089)\u001b[0m Epoch [1/50], Step [3100/5961], Train Loss: 0.0453 , Logging Time Proportion: 0.0023, Data Loading Time Proportion: 0.0089\n",
      "\u001b[36m(tune_func pid=77089)\u001b[0m Epoch [1/50], Step [3200/5961], Train Loss: 0.0443 , Logging Time Proportion: 0.0031, Data Loading Time Proportion: 0.0101\n",
      "\u001b[36m(tune_func pid=77089)\u001b[0m Epoch [1/50], Step [3300/5961], Train Loss: 0.0438 , Logging Time Proportion: 0.0035, Data Loading Time Proportion: 0.0093\n",
      "\u001b[36m(tune_func pid=77089)\u001b[0m Epoch [1/50], Step [3400/5961], Train Loss: 0.0463 , Logging Time Proportion: 0.0030, Data Loading Time Proportion: 0.0099\n",
      "\u001b[36m(tune_func pid=77089)\u001b[0m Epoch [1/50], Step [3500/5961], Train Loss: 0.0457 , Logging Time Proportion: 0.0034, Data Loading Time Proportion: 0.0104\n",
      "\u001b[36m(tune_func pid=77089)\u001b[0m #######################################################################################\n",
      "\u001b[36m(tune_func pid=77089)\u001b[0m Epoch [1/50], Step [3576/5961], Val Loss: 0.0446 Val Log Time Proportion: 0.0913\n",
      "\u001b[36m(tune_func pid=77089)\u001b[0m #######################################################################################\n"
     ]
    },
    {
     "name": "stderr",
     "output_type": "stream",
     "text": [
      "\u001b[36m(tune_func pid=77089)\u001b[0m Checkpoint successfully created at: Checkpoint(filesystem=local, path=/home/daniel/ray_results/tune_func_2024-06-23_03-06-45/tune_func_dc56f_00017_17_batch_size=4,channels=16,depth=6,lr=0.0003_2024-06-23_03-06-46/checkpoint_000002)\n"
     ]
    },
    {
     "name": "stdout",
     "output_type": "stream",
     "text": [
      "\u001b[36m(tune_func pid=77089)\u001b[0m Epoch [1/50], Step [3600/5961], Train Loss: 0.0451 , Logging Time Proportion: 0.0013, Data Loading Time Proportion: 0.0047\n",
      "\u001b[36m(tune_func pid=77089)\u001b[0m Epoch [1/50], Step [3700/5961], Train Loss: 0.0439 , Logging Time Proportion: 0.0029, Data Loading Time Proportion: 0.0097\n",
      "\u001b[36m(tune_func pid=77089)\u001b[0m Epoch [1/50], Step [3800/5961], Train Loss: 0.0454\n",
      "\u001b[36m(tune_func pid=77089)\u001b[0m  , Logging Time Proportion: 0.0038, Data Loading Time Proportion: 0.0098\n",
      "\u001b[36m(tune_func pid=77089)\u001b[0m Epoch [1/50], Step [3900/5961], Train Loss: 0.0437 , Logging Time Proportion: 0.0023, Data Loading Time Proportion: 0.0089\n",
      "\u001b[36m(tune_func pid=77089)\u001b[0m Epoch [1/50], Step [4000/5961], Train Loss: 0.0447 , Logging Time Proportion: 0.0024, Data Loading Time Proportion: 0.0106\n",
      "\u001b[36m(tune_func pid=77089)\u001b[0m Epoch [1/50], Step [4100/5961], Train Loss: 0.0450 , Logging Time Proportion: 0.0038, Data Loading Time Proportion: 0.0106\n",
      "\u001b[36m(tune_func pid=77089)\u001b[0m Epoch [1/50], Step [4200/5961], Train Loss: 0.0452 , Logging Time Proportion: 0.0030, Data Loading Time Proportion: 0.0101\n",
      "\u001b[36m(tune_func pid=77089)\u001b[0m Epoch [1/50], Step [4300/5961], Train Loss: 0.0446 , Logging Time Proportion: 0.0028, Data Loading Time Proportion: 0.0094\n",
      "\u001b[36m(tune_func pid=77089)\u001b[0m Epoch [1/50], Step [4400/5961], Train Loss: 0.0436 , Logging Time Proportion: 0.0025, Data Loading Time Proportion: 0.0098\n",
      "\u001b[36m(tune_func pid=77089)\u001b[0m Epoch [1/50], Step [4500/5961], Train Loss: 0.0443 , Logging Time Proportion: 0.0025, Data Loading Time Proportion: 0.0092\n",
      "\u001b[36m(tune_func pid=77089)\u001b[0m Epoch [1/50], Step [4600/5961], Train Loss: 0.0437 , Logging Time Proportion: 0.0027, Data Loading Time Proportion: 0.0099\n",
      "\u001b[36m(tune_func pid=77089)\u001b[0m Epoch [1/50], Step [4700/5961], Train Loss: 0.0438 , Logging Time Proportion: 0.0036, Data Loading Time Proportion: 0.0092\n",
      "\u001b[36m(tune_func pid=77089)\u001b[0m #######################################################################################\n",
      "\u001b[36m(tune_func pid=77089)\u001b[0m Epoch [1/50], Step [4768/5961], Val Loss: 0.0429 Val Log Time Proportion: 0.0843\n",
      "\u001b[36m(tune_func pid=77089)\u001b[0m #######################################################################################\n"
     ]
    },
    {
     "name": "stderr",
     "output_type": "stream",
     "text": [
      "\u001b[36m(tune_func pid=77089)\u001b[0m Checkpoint successfully created at: Checkpoint(filesystem=local, path=/home/daniel/ray_results/tune_func_2024-06-23_03-06-45/tune_func_dc56f_00017_17_batch_size=4,channels=16,depth=6,lr=0.0003_2024-06-23_03-06-46/checkpoint_000003)\n"
     ]
    },
    {
     "name": "stdout",
     "output_type": "stream",
     "text": [
      "\u001b[36m(tune_func pid=77089)\u001b[0m Epoch [1/50], Step [4800/5961], Train Loss: 0.0429 , Logging Time Proportion: 0.0012, Data Loading Time Proportion: 0.0044\n",
      "\u001b[36m(tune_func pid=77089)\u001b[0m Epoch [1/50], Step [4900/5961], Train Loss: 0.0446 , Logging Time Proportion: 0.0026, Data Loading Time Proportion: 0.0084\n",
      "\u001b[36m(tune_func pid=77089)\u001b[0m Epoch [1/50], Step [5000/5961], Train Loss: 0.0441 , Logging Time Proportion: 0.0022, Data Loading Time Proportion: 0.0086\n",
      "\u001b[36m(tune_func pid=77089)\u001b[0m Epoch [1/50], Step [5100/5961], Train Loss: 0.0447 , Logging Time Proportion: 0.0027, Data Loading Time Proportion: 0.0094\n",
      "\u001b[36m(tune_func pid=77089)\u001b[0m Epoch [1/50], Step [5200/5961], Train Loss: 0.0430 , Logging Time Proportion: 0.0024, Data Loading Time Proportion: 0.0078\n",
      "\u001b[36m(tune_func pid=77089)\u001b[0m Epoch [1/50], Step [5300/5961], Train Loss: 0.0433 , Logging Time Proportion: 0.0026, Data Loading Time Proportion: 0.0079\n",
      "\u001b[36m(tune_func pid=77089)\u001b[0m Epoch [1/50], Step [5400/5961], Train Loss: 0.0432 , Logging Time Proportion: 0.0027, Data Loading Time Proportion: 0.0083\n",
      "\u001b[36m(tune_func pid=77089)\u001b[0m Epoch [1/50], Step [5500/5961], Train Loss: 0.0452 , Logging Time Proportion: 0.0026, Data Loading Time Proportion: 0.0089\n",
      "\u001b[36m(tune_func pid=77089)\u001b[0m Epoch [1/50], Step [5600/5961], Train Loss: 0.0449 , Logging Time Proportion: 0.0029, Data Loading Time Proportion: 0.0092\n",
      "\u001b[36m(tune_func pid=77089)\u001b[0m Epoch [1/50], Step [5700/5961], Train Loss: 0.0441 , Logging Time Proportion: 0.0027, Data Loading Time Proportion: 0.0082\n",
      "\u001b[36m(tune_func pid=77089)\u001b[0m Epoch [1/50], Step [5800/5961], Train Loss: 0.0426\n",
      "\u001b[36m(tune_func pid=77089)\u001b[0m  , Logging Time Proportion: 0.0020, Data Loading Time Proportion: 0.0087\n",
      "\u001b[36m(tune_func pid=77089)\u001b[0m Epoch [1/50], Step [5900/5961], Train Loss: 0.0448 , Logging Time Proportion: 0.0024, Data Loading Time Proportion: 0.0080\n",
      "\u001b[36m(tune_func pid=77089)\u001b[0m #######################################################################################\n",
      "\u001b[36m(tune_func pid=77089)\u001b[0m Epoch [1/50], Step [5960/5961], Val Loss: 0.0432 Val Log Time Proportion: 0.0781\n",
      "\u001b[36m(tune_func pid=77089)\u001b[0m #######################################################################################\n"
     ]
    },
    {
     "name": "stderr",
     "output_type": "stream",
     "text": [
      "\u001b[36m(tune_func pid=77089)\u001b[0m Checkpoint successfully created at: Checkpoint(filesystem=local, path=/home/daniel/ray_results/tune_func_2024-06-23_03-06-45/tune_func_dc56f_00017_17_batch_size=4,channels=16,depth=6,lr=0.0003_2024-06-23_03-06-46/checkpoint_000004)\n"
     ]
    },
    {
     "name": "stdout",
     "output_type": "stream",
     "text": [
      "\u001b[36m(tune_func pid=77089)\u001b[0m Epoch [2/50], Step [39/5961], Train Loss: 0.0168 , Logging Time Proportion: 0.0014, Data Loading Time Proportion: 0.0046\n",
      "\u001b[36m(tune_func pid=77089)\u001b[0m Epoch [2/50], Step [139/5961], Train Loss: 0.0420 , Logging Time Proportion: 0.0030, Data Loading Time Proportion: 0.0102\n",
      "\u001b[36m(tune_func pid=77089)\u001b[0m Epoch [2/50], Step [239/5961], Train Loss: 0.0428 , Logging Time Proportion: 0.0028, Data Loading Time Proportion: 0.0092\n",
      "\u001b[36m(tune_func pid=77089)\u001b[0m Epoch [2/50], Step [339/5961], Train Loss: 0.0422 , Logging Time Proportion: 0.0025, Data Loading Time Proportion: 0.0097\n",
      "\u001b[36m(tune_func pid=77089)\u001b[0m Epoch [2/50], Step [439/5961], Train Loss: 0.0428 , Logging Time Proportion: 0.0027, Data Loading Time Proportion: 0.0093\n",
      "\u001b[36m(tune_func pid=77089)\u001b[0m Epoch [2/50], Step [539/5961], Train Loss: 0.0420 , Logging Time Proportion: 0.0027, Data Loading Time Proportion: 0.0097\n",
      "\u001b[36m(tune_func pid=77089)\u001b[0m Epoch [2/50], Step [639/5961], Train Loss: 0.0417 , Logging Time Proportion: 0.0030, Data Loading Time Proportion: 0.0097\n",
      "\u001b[36m(tune_func pid=77089)\u001b[0m Epoch [2/50], Step [739/5961], Train Loss: 0.0449 , Logging Time Proportion: 0.0031, Data Loading Time Proportion: 0.0091\n",
      "\u001b[36m(tune_func pid=77089)\u001b[0m Epoch [2/50], Step [839/5961], Train Loss: 0.0434 , Logging Time Proportion: 0.0030, Data Loading Time Proportion: 0.0100\n",
      "\u001b[36m(tune_func pid=77089)\u001b[0m Epoch [2/50], Step [939/5961], Train Loss: 0.0425 , Logging Time Proportion: 0.0025, Data Loading Time Proportion: 0.0099\n",
      "\u001b[36m(tune_func pid=77089)\u001b[0m Epoch [2/50], Step [1039/5961], Train Loss: 0.0432 , Logging Time Proportion: 0.0027, Data Loading Time Proportion: 0.0095\n",
      "\u001b[36m(tune_func pid=77089)\u001b[0m Epoch [2/50], Step [1139/5961], Train Loss: 0.0431 , Logging Time Proportion: 0.0022, Data Loading Time Proportion: 0.0098\n",
      "\u001b[36m(tune_func pid=77089)\u001b[0m #######################################################################################\n",
      "\u001b[36m(tune_func pid=77089)\u001b[0m Epoch [2/50], Step [1192/5961], Val Loss: 0.0423 Val Log Time Proportion: 0.0922\n",
      "\u001b[36m(tune_func pid=77089)\u001b[0m #######################################################################################\n"
     ]
    },
    {
     "name": "stderr",
     "output_type": "stream",
     "text": [
      "\u001b[36m(tune_func pid=77089)\u001b[0m Checkpoint successfully created at: Checkpoint(filesystem=local, path=/home/daniel/ray_results/tune_func_2024-06-23_03-06-45/tune_func_dc56f_00017_17_batch_size=4,channels=16,depth=6,lr=0.0003_2024-06-23_03-06-46/checkpoint_000005)\n"
     ]
    },
    {
     "name": "stdout",
     "output_type": "stream",
     "text": [
      "\u001b[36m(tune_func pid=77089)\u001b[0m Epoch [2/50], Step [1239/5961], Train Loss: 0.0404 , Logging Time Proportion: 0.0016, Data Loading Time Proportion: 0.0043\n",
      "\u001b[36m(tune_func pid=77089)\u001b[0m Epoch [2/50], Step [1339/5961], Train Loss: 0.0428 , Logging Time Proportion: 0.0025, Data Loading Time Proportion: 0.0077\n",
      "\u001b[36m(tune_func pid=77089)\u001b[0m Epoch [2/50], Step [1439/5961], Train Loss: 0.0430 , Logging Time Proportion: 0.0020, Data Loading Time Proportion: 0.0068\n",
      "\u001b[36m(tune_func pid=77089)\u001b[0m Epoch [2/50], Step [1539/5961], Train Loss: 0.0425 , Logging Time Proportion: 0.0026, Data Loading Time Proportion: 0.0082\n",
      "\u001b[36m(tune_func pid=77089)\u001b[0m Epoch [2/50], Step [1639/5961], Train Loss: 0.0425 , Logging Time Proportion: 0.0024, Data Loading Time Proportion: 0.0086\n",
      "\u001b[36m(tune_func pid=77089)\u001b[0m Epoch [2/50], Step [1739/5961], Train Loss: 0.0409 , Logging Time Proportion: 0.0025, Data Loading Time Proportion: 0.0086\n",
      "\u001b[36m(tune_func pid=77089)\u001b[0m Epoch [2/50], Step [1839/5961], Train Loss: 0.0419 , Logging Time Proportion: 0.0029, Data Loading Time Proportion: 0.0091\n",
      "\u001b[36m(tune_func pid=77089)\u001b[0m Epoch [2/50], Step [1939/5961], Train Loss: 0.0419 , Logging Time Proportion: 0.0022, Data Loading Time Proportion: 0.0078\n",
      "\u001b[36m(tune_func pid=77089)\u001b[0m Epoch [2/50], Step [2039/5961], Train Loss: 0.0415 , Logging Time Proportion: 0.0015, Data Loading Time Proportion: 0.0066\n",
      "\u001b[36m(tune_func pid=77089)\u001b[0m Epoch [2/50], Step [2139/5961], Train Loss: 0.0427 , Logging Time Proportion: 0.0019, Data Loading Time Proportion: 0.0065\n",
      "\u001b[36m(tune_func pid=77089)\u001b[0m Epoch [2/50], Step [2239/5961], Train Loss: 0.0422 , Logging Time Proportion: 0.0024, Data Loading Time Proportion: 0.0086\n",
      "\u001b[36m(tune_func pid=77089)\u001b[0m Epoch [2/50], Step [2339/5961], Train Loss: 0.0415 , Logging Time Proportion: 0.0023, Data Loading Time Proportion: 0.0085\n",
      "\u001b[36m(tune_func pid=77089)\u001b[0m #######################################################################################\n",
      "\u001b[36m(tune_func pid=77089)\u001b[0m Epoch [2/50], Step [2384/5961], Val Loss: 0.0430 Val Log Time Proportion: 0.2503\n",
      "\u001b[36m(tune_func pid=77089)\u001b[0m #######################################################################################\n"
     ]
    },
    {
     "name": "stderr",
     "output_type": "stream",
     "text": [
      "\u001b[36m(tune_func pid=77089)\u001b[0m Checkpoint successfully created at: Checkpoint(filesystem=local, path=/home/daniel/ray_results/tune_func_2024-06-23_03-06-45/tune_func_dc56f_00017_17_batch_size=4,channels=16,depth=6,lr=0.0003_2024-06-23_03-06-46/checkpoint_000006)\n"
     ]
    },
    {
     "name": "stdout",
     "output_type": "stream",
     "text": [
      "\u001b[36m(tune_func pid=77089)\u001b[0m Epoch [2/50], Step [2439/5961], Train Loss: 0.0428 , Logging Time Proportion: 0.0006, Data Loading Time Proportion: 0.0019\n",
      "\u001b[36m(tune_func pid=77089)\u001b[0m Epoch [2/50], Step [2539/5961], Train Loss: 0.0408 , Logging Time Proportion: 0.0022, Data Loading Time Proportion: 0.0067\n",
      "\u001b[36m(tune_func pid=77089)\u001b[0m Epoch [2/50], Step [2639/5961], Train Loss: 0.0393 , Logging Time Proportion: 0.0023, Data Loading Time Proportion: 0.0075\n",
      "\u001b[36m(tune_func pid=77089)\u001b[0m Epoch [2/50], Step [2739/5961], Train Loss: 0.0396 , Logging Time Proportion: 0.0023, Data Loading Time Proportion: 0.0073\n",
      "\u001b[36m(tune_func pid=77089)\u001b[0m Epoch [2/50], Step [2839/5961], Train Loss: 0.0422 , Logging Time Proportion: 0.0020, Data Loading Time Proportion: 0.0064\n",
      "\u001b[36m(tune_func pid=77089)\u001b[0m Epoch [2/50], Step [2939/5961], Train Loss: 0.0408 , Logging Time Proportion: 0.0022, Data Loading Time Proportion: 0.0070\n",
      "\u001b[36m(tune_func pid=77089)\u001b[0m Epoch [2/50], Step [3039/5961], Train Loss: 0.0427 , Logging Time Proportion: 0.0023, Data Loading Time Proportion: 0.0070\n",
      "\u001b[36m(tune_func pid=77089)\u001b[0m Epoch [2/50], Step [3139/5961], Train Loss: 0.0424 , Logging Time Proportion: 0.0021, Data Loading Time Proportion: 0.0079\n",
      "\u001b[36m(tune_func pid=77089)\u001b[0m Epoch [2/50], Step [3239/5961], Train Loss: 0.0399 , Logging Time Proportion: 0.0025, Data Loading Time Proportion: 0.0077\n",
      "\u001b[36m(tune_func pid=77089)\u001b[0m Epoch [2/50], Step [3339/5961], Train Loss: 0.0426 , Logging Time Proportion: 0.0023, Data Loading Time Proportion: 0.0073\n",
      "\u001b[36m(tune_func pid=77089)\u001b[0m Epoch [2/50], Step [3439/5961], Train Loss: 0.0430 , Logging Time Proportion: 0.0023, Data Loading Time Proportion: 0.0066\n",
      "\u001b[36m(tune_func pid=77089)\u001b[0m Epoch [2/50], Step [3539/5961], Train Loss: 0.0415 , Logging Time Proportion: 0.0020, Data Loading Time Proportion: 0.0076\n",
      "\u001b[36m(tune_func pid=77089)\u001b[0m #######################################################################################\n",
      "\u001b[36m(tune_func pid=77089)\u001b[0m Epoch [2/50], Step [3576/5961], Val Loss: 0.0414 Val Log Time Proportion: 0.0726\n",
      "\u001b[36m(tune_func pid=77089)\u001b[0m #######################################################################################\n"
     ]
    },
    {
     "name": "stderr",
     "output_type": "stream",
     "text": [
      "\u001b[36m(tune_func pid=77089)\u001b[0m Checkpoint successfully created at: Checkpoint(filesystem=local, path=/home/daniel/ray_results/tune_func_2024-06-23_03-06-45/tune_func_dc56f_00017_17_batch_size=4,channels=16,depth=6,lr=0.0003_2024-06-23_03-06-46/checkpoint_000007)\n"
     ]
    },
    {
     "name": "stdout",
     "output_type": "stream",
     "text": [
      "\u001b[36m(tune_func pid=77089)\u001b[0m Epoch [2/50], Step [3639/5961], Train Loss: 0.0389 , Logging Time Proportion: 0.0012, Data Loading Time Proportion: 0.0038\n",
      "\u001b[36m(tune_func pid=77089)\u001b[0m Epoch [2/50], Step [3739/5961], Train Loss: 0.0413 , Logging Time Proportion: 0.0023, Data Loading Time Proportion: 0.0060\n",
      "\u001b[36m(tune_func pid=77089)\u001b[0m Epoch [2/50], Step [3839/5961], Train Loss: 0.0405 , Logging Time Proportion: 0.0021, Data Loading Time Proportion: 0.0073\n",
      "\u001b[36m(tune_func pid=77089)\u001b[0m Epoch [2/50], Step [3939/5961], Train Loss: 0.0414 , Logging Time Proportion: 0.0018, Data Loading Time Proportion: 0.0077\n",
      "\u001b[36m(tune_func pid=77089)\u001b[0m Epoch [2/50], Step [4039/5961], Train Loss: 0.0396 , Logging Time Proportion: 0.0023, Data Loading Time Proportion: 0.0077\n",
      "\u001b[36m(tune_func pid=77089)\u001b[0m Epoch [2/50], Step [4139/5961], Train Loss: 0.0400 , Logging Time Proportion: 0.0019, Data Loading Time Proportion: 0.0075\n",
      "\u001b[36m(tune_func pid=77089)\u001b[0m Epoch [2/50], Step [4239/5961], Train Loss: 0.0398 , Logging Time Proportion: 0.0020, Data Loading Time Proportion: 0.0071\n",
      "\u001b[36m(tune_func pid=77089)\u001b[0m Epoch [2/50], Step [4339/5961], Train Loss: 0.0413 , Logging Time Proportion: 0.0020, Data Loading Time Proportion: 0.0068\n",
      "\u001b[36m(tune_func pid=77089)\u001b[0m Epoch [2/50], Step [4439/5961], Train Loss: 0.0411 , Logging Time Proportion: 0.0018, Data Loading Time Proportion: 0.0071\n",
      "\u001b[36m(tune_func pid=77089)\u001b[0m Epoch [2/50], Step [4539/5961], Train Loss: 0.0416 , Logging Time Proportion: 0.0020, Data Loading Time Proportion: 0.0069\n",
      "\u001b[36m(tune_func pid=77089)\u001b[0m Epoch [2/50], Step [4639/5961], Train Loss: 0.0404 , Logging Time Proportion: 0.0024, Data Loading Time Proportion: 0.0062\n",
      "\u001b[36m(tune_func pid=77089)\u001b[0m Epoch [2/50], Step [4739/5961], Train Loss: 0.0408 , Logging Time Proportion: 0.0021, Data Loading Time Proportion: 0.0070\n",
      "\u001b[36m(tune_func pid=77089)\u001b[0m #######################################################################################\n",
      "\u001b[36m(tune_func pid=77089)\u001b[0m Epoch [2/50], Step [4768/5961], Val Loss: 0.0407 Val Log Time Proportion: 0.0640\n",
      "\u001b[36m(tune_func pid=77089)\u001b[0m #######################################################################################\n"
     ]
    },
    {
     "name": "stderr",
     "output_type": "stream",
     "text": [
      "\u001b[36m(tune_func pid=77089)\u001b[0m Checkpoint successfully created at: Checkpoint(filesystem=local, path=/home/daniel/ray_results/tune_func_2024-06-23_03-06-45/tune_func_dc56f_00017_17_batch_size=4,channels=16,depth=6,lr=0.0003_2024-06-23_03-06-46/checkpoint_000008)\n"
     ]
    },
    {
     "name": "stdout",
     "output_type": "stream",
     "text": [
      "\u001b[36m(tune_func pid=77089)\u001b[0m Epoch [2/50], Step [4839/5961], Train Loss: 0.0422 , Logging Time Proportion: 0.0014, Data Loading Time Proportion: 0.0039\n",
      "\u001b[36m(tune_func pid=77089)\u001b[0m Epoch [2/50], Step [4939/5961], Train Loss: 0.0400 , Logging Time Proportion: 0.0023, Data Loading Time Proportion: 0.0060\n",
      "\u001b[36m(tune_func pid=77089)\u001b[0m Epoch [2/50], Step [5039/5961], Train Loss: 0.0411 , Logging Time Proportion: 0.0015, Data Loading Time Proportion: 0.0055\n",
      "\u001b[36m(tune_func pid=77089)\u001b[0m Epoch [2/50], Step [5139/5961], Train Loss: 0.0423 , Logging Time Proportion: 0.0019, Data Loading Time Proportion: 0.0063\n",
      "\u001b[36m(tune_func pid=77089)\u001b[0m Epoch [2/50], Step [5239/5961], Train Loss: 0.0412 , Logging Time Proportion: 0.0019, Data Loading Time Proportion: 0.0063\n",
      "\u001b[36m(tune_func pid=77089)\u001b[0m Epoch [2/50], Step [5339/5961], Train Loss: 0.0416 , Logging Time Proportion: 0.0026, Data Loading Time Proportion: 0.0065\n",
      "\u001b[36m(tune_func pid=77089)\u001b[0m Epoch [2/50], Step [5439/5961], Train Loss: 0.0383 , Logging Time Proportion: 0.0019, Data Loading Time Proportion: 0.0063\n",
      "\u001b[36m(tune_func pid=77089)\u001b[0m Epoch [2/50], Step [5539/5961], Train Loss: 0.0395 , Logging Time Proportion: 0.0018, Data Loading Time Proportion: 0.0060\n",
      "\u001b[36m(tune_func pid=77089)\u001b[0m Epoch [2/50], Step [5639/5961], Train Loss: 0.0415 , Logging Time Proportion: 0.0017, Data Loading Time Proportion: 0.0063\n",
      "\u001b[36m(tune_func pid=77089)\u001b[0m Epoch [2/50], Step [5739/5961], Train Loss: 0.0421 , Logging Time Proportion: 0.0021, Data Loading Time Proportion: 0.0061\n",
      "\u001b[36m(tune_func pid=77089)\u001b[0m Epoch [2/50], Step [5839/5961], Train Loss: 0.0418 , Logging Time Proportion: 0.0016, Data Loading Time Proportion: 0.0052\n",
      "\u001b[36m(tune_func pid=77089)\u001b[0m Epoch [2/50], Step [5939/5961], Train Loss: 0.0407 , Logging Time Proportion: 0.0009, Data Loading Time Proportion: 0.0031\n",
      "\u001b[36m(tune_func pid=77089)\u001b[0m #######################################################################################\n",
      "\u001b[36m(tune_func pid=77089)\u001b[0m Epoch [2/50], Step [5960/5961], Val Loss: 0.0402 Val Log Time Proportion: 0.0814\n",
      "\u001b[36m(tune_func pid=77089)\u001b[0m #######################################################################################\n"
     ]
    },
    {
     "name": "stderr",
     "output_type": "stream",
     "text": [
      "\u001b[36m(tune_func pid=77089)\u001b[0m Checkpoint successfully created at: Checkpoint(filesystem=local, path=/home/daniel/ray_results/tune_func_2024-06-23_03-06-45/tune_func_dc56f_00017_17_batch_size=4,channels=16,depth=6,lr=0.0003_2024-06-23_03-06-46/checkpoint_000009)\n"
     ]
    },
    {
     "name": "stdout",
     "output_type": "stream",
     "text": [
      "\u001b[36m(tune_func pid=77089)\u001b[0m Epoch [3/50], Step [78/5961], Train Loss: 0.0331 , Logging Time Proportion: 0.0008, Data Loading Time Proportion: 0.0031\n",
      "\u001b[36m(tune_func pid=77089)\u001b[0m Epoch [3/50], Step [178/5961], Train Loss: 0.0432 , Logging Time Proportion: 0.0027, Data Loading Time Proportion: 0.0074\n",
      "\u001b[36m(tune_func pid=77089)\u001b[0m Epoch [3/50], Step [278/5961], Train Loss: 0.0391 , Logging Time Proportion: 0.0026, Data Loading Time Proportion: 0.0085\n",
      "\u001b[36m(tune_func pid=77089)\u001b[0m Epoch [3/50], Step [378/5961], Train Loss: 0.0401 , Logging Time Proportion: 0.0026, Data Loading Time Proportion: 0.0087\n",
      "\u001b[36m(tune_func pid=77089)\u001b[0m Epoch [3/50], Step [478/5961], Train Loss: 0.0419 , Logging Time Proportion: 0.0029, Data Loading Time Proportion: 0.0089\n",
      "\u001b[36m(tune_func pid=77089)\u001b[0m Epoch [3/50], Step [578/5961], Train Loss: 0.0411 , Logging Time Proportion: 0.0028, Data Loading Time Proportion: 0.0088\n",
      "\u001b[36m(tune_func pid=77089)\u001b[0m Epoch [3/50], Step [678/5961], Train Loss: 0.0388 , Logging Time Proportion: 0.0028, Data Loading Time Proportion: 0.0088\n",
      "\u001b[36m(tune_func pid=77089)\u001b[0m Epoch [3/50], Step [778/5961], Train Loss: 0.0409 , Logging Time Proportion: 0.0028, Data Loading Time Proportion: 0.0088\n",
      "\u001b[36m(tune_func pid=77089)\u001b[0m Epoch [3/50], Step [878/5961], Train Loss: 0.0412 , Logging Time Proportion: 0.0017, Data Loading Time Proportion: 0.0064\n",
      "\u001b[36m(tune_func pid=77089)\u001b[0m Epoch [3/50], Step [978/5961], Train Loss: 0.0381 , Logging Time Proportion: 0.0024, Data Loading Time Proportion: 0.0074\n",
      "\u001b[36m(tune_func pid=77089)\u001b[0m Epoch [3/50], Step [1078/5961], Train Loss: 0.0406\n",
      "\u001b[36m(tune_func pid=77089)\u001b[0m  , Logging Time Proportion: 0.0028, Data Loading Time Proportion: 0.0082\n",
      "\u001b[36m(tune_func pid=77089)\u001b[0m Epoch [3/50], Step [1178/5961], Train Loss: 0.0405 , Logging Time Proportion: 0.0023, Data Loading Time Proportion: 0.0079\n",
      "\u001b[36m(tune_func pid=77089)\u001b[0m #######################################################################################\n",
      "\u001b[36m(tune_func pid=77089)\u001b[0m Epoch [3/50], Step [1192/5961], Val Loss: 0.0398 Val Log Time Proportion: 0.0753\n",
      "\u001b[36m(tune_func pid=77089)\u001b[0m #######################################################################################\n"
     ]
    },
    {
     "name": "stderr",
     "output_type": "stream",
     "text": [
      "\u001b[36m(tune_func pid=77089)\u001b[0m Checkpoint successfully created at: Checkpoint(filesystem=local, path=/home/daniel/ray_results/tune_func_2024-06-23_03-06-45/tune_func_dc56f_00017_17_batch_size=4,channels=16,depth=6,lr=0.0003_2024-06-23_03-06-46/checkpoint_000010)\n"
     ]
    },
    {
     "name": "stdout",
     "output_type": "stream",
     "text": [
      "\u001b[36m(tune_func pid=77089)\u001b[0m Epoch [3/50], Step [1278/5961], Train Loss: 0.0414 , Logging Time Proportion: 0.0017, Data Loading Time Proportion: 0.0043\n",
      "\u001b[36m(tune_func pid=77089)\u001b[0m Epoch [3/50], Step [1378/5961], Train Loss: 0.0383 , Logging Time Proportion: 0.0047, Data Loading Time Proportion: 0.0076\n",
      "\u001b[36m(tune_func pid=77089)\u001b[0m Epoch [3/50], Step [1478/5961], Train Loss: 0.0380 , Logging Time Proportion: 0.0028, Data Loading Time Proportion: 0.0079\n",
      "\u001b[36m(tune_func pid=77089)\u001b[0m Epoch [3/50], Step [1578/5961], Train Loss: 0.0411 , Logging Time Proportion: 0.0027, Data Loading Time Proportion: 0.0090\n",
      "\u001b[36m(tune_func pid=77089)\u001b[0m Epoch [3/50], Step [1678/5961], Train Loss: 0.0408 , Logging Time Proportion: 0.0034, Data Loading Time Proportion: 0.0084\n",
      "\u001b[36m(tune_func pid=77089)\u001b[0m Epoch [3/50], Step [1778/5961], Train Loss: 0.0404 , Logging Time Proportion: 0.0029, Data Loading Time Proportion: 0.0092\n",
      "\u001b[36m(tune_func pid=77089)\u001b[0m Epoch [3/50], Step [1878/5961], Train Loss: 0.0388 , Logging Time Proportion: 0.0025, Data Loading Time Proportion: 0.0088\n",
      "\u001b[36m(tune_func pid=77089)\u001b[0m Epoch [3/50], Step [1978/5961], Train Loss: 0.0399 , Logging Time Proportion: 0.0026, Data Loading Time Proportion: 0.0084\n",
      "\u001b[36m(tune_func pid=77089)\u001b[0m Epoch [3/50], Step [2078/5961], Train Loss: 0.0401 , Logging Time Proportion: 0.0030, Data Loading Time Proportion: 0.0091\n",
      "\u001b[36m(tune_func pid=77089)\u001b[0m Epoch [3/50], Step [2178/5961], Train Loss: 0.0399 , Logging Time Proportion: 0.0025, Data Loading Time Proportion: 0.0094\n",
      "\u001b[36m(tune_func pid=77089)\u001b[0m Epoch [3/50], Step [2278/5961], Train Loss: 0.0401 , Logging Time Proportion: 0.0025, Data Loading Time Proportion: 0.0080\n",
      "\u001b[36m(tune_func pid=77089)\u001b[0m Epoch [3/50], Step [2378/5961], Train Loss: 0.0389 , Logging Time Proportion: 0.0023, Data Loading Time Proportion: 0.0084\n",
      "\u001b[36m(tune_func pid=77089)\u001b[0m #######################################################################################\n",
      "\u001b[36m(tune_func pid=77089)\u001b[0m Epoch [3/50], Step [2384/5961], Val Loss: 0.0402 Val Log Time Proportion: 0.0796\n",
      "\u001b[36m(tune_func pid=77089)\u001b[0m #######################################################################################\n"
     ]
    },
    {
     "name": "stderr",
     "output_type": "stream",
     "text": [
      "\u001b[36m(tune_func pid=77089)\u001b[0m Checkpoint successfully created at: Checkpoint(filesystem=local, path=/home/daniel/ray_results/tune_func_2024-06-23_03-06-45/tune_func_dc56f_00017_17_batch_size=4,channels=16,depth=6,lr=0.0003_2024-06-23_03-06-46/checkpoint_000011)\n"
     ]
    },
    {
     "name": "stdout",
     "output_type": "stream",
     "text": [
      "\u001b[36m(tune_func pid=77089)\u001b[0m Epoch [3/50], Step [2478/5961], Train Loss: 0.0410 , Logging Time Proportion: 0.0012, Data Loading Time Proportion: 0.0042\n",
      "\u001b[36m(tune_func pid=77089)\u001b[0m Epoch [3/50], Step [2578/5961], Train Loss: 0.0410 , Logging Time Proportion: 0.0026, Data Loading Time Proportion: 0.0084\n",
      "\u001b[36m(tune_func pid=77089)\u001b[0m Epoch [3/50], Step [2678/5961], Train Loss: 0.0400 , Logging Time Proportion: 0.0025, Data Loading Time Proportion: 0.0082\n",
      "\u001b[36m(tune_func pid=77089)\u001b[0m Epoch [3/50], Step [2778/5961], Train Loss: 0.0405 , Logging Time Proportion: 0.0019, Data Loading Time Proportion: 0.0070\n",
      "\u001b[36m(tune_func pid=77089)\u001b[0m Epoch [3/50], Step [2878/5961], Train Loss: 0.0394 , Logging Time Proportion: 0.0019, Data Loading Time Proportion: 0.0062\n",
      "\u001b[36m(tune_func pid=77089)\u001b[0m Epoch [3/50], Step [2978/5961], Train Loss: 0.0417 , Logging Time Proportion: 0.0016, Data Loading Time Proportion: 0.0063\n",
      "\u001b[36m(tune_func pid=77089)\u001b[0m Epoch [3/50], Step [3078/5961], Train Loss: 0.0378 , Logging Time Proportion: 0.0027, Data Loading Time Proportion: 0.0084\n",
      "\u001b[36m(tune_func pid=77089)\u001b[0m Epoch [3/50], Step [3178/5961], Train Loss: 0.0393 , Logging Time Proportion: 0.0021, Data Loading Time Proportion: 0.0083\n",
      "\u001b[36m(tune_func pid=77089)\u001b[0m Epoch [3/50], Step [3278/5961], Train Loss: 0.0402 , Logging Time Proportion: 0.0023, Data Loading Time Proportion: 0.0078\n",
      "\u001b[36m(tune_func pid=77089)\u001b[0m Epoch [3/50], Step [3378/5961], Train Loss: 0.0401 , Logging Time Proportion: 0.0024, Data Loading Time Proportion: 0.0076\n",
      "\u001b[36m(tune_func pid=77089)\u001b[0m Epoch [3/50], Step [3478/5961], Train Loss: 0.0369 , Logging Time Proportion: 0.0021, Data Loading Time Proportion: 0.0082\n",
      "\u001b[36m(tune_func pid=77089)\u001b[0m #######################################################################################\n",
      "\u001b[36m(tune_func pid=77089)\u001b[0m Epoch [3/50], Step [3576/5961], Val Loss: 0.0401 Val Log Time Proportion: 0.2302\n",
      "\u001b[36m(tune_func pid=77089)\u001b[0m #######################################################################################\n"
     ]
    },
    {
     "name": "stderr",
     "output_type": "stream",
     "text": [
      "\u001b[36m(tune_func pid=77089)\u001b[0m Checkpoint successfully created at: Checkpoint(filesystem=local, path=/home/daniel/ray_results/tune_func_2024-06-23_03-06-45/tune_func_dc56f_00017_17_batch_size=4,channels=16,depth=6,lr=0.0003_2024-06-23_03-06-46/checkpoint_000012)\n"
     ]
    },
    {
     "name": "stdout",
     "output_type": "stream",
     "text": [
      "\u001b[36m(tune_func pid=77089)\u001b[0m Epoch [3/50], Step [3578/5961], Train Loss: 0.0387 , Logging Time Proportion: 0.0005, Data Loading Time Proportion: 0.0020\n",
      "\u001b[36m(tune_func pid=77089)\u001b[0m Epoch [3/50], Step [3678/5961], Train Loss: 0.0394 , Logging Time Proportion: 0.0015, Data Loading Time Proportion: 0.0052\n",
      "\u001b[36m(tune_func pid=77089)\u001b[0m Epoch [3/50], Step [3778/5961], Train Loss: 0.0379 , Logging Time Proportion: 0.0016, Data Loading Time Proportion: 0.0054\n",
      "\u001b[36m(tune_func pid=77089)\u001b[0m Epoch [3/50], Step [3878/5961], Train Loss: 0.0381 , Logging Time Proportion: 0.0019, Data Loading Time Proportion: 0.0073\n",
      "\u001b[36m(tune_func pid=77089)\u001b[0m Epoch [3/50], Step [3978/5961], Train Loss: 0.0374 , Logging Time Proportion: 0.0023, Data Loading Time Proportion: 0.0083\n",
      "\u001b[36m(tune_func pid=77089)\u001b[0m Epoch [3/50], Step [4078/5961], Train Loss: 0.0402 , Logging Time Proportion: 0.0023, Data Loading Time Proportion: 0.0076\n",
      "\u001b[36m(tune_func pid=77089)\u001b[0m Epoch [3/50], Step [4178/5961], Train Loss: 0.0385 , Logging Time Proportion: 0.0028, Data Loading Time Proportion: 0.0075\n",
      "\u001b[36m(tune_func pid=77089)\u001b[0m Epoch [3/50], Step [4278/5961], Train Loss: 0.0393 , Logging Time Proportion: 0.0020, Data Loading Time Proportion: 0.0078\n",
      "\u001b[36m(tune_func pid=77089)\u001b[0m Epoch [3/50], Step [4378/5961], Train Loss: 0.0380\n",
      "\u001b[36m(tune_func pid=77089)\u001b[0m  \n",
      "\u001b[36m(tune_func pid=77089)\u001b[0m , Logging Time Proportion: 0.0022, Data Loading Time Proportion: 0.0076\n",
      "\u001b[36m(tune_func pid=77089)\u001b[0m Epoch [3/50], Step [4478/5961], Train Loss: 0.0409 , Logging Time Proportion: 0.0026, Data Loading Time Proportion: 0.0080\n",
      "\u001b[36m(tune_func pid=77089)\u001b[0m Epoch [3/50], Step [4578/5961], Train Loss: 0.0389 , Logging Time Proportion: 0.0020, Data Loading Time Proportion: 0.0079\n",
      "\u001b[36m(tune_func pid=77089)\u001b[0m Epoch [3/50], Step [4678/5961], Train Loss: 0.0414 , Logging Time Proportion: 0.0024, Data Loading Time Proportion: 0.0082\n",
      "\u001b[36m(tune_func pid=77089)\u001b[0m #######################################################################################\n",
      "\u001b[36m(tune_func pid=77089)\u001b[0m Epoch [3/50], Step [4768/5961], Val Loss: 0.0400 Val Log Time Proportion: 0.0677\n",
      "\u001b[36m(tune_func pid=77089)\u001b[0m #######################################################################################\n"
     ]
    },
    {
     "name": "stderr",
     "output_type": "stream",
     "text": [
      "\u001b[36m(tune_func pid=77089)\u001b[0m Checkpoint successfully created at: Checkpoint(filesystem=local, path=/home/daniel/ray_results/tune_func_2024-06-23_03-06-45/tune_func_dc56f_00017_17_batch_size=4,channels=16,depth=6,lr=0.0003_2024-06-23_03-06-46/checkpoint_000013)\n"
     ]
    },
    {
     "name": "stdout",
     "output_type": "stream",
     "text": [
      "\u001b[36m(tune_func pid=77089)\u001b[0m Epoch [3/50], Step [4778/5961], Train Loss: 0.0398 , Logging Time Proportion: 0.0012, Data Loading Time Proportion: 0.0039\n",
      "\u001b[36m(tune_func pid=77089)\u001b[0m Epoch [3/50], Step [4878/5961], Train Loss: 0.0394 , Logging Time Proportion: 0.0020, Data Loading Time Proportion: 0.0061\n",
      "\u001b[36m(tune_func pid=77089)\u001b[0m Epoch [3/50], Step [4978/5961], Train Loss: 0.0401 , Logging Time Proportion: 0.0022, Data Loading Time Proportion: 0.0074\n",
      "\u001b[36m(tune_func pid=77089)\u001b[0m Epoch [3/50], Step [5078/5961], Train Loss: 0.0383 , Logging Time Proportion: 0.0028, Data Loading Time Proportion: 0.0077\n",
      "\u001b[36m(tune_func pid=77089)\u001b[0m Epoch [3/50], Step [5178/5961], Train Loss: 0.0390 , Logging Time Proportion: 0.0022, Data Loading Time Proportion: 0.0073\n",
      "\u001b[36m(tune_func pid=77089)\u001b[0m Epoch [3/50], Step [5278/5961], Train Loss: 0.0376 , Logging Time Proportion: 0.0020, Data Loading Time Proportion: 0.0077\n",
      "\u001b[36m(tune_func pid=77089)\u001b[0m Epoch [3/50], Step [5378/5961], Train Loss: 0.0387 , Logging Time Proportion: 0.0019, Data Loading Time Proportion: 0.0073\n",
      "\u001b[36m(tune_func pid=77089)\u001b[0m Epoch [3/50], Step [5478/5961], Train Loss: 0.0362 , Logging Time Proportion: 0.0023, Data Loading Time Proportion: 0.0076\n",
      "\u001b[36m(tune_func pid=77089)\u001b[0m Epoch [3/50], Step [5578/5961], Train Loss: 0.0374 , Logging Time Proportion: 0.0021, Data Loading Time Proportion: 0.0070\n",
      "\u001b[36m(tune_func pid=77089)\u001b[0m Epoch [3/50], Step [5678/5961], Train Loss: 0.0380 , Logging Time Proportion: 0.0017, Data Loading Time Proportion: 0.0057\n",
      "\u001b[36m(tune_func pid=77089)\u001b[0m Epoch [3/50], Step [5778/5961], Train Loss: 0.0397 , Logging Time Proportion: 0.0022, Data Loading Time Proportion: 0.0075\n",
      "\u001b[36m(tune_func pid=77089)\u001b[0m Epoch [3/50], Step [5878/5961], Train Loss: 0.0395 , Logging Time Proportion: 0.0022, Data Loading Time Proportion: 0.0064\n",
      "\u001b[36m(tune_func pid=77089)\u001b[0m #######################################################################################\n",
      "\u001b[36m(tune_func pid=77089)\u001b[0m Epoch [3/50], Step [5960/5961], Val Loss: 0.0387 Val Log Time Proportion: 0.0875\n",
      "\u001b[36m(tune_func pid=77089)\u001b[0m #######################################################################################\n"
     ]
    },
    {
     "name": "stderr",
     "output_type": "stream",
     "text": [
      "\u001b[36m(tune_func pid=77089)\u001b[0m Checkpoint successfully created at: Checkpoint(filesystem=local, path=/home/daniel/ray_results/tune_func_2024-06-23_03-06-45/tune_func_dc56f_00017_17_batch_size=4,channels=16,depth=6,lr=0.0003_2024-06-23_03-06-46/checkpoint_000014)\n"
     ]
    },
    {
     "name": "stdout",
     "output_type": "stream",
     "text": [
      "\u001b[36m(tune_func pid=77089)\u001b[0m Epoch [4/50], Step [17/5961], Train Loss: 0.0064 , Logging Time Proportion: 0.0010, Data Loading Time Proportion: 0.0034\n",
      "\u001b[36m(tune_func pid=77089)\u001b[0m Epoch [4/50], Step [117/5961], Train Loss: 0.0373 , Logging Time Proportion: 0.0027, Data Loading Time Proportion: 0.0081\n",
      "\u001b[36m(tune_func pid=77089)\u001b[0m Epoch [4/50], Step [217/5961], Train Loss: 0.0396 , Logging Time Proportion: 0.0028, Data Loading Time Proportion: 0.0086\n",
      "\u001b[36m(tune_func pid=77089)\u001b[0m Epoch [4/50], Step [317/5961], Train Loss: 0.0368 , Logging Time Proportion: 0.0029, Data Loading Time Proportion: 0.0098\n",
      "\u001b[36m(tune_func pid=77089)\u001b[0m Epoch [4/50], Step [417/5961], Train Loss: 0.0400 , Logging Time Proportion: 0.0027, Data Loading Time Proportion: 0.0105\n",
      "\u001b[36m(tune_func pid=77089)\u001b[0m Epoch [4/50], Step [517/5961], Train Loss: 0.0386 , Logging Time Proportion: 0.0023, Data Loading Time Proportion: 0.0100\n",
      "\u001b[36m(tune_func pid=77089)\u001b[0m Epoch [4/50], Step [617/5961], Train Loss: 0.0385 , Logging Time Proportion: 0.0031, Data Loading Time Proportion: 0.0102\n",
      "\u001b[36m(tune_func pid=77089)\u001b[0m Epoch [4/50], Step [717/5961], Train Loss: 0.0355 , Logging Time Proportion: 0.0040, Data Loading Time Proportion: 0.0110\n",
      "\u001b[36m(tune_func pid=77089)\u001b[0m Epoch [4/50], Step [817/5961], Train Loss: 0.0394 , Logging Time Proportion: 0.0025, Data Loading Time Proportion: 0.0094\n",
      "\u001b[36m(tune_func pid=77089)\u001b[0m Epoch [4/50], Step [917/5961], Train Loss: 0.0369 , Logging Time Proportion: 0.0041, Data Loading Time Proportion: 0.0104\n",
      "\u001b[36m(tune_func pid=77089)\u001b[0m Epoch [4/50], Step [1017/5961], Train Loss: 0.0381 , Logging Time Proportion: 0.0039, Data Loading Time Proportion: 0.0102\n",
      "\u001b[36m(tune_func pid=77089)\u001b[0m Epoch [4/50], Step [1117/5961], Train Loss: 0.0374 , Logging Time Proportion: 0.0031, Data Loading Time Proportion: 0.0095\n",
      "\u001b[36m(tune_func pid=77089)\u001b[0m #######################################################################################\n",
      "\u001b[36m(tune_func pid=77089)\u001b[0m Epoch [4/50], Step [1192/5961], Val Loss: 0.0389 Val Log Time Proportion: 0.1420\n",
      "\u001b[36m(tune_func pid=77089)\u001b[0m #######################################################################################\n"
     ]
    },
    {
     "name": "stderr",
     "output_type": "stream",
     "text": [
      "\u001b[36m(tune_func pid=77089)\u001b[0m Checkpoint successfully created at: Checkpoint(filesystem=local, path=/home/daniel/ray_results/tune_func_2024-06-23_03-06-45/tune_func_dc56f_00017_17_batch_size=4,channels=16,depth=6,lr=0.0003_2024-06-23_03-06-46/checkpoint_000015)\n"
     ]
    },
    {
     "name": "stdout",
     "output_type": "stream",
     "text": [
      "\u001b[36m(tune_func pid=77089)\u001b[0m Epoch [4/50], Step [1217/5961], Train Loss: 0.0413 , Logging Time Proportion: 0.0010, Data Loading Time Proportion: 0.0037\n",
      "\u001b[36m(tune_func pid=77089)\u001b[0m Epoch [4/50], Step [1317/5961], Train Loss: 0.0379 , Logging Time Proportion: 0.0026, Data Loading Time Proportion: 0.0103\n",
      "\u001b[36m(tune_func pid=77089)\u001b[0m Epoch [4/50], Step [1417/5961], Train Loss: 0.0362 , Logging Time Proportion: 0.0023, Data Loading Time Proportion: 0.0094\n",
      "\u001b[36m(tune_func pid=77089)\u001b[0m Epoch [4/50], Step [1517/5961], Train Loss: 0.0380 , Logging Time Proportion: 0.0029, Data Loading Time Proportion: 0.0087\n",
      "\u001b[36m(tune_func pid=77089)\u001b[0m Epoch [4/50], Step [1617/5961], Train Loss: 0.0371 , Logging Time Proportion: 0.0032, Data Loading Time Proportion: 0.0105\n",
      "\u001b[36m(tune_func pid=77089)\u001b[0m Epoch [4/50], Step [1717/5961], Train Loss: 0.0391 , Logging Time Proportion: 0.0026, Data Loading Time Proportion: 0.0101\n",
      "\u001b[36m(tune_func pid=77089)\u001b[0m Epoch [4/50], Step [1817/5961], Train Loss: 0.0383 , Logging Time Proportion: 0.0024, Data Loading Time Proportion: 0.0086\n",
      "\u001b[36m(tune_func pid=77089)\u001b[0m Epoch [4/50], Step [1917/5961], Train Loss: 0.0389 , Logging Time Proportion: 0.0032, Data Loading Time Proportion: 0.0097\n",
      "\u001b[36m(tune_func pid=77089)\u001b[0m Epoch [4/50], Step [2017/5961], Train Loss: 0.0391 , Logging Time Proportion: 0.0029, Data Loading Time Proportion: 0.0107\n",
      "\u001b[36m(tune_func pid=77089)\u001b[0m Epoch [4/50], Step [2117/5961], Train Loss: 0.0377\n",
      "\u001b[36m(tune_func pid=77089)\u001b[0m  , Logging Time Proportion: 0.0026, Data Loading Time Proportion: 0.0096\n",
      "\u001b[36m(tune_func pid=77089)\u001b[0m Epoch [4/50], Step [2217/5961], Train Loss: 0.0389 , Logging Time Proportion: 0.0028, Data Loading Time Proportion: 0.0097\n",
      "\u001b[36m(tune_func pid=77089)\u001b[0m Epoch [4/50], Step [2317/5961], Train Loss: 0.0384 , Logging Time Proportion: 0.0039, Data Loading Time Proportion: 0.0103\n",
      "\u001b[36m(tune_func pid=77089)\u001b[0m #######################################################################################\n",
      "\u001b[36m(tune_func pid=77089)\u001b[0m Epoch [4/50], Step [2384/5961], Val Loss: 0.0393 Val Log Time Proportion: 0.0867\n",
      "\u001b[36m(tune_func pid=77089)\u001b[0m #######################################################################################\n"
     ]
    },
    {
     "name": "stderr",
     "output_type": "stream",
     "text": [
      "\u001b[36m(tune_func pid=77089)\u001b[0m Checkpoint successfully created at: Checkpoint(filesystem=local, path=/home/daniel/ray_results/tune_func_2024-06-23_03-06-45/tune_func_dc56f_00017_17_batch_size=4,channels=16,depth=6,lr=0.0003_2024-06-23_03-06-46/checkpoint_000016)\n"
     ]
    },
    {
     "name": "stdout",
     "output_type": "stream",
     "text": [
      "\u001b[36m(tune_func pid=77089)\u001b[0m Epoch [4/50], Step [2417/5961], Train Loss: 0.0380 , Logging Time Proportion: 0.0021, Data Loading Time Proportion: 0.0042\n",
      "\u001b[36m(tune_func pid=77089)\u001b[0m Epoch [4/50], Step [2517/5961], Train Loss: 0.0390 , Logging Time Proportion: 0.0027, Data Loading Time Proportion: 0.0085\n",
      "\u001b[36m(tune_func pid=77089)\u001b[0m Epoch [4/50], Step [2617/5961], Train Loss: 0.0382 , Logging Time Proportion: 0.0026, Data Loading Time Proportion: 0.0081\n",
      "\u001b[36m(tune_func pid=77089)\u001b[0m Epoch [4/50], Step [2717/5961], Train Loss: 0.0377 , Logging Time Proportion: 0.0021, Data Loading Time Proportion: 0.0085\n",
      "\u001b[36m(tune_func pid=77089)\u001b[0m Epoch [4/50], Step [2817/5961], Train Loss: 0.0386 , Logging Time Proportion: 0.0030, Data Loading Time Proportion: 0.0097\n",
      "\u001b[36m(tune_func pid=77089)\u001b[0m Epoch [4/50], Step [2917/5961], Train Loss: 0.0387 , Logging Time Proportion: 0.0030, Data Loading Time Proportion: 0.0090\n",
      "\u001b[36m(tune_func pid=77089)\u001b[0m Epoch [4/50], Step [3017/5961], Train Loss: 0.0380 , Logging Time Proportion: 0.0029, Data Loading Time Proportion: 0.0096\n",
      "\u001b[36m(tune_func pid=77089)\u001b[0m Epoch [4/50], Step [3117/5961], Train Loss: 0.0391 , Logging Time Proportion: 0.0028, Data Loading Time Proportion: 0.0094\n",
      "\u001b[36m(tune_func pid=77089)\u001b[0m Epoch [4/50], Step [3217/5961], Train Loss: 0.0373 , Logging Time Proportion: 0.0029, Data Loading Time Proportion: 0.0096\n",
      "\u001b[36m(tune_func pid=77089)\u001b[0m Epoch [4/50], Step [3317/5961], Train Loss: 0.0381 , Logging Time Proportion: 0.0024, Data Loading Time Proportion: 0.0093\n",
      "\u001b[36m(tune_func pid=77089)\u001b[0m Epoch [4/50], Step [3417/5961], Train Loss: 0.0377 , Logging Time Proportion: 0.0035, Data Loading Time Proportion: 0.0090\n",
      "\u001b[36m(tune_func pid=77089)\u001b[0m Epoch [4/50], Step [3517/5961], Train Loss: 0.0408 , Logging Time Proportion: 0.0024, Data Loading Time Proportion: 0.0088\n",
      "\u001b[36m(tune_func pid=77089)\u001b[0m #######################################################################################\n",
      "\u001b[36m(tune_func pid=77089)\u001b[0m Epoch [4/50], Step [3576/5961], Val Loss: 0.0385 Val Log Time Proportion: 0.0865\n",
      "\u001b[36m(tune_func pid=77089)\u001b[0m #######################################################################################\n"
     ]
    },
    {
     "name": "stderr",
     "output_type": "stream",
     "text": [
      "\u001b[36m(tune_func pid=77089)\u001b[0m Checkpoint successfully created at: Checkpoint(filesystem=local, path=/home/daniel/ray_results/tune_func_2024-06-23_03-06-45/tune_func_dc56f_00017_17_batch_size=4,channels=16,depth=6,lr=0.0003_2024-06-23_03-06-46/checkpoint_000017)\n"
     ]
    },
    {
     "name": "stdout",
     "output_type": "stream",
     "text": [
      "\u001b[36m(tune_func pid=77089)\u001b[0m Epoch [4/50], Step [3617/5961], Train Loss: 0.0385 , Logging Time Proportion: 0.0012, Data Loading Time Proportion: 0.0040\n",
      "\u001b[36m(tune_func pid=77089)\u001b[0m Epoch [4/50], Step [3717/5961], Train Loss: 0.0384 , Logging Time Proportion: 0.0015, Data Loading Time Proportion: 0.0053\n",
      "\u001b[36m(tune_func pid=77089)\u001b[0m Epoch [4/50], Step [3817/5961], Train Loss: 0.0393 , Logging Time Proportion: 0.0027, Data Loading Time Proportion: 0.0078\n",
      "\u001b[36m(tune_func pid=77089)\u001b[0m Epoch [4/50], Step [3917/5961], Train Loss: 0.0388 , Logging Time Proportion: 0.0027, Data Loading Time Proportion: 0.0090\n",
      "\u001b[36m(tune_func pid=77089)\u001b[0m Epoch [4/50], Step [4017/5961], Train Loss: 0.0384 , Logging Time Proportion: 0.0024, Data Loading Time Proportion: 0.0080\n",
      "\u001b[36m(tune_func pid=77089)\u001b[0m Epoch [4/50], Step [4117/5961], Train Loss: 0.0373 , Logging Time Proportion: 0.0026, Data Loading Time Proportion: 0.0091\n",
      "\u001b[36m(tune_func pid=77089)\u001b[0m Epoch [4/50], Step [4217/5961], Train Loss: 0.0390 , Logging Time Proportion: 0.0029, Data Loading Time Proportion: 0.0086\n",
      "\u001b[36m(tune_func pid=77089)\u001b[0m Epoch [4/50], Step [4317/5961], Train Loss: 0.0386 , Logging Time Proportion: 0.0024, Data Loading Time Proportion: 0.0092\n",
      "\u001b[36m(tune_func pid=77089)\u001b[0m Epoch [4/50], Step [4417/5961], Train Loss: 0.0365 , Logging Time Proportion: 0.0025, Data Loading Time Proportion: 0.0077\n",
      "\u001b[36m(tune_func pid=77089)\u001b[0m Epoch [4/50], Step [4517/5961], Train Loss: 0.0370 , Logging Time Proportion: 0.0026, Data Loading Time Proportion: 0.0069\n",
      "\u001b[36m(tune_func pid=77089)\u001b[0m Epoch [4/50], Step [4617/5961], Train Loss: 0.0387 , Logging Time Proportion: 0.0029, Data Loading Time Proportion: 0.0076\n",
      "\u001b[36m(tune_func pid=77089)\u001b[0m Epoch [4/50], Step [4717/5961], Train Loss: 0.0362 , Logging Time Proportion: 0.0026, Data Loading Time Proportion: 0.0077\n",
      "\u001b[36m(tune_func pid=77089)\u001b[0m #######################################################################################\n",
      "\u001b[36m(tune_func pid=77089)\u001b[0m Epoch [4/50], Step [4768/5961], Val Loss: 0.0375 Val Log Time Proportion: 0.0723\n",
      "\u001b[36m(tune_func pid=77089)\u001b[0m #######################################################################################\n"
     ]
    },
    {
     "name": "stderr",
     "output_type": "stream",
     "text": [
      "\u001b[36m(tune_func pid=77089)\u001b[0m Checkpoint successfully created at: Checkpoint(filesystem=local, path=/home/daniel/ray_results/tune_func_2024-06-23_03-06-45/tune_func_dc56f_00017_17_batch_size=4,channels=16,depth=6,lr=0.0003_2024-06-23_03-06-46/checkpoint_000018)\n"
     ]
    },
    {
     "name": "stdout",
     "output_type": "stream",
     "text": [
      "\u001b[36m(tune_func pid=77089)\u001b[0m Epoch [4/50], Step [4817/5961], Train Loss: 0.0381 , Logging Time Proportion: 0.0014, Data Loading Time Proportion: 0.0045\n",
      "\u001b[36m(tune_func pid=77089)\u001b[0m Epoch [4/50], Step [4917/5961], Train Loss: 0.0379 , Logging Time Proportion: 0.0026, Data Loading Time Proportion: 0.0084\n",
      "\u001b[36m(tune_func pid=77089)\u001b[0m Epoch [4/50], Step [5017/5961], Train Loss: 0.0381 , Logging Time Proportion: 0.0023, Data Loading Time Proportion: 0.0073\n",
      "\u001b[36m(tune_func pid=77089)\u001b[0m Epoch [4/50], Step [5117/5961], Train Loss: 0.0389 , Logging Time Proportion: 0.0031, Data Loading Time Proportion: 0.0091\n",
      "\u001b[36m(tune_func pid=77089)\u001b[0m Epoch [4/50], Step [5217/5961], Train Loss: 0.0381 , Logging Time Proportion: 0.0026, Data Loading Time Proportion: 0.0082\n",
      "\u001b[36m(tune_func pid=77089)\u001b[0m Epoch [4/50], Step [5317/5961], Train Loss: 0.0385 , Logging Time Proportion: 0.0036, Data Loading Time Proportion: 0.0084\n",
      "\u001b[36m(tune_func pid=77089)\u001b[0m Epoch [4/50], Step [5417/5961], Train Loss: 0.0390 , Logging Time Proportion: 0.0026, Data Loading Time Proportion: 0.0082\n",
      "\u001b[36m(tune_func pid=77089)\u001b[0m Epoch [4/50], Step [5517/5961], Train Loss: 0.0397\n",
      "\u001b[36m(tune_func pid=77089)\u001b[0m  , Logging Time Proportion: 0.0028, Data Loading Time Proportion: 0.0087\n",
      "\u001b[36m(tune_func pid=77089)\u001b[0m Epoch [4/50], Step [5617/5961], Train Loss: 0.0375 , Logging Time Proportion: 0.0020, Data Loading Time Proportion: 0.0079\n",
      "\u001b[36m(tune_func pid=77089)\u001b[0m Epoch [4/50], Step [5717/5961], Train Loss: 0.0387 , Logging Time Proportion: 0.0021, Data Loading Time Proportion: 0.0080\n",
      "\u001b[36m(tune_func pid=77089)\u001b[0m Epoch [4/50], Step [5817/5961], Train Loss: 0.0403 , Logging Time Proportion: 0.0022, Data Loading Time Proportion: 0.0084\n",
      "\u001b[36m(tune_func pid=77089)\u001b[0m Epoch [4/50], Step [5917/5961], Train Loss: 0.0377 , Logging Time Proportion: 0.0027, Data Loading Time Proportion: 0.0090\n",
      "\u001b[36m(tune_func pid=77089)\u001b[0m #######################################################################################\n",
      "\u001b[36m(tune_func pid=77089)\u001b[0m Epoch [4/50], Step [5960/5961], Val Loss: 0.0385 Val Log Time Proportion: 0.0741\n",
      "\u001b[36m(tune_func pid=77089)\u001b[0m #######################################################################################\n"
     ]
    },
    {
     "name": "stderr",
     "output_type": "stream",
     "text": [
      "\u001b[36m(tune_func pid=77089)\u001b[0m Checkpoint successfully created at: Checkpoint(filesystem=local, path=/home/daniel/ray_results/tune_func_2024-06-23_03-06-45/tune_func_dc56f_00017_17_batch_size=4,channels=16,depth=6,lr=0.0003_2024-06-23_03-06-46/checkpoint_000019)\n"
     ]
    },
    {
     "name": "stdout",
     "output_type": "stream",
     "text": [
      "\u001b[36m(tune_func pid=79076)\u001b[0m Hurray! GPU available.\n",
      "\u001b[36m(tune_func pid=79076)\u001b[0m Total trainable parameters: 7066113\n",
      "\u001b[36m(tune_func pid=79076)\u001b[0m Epoch [1/50], Step [100/1491], Train Loss: 0.2339 , Logging Time Proportion: 0.0010, Data Loading Time Proportion: 0.0014\n",
      "\u001b[36m(tune_func pid=79076)\u001b[0m Epoch [1/50], Step [200/1491], Train Loss: 0.1518 , Logging Time Proportion: 0.0001, Data Loading Time Proportion: 0.0014\n",
      "\u001b[36m(tune_func pid=79076)\u001b[0m #######################################################################################\n",
      "\u001b[36m(tune_func pid=79076)\u001b[0m Epoch [1/50], Step [298/1491], Val Loss: 0.1469\n",
      "\u001b[36m(tune_func pid=79076)\u001b[0m  Val Log Time Proportion: 0.1260\n",
      "\u001b[36m(tune_func pid=79076)\u001b[0m #######################################################################################\n"
     ]
    },
    {
     "name": "stderr",
     "output_type": "stream",
     "text": [
      "\u001b[36m(tune_func pid=79076)\u001b[0m Checkpoint successfully created at: Checkpoint(filesystem=local, path=/home/daniel/ray_results/tune_func_2024-06-23_03-06-45/tune_func_dc56f_00018_18_batch_size=16,channels=128,depth=3,lr=0.0001_2024-06-23_03-06-46/checkpoint_000000)\n"
     ]
    },
    {
     "name": "stdout",
     "output_type": "stream",
     "text": [
      "\u001b[36m(tune_func pid=79631)\u001b[0m Hurray! GPU available.\n",
      "\u001b[36m(tune_func pid=79631)\u001b[0m Total trainable parameters: 27987457\n",
      "\u001b[36m(tune_func pid=79631)\u001b[0m Epoch [1/50], Step [100/2981], Train Loss: 0.6900 , Logging Time Proportion: 0.0011, Data Loading Time Proportion: 0.0029\n",
      "\u001b[36m(tune_func pid=79631)\u001b[0m Epoch [1/50], Step [200/2981], Train Loss: 0.6781 , Logging Time Proportion: 0.0008, Data Loading Time Proportion: 0.0029\n",
      "\u001b[36m(tune_func pid=79631)\u001b[0m Epoch [1/50], Step [300/2981], Train Loss: 0.5918 , Logging Time Proportion: 0.0009, Data Loading Time Proportion: 0.0031\n",
      "\u001b[36m(tune_func pid=79631)\u001b[0m Epoch [1/50], Step [400/2981], Train Loss: 0.4393 , Logging Time Proportion: 0.0013, Data Loading Time Proportion: 0.0030\n",
      "\u001b[36m(tune_func pid=79631)\u001b[0m Epoch [1/50], Step [500/2981], Train Loss: 0.3586 , Logging Time Proportion: 0.0009, Data Loading Time Proportion: 0.0030\n",
      "\u001b[36m(tune_func pid=79631)\u001b[0m #######################################################################################\n",
      "\u001b[36m(tune_func pid=79631)\u001b[0m Epoch [1/50], Step [596/2981], Val Loss: 0.2841 Val Log Time Proportion: 0.1260\n",
      "\u001b[36m(tune_func pid=79631)\u001b[0m #######################################################################################\n"
     ]
    },
    {
     "name": "stderr",
     "output_type": "stream",
     "text": [
      "\u001b[36m(tune_func pid=79631)\u001b[0m Checkpoint successfully created at: Checkpoint(filesystem=local, path=/home/daniel/ray_results/tune_func_2024-06-23_03-06-45/tune_func_dc56f_00019_19_batch_size=8,channels=64,depth=5,lr=0.0000_2024-06-23_03-06-46/checkpoint_000000)\n"
     ]
    },
    {
     "name": "stdout",
     "output_type": "stream",
     "text": [
      "\u001b[36m(tune_func pid=79980)\u001b[0m Hurray! GPU available.\n",
      "\u001b[36m(tune_func pid=79980)\u001b[0m Total trainable parameters: 111934465\n",
      "\u001b[36m(tune_func pid=79980)\u001b[0m Epoch [1/50], Step [100/5961], Train Loss: 0.2832 \n",
      "\u001b[36m(tune_func pid=79980)\u001b[0m , Logging Time Proportion: 0.0013, Data Loading Time Proportion: 0.0011\n",
      "\u001b[36m(tune_func pid=79980)\u001b[0m Epoch [1/50], Step [200/5961], Train Loss: 0.1177 , Logging Time Proportion: 0.0004, Data Loading Time Proportion: 0.0012\n",
      "\u001b[36m(tune_func pid=79980)\u001b[0m Epoch [1/50], Step [300/5961], Train Loss: 0.0862 , Logging Time Proportion: 0.0003, Data Loading Time Proportion: 0.0012\n",
      "\u001b[36m(tune_func pid=79980)\u001b[0m Epoch [1/50], Step [400/5961], Train Loss: 0.0730 , Logging Time Proportion: 0.0003, Data Loading Time Proportion: 0.0012\n",
      "\u001b[36m(tune_func pid=79980)\u001b[0m Epoch [1/50], Step [500/5961], Train Loss: 0.0701 , Logging Time Proportion: 0.0003, Data Loading Time Proportion: 0.0011\n",
      "\u001b[36m(tune_func pid=79980)\u001b[0m Epoch [1/50], Step [600/5961], Train Loss: 0.0661 , Logging Time Proportion: 0.0005, Data Loading Time Proportion: 0.0012\n",
      "\u001b[36m(tune_func pid=79980)\u001b[0m Epoch [1/50], Step [700/5961], Train Loss: 0.0637\n",
      "\u001b[36m(tune_func pid=79980)\u001b[0m  , Logging Time Proportion: 0.0003, Data Loading Time Proportion: 0.0012\n",
      "\u001b[36m(tune_func pid=79980)\u001b[0m Epoch [1/50], Step [800/5961], Train Loss: 0.0627 , Logging Time Proportion: 0.0003, Data Loading Time Proportion: 0.0012\n",
      "\u001b[36m(tune_func pid=79980)\u001b[0m Epoch [1/50], Step [900/5961], Train Loss: 0.0624 , Logging Time Proportion: 0.0003, Data Loading Time Proportion: 0.0012\n",
      "\u001b[36m(tune_func pid=79980)\u001b[0m Epoch [1/50], Step [1000/5961], Train Loss: 0.0615 , Logging Time Proportion: 0.0003, Data Loading Time Proportion: 0.0012\n",
      "\u001b[36m(tune_func pid=79980)\u001b[0m Epoch [1/50], Step [1100/5961], Train Loss: 0.0595 , Logging Time Proportion: 0.0003, Data Loading Time Proportion: 0.0012\n",
      "\u001b[36m(tune_func pid=79980)\u001b[0m #######################################################################################\n",
      "\u001b[36m(tune_func pid=79980)\u001b[0m Epoch [1/50], Step [1192/5961], Val Loss: 0.0577 Val Log Time Proportion: 0.1290\n",
      "\u001b[36m(tune_func pid=79980)\u001b[0m #######################################################################################\n"
     ]
    },
    {
     "name": "stderr",
     "output_type": "stream",
     "text": [
      "\u001b[36m(tune_func pid=79980)\u001b[0m Checkpoint successfully created at: Checkpoint(filesystem=local, path=/home/daniel/ray_results/tune_func_2024-06-23_03-06-45/tune_func_dc56f_00020_20_batch_size=4,channels=128,depth=5,lr=0.0000_2024-06-23_03-06-46/checkpoint_000000)\n"
     ]
    },
    {
     "name": "stdout",
     "output_type": "stream",
     "text": [
      "\u001b[36m(tune_func pid=79980)\u001b[0m Epoch [1/50], Step [1200/5961], Train Loss: 0.0580 , Logging Time Proportion: 0.0001, Data Loading Time Proportion: 0.0004\n",
      "\u001b[36m(tune_func pid=79980)\u001b[0m Epoch [1/50], Step [1300/5961], Train Loss: 0.0606 , Logging Time Proportion: 0.0002, Data Loading Time Proportion: 0.0010\n",
      "\u001b[36m(tune_func pid=79980)\u001b[0m Epoch [1/50], Step [1400/5961], Train Loss: 0.0583 , Logging Time Proportion: 0.0002, Data Loading Time Proportion: 0.0012\n",
      "\u001b[36m(tune_func pid=79980)\u001b[0m Epoch [1/50], Step [1500/5961], Train Loss: 0.0547\n",
      "\u001b[36m(tune_func pid=79980)\u001b[0m  , Logging Time Proportion: 0.0002, Data Loading Time Proportion: 0.0012\n",
      "\u001b[36m(tune_func pid=79980)\u001b[0m Epoch [1/50], Step [1600/5961], Train Loss: 0.0545\n",
      "\u001b[36m(tune_func pid=79980)\u001b[0m  , Logging Time Proportion: 0.0003, Data Loading Time Proportion: 0.0012\n",
      "\u001b[36m(tune_func pid=79980)\u001b[0m Epoch [1/50], Step [1700/5961], Train Loss: 0.0563 , Logging Time Proportion: 0.0003, Data Loading Time Proportion: 0.0012\n",
      "\u001b[36m(tune_func pid=79980)\u001b[0m Epoch [1/50], Step [1800/5961], Train Loss: 0.0552 , Logging Time Proportion: 0.0003, Data Loading Time Proportion: 0.0012\n",
      "\u001b[36m(tune_func pid=79980)\u001b[0m Epoch [1/50], Step [1900/5961], Train Loss: 0.0561\n",
      "\u001b[36m(tune_func pid=79980)\u001b[0m  , Logging Time Proportion: 0.0003, Data Loading Time Proportion: 0.0012\n",
      "\u001b[36m(tune_func pid=79980)\u001b[0m Epoch [1/50], Step [2000/5961], Train Loss: 0.0537 , Logging Time Proportion: 0.0003, Data Loading Time Proportion: 0.0012\n",
      "\u001b[36m(tune_func pid=79980)\u001b[0m Epoch [1/50], Step [2100/5961], Train Loss: 0.0539 , Logging Time Proportion: 0.0003, Data Loading Time Proportion: 0.0012\n",
      "\u001b[36m(tune_func pid=79980)\u001b[0m Epoch [1/50], Step [2200/5961], Train Loss: 0.0519 , Logging Time Proportion: 0.0003, Data Loading Time Proportion: 0.0013\n",
      "\u001b[36m(tune_func pid=79980)\u001b[0m Epoch [1/50], Step [2300/5961], Train Loss: 0.0536 , Logging Time Proportion: 0.0003, Data Loading Time Proportion: 0.0012\n",
      "\u001b[36m(tune_func pid=79980)\u001b[0m #######################################################################################\n",
      "\u001b[36m(tune_func pid=79980)\u001b[0m Epoch [1/50], Step [2384/5961], Val Loss: 0.0495 Val Log Time Proportion: 0.1379\n",
      "\u001b[36m(tune_func pid=79980)\u001b[0m #######################################################################################\n"
     ]
    },
    {
     "name": "stderr",
     "output_type": "stream",
     "text": [
      "\u001b[36m(tune_func pid=79980)\u001b[0m Checkpoint successfully created at: Checkpoint(filesystem=local, path=/home/daniel/ray_results/tune_func_2024-06-23_03-06-45/tune_func_dc56f_00020_20_batch_size=4,channels=128,depth=5,lr=0.0000_2024-06-23_03-06-46/checkpoint_000001)\n"
     ]
    },
    {
     "name": "stdout",
     "output_type": "stream",
     "text": [
      "\u001b[36m(tune_func pid=79980)\u001b[0m Epoch [1/50], Step [2400/5961], Train Loss: 0.0505 , Logging Time Proportion: 0.0001, Data Loading Time Proportion: 0.0004\n",
      "\u001b[36m(tune_func pid=79980)\u001b[0m Epoch [1/50], Step [2500/5961], Train Loss: 0.0515 , Logging Time Proportion: 0.0002, Data Loading Time Proportion: 0.0012\n",
      "\u001b[36m(tune_func pid=79980)\u001b[0m Epoch [1/50], Step [2600/5961], Train Loss: 0.0503 , Logging Time Proportion: 0.0002, Data Loading Time Proportion: 0.0012\n",
      "\u001b[36m(tune_func pid=79980)\u001b[0m Epoch [1/50], Step [2700/5961], Train Loss: 0.0505 , Logging Time Proportion: 0.0002, Data Loading Time Proportion: 0.0012\n",
      "\u001b[36m(tune_func pid=79980)\u001b[0m Epoch [1/50], Step [2800/5961], Train Loss: 0.0499 , Logging Time Proportion: 0.0002, Data Loading Time Proportion: 0.0012\n",
      "\u001b[36m(tune_func pid=79980)\u001b[0m Epoch [1/50], Step [2900/5961], Train Loss: 0.0475\n",
      "\u001b[36m(tune_func pid=79980)\u001b[0m  , Logging Time Proportion: 0.0002, Data Loading Time Proportion: 0.0013\n",
      "\u001b[36m(tune_func pid=79980)\u001b[0m Epoch [1/50], Step [3000/5961], Train Loss: 0.0504 , Logging Time Proportion: 0.0002, Data Loading Time Proportion: 0.0012\n",
      "\u001b[36m(tune_func pid=79980)\u001b[0m Epoch [1/50], Step [3100/5961], Train Loss: 0.0476 , Logging Time Proportion: 0.0004, Data Loading Time Proportion: 0.0012\n",
      "\u001b[36m(tune_func pid=79980)\u001b[0m Epoch [1/50], Step [3200/5961], Train Loss: 0.0485 , Logging Time Proportion: 0.0003, Data Loading Time Proportion: 0.0012\n",
      "\u001b[36m(tune_func pid=79980)\u001b[0m Epoch [1/50], Step [3300/5961], Train Loss: 0.0484 , Logging Time Proportion: 0.0003, Data Loading Time Proportion: 0.0012\n",
      "\u001b[36m(tune_func pid=79980)\u001b[0m Epoch [1/50], Step [3400/5961], Train Loss: 0.0466 , Logging Time Proportion: 0.0002, Data Loading Time Proportion: 0.0012\n",
      "\u001b[36m(tune_func pid=79980)\u001b[0m Epoch [1/50], Step [3500/5961], Train Loss: 0.0476 , Logging Time Proportion: 0.0003, Data Loading Time Proportion: 0.0012\n",
      "\u001b[36m(tune_func pid=79980)\u001b[0m #######################################################################################\n",
      "\u001b[36m(tune_func pid=79980)\u001b[0m Epoch [1/50], Step [3576/5961], Val Loss: 0.0465 Val Log Time Proportion: 0.1194\n",
      "\u001b[36m(tune_func pid=79980)\u001b[0m #######################################################################################\n"
     ]
    },
    {
     "name": "stderr",
     "output_type": "stream",
     "text": [
      "\u001b[36m(tune_func pid=79980)\u001b[0m Checkpoint successfully created at: Checkpoint(filesystem=local, path=/home/daniel/ray_results/tune_func_2024-06-23_03-06-45/tune_func_dc56f_00020_20_batch_size=4,channels=128,depth=5,lr=0.0000_2024-06-23_03-06-46/checkpoint_000002)\n"
     ]
    },
    {
     "name": "stdout",
     "output_type": "stream",
     "text": [
      "\u001b[36m(tune_func pid=79980)\u001b[0m Epoch [1/50], Step [3600/5961], Train Loss: 0.0470 , Logging Time Proportion: 0.0001, Data Loading Time Proportion: 0.0004\n",
      "\u001b[36m(tune_func pid=79980)\u001b[0m Epoch [1/50], Step [3700/5961], Train Loss: 0.0465 , Logging Time Proportion: 0.0003, Data Loading Time Proportion: 0.0012\n",
      "\u001b[36m(tune_func pid=79980)\u001b[0m Epoch [1/50], Step [3800/5961], Train Loss: 0.0459 , Logging Time Proportion: 0.0003, Data Loading Time Proportion: 0.0012\n",
      "\u001b[36m(tune_func pid=79980)\u001b[0m Epoch [1/50], Step [3900/5961], Train Loss: 0.0493\n",
      "\u001b[36m(tune_func pid=79980)\u001b[0m  , Logging Time Proportion: 0.0003, Data Loading Time Proportion: 0.0012\n",
      "\u001b[36m(tune_func pid=79980)\u001b[0m Epoch [1/50], Step [4000/5961], Train Loss: 0.0456 , Logging Time Proportion: 0.0002, Data Loading Time Proportion: 0.0012\n",
      "\u001b[36m(tune_func pid=79980)\u001b[0m Epoch [1/50], Step [4100/5961], Train Loss: 0.0462\n",
      "\u001b[36m(tune_func pid=79980)\u001b[0m  , Logging Time Proportion: 0.0002, Data Loading Time Proportion: 0.0012\n",
      "\u001b[36m(tune_func pid=79980)\u001b[0m Epoch [1/50], Step [4200/5961], Train Loss: 0.0460 , Logging Time Proportion: 0.0002, Data Loading Time Proportion: 0.0012\n",
      "\u001b[36m(tune_func pid=79980)\u001b[0m Epoch [1/50], Step [4300/5961], Train Loss: 0.0469\n",
      "\u001b[36m(tune_func pid=79980)\u001b[0m  , Logging Time Proportion: 0.0002, Data Loading Time Proportion: 0.0012\n",
      "\u001b[36m(tune_func pid=79980)\u001b[0m Epoch [1/50], Step [4400/5961], Train Loss: 0.0476\n",
      "\u001b[36m(tune_func pid=79980)\u001b[0m  , Logging Time Proportion: 0.0002, Data Loading Time Proportion: 0.0011\n",
      "\u001b[36m(tune_func pid=79980)\u001b[0m Epoch [1/50], Step [4500/5961], Train Loss: 0.0468 , Logging Time Proportion: 0.0003, Data Loading Time Proportion: 0.0012\n",
      "\u001b[36m(tune_func pid=79980)\u001b[0m Epoch [1/50], Step [4600/5961], Train Loss: 0.0458 , Logging Time Proportion: 0.0003, Data Loading Time Proportion: 0.0012\n",
      "\u001b[36m(tune_func pid=79980)\u001b[0m Epoch [1/50], Step [4700/5961], Train Loss: 0.0451 , Logging Time Proportion: 0.0003, Data Loading Time Proportion: 0.0012\n",
      "\u001b[36m(tune_func pid=79980)\u001b[0m #######################################################################################\n",
      "\u001b[36m(tune_func pid=79980)\u001b[0m Epoch [1/50], Step [4768/5961], Val Loss: 0.0454 Val Log Time Proportion: 0.1172\n",
      "\u001b[36m(tune_func pid=79980)\u001b[0m #######################################################################################\n"
     ]
    },
    {
     "name": "stderr",
     "output_type": "stream",
     "text": [
      "\u001b[36m(tune_func pid=79980)\u001b[0m Checkpoint successfully created at: Checkpoint(filesystem=local, path=/home/daniel/ray_results/tune_func_2024-06-23_03-06-45/tune_func_dc56f_00020_20_batch_size=4,channels=128,depth=5,lr=0.0000_2024-06-23_03-06-46/checkpoint_000003)\n"
     ]
    },
    {
     "name": "stdout",
     "output_type": "stream",
     "text": [
      "\u001b[36m(tune_func pid=79980)\u001b[0m Epoch [1/50], Step [4800/5961], Train Loss: 0.0461 , Logging Time Proportion: 0.0001, Data Loading Time Proportion: 0.0004\n",
      "\u001b[36m(tune_func pid=79980)\u001b[0m Epoch [1/50], Step [4900/5961], Train Loss: 0.0447 , Logging Time Proportion: 0.0003, Data Loading Time Proportion: 0.0012\n",
      "\u001b[36m(tune_func pid=79980)\u001b[0m Epoch [1/50], Step [5000/5961], Train Loss: 0.0483 , Logging Time Proportion: 0.0003, Data Loading Time Proportion: 0.0012\n",
      "\u001b[36m(tune_func pid=79980)\u001b[0m Epoch [1/50], Step [5100/5961], Train Loss: 0.0449 , Logging Time Proportion: 0.0002, Data Loading Time Proportion: 0.0012\n",
      "\u001b[36m(tune_func pid=79980)\u001b[0m Epoch [1/50], Step [5200/5961], Train Loss: 0.0437 , Logging Time Proportion: 0.0003, Data Loading Time Proportion: 0.0012\n",
      "\u001b[36m(tune_func pid=79980)\u001b[0m Epoch [1/50], Step [5300/5961], Train Loss: 0.0446 , Logging Time Proportion: 0.0003, Data Loading Time Proportion: 0.0012\n",
      "\u001b[36m(tune_func pid=79980)\u001b[0m Epoch [1/50], Step [5400/5961], Train Loss: 0.0451 , Logging Time Proportion: 0.0002, Data Loading Time Proportion: 0.0012\n",
      "\u001b[36m(tune_func pid=79980)\u001b[0m Epoch [1/50], Step [5500/5961], Train Loss: 0.0448 , Logging Time Proportion: 0.0002, Data Loading Time Proportion: 0.0013\n",
      "\u001b[36m(tune_func pid=79980)\u001b[0m Epoch [1/50], Step [5600/5961], Train Loss: 0.0455 , Logging Time Proportion: 0.0002, Data Loading Time Proportion: 0.0012\n",
      "\u001b[36m(tune_func pid=79980)\u001b[0m Epoch [1/50], Step [5700/5961], Train Loss: 0.0460 , Logging Time Proportion: 0.0002, Data Loading Time Proportion: 0.0012\n",
      "\u001b[36m(tune_func pid=79980)\u001b[0m Epoch [1/50], Step [5800/5961], Train Loss: 0.0436 , Logging Time Proportion: 0.0004, Data Loading Time Proportion: 0.0012\n",
      "\u001b[36m(tune_func pid=79980)\u001b[0m Epoch [1/50], Step [5900/5961], Train Loss: 0.0437\n",
      "\u001b[36m(tune_func pid=79980)\u001b[0m  , Logging Time Proportion: 0.0003, Data Loading Time Proportion: 0.0012\n",
      "\u001b[36m(tune_func pid=79980)\u001b[0m #######################################################################################\n",
      "\u001b[36m(tune_func pid=79980)\u001b[0m Epoch [1/50], Step [5960/5961], Val Loss: 0.0432 Val Log Time Proportion: 0.1176\n",
      "\u001b[36m(tune_func pid=79980)\u001b[0m #######################################################################################\n"
     ]
    },
    {
     "name": "stderr",
     "output_type": "stream",
     "text": [
      "\u001b[36m(tune_func pid=79980)\u001b[0m Checkpoint successfully created at: Checkpoint(filesystem=local, path=/home/daniel/ray_results/tune_func_2024-06-23_03-06-45/tune_func_dc56f_00020_20_batch_size=4,channels=128,depth=5,lr=0.0000_2024-06-23_03-06-46/checkpoint_000004)\n"
     ]
    },
    {
     "name": "stdout",
     "output_type": "stream",
     "text": [
      "\u001b[36m(tune_func pid=79980)\u001b[0m Epoch [2/50], Step [39/5961], Train Loss: 0.0166 , Logging Time Proportion: 0.0001, Data Loading Time Proportion: 0.0004\n",
      "\u001b[36m(tune_func pid=79980)\u001b[0m Epoch [2/50], Step [139/5961], Train Loss: 0.0430 , Logging Time Proportion: 0.0003, Data Loading Time Proportion: 0.0012\n",
      "\u001b[36m(tune_func pid=79980)\u001b[0m Epoch [2/50], Step [239/5961], Train Loss: 0.0453 , Logging Time Proportion: 0.0003, Data Loading Time Proportion: 0.0012\n",
      "\u001b[36m(tune_func pid=79980)\u001b[0m Epoch [2/50], Step [339/5961], Train Loss: 0.0448 , Logging Time Proportion: 0.0003, Data Loading Time Proportion: 0.0012\n",
      "\u001b[36m(tune_func pid=79980)\u001b[0m Epoch [2/50], Step [439/5961], Train Loss: 0.0431 , Logging Time Proportion: 0.0003, Data Loading Time Proportion: 0.0012\n",
      "\u001b[36m(tune_func pid=79980)\u001b[0m Epoch [2/50], Step [539/5961], Train Loss: 0.0420 , Logging Time Proportion: 0.0003, Data Loading Time Proportion: 0.0013\n",
      "\u001b[36m(tune_func pid=79980)\u001b[0m Epoch [2/50], Step [639/5961], Train Loss: 0.0454 , Logging Time Proportion: 0.0003, Data Loading Time Proportion: 0.0012\n",
      "\u001b[36m(tune_func pid=79980)\u001b[0m Epoch [2/50], Step [739/5961], Train Loss: 0.0430 , Logging Time Proportion: 0.0002, Data Loading Time Proportion: 0.0012\n",
      "\u001b[36m(tune_func pid=79980)\u001b[0m Epoch [2/50], Step [839/5961], Train Loss: 0.0424 , Logging Time Proportion: 0.0002, Data Loading Time Proportion: 0.0012\n",
      "\u001b[36m(tune_func pid=79980)\u001b[0m Epoch [2/50], Step [939/5961], Train Loss: 0.0433 , Logging Time Proportion: 0.0003, Data Loading Time Proportion: 0.0012\n",
      "\u001b[36m(tune_func pid=79980)\u001b[0m Epoch [2/50], Step [1039/5961], Train Loss: 0.0449 , Logging Time Proportion: 0.0003, Data Loading Time Proportion: 0.0012\n",
      "\u001b[36m(tune_func pid=79980)\u001b[0m Epoch [2/50], Step [1139/5961], Train Loss: 0.0440 , Logging Time Proportion: 0.0003, Data Loading Time Proportion: 0.0012\n",
      "\u001b[36m(tune_func pid=79980)\u001b[0m #######################################################################################\n",
      "\u001b[36m(tune_func pid=79980)\u001b[0m Epoch [2/50], Step [1192/5961], Val Loss: 0.0441 Val Log Time Proportion: 0.1203\n",
      "\u001b[36m(tune_func pid=79980)\u001b[0m #######################################################################################\n"
     ]
    },
    {
     "name": "stderr",
     "output_type": "stream",
     "text": [
      "\u001b[36m(tune_func pid=79980)\u001b[0m Checkpoint successfully created at: Checkpoint(filesystem=local, path=/home/daniel/ray_results/tune_func_2024-06-23_03-06-45/tune_func_dc56f_00020_20_batch_size=4,channels=128,depth=5,lr=0.0000_2024-06-23_03-06-46/checkpoint_000005)\n"
     ]
    },
    {
     "name": "stdout",
     "output_type": "stream",
     "text": [
      "\u001b[36m(tune_func pid=79980)\u001b[0m Epoch [2/50], Step [1239/5961], Train Loss: 0.0430 , Logging Time Proportion: 0.0001, Data Loading Time Proportion: 0.0004\n",
      "\u001b[36m(tune_func pid=79980)\u001b[0m Epoch [2/50], Step [1339/5961], Train Loss: 0.0443 , Logging Time Proportion: 0.0003, Data Loading Time Proportion: 0.0012\n",
      "\u001b[36m(tune_func pid=79980)\u001b[0m Epoch [2/50], Step [1439/5961], Train Loss: 0.0441 , Logging Time Proportion: 0.0002, Data Loading Time Proportion: 0.0012\n",
      "\u001b[36m(tune_func pid=79980)\u001b[0m Epoch [2/50], Step [1539/5961], Train Loss: 0.0427 , Logging Time Proportion: 0.0002, Data Loading Time Proportion: 0.0012\n",
      "\u001b[36m(tune_func pid=79980)\u001b[0m Epoch [2/50], Step [1639/5961], Train Loss: 0.0442 , Logging Time Proportion: 0.0002, Data Loading Time Proportion: 0.0012\n",
      "\u001b[36m(tune_func pid=79980)\u001b[0m Epoch [2/50], Step [1739/5961], Train Loss: 0.0404 , Logging Time Proportion: 0.0003, Data Loading Time Proportion: 0.0012\n",
      "\u001b[36m(tune_func pid=79980)\u001b[0m Epoch [2/50], Step [1839/5961], Train Loss: 0.0414 , Logging Time Proportion: 0.0003, Data Loading Time Proportion: 0.0012\n",
      "\u001b[36m(tune_func pid=79980)\u001b[0m Epoch [2/50], Step [1939/5961], Train Loss: 0.0423 , Logging Time Proportion: 0.0003, Data Loading Time Proportion: 0.0012\n",
      "\u001b[36m(tune_func pid=79980)\u001b[0m Epoch [2/50], Step [2039/5961], Train Loss: 0.0409 , Logging Time Proportion: 0.0003, Data Loading Time Proportion: 0.0012\n",
      "\u001b[36m(tune_func pid=79980)\u001b[0m Epoch [2/50], Step [2139/5961], Train Loss: 0.0431 , Logging Time Proportion: 0.0002, Data Loading Time Proportion: 0.0012\n",
      "\u001b[36m(tune_func pid=79980)\u001b[0m Epoch [2/50], Step [2239/5961], Train Loss: 0.0428 , Logging Time Proportion: 0.0002, Data Loading Time Proportion: 0.0012\n",
      "\u001b[36m(tune_func pid=79980)\u001b[0m Epoch [2/50], Step [2339/5961], Train Loss: 0.0435 , Logging Time Proportion: 0.0002, Data Loading Time Proportion: 0.0012\n",
      "\u001b[36m(tune_func pid=79980)\u001b[0m #######################################################################################\n",
      "\u001b[36m(tune_func pid=79980)\u001b[0m Epoch [2/50], Step [2384/5961], Val Loss: 0.0425 Val Log Time Proportion: 0.1191\n",
      "\u001b[36m(tune_func pid=79980)\u001b[0m #######################################################################################\n"
     ]
    },
    {
     "name": "stderr",
     "output_type": "stream",
     "text": [
      "\u001b[36m(tune_func pid=79980)\u001b[0m Checkpoint successfully created at: Checkpoint(filesystem=local, path=/home/daniel/ray_results/tune_func_2024-06-23_03-06-45/tune_func_dc56f_00020_20_batch_size=4,channels=128,depth=5,lr=0.0000_2024-06-23_03-06-46/checkpoint_000006)\n"
     ]
    },
    {
     "name": "stdout",
     "output_type": "stream",
     "text": [
      "\u001b[36m(tune_func pid=79980)\u001b[0m Epoch [2/50], Step [2439/5961], Train Loss: 0.0437 , Logging Time Proportion: 0.0001, Data Loading Time Proportion: 0.0004\n",
      "\u001b[36m(tune_func pid=79980)\u001b[0m Epoch [2/50], Step [2539/5961], Train Loss: 0.0412 , Logging Time Proportion: 0.0002, Data Loading Time Proportion: 0.0012\n",
      "\u001b[36m(tune_func pid=79980)\u001b[0m Epoch [2/50], Step [2639/5961], Train Loss: 0.0426 , Logging Time Proportion: 0.0002, Data Loading Time Proportion: 0.0012\n",
      "\u001b[36m(tune_func pid=79980)\u001b[0m Epoch [2/50], Step [2739/5961], Train Loss: 0.0447 , Logging Time Proportion: 0.0002, Data Loading Time Proportion: 0.0012\n",
      "\u001b[36m(tune_func pid=79980)\u001b[0m Epoch [2/50], Step [2839/5961], Train Loss: 0.0412 , Logging Time Proportion: 0.0002, Data Loading Time Proportion: 0.0012\n",
      "\u001b[36m(tune_func pid=79980)\u001b[0m Epoch [2/50], Step [2939/5961], Train Loss: 0.0428 , Logging Time Proportion: 0.0002, Data Loading Time Proportion: 0.0012\n",
      "\u001b[36m(tune_func pid=79980)\u001b[0m Epoch [2/50], Step [3039/5961], Train Loss: 0.0421 , Logging Time Proportion: 0.0002, Data Loading Time Proportion: 0.0012\n",
      "\u001b[36m(tune_func pid=79980)\u001b[0m Epoch [2/50], Step [3139/5961], Train Loss: 0.0425 , Logging Time Proportion: 0.0004, Data Loading Time Proportion: 0.0012\n",
      "\u001b[36m(tune_func pid=79980)\u001b[0m Epoch [2/50], Step [3239/5961], Train Loss: 0.0414 , Logging Time Proportion: 0.0003, Data Loading Time Proportion: 0.0012\n",
      "\u001b[36m(tune_func pid=79980)\u001b[0m Epoch [2/50], Step [3339/5961], Train Loss: 0.0421 , Logging Time Proportion: 0.0003, Data Loading Time Proportion: 0.0012\n",
      "\u001b[36m(tune_func pid=79980)\u001b[0m Epoch [2/50], Step [3439/5961], Train Loss: 0.0417 , Logging Time Proportion: 0.0002, Data Loading Time Proportion: 0.0012\n",
      "\u001b[36m(tune_func pid=79980)\u001b[0m Epoch [2/50], Step [3539/5961], Train Loss: 0.0408 , Logging Time Proportion: 0.0002, Data Loading Time Proportion: 0.0012\n",
      "\u001b[36m(tune_func pid=79980)\u001b[0m #######################################################################################\n",
      "\u001b[36m(tune_func pid=79980)\u001b[0m Epoch [2/50], Step [3576/5961], Val Loss: 0.0410 Val Log Time Proportion: 0.1174\n",
      "\u001b[36m(tune_func pid=79980)\u001b[0m #######################################################################################\n"
     ]
    },
    {
     "name": "stderr",
     "output_type": "stream",
     "text": [
      "\u001b[36m(tune_func pid=79980)\u001b[0m Checkpoint successfully created at: Checkpoint(filesystem=local, path=/home/daniel/ray_results/tune_func_2024-06-23_03-06-45/tune_func_dc56f_00020_20_batch_size=4,channels=128,depth=5,lr=0.0000_2024-06-23_03-06-46/checkpoint_000007)\n"
     ]
    },
    {
     "name": "stdout",
     "output_type": "stream",
     "text": [
      "\u001b[36m(tune_func pid=79980)\u001b[0m Epoch [2/50], Step [3639/5961], Train Loss: 0.0408 , Logging Time Proportion: 0.0001, Data Loading Time Proportion: 0.0004\n",
      "\u001b[36m(tune_func pid=79980)\u001b[0m Epoch [2/50], Step [3739/5961], Train Loss: 0.0431 , Logging Time Proportion: 0.0002, Data Loading Time Proportion: 0.0012\n",
      "\u001b[36m(tune_func pid=79980)\u001b[0m Epoch [2/50], Step [3839/5961], Train Loss: 0.0404 , Logging Time Proportion: 0.0002, Data Loading Time Proportion: 0.0012\n",
      "\u001b[36m(tune_func pid=79980)\u001b[0m Epoch [2/50], Step [3939/5961], Train Loss: 0.0412 , Logging Time Proportion: 0.0002, Data Loading Time Proportion: 0.0012\n",
      "\u001b[36m(tune_func pid=79980)\u001b[0m Epoch [2/50], Step [4039/5961], Train Loss: 0.0411 , Logging Time Proportion: 0.0002, Data Loading Time Proportion: 0.0012\n",
      "\u001b[36m(tune_func pid=79980)\u001b[0m Epoch [2/50], Step [4139/5961], Train Loss: 0.0402 , Logging Time Proportion: 0.0002, Data Loading Time Proportion: 0.0012\n",
      "\u001b[36m(tune_func pid=79980)\u001b[0m Epoch [2/50], Step [4239/5961], Train Loss: 0.0406 , Logging Time Proportion: 0.0002, Data Loading Time Proportion: 0.0012\n",
      "\u001b[36m(tune_func pid=79980)\u001b[0m Epoch [2/50], Step [4339/5961], Train Loss: 0.0410 , Logging Time Proportion: 0.0003, Data Loading Time Proportion: 0.0012\n",
      "\u001b[36m(tune_func pid=79980)\u001b[0m Epoch [2/50], Step [4439/5961], Train Loss: 0.0412 , Logging Time Proportion: 0.0003, Data Loading Time Proportion: 0.0012\n",
      "\u001b[36m(tune_func pid=79980)\u001b[0m Epoch [2/50], Step [4539/5961], Train Loss: 0.0427 , Logging Time Proportion: 0.0002, Data Loading Time Proportion: 0.0012\n",
      "\u001b[36m(tune_func pid=79980)\u001b[0m Epoch [2/50], Step [4639/5961], Train Loss: 0.0427 , Logging Time Proportion: 0.0002, Data Loading Time Proportion: 0.0012\n",
      "\u001b[36m(tune_func pid=79980)\u001b[0m Epoch [2/50], Step [4739/5961], Train Loss: 0.0391 , Logging Time Proportion: 0.0002, Data Loading Time Proportion: 0.0012\n",
      "\u001b[36m(tune_func pid=79980)\u001b[0m #######################################################################################\n",
      "\u001b[36m(tune_func pid=79980)\u001b[0m \n",
      "\u001b[36m(tune_func pid=79980)\u001b[0m Epoch [2/50], Step [4768/5961], Val Loss: 0.0403 Val Log Time Proportion: 0.1176\n",
      "\u001b[36m(tune_func pid=79980)\u001b[0m #######################################################################################\n"
     ]
    },
    {
     "name": "stderr",
     "output_type": "stream",
     "text": [
      "\u001b[36m(tune_func pid=79980)\u001b[0m Checkpoint successfully created at: Checkpoint(filesystem=local, path=/home/daniel/ray_results/tune_func_2024-06-23_03-06-45/tune_func_dc56f_00020_20_batch_size=4,channels=128,depth=5,lr=0.0000_2024-06-23_03-06-46/checkpoint_000008)\n"
     ]
    },
    {
     "name": "stdout",
     "output_type": "stream",
     "text": [
      "\u001b[36m(tune_func pid=79980)\u001b[0m Epoch [2/50], Step [4839/5961], Train Loss: 0.0413 , Logging Time Proportion: 0.0002, Data Loading Time Proportion: 0.0004\n",
      "\u001b[36m(tune_func pid=79980)\u001b[0m Epoch [2/50], Step [4939/5961], Train Loss: 0.0404 , Logging Time Proportion: 0.0002, Data Loading Time Proportion: 0.0012\n",
      "\u001b[36m(tune_func pid=79980)\u001b[0m Epoch [2/50], Step [5039/5961], Train Loss: 0.0406 , Logging Time Proportion: 0.0003, Data Loading Time Proportion: 0.0012\n",
      "\u001b[36m(tune_func pid=79980)\u001b[0m Epoch [2/50], Step [5139/5961], Train Loss: 0.0407 , Logging Time Proportion: 0.0004, Data Loading Time Proportion: 0.0012\n",
      "\u001b[36m(tune_func pid=79980)\u001b[0m Epoch [2/50], Step [5239/5961], Train Loss: 0.0415 , Logging Time Proportion: 0.0002, Data Loading Time Proportion: 0.0012\n",
      "\u001b[36m(tune_func pid=79980)\u001b[0m Epoch [2/50], Step [5339/5961], Train Loss: 0.0386 , Logging Time Proportion: 0.0002, Data Loading Time Proportion: 0.0012\n",
      "\u001b[36m(tune_func pid=79980)\u001b[0m Epoch [2/50], Step [5439/5961], Train Loss: 0.0401 , Logging Time Proportion: 0.0002, Data Loading Time Proportion: 0.0012\n",
      "\u001b[36m(tune_func pid=79980)\u001b[0m Epoch [2/50], Step [5539/5961], Train Loss: 0.0402 , Logging Time Proportion: 0.0002, Data Loading Time Proportion: 0.0012\n",
      "\u001b[36m(tune_func pid=79980)\u001b[0m Epoch [2/50], Step [5639/5961], Train Loss: 0.0407 , Logging Time Proportion: 0.0002, Data Loading Time Proportion: 0.0012\n",
      "\u001b[36m(tune_func pid=79980)\u001b[0m Epoch [2/50], Step [5739/5961], Train Loss: 0.0397 , Logging Time Proportion: 0.0002, Data Loading Time Proportion: 0.0012\n",
      "\u001b[36m(tune_func pid=79980)\u001b[0m Epoch [2/50], Step [5839/5961], Train Loss: 0.0387 , Logging Time Proportion: 0.0003, Data Loading Time Proportion: 0.0012\n",
      "\u001b[36m(tune_func pid=79980)\u001b[0m Epoch [2/50], Step [5939/5961], Train Loss: 0.0395 , Logging Time Proportion: 0.0002, Data Loading Time Proportion: 0.0012\n",
      "\u001b[36m(tune_func pid=79980)\u001b[0m #######################################################################################\n",
      "\u001b[36m(tune_func pid=79980)\u001b[0m Epoch [2/50], Step [5960/5961], Val Loss: 0.0398 Val Log Time Proportion: 0.1172\n",
      "\u001b[36m(tune_func pid=79980)\u001b[0m #######################################################################################\n"
     ]
    },
    {
     "name": "stderr",
     "output_type": "stream",
     "text": [
      "\u001b[36m(tune_func pid=79980)\u001b[0m Checkpoint successfully created at: Checkpoint(filesystem=local, path=/home/daniel/ray_results/tune_func_2024-06-23_03-06-45/tune_func_dc56f_00020_20_batch_size=4,channels=128,depth=5,lr=0.0000_2024-06-23_03-06-46/checkpoint_000009)\n"
     ]
    },
    {
     "name": "stdout",
     "output_type": "stream",
     "text": [
      "\u001b[36m(tune_func pid=79980)\u001b[0m Epoch [3/50], Step [78/5961], Train Loss: 0.0315 , Logging Time Proportion: 0.0001, Data Loading Time Proportion: 0.0004\n",
      "\u001b[36m(tune_func pid=79980)\u001b[0m Epoch [3/50], Step [178/5961], Train Loss: 0.0411 , Logging Time Proportion: 0.0003, Data Loading Time Proportion: 0.0012\n",
      "\u001b[36m(tune_func pid=79980)\u001b[0m Epoch [3/50], Step [278/5961], Train Loss: 0.0404 , Logging Time Proportion: 0.0003, Data Loading Time Proportion: 0.0012\n",
      "\u001b[36m(tune_func pid=79980)\u001b[0m Epoch [3/50], Step [378/5961], Train Loss: 0.0422 , Logging Time Proportion: 0.0003, Data Loading Time Proportion: 0.0012\n",
      "\u001b[36m(tune_func pid=79980)\u001b[0m Epoch [3/50], Step [478/5961], Train Loss: 0.0409 , Logging Time Proportion: 0.0003, Data Loading Time Proportion: 0.0012\n",
      "\u001b[36m(tune_func pid=79980)\u001b[0m Epoch [3/50], Step [578/5961], Train Loss: 0.0403 , Logging Time Proportion: 0.0003, Data Loading Time Proportion: 0.0012\n",
      "\u001b[36m(tune_func pid=79980)\u001b[0m Epoch [3/50], Step [678/5961], Train Loss: 0.0403 , Logging Time Proportion: 0.0004, Data Loading Time Proportion: 0.0012\n",
      "\u001b[36m(tune_func pid=79980)\u001b[0m Epoch [3/50], Step [778/5961], Train Loss: 0.0406 , Logging Time Proportion: 0.0003, Data Loading Time Proportion: 0.0012\n",
      "\u001b[36m(tune_func pid=79980)\u001b[0m Epoch [3/50], Step [878/5961], Train Loss: 0.0395 , Logging Time Proportion: 0.0003, Data Loading Time Proportion: 0.0012\n",
      "\u001b[36m(tune_func pid=79980)\u001b[0m Epoch [3/50], Step [978/5961], Train Loss: 0.0400 , Logging Time Proportion: 0.0002, Data Loading Time Proportion: 0.0012\n",
      "\u001b[36m(tune_func pid=79980)\u001b[0m Epoch [3/50], Step [1078/5961], Train Loss: 0.0395 , Logging Time Proportion: 0.0002, Data Loading Time Proportion: 0.0012\n",
      "\u001b[36m(tune_func pid=79980)\u001b[0m Epoch [3/50], Step [1178/5961], Train Loss: 0.0388 , Logging Time Proportion: 0.0003, Data Loading Time Proportion: 0.0012\n",
      "\u001b[36m(tune_func pid=79980)\u001b[0m #######################################################################################\n",
      "\u001b[36m(tune_func pid=79980)\u001b[0m Epoch [3/50], Step [1192/5961], Val Loss: 0.0401 Val Log Time Proportion: 0.1228\n",
      "\u001b[36m(tune_func pid=79980)\u001b[0m #######################################################################################\n"
     ]
    },
    {
     "name": "stderr",
     "output_type": "stream",
     "text": [
      "\u001b[36m(tune_func pid=79980)\u001b[0m Checkpoint successfully created at: Checkpoint(filesystem=local, path=/home/daniel/ray_results/tune_func_2024-06-23_03-06-45/tune_func_dc56f_00020_20_batch_size=4,channels=128,depth=5,lr=0.0000_2024-06-23_03-06-46/checkpoint_000010)\n"
     ]
    },
    {
     "name": "stdout",
     "output_type": "stream",
     "text": [
      "\u001b[36m(tune_func pid=79980)\u001b[0m Epoch [3/50], Step [1278/5961], Train Loss: 0.0391 , Logging Time Proportion: 0.0001, Data Loading Time Proportion: 0.0004\n",
      "\u001b[36m(tune_func pid=79980)\u001b[0m Epoch [3/50], Step [1378/5961], Train Loss: 0.0381 , Logging Time Proportion: 0.0002, Data Loading Time Proportion: 0.0012\n",
      "\u001b[36m(tune_func pid=79980)\u001b[0m Epoch [3/50], Step [1478/5961], Train Loss: 0.0406 , Logging Time Proportion: 0.0002, Data Loading Time Proportion: 0.0012\n",
      "\u001b[36m(tune_func pid=79980)\u001b[0m Epoch [3/50], Step [1578/5961], Train Loss: 0.0387 , Logging Time Proportion: 0.0002, Data Loading Time Proportion: 0.0012\n",
      "\u001b[36m(tune_func pid=79980)\u001b[0m Epoch [3/50], Step [1678/5961], Train Loss: 0.0399 , Logging Time Proportion: 0.0003, Data Loading Time Proportion: 0.0012\n",
      "\u001b[36m(tune_func pid=79980)\u001b[0m Epoch [3/50], Step [1778/5961], Train Loss: 0.0375 , Logging Time Proportion: 0.0003, Data Loading Time Proportion: 0.0012\n",
      "\u001b[36m(tune_func pid=79980)\u001b[0m Epoch [3/50], Step [1878/5961], Train Loss: 0.0387 , Logging Time Proportion: 0.0003, Data Loading Time Proportion: 0.0012\n",
      "\u001b[36m(tune_func pid=79980)\u001b[0m Epoch [3/50], Step [1978/5961], Train Loss: 0.0404 , Logging Time Proportion: 0.0003, Data Loading Time Proportion: 0.0012\n",
      "\u001b[36m(tune_func pid=79980)\u001b[0m Epoch [3/50], Step [2078/5961], Train Loss: 0.0403 , Logging Time Proportion: 0.0002, Data Loading Time Proportion: 0.0012\n",
      "\u001b[36m(tune_func pid=79980)\u001b[0m Epoch [3/50], Step [2178/5961], Train Loss: 0.0396 , Logging Time Proportion: 0.0003, Data Loading Time Proportion: 0.0012\n",
      "\u001b[36m(tune_func pid=79980)\u001b[0m Epoch [3/50], Step [2278/5961], Train Loss: 0.0417 , Logging Time Proportion: 0.0002, Data Loading Time Proportion: 0.0012\n",
      "\u001b[36m(tune_func pid=79980)\u001b[0m Epoch [3/50], Step [2378/5961], Train Loss: 0.0378 , Logging Time Proportion: 0.0002, Data Loading Time Proportion: 0.0012\n",
      "\u001b[36m(tune_func pid=79980)\u001b[0m #######################################################################################\n",
      "\u001b[36m(tune_func pid=79980)\u001b[0m Epoch [3/50], Step [2384/5961], Val Loss: 0.0396 Val Log Time Proportion: 0.1203\n",
      "\u001b[36m(tune_func pid=79980)\u001b[0m #######################################################################################\n"
     ]
    },
    {
     "name": "stderr",
     "output_type": "stream",
     "text": [
      "\u001b[36m(tune_func pid=79980)\u001b[0m Checkpoint successfully created at: Checkpoint(filesystem=local, path=/home/daniel/ray_results/tune_func_2024-06-23_03-06-45/tune_func_dc56f_00020_20_batch_size=4,channels=128,depth=5,lr=0.0000_2024-06-23_03-06-46/checkpoint_000011)\n"
     ]
    },
    {
     "name": "stdout",
     "output_type": "stream",
     "text": [
      "\u001b[36m(tune_func pid=79980)\u001b[0m Epoch [3/50], Step [2478/5961], Train Loss: 0.0397 , Logging Time Proportion: 0.0001, Data Loading Time Proportion: 0.0004\n",
      "\u001b[36m(tune_func pid=79980)\u001b[0m Epoch [3/50], Step [2578/5961], Train Loss: 0.0396 , Logging Time Proportion: 0.0002, Data Loading Time Proportion: 0.0012\n",
      "\u001b[36m(tune_func pid=79980)\u001b[0m Epoch [3/50], Step [2678/5961], Train Loss: 0.0400 , Logging Time Proportion: 0.0002, Data Loading Time Proportion: 0.0012\n",
      "\u001b[36m(tune_func pid=79980)\u001b[0m Epoch [3/50], Step [2778/5961], Train Loss: 0.0393 , Logging Time Proportion: 0.0004, Data Loading Time Proportion: 0.0012\n",
      "\u001b[36m(tune_func pid=79980)\u001b[0m Epoch [3/50], Step [2878/5961], Train Loss: 0.0383 , Logging Time Proportion: 0.0002, Data Loading Time Proportion: 0.0012\n",
      "\u001b[36m(tune_func pid=79980)\u001b[0m Epoch [3/50], Step [2978/5961], Train Loss: 0.0380 , Logging Time Proportion: 0.0003, Data Loading Time Proportion: 0.0012\n",
      "\u001b[36m(tune_func pid=79980)\u001b[0m Epoch [3/50], Step [3078/5961], Train Loss: 0.0387 , Logging Time Proportion: 0.0003, Data Loading Time Proportion: 0.0012\n",
      "\u001b[36m(tune_func pid=79980)\u001b[0m Epoch [3/50], Step [3178/5961], Train Loss: 0.0383 , Logging Time Proportion: 0.0002, Data Loading Time Proportion: 0.0012\n",
      "\u001b[36m(tune_func pid=79980)\u001b[0m Epoch [3/50], Step [3278/5961], Train Loss: 0.0412 , Logging Time Proportion: 0.0003, Data Loading Time Proportion: 0.0012\n",
      "\u001b[36m(tune_func pid=79980)\u001b[0m Epoch [3/50], Step [3378/5961], Train Loss: 0.0415 , Logging Time Proportion: 0.0002, Data Loading Time Proportion: 0.0011\n",
      "\u001b[36m(tune_func pid=79980)\u001b[0m Epoch [3/50], Step [3478/5961], Train Loss: 0.0391 , Logging Time Proportion: 0.0002, Data Loading Time Proportion: 0.0012\n",
      "\u001b[36m(tune_func pid=79980)\u001b[0m #######################################################################################\n",
      "\u001b[36m(tune_func pid=79980)\u001b[0m Epoch [3/50], Step [3576/5961], Val Loss: 0.0396 Val Log Time Proportion: 0.1187\n",
      "\u001b[36m(tune_func pid=79980)\u001b[0m #######################################################################################\n"
     ]
    },
    {
     "name": "stderr",
     "output_type": "stream",
     "text": [
      "\u001b[36m(tune_func pid=79980)\u001b[0m Checkpoint successfully created at: Checkpoint(filesystem=local, path=/home/daniel/ray_results/tune_func_2024-06-23_03-06-45/tune_func_dc56f_00020_20_batch_size=4,channels=128,depth=5,lr=0.0000_2024-06-23_03-06-46/checkpoint_000012)\n"
     ]
    },
    {
     "name": "stdout",
     "output_type": "stream",
     "text": [
      "\u001b[36m(tune_func pid=79980)\u001b[0m Epoch [3/50], Step [3578/5961], Train Loss: 0.0393 , Logging Time Proportion: 0.0002, Data Loading Time Proportion: 0.0005\n",
      "\u001b[36m(tune_func pid=79980)\u001b[0m Epoch [3/50], Step [3678/5961], Train Loss: 0.0396 , Logging Time Proportion: 0.0002, Data Loading Time Proportion: 0.0010\n",
      "\u001b[36m(tune_func pid=79980)\u001b[0m Epoch [3/50], Step [3778/5961], Train Loss: 0.0403\n",
      "\u001b[36m(tune_func pid=79980)\u001b[0m  , Logging Time Proportion: 0.0002, Data Loading Time Proportion: 0.0012\n",
      "\u001b[36m(tune_func pid=79980)\u001b[0m Epoch [3/50], Step [3878/5961], Train Loss: 0.0394 , Logging Time Proportion: 0.0003, Data Loading Time Proportion: 0.0012\n",
      "\u001b[36m(tune_func pid=79980)\u001b[0m Epoch [3/50], Step [3978/5961], Train Loss: 0.0381 , Logging Time Proportion: 0.0003, Data Loading Time Proportion: 0.0012\n",
      "\u001b[36m(tune_func pid=79980)\u001b[0m Epoch [3/50], Step [4078/5961], Train Loss: 0.0374\n",
      "\u001b[36m(tune_func pid=79980)\u001b[0m  , Logging Time Proportion: 0.0002, Data Loading Time Proportion: 0.0012\n",
      "\u001b[36m(tune_func pid=79980)\u001b[0m Epoch [3/50], Step [4178/5961], Train Loss: 0.0395 , Logging Time Proportion: 0.0002, Data Loading Time Proportion: 0.0012\n",
      "\u001b[36m(tune_func pid=79980)\u001b[0m Epoch [3/50], Step [4278/5961], Train Loss: 0.0379 , Logging Time Proportion: 0.0003, Data Loading Time Proportion: 0.0012\n",
      "\u001b[36m(tune_func pid=79980)\u001b[0m Epoch [3/50], Step [4378/5961], Train Loss: 0.0379 , Logging Time Proportion: 0.0002, Data Loading Time Proportion: 0.0012\n",
      "\u001b[36m(tune_func pid=79980)\u001b[0m Epoch [3/50], Step [4478/5961], Train Loss: 0.0367 , Logging Time Proportion: 0.0002, Data Loading Time Proportion: 0.0012\n",
      "\u001b[36m(tune_func pid=79980)\u001b[0m Epoch [3/50], Step [4578/5961], Train Loss: 0.0402 , Logging Time Proportion: 0.0002, Data Loading Time Proportion: 0.0012\n",
      "\u001b[36m(tune_func pid=79980)\u001b[0m Epoch [3/50], Step [4678/5961], Train Loss: 0.0386 , Logging Time Proportion: 0.0002, Data Loading Time Proportion: 0.0012\n",
      "\u001b[36m(tune_func pid=79980)\u001b[0m #######################################################################################\n",
      "\u001b[36m(tune_func pid=79980)\u001b[0m Epoch [3/50], Step [4768/5961], Val Loss: 0.0385 Val Log Time Proportion: 0.1167\n",
      "\u001b[36m(tune_func pid=79980)\u001b[0m #######################################################################################\n"
     ]
    },
    {
     "name": "stderr",
     "output_type": "stream",
     "text": [
      "\u001b[36m(tune_func pid=79980)\u001b[0m Checkpoint successfully created at: Checkpoint(filesystem=local, path=/home/daniel/ray_results/tune_func_2024-06-23_03-06-45/tune_func_dc56f_00020_20_batch_size=4,channels=128,depth=5,lr=0.0000_2024-06-23_03-06-46/checkpoint_000013)\n"
     ]
    },
    {
     "name": "stdout",
     "output_type": "stream",
     "text": [
      "\u001b[36m(tune_func pid=79980)\u001b[0m Epoch [3/50], Step [4778/5961], Train Loss: 0.0418 , Logging Time Proportion: 0.0001, Data Loading Time Proportion: 0.0004\n",
      "\u001b[36m(tune_func pid=79980)\u001b[0m Epoch [3/50], Step [4878/5961], Train Loss: 0.0391 , Logging Time Proportion: 0.0002, Data Loading Time Proportion: 0.0010\n",
      "\u001b[36m(tune_func pid=79980)\u001b[0m Epoch [3/50], Step [4978/5961], Train Loss: 0.0386 , Logging Time Proportion: 0.0002, Data Loading Time Proportion: 0.0012\n",
      "\u001b[36m(tune_func pid=79980)\u001b[0m Epoch [3/50], Step [5078/5961], Train Loss: 0.0392 , Logging Time Proportion: 0.0002, Data Loading Time Proportion: 0.0011\n",
      "\u001b[36m(tune_func pid=79980)\u001b[0m Epoch [3/50], Step [5178/5961], Train Loss: 0.0379 , Logging Time Proportion: 0.0004, Data Loading Time Proportion: 0.0012\n",
      "\u001b[36m(tune_func pid=79980)\u001b[0m Epoch [3/50], Step [5278/5961], Train Loss: 0.0389 , Logging Time Proportion: 0.0002, Data Loading Time Proportion: 0.0012\n",
      "\u001b[36m(tune_func pid=79980)\u001b[0m Epoch [3/50], Step [5378/5961], Train Loss: 0.0376 , Logging Time Proportion: 0.0002, Data Loading Time Proportion: 0.0012\n",
      "\u001b[36m(tune_func pid=79980)\u001b[0m Epoch [3/50], Step [5478/5961], Train Loss: 0.0383 , Logging Time Proportion: 0.0002, Data Loading Time Proportion: 0.0012\n",
      "\u001b[36m(tune_func pid=79980)\u001b[0m Epoch [3/50], Step [5578/5961], Train Loss: 0.0390 , Logging Time Proportion: 0.0002, Data Loading Time Proportion: 0.0012\n",
      "\u001b[36m(tune_func pid=79980)\u001b[0m Epoch [3/50], Step [5678/5961], Train Loss: 0.0395 , Logging Time Proportion: 0.0002, Data Loading Time Proportion: 0.0012\n",
      "\u001b[36m(tune_func pid=79980)\u001b[0m Epoch [3/50], Step [5778/5961], Train Loss: 0.0399 , Logging Time Proportion: 0.0002, Data Loading Time Proportion: 0.0012\n",
      "\u001b[36m(tune_func pid=79980)\u001b[0m Epoch [3/50], Step [5878/5961], Train Loss: 0.0378 , Logging Time Proportion: 0.0002, Data Loading Time Proportion: 0.0012\n",
      "\u001b[36m(tune_func pid=79980)\u001b[0m #######################################################################################\n",
      "\u001b[36m(tune_func pid=79980)\u001b[0m Epoch [3/50], Step [5960/5961], Val Loss: 0.0380 Val Log Time Proportion: 0.1390\n",
      "\u001b[36m(tune_func pid=79980)\u001b[0m #######################################################################################\n"
     ]
    },
    {
     "name": "stderr",
     "output_type": "stream",
     "text": [
      "\u001b[36m(tune_func pid=79980)\u001b[0m Checkpoint successfully created at: Checkpoint(filesystem=local, path=/home/daniel/ray_results/tune_func_2024-06-23_03-06-45/tune_func_dc56f_00020_20_batch_size=4,channels=128,depth=5,lr=0.0000_2024-06-23_03-06-46/checkpoint_000014)\n"
     ]
    },
    {
     "name": "stdout",
     "output_type": "stream",
     "text": [
      "\u001b[36m(tune_func pid=79980)\u001b[0m Epoch [4/50], Step [17/5961], Train Loss: 0.0062 , Logging Time Proportion: 0.0001, Data Loading Time Proportion: 0.0004\n",
      "\u001b[36m(tune_func pid=79980)\u001b[0m Epoch [4/50], Step [117/5961], Train Loss: 0.0390 , Logging Time Proportion: 0.0004, Data Loading Time Proportion: 0.0011\n",
      "\u001b[36m(tune_func pid=79980)\u001b[0m Epoch [4/50], Step [217/5961], Train Loss: 0.0375 , Logging Time Proportion: 0.0003, Data Loading Time Proportion: 0.0012\n",
      "\u001b[36m(tune_func pid=79980)\u001b[0m Epoch [4/50], Step [317/5961], Train Loss: 0.0380 , Logging Time Proportion: 0.0003, Data Loading Time Proportion: 0.0012\n",
      "\u001b[36m(tune_func pid=79980)\u001b[0m Epoch [4/50], Step [417/5961], Train Loss: 0.0406 , Logging Time Proportion: 0.0003, Data Loading Time Proportion: 0.0012\n",
      "\u001b[36m(tune_func pid=79980)\u001b[0m Epoch [4/50], Step [517/5961], Train Loss: 0.0401 , Logging Time Proportion: 0.0003, Data Loading Time Proportion: 0.0012\n",
      "\u001b[36m(tune_func pid=79980)\u001b[0m Epoch [4/50], Step [617/5961], Train Loss: 0.0372 , Logging Time Proportion: 0.0006, Data Loading Time Proportion: 0.0012\n",
      "\u001b[36m(tune_func pid=79980)\u001b[0m Epoch [4/50], Step [717/5961], Train Loss: 0.0401 , Logging Time Proportion: 0.0003, Data Loading Time Proportion: 0.0012\n",
      "\u001b[36m(tune_func pid=79980)\u001b[0m Epoch [4/50], Step [817/5961], Train Loss: 0.0397 , Logging Time Proportion: 0.0002, Data Loading Time Proportion: 0.0012\n",
      "\u001b[36m(tune_func pid=79980)\u001b[0m Epoch [4/50], Step [917/5961], Train Loss: 0.0361\n",
      "\u001b[36m(tune_func pid=79980)\u001b[0m  , Logging Time Proportion: 0.0004, Data Loading Time Proportion: 0.0012\n",
      "\u001b[36m(tune_func pid=79980)\u001b[0m Epoch [4/50], Step [1017/5961], Train Loss: 0.0390 , Logging Time Proportion: 0.0002, Data Loading Time Proportion: 0.0012\n",
      "\u001b[36m(tune_func pid=79980)\u001b[0m Epoch [4/50], Step [1117/5961], Train Loss: 0.0373 , Logging Time Proportion: 0.0002, Data Loading Time Proportion: 0.0012\n",
      "\u001b[36m(tune_func pid=79980)\u001b[0m #######################################################################################\n",
      "\u001b[36m(tune_func pid=79980)\u001b[0m Epoch [4/50], Step [1192/5961], Val Loss: 0.0382 Val Log Time Proportion: 0.1281\n",
      "\u001b[36m(tune_func pid=79980)\u001b[0m #######################################################################################\n"
     ]
    },
    {
     "name": "stderr",
     "output_type": "stream",
     "text": [
      "\u001b[36m(tune_func pid=79980)\u001b[0m Checkpoint successfully created at: Checkpoint(filesystem=local, path=/home/daniel/ray_results/tune_func_2024-06-23_03-06-45/tune_func_dc56f_00020_20_batch_size=4,channels=128,depth=5,lr=0.0000_2024-06-23_03-06-46/checkpoint_000015)\n"
     ]
    },
    {
     "name": "stdout",
     "output_type": "stream",
     "text": [
      "\u001b[36m(tune_func pid=79980)\u001b[0m Epoch [4/50], Step [1217/5961], Train Loss: 0.0369 , Logging Time Proportion: 0.0001, Data Loading Time Proportion: 0.0004\n",
      "\u001b[36m(tune_func pid=79980)\u001b[0m Epoch [4/50], Step [1317/5961], Train Loss: 0.0365 , Logging Time Proportion: 0.0002, Data Loading Time Proportion: 0.0011\n",
      "\u001b[36m(tune_func pid=79980)\u001b[0m Epoch [4/50], Step [1417/5961], Train Loss: 0.0371 , Logging Time Proportion: 0.0003, Data Loading Time Proportion: 0.0012\n",
      "\u001b[36m(tune_func pid=79980)\u001b[0m Epoch [4/50], Step [1517/5961], Train Loss: 0.0382 , Logging Time Proportion: 0.0002, Data Loading Time Proportion: 0.0012\n",
      "\u001b[36m(tune_func pid=79980)\u001b[0m Epoch [4/50], Step [1617/5961], Train Loss: 0.0395 , Logging Time Proportion: 0.0002, Data Loading Time Proportion: 0.0012\n",
      "\u001b[36m(tune_func pid=79980)\u001b[0m Epoch [4/50], Step [1717/5961], Train Loss: 0.0387 , Logging Time Proportion: 0.0002, Data Loading Time Proportion: 0.0012\n",
      "\u001b[36m(tune_func pid=79980)\u001b[0m Epoch [4/50], Step [1817/5961], Train Loss: 0.0376 , Logging Time Proportion: 0.0002, Data Loading Time Proportion: 0.0012\n",
      "\u001b[36m(tune_func pid=79980)\u001b[0m Epoch [4/50], Step [1917/5961], Train Loss: 0.0378 , Logging Time Proportion: 0.0004, Data Loading Time Proportion: 0.0012\n",
      "\u001b[36m(tune_func pid=79980)\u001b[0m Epoch [4/50], Step [2017/5961], Train Loss: 0.0388 , Logging Time Proportion: 0.0003, Data Loading Time Proportion: 0.0012\n",
      "\u001b[36m(tune_func pid=79980)\u001b[0m Epoch [4/50], Step [2117/5961], Train Loss: 0.0379 , Logging Time Proportion: 0.0002, Data Loading Time Proportion: 0.0012\n",
      "\u001b[36m(tune_func pid=79980)\u001b[0m Epoch [4/50], Step [2217/5961], Train Loss: 0.0378 , Logging Time Proportion: 0.0002, Data Loading Time Proportion: 0.0012\n",
      "\u001b[36m(tune_func pid=79980)\u001b[0m Epoch [4/50], Step [2317/5961], Train Loss: 0.0374 , Logging Time Proportion: 0.0002, Data Loading Time Proportion: 0.0012\n",
      "\u001b[36m(tune_func pid=79980)\u001b[0m #######################################################################################\n",
      "\u001b[36m(tune_func pid=79980)\u001b[0m Epoch [4/50], Step [2384/5961], Val Loss: 0.0384 Val Log Time Proportion: 0.1412\n",
      "\u001b[36m(tune_func pid=79980)\u001b[0m #######################################################################################\n"
     ]
    },
    {
     "name": "stderr",
     "output_type": "stream",
     "text": [
      "\u001b[36m(tune_func pid=79980)\u001b[0m Checkpoint successfully created at: Checkpoint(filesystem=local, path=/home/daniel/ray_results/tune_func_2024-06-23_03-06-45/tune_func_dc56f_00020_20_batch_size=4,channels=128,depth=5,lr=0.0000_2024-06-23_03-06-46/checkpoint_000016)\n"
     ]
    },
    {
     "name": "stdout",
     "output_type": "stream",
     "text": [
      "\u001b[36m(tune_func pid=79980)\u001b[0m Epoch [4/50], Step [2417/5961], Train Loss: 0.0385 \n",
      "\u001b[36m(tune_func pid=79980)\u001b[0m , Logging Time Proportion: 0.0001, Data Loading Time Proportion: 0.0004\n",
      "\u001b[36m(tune_func pid=79980)\u001b[0m Epoch [4/50], Step [2517/5961], Train Loss: 0.0368 , Logging Time Proportion: 0.0003, Data Loading Time Proportion: 0.0012\n",
      "\u001b[36m(tune_func pid=79980)\u001b[0m Epoch [4/50], Step [2617/5961], Train Loss: 0.0369 , Logging Time Proportion: 0.0003, Data Loading Time Proportion: 0.0012\n",
      "\u001b[36m(tune_func pid=79980)\u001b[0m Epoch [4/50], Step [2717/5961], Train Loss: 0.0380 , Logging Time Proportion: 0.0003, Data Loading Time Proportion: 0.0012\n",
      "\u001b[36m(tune_func pid=79980)\u001b[0m Epoch [4/50], Step [2817/5961], Train Loss: 0.0369 , Logging Time Proportion: 0.0002, Data Loading Time Proportion: 0.0012\n",
      "\u001b[36m(tune_func pid=79980)\u001b[0m Epoch [4/50], Step [2917/5961], Train Loss: 0.0371 , Logging Time Proportion: 0.0003, Data Loading Time Proportion: 0.0012\n",
      "\u001b[36m(tune_func pid=79980)\u001b[0m Epoch [4/50], Step [3017/5961], Train Loss: 0.0364 , Logging Time Proportion: 0.0002, Data Loading Time Proportion: 0.0012\n",
      "\u001b[36m(tune_func pid=79980)\u001b[0m Epoch [4/50], Step [3117/5961], Train Loss: 0.0385 , Logging Time Proportion: 0.0002, Data Loading Time Proportion: 0.0012\n",
      "\u001b[36m(tune_func pid=79980)\u001b[0m Epoch [4/50], Step [3217/5961], Train Loss: 0.0390 , Logging Time Proportion: 0.0002, Data Loading Time Proportion: 0.0012\n",
      "\u001b[36m(tune_func pid=79980)\u001b[0m Epoch [4/50], Step [3317/5961], Train Loss: 0.0394 , Logging Time Proportion: 0.0003, Data Loading Time Proportion: 0.0012\n",
      "\u001b[36m(tune_func pid=79980)\u001b[0m Epoch [4/50], Step [3417/5961], Train Loss: 0.0360 , Logging Time Proportion: 0.0002, Data Loading Time Proportion: 0.0012\n",
      "\u001b[36m(tune_func pid=79980)\u001b[0m Epoch [4/50], Step [3517/5961], Train Loss: 0.0372 , Logging Time Proportion: 0.0003, Data Loading Time Proportion: 0.0012\n",
      "\u001b[36m(tune_func pid=79980)\u001b[0m #######################################################################################\n",
      "\u001b[36m(tune_func pid=79980)\u001b[0m Epoch [4/50], Step [3576/5961], Val Loss: 0.0373 Val Log Time Proportion: 0.1178\n",
      "\u001b[36m(tune_func pid=79980)\u001b[0m #######################################################################################\n"
     ]
    },
    {
     "name": "stderr",
     "output_type": "stream",
     "text": [
      "\u001b[36m(tune_func pid=79980)\u001b[0m Checkpoint successfully created at: Checkpoint(filesystem=local, path=/home/daniel/ray_results/tune_func_2024-06-23_03-06-45/tune_func_dc56f_00020_20_batch_size=4,channels=128,depth=5,lr=0.0000_2024-06-23_03-06-46/checkpoint_000017)\n"
     ]
    },
    {
     "name": "stdout",
     "output_type": "stream",
     "text": [
      "\u001b[36m(tune_func pid=79980)\u001b[0m Epoch [4/50], Step [3617/5961], Train Loss: 0.0376 , Logging Time Proportion: 0.0001, Data Loading Time Proportion: 0.0005\n",
      "\u001b[36m(tune_func pid=79980)\u001b[0m Epoch [4/50], Step [3717/5961], Train Loss: 0.0378 , Logging Time Proportion: 0.0002, Data Loading Time Proportion: 0.0012\n",
      "\u001b[36m(tune_func pid=79980)\u001b[0m Epoch [4/50], Step [3817/5961], Train Loss: 0.0373 , Logging Time Proportion: 0.0002, Data Loading Time Proportion: 0.0012\n",
      "\u001b[36m(tune_func pid=79980)\u001b[0m Epoch [4/50], Step [3917/5961], Train Loss: 0.0389 , Logging Time Proportion: 0.0002, Data Loading Time Proportion: 0.0012\n",
      "\u001b[36m(tune_func pid=79980)\u001b[0m Epoch [4/50], Step [4017/5961], Train Loss: 0.0370 , Logging Time Proportion: 0.0002, Data Loading Time Proportion: 0.0012\n",
      "\u001b[36m(tune_func pid=79980)\u001b[0m Epoch [4/50], Step [4117/5961], Train Loss: 0.0394 , Logging Time Proportion: 0.0002, Data Loading Time Proportion: 0.0012\n",
      "\u001b[36m(tune_func pid=79980)\u001b[0m Epoch [4/50], Step [4217/5961], Train Loss: 0.0374 , Logging Time Proportion: 0.0002, Data Loading Time Proportion: 0.0012\n",
      "\u001b[36m(tune_func pid=79980)\u001b[0m Epoch [4/50], Step [4317/5961], Train Loss: 0.0376 , Logging Time Proportion: 0.0003, Data Loading Time Proportion: 0.0012\n",
      "\u001b[36m(tune_func pid=79980)\u001b[0m Epoch [4/50], Step [4417/5961], Train Loss: 0.0357 , Logging Time Proportion: 0.0003, Data Loading Time Proportion: 0.0012\n",
      "\u001b[36m(tune_func pid=79980)\u001b[0m Epoch [4/50], Step [4517/5961], Train Loss: 0.0382 , Logging Time Proportion: 0.0002, Data Loading Time Proportion: 0.0012\n",
      "\u001b[36m(tune_func pid=79980)\u001b[0m Epoch [4/50], Step [4617/5961], Train Loss: 0.0382 , Logging Time Proportion: 0.0002, Data Loading Time Proportion: 0.0012\n",
      "\u001b[36m(tune_func pid=79980)\u001b[0m Epoch [4/50], Step [4717/5961], Train Loss: 0.0394 , Logging Time Proportion: 0.0002, Data Loading Time Proportion: 0.0012\n",
      "\u001b[36m(tune_func pid=79980)\u001b[0m #######################################################################################\n",
      "\u001b[36m(tune_func pid=79980)\u001b[0m Epoch [4/50], Step [4768/5961], Val Loss: 0.0377 Val Log Time Proportion: 0.1172\n",
      "\u001b[36m(tune_func pid=79980)\u001b[0m #######################################################################################\n"
     ]
    },
    {
     "name": "stderr",
     "output_type": "stream",
     "text": [
      "\u001b[36m(tune_func pid=79980)\u001b[0m Checkpoint successfully created at: Checkpoint(filesystem=local, path=/home/daniel/ray_results/tune_func_2024-06-23_03-06-45/tune_func_dc56f_00020_20_batch_size=4,channels=128,depth=5,lr=0.0000_2024-06-23_03-06-46/checkpoint_000018)\n"
     ]
    },
    {
     "name": "stdout",
     "output_type": "stream",
     "text": [
      "\u001b[36m(tune_func pid=79980)\u001b[0m Epoch [4/50], Step [4817/5961], Train Loss: 0.0388 , Logging Time Proportion: 0.0001, Data Loading Time Proportion: 0.0004\n",
      "\u001b[36m(tune_func pid=79980)\u001b[0m Epoch [4/50], Step [4917/5961], Train Loss: 0.0360 , Logging Time Proportion: 0.0003, Data Loading Time Proportion: 0.0012\n",
      "\u001b[36m(tune_func pid=79980)\u001b[0m Epoch [4/50], Step [5017/5961], Train Loss: 0.0372 , Logging Time Proportion: 0.0002, Data Loading Time Proportion: 0.0012\n",
      "\u001b[36m(tune_func pid=79980)\u001b[0m Epoch [4/50], Step [5117/5961], Train Loss: 0.0380 , Logging Time Proportion: 0.0002, Data Loading Time Proportion: 0.0012\n",
      "\u001b[36m(tune_func pid=79980)\u001b[0m Epoch [4/50], Step [5217/5961], Train Loss: 0.0366 , Logging Time Proportion: 0.0002, Data Loading Time Proportion: 0.0012\n",
      "\u001b[36m(tune_func pid=79980)\u001b[0m Epoch [4/50], Step [5317/5961], Train Loss: 0.0388 , Logging Time Proportion: 0.0002, Data Loading Time Proportion: 0.0012\n",
      "\u001b[36m(tune_func pid=79980)\u001b[0m Epoch [4/50], Step [5417/5961], Train Loss: 0.0377 , Logging Time Proportion: 0.0002, Data Loading Time Proportion: 0.0012\n",
      "\u001b[36m(tune_func pid=79980)\u001b[0m Epoch [4/50], Step [5517/5961], Train Loss: 0.0362 , Logging Time Proportion: 0.0002, Data Loading Time Proportion: 0.0012\n",
      "\u001b[36m(tune_func pid=79980)\u001b[0m Epoch [4/50], Step [5617/5961], Train Loss: 0.0388 , Logging Time Proportion: 0.0002, Data Loading Time Proportion: 0.0012\n",
      "\u001b[36m(tune_func pid=79980)\u001b[0m Epoch [4/50], Step [5717/5961], Train Loss: 0.0359 , Logging Time Proportion: 0.0003, Data Loading Time Proportion: 0.0012\n",
      "\u001b[36m(tune_func pid=79980)\u001b[0m Epoch [4/50], Step [5817/5961], Train Loss: 0.0359 , Logging Time Proportion: 0.0002, Data Loading Time Proportion: 0.0012\n",
      "\u001b[36m(tune_func pid=79980)\u001b[0m Epoch [4/50], Step [5917/5961], Train Loss: 0.0374 , Logging Time Proportion: 0.0002, Data Loading Time Proportion: 0.0012\n",
      "\u001b[36m(tune_func pid=79980)\u001b[0m #######################################################################################\n",
      "\u001b[36m(tune_func pid=79980)\u001b[0m Epoch [4/50], Step [5960/5961], Val Loss: 0.0389 Val Log Time Proportion: 0.1175\n",
      "\u001b[36m(tune_func pid=79980)\u001b[0m #######################################################################################\n"
     ]
    },
    {
     "name": "stderr",
     "output_type": "stream",
     "text": [
      "\u001b[36m(tune_func pid=79980)\u001b[0m Checkpoint successfully created at: Checkpoint(filesystem=local, path=/home/daniel/ray_results/tune_func_2024-06-23_03-06-45/tune_func_dc56f_00020_20_batch_size=4,channels=128,depth=5,lr=0.0000_2024-06-23_03-06-46/checkpoint_000019)\n"
     ]
    },
    {
     "name": "stdout",
     "output_type": "stream",
     "text": [
      "\u001b[36m(tune_func pid=97264)\u001b[0m Hurray! GPU available.\n",
      "\u001b[36m(tune_func pid=97264)\u001b[0m Total trainable parameters: 7012353\n",
      "\u001b[36m(tune_func pid=97264)\u001b[0m Epoch [1/50], Step [100/1491], Train Loss: 0.6598 , Logging Time Proportion: 0.0021, Data Loading Time Proportion: 0.0018\n",
      "\u001b[36m(tune_func pid=97264)\u001b[0m Epoch [1/50], Step [200/1491], Train Loss: 0.3178 , Logging Time Proportion: 0.0003, Data Loading Time Proportion: 0.0024\n",
      "\u001b[36m(tune_func pid=97264)\u001b[0m #######################################################################################\n",
      "\u001b[36m(tune_func pid=97264)\u001b[0m Epoch [1/50], Step [298/1491], Val Loss: 0.1602 Val Log Time Proportion: 0.0795\n",
      "\u001b[36m(tune_func pid=97264)\u001b[0m #######################################################################################\n"
     ]
    },
    {
     "name": "stderr",
     "output_type": "stream",
     "text": [
      "\u001b[36m(tune_func pid=97264)\u001b[0m Checkpoint successfully created at: Checkpoint(filesystem=local, path=/home/daniel/ray_results/tune_func_2024-06-23_03-06-45/tune_func_dc56f_00021_21_batch_size=16,channels=64,depth=4,lr=0.0000_2024-06-23_03-06-46/checkpoint_000000)\n"
     ]
    },
    {
     "name": "stdout",
     "output_type": "stream",
     "text": [
      "\u001b[36m(tune_func pid=97647)\u001b[0m Hurray! GPU available.\n",
      "\u001b[36m(tune_func pid=97647)\u001b[0m Total trainable parameters: 1754113\n",
      "\u001b[36m(tune_func pid=97647)\u001b[0m Epoch [1/50], Step [100/2981], Train Loss: 0.2808 , Logging Time Proportion: 0.0017, Data Loading Time Proportion: 0.0045\n",
      "\u001b[36m(tune_func pid=97647)\u001b[0m Epoch [1/50], Step [200/2981], Train Loss: 0.1332 , Logging Time Proportion: 0.0016, Data Loading Time Proportion: 0.0049\n",
      "\u001b[36m(tune_func pid=97647)\u001b[0m Epoch [1/50], Step [300/2981], Train Loss: 0.1166 , Logging Time Proportion: 0.0014, Data Loading Time Proportion: 0.0046\n",
      "\u001b[36m(tune_func pid=97647)\u001b[0m Epoch [1/50], Step [400/2981], Train Loss: 0.1121 , Logging Time Proportion: 0.0012, Data Loading Time Proportion: 0.0043\n",
      "\u001b[36m(tune_func pid=97647)\u001b[0m Epoch [1/50], Step [500/2981], Train Loss: 0.1103 , Logging Time Proportion: 0.0014, Data Loading Time Proportion: 0.0045\n",
      "\u001b[36m(tune_func pid=97647)\u001b[0m #######################################################################################\n",
      "\u001b[36m(tune_func pid=97647)\u001b[0m Epoch [1/50], Step [596/2981], Val Loss: 0.1054 Val Log Time Proportion: 0.0782\n",
      "\u001b[36m(tune_func pid=97647)\u001b[0m #######################################################################################\n"
     ]
    },
    {
     "name": "stderr",
     "output_type": "stream",
     "text": [
      "\u001b[36m(tune_func pid=97647)\u001b[0m Checkpoint successfully created at: Checkpoint(filesystem=local, path=/home/daniel/ray_results/tune_func_2024-06-23_03-06-45/tune_func_dc56f_00022_22_batch_size=8,channels=32,depth=4,lr=0.0001_2024-06-23_03-06-46/checkpoint_000000)\n"
     ]
    },
    {
     "name": "stdout",
     "output_type": "stream",
     "text": [
      "\u001b[36m(tune_func pid=97647)\u001b[0m Epoch [1/50], Step [600/2981], Train Loss: 0.1080 , Logging Time Proportion: 0.0010, Data Loading Time Proportion: 0.0031\n",
      "\u001b[36m(tune_func pid=97647)\u001b[0m Epoch [1/50], Step [700/2981], Train Loss: 0.1060 , Logging Time Proportion: 0.0013, Data Loading Time Proportion: 0.0047\n",
      "\u001b[36m(tune_func pid=97647)\u001b[0m Epoch [1/50], Step [800/2981], Train Loss: 0.1050 , Logging Time Proportion: 0.0010, Data Loading Time Proportion: 0.0048\n",
      "\u001b[36m(tune_func pid=97647)\u001b[0m Epoch [1/50], Step [900/2981], Train Loss: 0.1000 , Logging Time Proportion: 0.0013, Data Loading Time Proportion: 0.0049\n",
      "\u001b[36m(tune_func pid=97647)\u001b[0m Epoch [1/50], Step [1000/2981], Train Loss: 0.1023 , Logging Time Proportion: 0.0010, Data Loading Time Proportion: 0.0046\n",
      "\u001b[36m(tune_func pid=97647)\u001b[0m Epoch [1/50], Step [1100/2981], Train Loss: 0.1008 , Logging Time Proportion: 0.0013, Data Loading Time Proportion: 0.0042\n"
     ]
    },
    {
     "name": "stderr",
     "output_type": "stream",
     "text": [
      "\u001b[36m(tune_func pid=97647)\u001b[0m Checkpoint successfully created at: Checkpoint(filesystem=local, path=/home/daniel/ray_results/tune_func_2024-06-23_03-06-45/tune_func_dc56f_00022_22_batch_size=8,channels=32,depth=4,lr=0.0001_2024-06-23_03-06-46/checkpoint_000001)\n"
     ]
    },
    {
     "name": "stdout",
     "output_type": "stream",
     "text": [
      "\u001b[36m(tune_func pid=97647)\u001b[0m #######################################################################################\n",
      "\u001b[36m(tune_func pid=97647)\u001b[0m Epoch [1/50], Step [1192/2981], Val Loss: 0.0967 Val Log Time Proportion: 0.0777\n",
      "\u001b[36m(tune_func pid=97647)\u001b[0m #######################################################################################\n",
      "\u001b[36m(tune_func pid=98009)\u001b[0m Hurray! GPU available.\n",
      "\u001b[36m(tune_func pid=98009)\u001b[0m Total trainable parameters: 27973889\n",
      "\u001b[36m(tune_func pid=98009)\u001b[0m Epoch [1/50], Step [100/5961], Train Loss: 0.6932 , Logging Time Proportion: 0.0033, Data Loading Time Proportion: 0.0042\n",
      "\u001b[36m(tune_func pid=98009)\u001b[0m Epoch [1/50], Step [200/5961], Train Loss: 0.6923 , Logging Time Proportion: 0.0016, Data Loading Time Proportion: 0.0049\n",
      "\u001b[36m(tune_func pid=98009)\u001b[0m Epoch [1/50], Step [300/5961], Train Loss: 0.6914 , Logging Time Proportion: 0.0027, Data Loading Time Proportion: 0.0048\n",
      "\u001b[36m(tune_func pid=98009)\u001b[0m Epoch [1/50], Step [400/5961], Train Loss: 0.6904 , Logging Time Proportion: 0.0022, Data Loading Time Proportion: 0.0046\n",
      "\u001b[36m(tune_func pid=98009)\u001b[0m Epoch [1/50], Step [500/5961], Train Loss: 0.6895 , Logging Time Proportion: 0.0023, Data Loading Time Proportion: 0.0048\n",
      "\u001b[36m(tune_func pid=98009)\u001b[0m Epoch [1/50], Step [600/5961], Train Loss: 0.6885 , Logging Time Proportion: 0.0022, Data Loading Time Proportion: 0.0043\n",
      "\u001b[36m(tune_func pid=98009)\u001b[0m Epoch [1/50], Step [700/5961], Train Loss: 0.6874 , Logging Time Proportion: 0.0017, Data Loading Time Proportion: 0.0044\n",
      "\u001b[36m(tune_func pid=98009)\u001b[0m Epoch [1/50], Step [800/5961], Train Loss: 0.6864 , Logging Time Proportion: 0.0015, Data Loading Time Proportion: 0.0047\n",
      "\u001b[36m(tune_func pid=98009)\u001b[0m Epoch [1/50], Step [900/5961], Train Loss: 0.6852 , Logging Time Proportion: 0.0024, Data Loading Time Proportion: 0.0047\n",
      "\u001b[36m(tune_func pid=98009)\u001b[0m Epoch [1/50], Step [1000/5961], Train Loss: 0.6838 , Logging Time Proportion: 0.0022, Data Loading Time Proportion: 0.0046\n",
      "\u001b[36m(tune_func pid=98009)\u001b[0m Epoch [1/50], Step [1100/5961], Train Loss: 0.6818\n",
      "\u001b[36m(tune_func pid=98009)\u001b[0m  , Logging Time Proportion: 0.0022, Data Loading Time Proportion: 0.0042\n",
      "\u001b[36m(tune_func pid=98009)\u001b[0m #######################################################################################\n",
      "\u001b[36m(tune_func pid=98009)\u001b[0m Epoch [1/50], Step [1192/5961], Val Loss: 0.6743 Val Log Time Proportion: 0.1033\n",
      "\u001b[36m(tune_func pid=98009)\u001b[0m #######################################################################################\n"
     ]
    },
    {
     "name": "stderr",
     "output_type": "stream",
     "text": [
      "\u001b[36m(tune_func pid=98009)\u001b[0m Checkpoint successfully created at: Checkpoint(filesystem=local, path=/home/daniel/ray_results/tune_func_2024-06-23_03-06-45/tune_func_dc56f_00023_23_batch_size=4,channels=32,depth=6,lr=0.0000_2024-06-23_03-06-46/checkpoint_000000)\n"
     ]
    },
    {
     "name": "stdout",
     "output_type": "stream",
     "text": [
      "\u001b[36m(tune_func pid=98298)\u001b[0m Hurray! GPU available.\n",
      "\u001b[36m(tune_func pid=98298)\u001b[0m Total trainable parameters: 27987457\n",
      "\u001b[36m(tune_func pid=98298)\u001b[0m Epoch [1/50], Step [100/2981], Train Loss: 0.1963 , Logging Time Proportion: 0.0007, Data Loading Time Proportion: 0.0022\n",
      "\u001b[36m(tune_func pid=98298)\u001b[0m Epoch [1/50], Step [200/2981], Train Loss: 0.1031 , Logging Time Proportion: 0.0005, Data Loading Time Proportion: 0.0027\n",
      "\u001b[36m(tune_func pid=98298)\u001b[0m Epoch [1/50], Step [300/2981], Train Loss: 0.0710\n",
      "\u001b[36m(tune_func pid=98298)\u001b[0m  , Logging Time Proportion: 0.0004, Data Loading Time Proportion: 0.0026\n",
      "\u001b[36m(tune_func pid=98298)\u001b[0m Epoch [1/50], Step [400/2981], Train Loss: 0.0620 , Logging Time Proportion: 0.0004, Data Loading Time Proportion: 0.0026\n",
      "\u001b[36m(tune_func pid=98298)\u001b[0m Epoch [1/50], Step [500/2981], Train Loss: 0.0577 , Logging Time Proportion: 0.0004, Data Loading Time Proportion: 0.0025\n",
      "\u001b[36m(tune_func pid=98298)\u001b[0m #######################################################################################\n",
      "\u001b[36m(tune_func pid=98298)\u001b[0m Epoch [1/50], Step [596/2981], Val Loss: 0.0534 Val Log Time Proportion: 0.2144\n",
      "\u001b[36m(tune_func pid=98298)\u001b[0m #######################################################################################\n"
     ]
    },
    {
     "name": "stderr",
     "output_type": "stream",
     "text": [
      "\u001b[36m(tune_func pid=98298)\u001b[0m Checkpoint successfully created at: Checkpoint(filesystem=local, path=/home/daniel/ray_results/tune_func_2024-06-23_03-06-45/tune_func_dc56f_00024_24_batch_size=8,channels=64,depth=5,lr=0.0004_2024-06-23_03-06-46/checkpoint_000000)\n"
     ]
    },
    {
     "name": "stdout",
     "output_type": "stream",
     "text": [
      "\u001b[36m(tune_func pid=98298)\u001b[0m Epoch [1/50], Step [600/2981], Train Loss: 0.0547 , Logging Time Proportion: 0.0002, Data Loading Time Proportion: 0.0012\n",
      "\u001b[36m(tune_func pid=98298)\u001b[0m Epoch [1/50], Step [700/2981], Train Loss: 0.0557 , Logging Time Proportion: 0.0003, Data Loading Time Proportion: 0.0019\n",
      "\u001b[36m(tune_func pid=98298)\u001b[0m Epoch [1/50], Step [800/2981], Train Loss: 0.0533 , Logging Time Proportion: 0.0003, Data Loading Time Proportion: 0.0027\n",
      "\u001b[36m(tune_func pid=98298)\u001b[0m Epoch [1/50], Step [900/2981], Train Loss: 0.0529 , Logging Time Proportion: 0.0003, Data Loading Time Proportion: 0.0024\n",
      "\u001b[36m(tune_func pid=98298)\u001b[0m Epoch [1/50], Step [1000/2981], Train Loss: 0.0510 , Logging Time Proportion: 0.0004, Data Loading Time Proportion: 0.0026\n",
      "\u001b[36m(tune_func pid=98298)\u001b[0m Epoch [1/50], Step [1100/2981], Train Loss: 0.0530 , Logging Time Proportion: 0.0004, Data Loading Time Proportion: 0.0025\n",
      "\u001b[36m(tune_func pid=98298)\u001b[0m #######################################################################################\n",
      "\u001b[36m(tune_func pid=98298)\u001b[0m Epoch [1/50], Step [1192/2981], Val Loss: 0.0518 Val Log Time Proportion: 0.1250\n",
      "\u001b[36m(tune_func pid=98298)\u001b[0m #######################################################################################\n"
     ]
    },
    {
     "name": "stderr",
     "output_type": "stream",
     "text": [
      "\u001b[36m(tune_func pid=98298)\u001b[0m Checkpoint successfully created at: Checkpoint(filesystem=local, path=/home/daniel/ray_results/tune_func_2024-06-23_03-06-45/tune_func_dc56f_00024_24_batch_size=8,channels=64,depth=5,lr=0.0004_2024-06-23_03-06-46/checkpoint_000001)\n"
     ]
    },
    {
     "name": "stdout",
     "output_type": "stream",
     "text": [
      "\u001b[36m(tune_func pid=98298)\u001b[0m Epoch [1/50], Step [1200/2981], Train Loss: 0.0516 , Logging Time Proportion: 0.0002, Data Loading Time Proportion: 0.0014\n",
      "\u001b[36m(tune_func pid=98298)\u001b[0m Epoch [1/50], Step [1300/2981], Train Loss: 0.0512 , Logging Time Proportion: 0.0003, Data Loading Time Proportion: 0.0021\n",
      "\u001b[36m(tune_func pid=98298)\u001b[0m Epoch [1/50], Step [1400/2981], Train Loss: 0.0506 , Logging Time Proportion: 0.0003, Data Loading Time Proportion: 0.0026\n",
      "\u001b[36m(tune_func pid=98298)\u001b[0m Epoch [1/50], Step [1500/2981], Train Loss: 0.0507 , Logging Time Proportion: 0.0005, Data Loading Time Proportion: 0.0024\n",
      "\u001b[36m(tune_func pid=98298)\u001b[0m Epoch [1/50], Step [1600/2981], Train Loss: 0.0477 , Logging Time Proportion: 0.0004, Data Loading Time Proportion: 0.0026\n",
      "\u001b[36m(tune_func pid=98298)\u001b[0m Epoch [1/50], Step [1700/2981], Train Loss: 0.0500 , Logging Time Proportion: 0.0003, Data Loading Time Proportion: 0.0021\n",
      "\u001b[36m(tune_func pid=98298)\u001b[0m #######################################################################################\n",
      "\u001b[36m(tune_func pid=98298)\u001b[0m Epoch [1/50], Step [1788/2981], Val Loss: 0.0478 Val Log Time Proportion: 0.1073\n",
      "\u001b[36m(tune_func pid=98298)\u001b[0m #######################################################################################\n"
     ]
    },
    {
     "name": "stderr",
     "output_type": "stream",
     "text": [
      "\u001b[36m(tune_func pid=98298)\u001b[0m Checkpoint successfully created at: Checkpoint(filesystem=local, path=/home/daniel/ray_results/tune_func_2024-06-23_03-06-45/tune_func_dc56f_00024_24_batch_size=8,channels=64,depth=5,lr=0.0004_2024-06-23_03-06-46/checkpoint_000002)\n"
     ]
    },
    {
     "name": "stdout",
     "output_type": "stream",
     "text": [
      "\u001b[36m(tune_func pid=98298)\u001b[0m Epoch [1/50], Step [1800/2981], Train Loss: 0.0489 , Logging Time Proportion: 0.0002, Data Loading Time Proportion: 0.0015\n",
      "\u001b[36m(tune_func pid=98298)\u001b[0m Epoch [1/50], Step [1900/2981], Train Loss: 0.0479 , Logging Time Proportion: 0.0004, Data Loading Time Proportion: 0.0023\n",
      "\u001b[36m(tune_func pid=98298)\u001b[0m Epoch [1/50], Step [2000/2981], Train Loss: 0.0473 , Logging Time Proportion: 0.0003, Data Loading Time Proportion: 0.0026\n",
      "\u001b[36m(tune_func pid=98298)\u001b[0m Epoch [1/50], Step [2100/2981], Train Loss: 0.0470\n",
      "\u001b[36m(tune_func pid=98298)\u001b[0m  , Logging Time Proportion: 0.0005, Data Loading Time Proportion: 0.0026\n",
      "\u001b[36m(tune_func pid=98298)\u001b[0m Epoch [1/50], Step [2200/2981], Train Loss: 0.0494 , Logging Time Proportion: 0.0004, Data Loading Time Proportion: 0.0025\n",
      "\u001b[36m(tune_func pid=98298)\u001b[0m Epoch [1/50], Step [2300/2981], Train Loss: 0.0479 , Logging Time Proportion: 0.0004, Data Loading Time Proportion: 0.0026\n",
      "\u001b[36m(tune_func pid=98298)\u001b[0m #######################################################################################\n",
      "\u001b[36m(tune_func pid=98298)\u001b[0m Epoch [1/50], Step [2384/2981], Val Loss: 0.0464 Val Log Time Proportion: 0.0955\n",
      "\u001b[36m(tune_func pid=98298)\u001b[0m #######################################################################################\n"
     ]
    },
    {
     "name": "stderr",
     "output_type": "stream",
     "text": [
      "\u001b[36m(tune_func pid=98298)\u001b[0m Checkpoint successfully created at: Checkpoint(filesystem=local, path=/home/daniel/ray_results/tune_func_2024-06-23_03-06-45/tune_func_dc56f_00024_24_batch_size=8,channels=64,depth=5,lr=0.0004_2024-06-23_03-06-46/checkpoint_000003)\n"
     ]
    },
    {
     "name": "stdout",
     "output_type": "stream",
     "text": [
      "\u001b[36m(tune_func pid=99388)\u001b[0m Hurray! GPU available.\n",
      "\u001b[36m(tune_func pid=99388)\u001b[0m Total trainable parameters: 111880705\n",
      "\u001b[36m(tune_func pid=99388)\u001b[0m Epoch [1/50], Step [100/5961], Train Loss: 0.2562 \n",
      "\u001b[36m(tune_func pid=99388)\u001b[0m , Logging Time Proportion: 0.0015, Data Loading Time Proportion: 0.0020\n",
      "\u001b[36m(tune_func pid=99388)\u001b[0m Epoch [1/50], Step [200/5961], Train Loss: 0.0767 , Logging Time Proportion: 0.0007, Data Loading Time Proportion: 0.0022\n",
      "\u001b[36m(tune_func pid=99388)\u001b[0m Epoch [1/50], Step [300/5961], Train Loss: 0.0670 , Logging Time Proportion: 0.0006, Data Loading Time Proportion: 0.0022\n",
      "\u001b[36m(tune_func pid=99388)\u001b[0m Epoch [1/50], Step [400/5961], Train Loss: 0.0638 , Logging Time Proportion: 0.0007, Data Loading Time Proportion: 0.0022\n",
      "\u001b[36m(tune_func pid=99388)\u001b[0m Epoch [1/50], Step [500/5961], Train Loss: 0.0602 , Logging Time Proportion: 0.0005, Data Loading Time Proportion: 0.0021\n",
      "\u001b[36m(tune_func pid=99388)\u001b[0m Epoch [1/50], Step [600/5961], Train Loss: 0.0566 , Logging Time Proportion: 0.0006, Data Loading Time Proportion: 0.0023\n",
      "\u001b[36m(tune_func pid=99388)\u001b[0m Epoch [1/50], Step [700/5961], Train Loss: 0.0563 , Logging Time Proportion: 0.0006, Data Loading Time Proportion: 0.0021\n",
      "\u001b[36m(tune_func pid=99388)\u001b[0m Epoch [1/50], Step [800/5961], Train Loss: 0.0565 , Logging Time Proportion: 0.0007, Data Loading Time Proportion: 0.0021\n",
      "\u001b[36m(tune_func pid=99388)\u001b[0m Epoch [1/50], Step [900/5961], Train Loss: 0.0569 , Logging Time Proportion: 0.0007, Data Loading Time Proportion: 0.0022\n",
      "\u001b[36m(tune_func pid=99388)\u001b[0m Epoch [1/50], Step [1000/5961], Train Loss: 0.0549 , Logging Time Proportion: 0.0008, Data Loading Time Proportion: 0.0021\n",
      "\u001b[36m(tune_func pid=99388)\u001b[0m Epoch [1/50], Step [1100/5961], Train Loss: 0.0637 , Logging Time Proportion: 0.0005, Data Loading Time Proportion: 0.0022\n",
      "\u001b[36m(tune_func pid=99388)\u001b[0m #######################################################################################\n",
      "\u001b[36m(tune_func pid=99388)\u001b[0m Epoch [1/50], Step [1192/5961], Val Loss: 0.0529 Val Log Time Proportion: 0.0887\n",
      "\u001b[36m(tune_func pid=99388)\u001b[0m #######################################################################################\n"
     ]
    },
    {
     "name": "stderr",
     "output_type": "stream",
     "text": [
      "\u001b[36m(tune_func pid=99388)\u001b[0m Checkpoint successfully created at: Checkpoint(filesystem=local, path=/home/daniel/ray_results/tune_func_2024-06-23_03-06-45/tune_func_dc56f_00025_25_batch_size=4,channels=64,depth=6,lr=0.0003_2024-06-23_03-06-46/checkpoint_000000)\n"
     ]
    },
    {
     "name": "stdout",
     "output_type": "stream",
     "text": [
      "\u001b[36m(tune_func pid=99388)\u001b[0m Epoch [1/50], Step [1200/5961], Train Loss: 0.0532 , Logging Time Proportion: 0.0002, Data Loading Time Proportion: 0.0009\n",
      "\u001b[36m(tune_func pid=99388)\u001b[0m Epoch [1/50], Step [1300/5961], Train Loss: 0.0532 , Logging Time Proportion: 0.0004, Data Loading Time Proportion: 0.0017\n",
      "\u001b[36m(tune_func pid=99388)\u001b[0m Epoch [1/50], Step [1400/5961], Train Loss: 0.0514 , Logging Time Proportion: 0.0006, Data Loading Time Proportion: 0.0020\n",
      "\u001b[36m(tune_func pid=99388)\u001b[0m Epoch [1/50], Step [1500/5961], Train Loss: 0.0529 , Logging Time Proportion: 0.0005, Data Loading Time Proportion: 0.0022\n",
      "\u001b[36m(tune_func pid=99388)\u001b[0m Epoch [1/50], Step [1600/5961], Train Loss: 0.0510 , Logging Time Proportion: 0.0005, Data Loading Time Proportion: 0.0021\n",
      "\u001b[36m(tune_func pid=99388)\u001b[0m Epoch [1/50], Step [1700/5961], Train Loss: 0.0502 \n",
      "\u001b[36m(tune_func pid=99388)\u001b[0m , Logging Time Proportion: 0.0010, Data Loading Time Proportion: 0.0021\n",
      "\u001b[36m(tune_func pid=99388)\u001b[0m Epoch [1/50], Step [1800/5961], Train Loss: 0.0502 , Logging Time Proportion: 0.0005, Data Loading Time Proportion: 0.0021\n",
      "\u001b[36m(tune_func pid=99388)\u001b[0m Epoch [1/50], Step [1900/5961], Train Loss: 0.0507 , Logging Time Proportion: 0.0004, Data Loading Time Proportion: 0.0021\n",
      "\u001b[36m(tune_func pid=99388)\u001b[0m Epoch [1/50], Step [2000/5961], Train Loss: 0.0507 , Logging Time Proportion: 0.0005, Data Loading Time Proportion: 0.0021\n",
      "\u001b[36m(tune_func pid=99388)\u001b[0m Epoch [1/50], Step [2100/5961], Train Loss: 0.0466 , Logging Time Proportion: 0.0005, Data Loading Time Proportion: 0.0022\n",
      "\u001b[36m(tune_func pid=99388)\u001b[0m Epoch [1/50], Step [2200/5961], Train Loss: 0.0490 , Logging Time Proportion: 0.0005, Data Loading Time Proportion: 0.0021\n",
      "\u001b[36m(tune_func pid=99388)\u001b[0m Epoch [1/50], Step [2300/5961], Train Loss: 0.0494 , Logging Time Proportion: 0.0005, Data Loading Time Proportion: 0.0022\n",
      "\u001b[36m(tune_func pid=99388)\u001b[0m #######################################################################################\n",
      "\u001b[36m(tune_func pid=99388)\u001b[0m Epoch [1/50], Step [2384/5961], Val Loss: 0.0457 Val Log Time Proportion: 0.0793\n",
      "\u001b[36m(tune_func pid=99388)\u001b[0m #######################################################################################\n"
     ]
    },
    {
     "name": "stderr",
     "output_type": "stream",
     "text": [
      "\u001b[36m(tune_func pid=99388)\u001b[0m Checkpoint successfully created at: Checkpoint(filesystem=local, path=/home/daniel/ray_results/tune_func_2024-06-23_03-06-45/tune_func_dc56f_00025_25_batch_size=4,channels=64,depth=6,lr=0.0003_2024-06-23_03-06-46/checkpoint_000001)\n"
     ]
    },
    {
     "name": "stdout",
     "output_type": "stream",
     "text": [
      "\u001b[36m(tune_func pid=99388)\u001b[0m Epoch [1/50], Step [2400/5961], Train Loss: 0.0466 , Logging Time Proportion: 0.0002, Data Loading Time Proportion: 0.0009\n",
      "\u001b[36m(tune_func pid=99388)\u001b[0m Epoch [1/50], Step [2500/5961], Train Loss: 0.0484 , Logging Time Proportion: 0.0004, Data Loading Time Proportion: 0.0016\n",
      "\u001b[36m(tune_func pid=99388)\u001b[0m Epoch [1/50], Step [2600/5961], Train Loss: 0.0481 , Logging Time Proportion: 0.0004, Data Loading Time Proportion: 0.0017\n",
      "\u001b[36m(tune_func pid=99388)\u001b[0m Epoch [1/50], Step [2700/5961], Train Loss: 0.0476 , Logging Time Proportion: 0.0005, Data Loading Time Proportion: 0.0020\n",
      "\u001b[36m(tune_func pid=99388)\u001b[0m Epoch [1/50], Step [2800/5961], Train Loss: 0.0457 , Logging Time Proportion: 0.0004, Data Loading Time Proportion: 0.0020\n",
      "\u001b[36m(tune_func pid=99388)\u001b[0m Epoch [1/50], Step [2900/5961], Train Loss: 0.0467 , Logging Time Proportion: 0.0007, Data Loading Time Proportion: 0.0016\n",
      "\u001b[36m(tune_func pid=99388)\u001b[0m Epoch [1/50], Step [3000/5961], Train Loss: 0.0459 , Logging Time Proportion: 0.0005, Data Loading Time Proportion: 0.0020\n",
      "\u001b[36m(tune_func pid=99388)\u001b[0m Epoch [1/50], Step [3100/5961], Train Loss: 0.0447 , Logging Time Proportion: 0.0007, Data Loading Time Proportion: 0.0020\n",
      "\u001b[36m(tune_func pid=99388)\u001b[0m Epoch [1/50], Step [3200/5961], Train Loss: 0.0473 , Logging Time Proportion: 0.0006, Data Loading Time Proportion: 0.0020\n",
      "\u001b[36m(tune_func pid=99388)\u001b[0m Epoch [1/50], Step [3300/5961], Train Loss: 0.0464 , Logging Time Proportion: 0.0005, Data Loading Time Proportion: 0.0020\n",
      "\u001b[36m(tune_func pid=99388)\u001b[0m Epoch [1/50], Step [3400/5961], Train Loss: 0.0461 , Logging Time Proportion: 0.0007, Data Loading Time Proportion: 0.0020\n",
      "\u001b[36m(tune_func pid=99388)\u001b[0m Epoch [1/50], Step [3500/5961], Train Loss: 0.0455 , Logging Time Proportion: 0.0005, Data Loading Time Proportion: 0.0020\n",
      "\u001b[36m(tune_func pid=99388)\u001b[0m #######################################################################################\n",
      "\u001b[36m(tune_func pid=99388)\u001b[0m Epoch [1/50], Step [3576/5961], Val Loss: 0.0458 Val Log Time Proportion: 0.0752\n",
      "\u001b[36m(tune_func pid=99388)\u001b[0m #######################################################################################\n"
     ]
    },
    {
     "name": "stderr",
     "output_type": "stream",
     "text": [
      "\u001b[36m(tune_func pid=99388)\u001b[0m Checkpoint successfully created at: Checkpoint(filesystem=local, path=/home/daniel/ray_results/tune_func_2024-06-23_03-06-45/tune_func_dc56f_00025_25_batch_size=4,channels=64,depth=6,lr=0.0003_2024-06-23_03-06-46/checkpoint_000002)\n"
     ]
    },
    {
     "name": "stdout",
     "output_type": "stream",
     "text": [
      "\u001b[36m(tune_func pid=99388)\u001b[0m Epoch [1/50], Step [3600/5961], Train Loss: 0.0491 , Logging Time Proportion: 0.0002, Data Loading Time Proportion: 0.0008\n",
      "\u001b[36m(tune_func pid=99388)\u001b[0m Epoch [1/50], Step [3700/5961], Train Loss: 0.0459 , Logging Time Proportion: 0.0004, Data Loading Time Proportion: 0.0016\n",
      "\u001b[36m(tune_func pid=99388)\u001b[0m Epoch [1/50], Step [3800/5961], Train Loss: 0.0466 , Logging Time Proportion: 0.0004, Data Loading Time Proportion: 0.0021\n",
      "\u001b[36m(tune_func pid=99388)\u001b[0m Epoch [1/50], Step [3900/5961], Train Loss: 0.0451 , Logging Time Proportion: 0.0005, Data Loading Time Proportion: 0.0021\n",
      "\u001b[36m(tune_func pid=99388)\u001b[0m Epoch [1/50], Step [4000/5961], Train Loss: 0.0463 , Logging Time Proportion: 0.0005, Data Loading Time Proportion: 0.0021\n",
      "\u001b[36m(tune_func pid=99388)\u001b[0m Epoch [1/50], Step [4100/5961], Train Loss: 0.0473 , Logging Time Proportion: 0.0005, Data Loading Time Proportion: 0.0020\n",
      "\u001b[36m(tune_func pid=99388)\u001b[0m Epoch [1/50], Step [4200/5961], Train Loss: 0.0438\n",
      "\u001b[36m(tune_func pid=99388)\u001b[0m  , Logging Time Proportion: 0.0005, Data Loading Time Proportion: 0.0020\n",
      "\u001b[36m(tune_func pid=99388)\u001b[0m Epoch [1/50], Step [4300/5961], Train Loss: 0.0474 , Logging Time Proportion: 0.0005, Data Loading Time Proportion: 0.0021\n",
      "\u001b[36m(tune_func pid=99388)\u001b[0m Epoch [1/50], Step [4400/5961], Train Loss: 0.0472 , Logging Time Proportion: 0.0005, Data Loading Time Proportion: 0.0022\n",
      "\u001b[36m(tune_func pid=99388)\u001b[0m Epoch [1/50], Step [4500/5961], Train Loss: 0.0434 , Logging Time Proportion: 0.0005, Data Loading Time Proportion: 0.0021\n",
      "\u001b[36m(tune_func pid=99388)\u001b[0m Epoch [1/50], Step [4600/5961], Train Loss: 0.0436 , Logging Time Proportion: 0.0005, Data Loading Time Proportion: 0.0020\n",
      "\u001b[36m(tune_func pid=99388)\u001b[0m Epoch [1/50], Step [4700/5961], Train Loss: 0.0464 , Logging Time Proportion: 0.0005, Data Loading Time Proportion: 0.0021\n",
      "\u001b[36m(tune_func pid=99388)\u001b[0m #######################################################################################\n",
      "\u001b[36m(tune_func pid=99388)\u001b[0m Epoch [1/50], Step [4768/5961], Val Loss: 0.0437 Val Log Time Proportion: 0.0763\n",
      "\u001b[36m(tune_func pid=99388)\u001b[0m #######################################################################################\n"
     ]
    },
    {
     "name": "stderr",
     "output_type": "stream",
     "text": [
      "\u001b[36m(tune_func pid=99388)\u001b[0m Checkpoint successfully created at: Checkpoint(filesystem=local, path=/home/daniel/ray_results/tune_func_2024-06-23_03-06-45/tune_func_dc56f_00025_25_batch_size=4,channels=64,depth=6,lr=0.0003_2024-06-23_03-06-46/checkpoint_000003)\n"
     ]
    },
    {
     "name": "stdout",
     "output_type": "stream",
     "text": [
      "\u001b[36m(tune_func pid=99388)\u001b[0m Epoch [1/50], Step [4800/5961], Train Loss: 0.0457 , Logging Time Proportion: 0.0002, Data Loading Time Proportion: 0.0008\n",
      "\u001b[36m(tune_func pid=99388)\u001b[0m Epoch [1/50], Step [4900/5961], Train Loss: 0.0497 , Logging Time Proportion: 0.0003, Data Loading Time Proportion: 0.0017\n",
      "\u001b[36m(tune_func pid=99388)\u001b[0m Epoch [1/50], Step [5000/5961], Train Loss: 0.0448 , Logging Time Proportion: 0.0004, Data Loading Time Proportion: 0.0019\n",
      "\u001b[36m(tune_func pid=99388)\u001b[0m Epoch [1/50], Step [5100/5961], Train Loss: 0.0447 , Logging Time Proportion: 0.0005, Data Loading Time Proportion: 0.0020\n",
      "\u001b[36m(tune_func pid=99388)\u001b[0m Epoch [1/50], Step [5200/5961], Train Loss: 0.0457 , Logging Time Proportion: 0.0004, Data Loading Time Proportion: 0.0021\n",
      "\u001b[36m(tune_func pid=99388)\u001b[0m Epoch [1/50], Step [5300/5961], Train Loss: 0.0445 , Logging Time Proportion: 0.0005, Data Loading Time Proportion: 0.0022\n",
      "\u001b[36m(tune_func pid=99388)\u001b[0m Epoch [1/50], Step [5400/5961], Train Loss: 0.0459 , Logging Time Proportion: 0.0005, Data Loading Time Proportion: 0.0020\n",
      "\u001b[36m(tune_func pid=99388)\u001b[0m Epoch [1/50], Step [5500/5961], Train Loss: 0.0434 , Logging Time Proportion: 0.0004, Data Loading Time Proportion: 0.0020\n",
      "\u001b[36m(tune_func pid=99388)\u001b[0m Epoch [1/50], Step [5600/5961], Train Loss: 0.0436 , Logging Time Proportion: 0.0005, Data Loading Time Proportion: 0.0020\n",
      "\u001b[36m(tune_func pid=99388)\u001b[0m Epoch [1/50], Step [5700/5961], Train Loss: 0.0447 , Logging Time Proportion: 0.0005, Data Loading Time Proportion: 0.0022\n",
      "\u001b[36m(tune_func pid=99388)\u001b[0m Epoch [1/50], Step [5800/5961], Train Loss: 0.0435 , Logging Time Proportion: 0.0005, Data Loading Time Proportion: 0.0021\n",
      "\u001b[36m(tune_func pid=99388)\u001b[0m Epoch [1/50], Step [5900/5961], Train Loss: 0.0408 , Logging Time Proportion: 0.0005, Data Loading Time Proportion: 0.0021\n",
      "\u001b[36m(tune_func pid=99388)\u001b[0m #######################################################################################\n",
      "\u001b[36m(tune_func pid=99388)\u001b[0m Epoch [1/50], Step [5960/5961], Val Loss: 0.0436 Val Log Time Proportion: 0.1280\n",
      "\u001b[36m(tune_func pid=99388)\u001b[0m #######################################################################################\n"
     ]
    },
    {
     "name": "stderr",
     "output_type": "stream",
     "text": [
      "\u001b[36m(tune_func pid=99388)\u001b[0m Checkpoint successfully created at: Checkpoint(filesystem=local, path=/home/daniel/ray_results/tune_func_2024-06-23_03-06-45/tune_func_dc56f_00025_25_batch_size=4,channels=64,depth=6,lr=0.0003_2024-06-23_03-06-46/checkpoint_000004)\n"
     ]
    },
    {
     "name": "stdout",
     "output_type": "stream",
     "text": [
      "\u001b[36m(tune_func pid=99388)\u001b[0m Epoch [2/50], Step [39/5961], Train Loss: 0.0160 , Logging Time Proportion: 0.0002, Data Loading Time Proportion: 0.0006\n",
      "\u001b[36m(tune_func pid=99388)\u001b[0m Epoch [2/50], Step [139/5961], Train Loss: 0.0447 , Logging Time Proportion: 0.0005, Data Loading Time Proportion: 0.0022\n",
      "\u001b[36m(tune_func pid=99388)\u001b[0m Epoch [2/50], Step [239/5961], Train Loss: 0.0448 , Logging Time Proportion: 0.0005, Data Loading Time Proportion: 0.0022\n",
      "\u001b[36m(tune_func pid=99388)\u001b[0m Epoch [2/50], Step [339/5961], Train Loss: 0.0442 , Logging Time Proportion: 0.0005, Data Loading Time Proportion: 0.0022\n",
      "\u001b[36m(tune_func pid=99388)\u001b[0m Epoch [2/50], Step [439/5961], Train Loss: 0.0430 , Logging Time Proportion: 0.0005, Data Loading Time Proportion: 0.0022\n",
      "\u001b[36m(tune_func pid=99388)\u001b[0m Epoch [2/50], Step [539/5961], Train Loss: 0.0453 , Logging Time Proportion: 0.0005, Data Loading Time Proportion: 0.0021\n",
      "\u001b[36m(tune_func pid=99388)\u001b[0m Epoch [2/50], Step [639/5961], Train Loss: 0.0459 , Logging Time Proportion: 0.0006, Data Loading Time Proportion: 0.0023\n",
      "\u001b[36m(tune_func pid=99388)\u001b[0m Epoch [2/50], Step [739/5961], Train Loss: 0.0421 , Logging Time Proportion: 0.0007, Data Loading Time Proportion: 0.0022\n",
      "\u001b[36m(tune_func pid=99388)\u001b[0m Epoch [2/50], Step [839/5961], Train Loss: 0.0440 , Logging Time Proportion: 0.0005, Data Loading Time Proportion: 0.0023\n",
      "\u001b[36m(tune_func pid=99388)\u001b[0m Epoch [2/50], Step [939/5961], Train Loss: 0.0433 , Logging Time Proportion: 0.0005, Data Loading Time Proportion: 0.0021\n",
      "\u001b[36m(tune_func pid=99388)\u001b[0m Epoch [2/50], Step [1039/5961], Train Loss: 0.0418 , Logging Time Proportion: 0.0005, Data Loading Time Proportion: 0.0023\n",
      "\u001b[36m(tune_func pid=99388)\u001b[0m Epoch [2/50], Step [1139/5961], Train Loss: 0.0409 , Logging Time Proportion: 0.0005, Data Loading Time Proportion: 0.0021\n",
      "\u001b[36m(tune_func pid=99388)\u001b[0m #######################################################################################\n",
      "\u001b[36m(tune_func pid=99388)\u001b[0m \n",
      "\u001b[36m(tune_func pid=99388)\u001b[0m Epoch [2/50], Step [1192/5961], Val Loss: 0.0435 Val Log Time Proportion: 0.0825\n",
      "\u001b[36m(tune_func pid=99388)\u001b[0m #######################################################################################\n"
     ]
    },
    {
     "name": "stderr",
     "output_type": "stream",
     "text": [
      "\u001b[36m(tune_func pid=99388)\u001b[0m Checkpoint successfully created at: Checkpoint(filesystem=local, path=/home/daniel/ray_results/tune_func_2024-06-23_03-06-45/tune_func_dc56f_00025_25_batch_size=4,channels=64,depth=6,lr=0.0003_2024-06-23_03-06-46/checkpoint_000005)\n"
     ]
    },
    {
     "name": "stdout",
     "output_type": "stream",
     "text": [
      "\u001b[36m(tune_func pid=99388)\u001b[0m Epoch [2/50], Step [1239/5961], Train Loss: 0.0441 , Logging Time Proportion: 0.0002, Data Loading Time Proportion: 0.0009\n",
      "\u001b[36m(tune_func pid=99388)\u001b[0m Epoch [2/50], Step [1339/5961], Train Loss: 0.0415 , Logging Time Proportion: 0.0005, Data Loading Time Proportion: 0.0022\n",
      "\u001b[36m(tune_func pid=99388)\u001b[0m Epoch [2/50], Step [1439/5961], Train Loss: 0.0428 , Logging Time Proportion: 0.0004, Data Loading Time Proportion: 0.0021\n",
      "\u001b[36m(tune_func pid=99388)\u001b[0m Epoch [2/50], Step [1539/5961], Train Loss: 0.0429 , Logging Time Proportion: 0.0005, Data Loading Time Proportion: 0.0022\n",
      "\u001b[36m(tune_func pid=99388)\u001b[0m Epoch [2/50], Step [1639/5961], Train Loss: 0.0423 , Logging Time Proportion: 0.0006, Data Loading Time Proportion: 0.0022\n",
      "\u001b[36m(tune_func pid=99388)\u001b[0m Epoch [2/50], Step [1739/5961], Train Loss: 0.0429 , Logging Time Proportion: 0.0005, Data Loading Time Proportion: 0.0022\n",
      "\u001b[36m(tune_func pid=99388)\u001b[0m Epoch [2/50], Step [1839/5961], Train Loss: 0.0445 , Logging Time Proportion: 0.0004, Data Loading Time Proportion: 0.0021\n",
      "\u001b[36m(tune_func pid=99388)\u001b[0m Epoch [2/50], Step [1939/5961], Train Loss: 0.0415 , Logging Time Proportion: 0.0005, Data Loading Time Proportion: 0.0021\n",
      "\u001b[36m(tune_func pid=99388)\u001b[0m Epoch [2/50], Step [2039/5961], Train Loss: 0.0428\n",
      "\u001b[36m(tune_func pid=99388)\u001b[0m  , Logging Time Proportion: 0.0005, Data Loading Time Proportion: 0.0021\n",
      "\u001b[36m(tune_func pid=99388)\u001b[0m Epoch [2/50], Step [2139/5961], Train Loss: 0.0425 , Logging Time Proportion: 0.0004, Data Loading Time Proportion: 0.0021\n",
      "\u001b[36m(tune_func pid=99388)\u001b[0m Epoch [2/50], Step [2239/5961], Train Loss: 0.0423 , Logging Time Proportion: 0.0005, Data Loading Time Proportion: 0.0021\n",
      "\u001b[36m(tune_func pid=99388)\u001b[0m Epoch [2/50], Step [2339/5961], Train Loss: 0.0408 , Logging Time Proportion: 0.0006, Data Loading Time Proportion: 0.0022\n",
      "\u001b[36m(tune_func pid=99388)\u001b[0m #######################################################################################\n",
      "\u001b[36m(tune_func pid=99388)\u001b[0m Epoch [2/50], Step [2384/5961], Val Loss: 0.0414 Val Log Time Proportion: 0.0882\n",
      "\u001b[36m(tune_func pid=99388)\u001b[0m #######################################################################################\n"
     ]
    },
    {
     "name": "stderr",
     "output_type": "stream",
     "text": [
      "\u001b[36m(tune_func pid=99388)\u001b[0m Checkpoint successfully created at: Checkpoint(filesystem=local, path=/home/daniel/ray_results/tune_func_2024-06-23_03-06-45/tune_func_dc56f_00025_25_batch_size=4,channels=64,depth=6,lr=0.0003_2024-06-23_03-06-46/checkpoint_000006)\n"
     ]
    },
    {
     "name": "stdout",
     "output_type": "stream",
     "text": [
      "\u001b[36m(tune_func pid=99388)\u001b[0m Epoch [2/50], Step [2439/5961], Train Loss: 0.0421 , Logging Time Proportion: 0.0002, Data Loading Time Proportion: 0.0008\n",
      "\u001b[36m(tune_func pid=99388)\u001b[0m Epoch [2/50], Step [2539/5961], Train Loss: 0.0423 , Logging Time Proportion: 0.0004, Data Loading Time Proportion: 0.0018\n",
      "\u001b[36m(tune_func pid=99388)\u001b[0m Epoch [2/50], Step [2639/5961], Train Loss: 0.0403 , Logging Time Proportion: 0.0004, Data Loading Time Proportion: 0.0019\n",
      "\u001b[36m(tune_func pid=99388)\u001b[0m Epoch [2/50], Step [2739/5961], Train Loss: 0.0427 , Logging Time Proportion: 0.0005, Data Loading Time Proportion: 0.0021\n",
      "\u001b[36m(tune_func pid=99388)\u001b[0m Epoch [2/50], Step [2839/5961], Train Loss: 0.0429 , Logging Time Proportion: 0.0005, Data Loading Time Proportion: 0.0021\n",
      "\u001b[36m(tune_func pid=99388)\u001b[0m Epoch [2/50], Step [2939/5961], Train Loss: 0.0396 , Logging Time Proportion: 0.0005, Data Loading Time Proportion: 0.0019\n",
      "\u001b[36m(tune_func pid=99388)\u001b[0m Epoch [2/50], Step [3039/5961], Train Loss: 0.0414 , Logging Time Proportion: 0.0004, Data Loading Time Proportion: 0.0020\n",
      "\u001b[36m(tune_func pid=99388)\u001b[0m Epoch [2/50], Step [3139/5961], Train Loss: 0.0412 , Logging Time Proportion: 0.0007, Data Loading Time Proportion: 0.0021\n",
      "\u001b[36m(tune_func pid=99388)\u001b[0m Epoch [2/50], Step [3239/5961], Train Loss: 0.0422 , Logging Time Proportion: 0.0005, Data Loading Time Proportion: 0.0021\n",
      "\u001b[36m(tune_func pid=99388)\u001b[0m Epoch [2/50], Step [3339/5961], Train Loss: 0.0442 , Logging Time Proportion: 0.0005, Data Loading Time Proportion: 0.0020\n",
      "\u001b[36m(tune_func pid=99388)\u001b[0m Epoch [2/50], Step [3439/5961], Train Loss: 0.0414 , Logging Time Proportion: 0.0005, Data Loading Time Proportion: 0.0020\n",
      "\u001b[36m(tune_func pid=99388)\u001b[0m Epoch [2/50], Step [3539/5961], Train Loss: 0.0436 , Logging Time Proportion: 0.0005, Data Loading Time Proportion: 0.0019\n",
      "\u001b[36m(tune_func pid=99388)\u001b[0m #######################################################################################\n",
      "\u001b[36m(tune_func pid=99388)\u001b[0m Epoch [2/50], Step [3576/5961], Val Loss: 0.0415 Val Log Time Proportion: 0.0863\n",
      "\u001b[36m(tune_func pid=99388)\u001b[0m #######################################################################################\n"
     ]
    },
    {
     "name": "stderr",
     "output_type": "stream",
     "text": [
      "\u001b[36m(tune_func pid=99388)\u001b[0m Checkpoint successfully created at: Checkpoint(filesystem=local, path=/home/daniel/ray_results/tune_func_2024-06-23_03-06-45/tune_func_dc56f_00025_25_batch_size=4,channels=64,depth=6,lr=0.0003_2024-06-23_03-06-46/checkpoint_000007)\n"
     ]
    },
    {
     "name": "stdout",
     "output_type": "stream",
     "text": [
      "\u001b[36m(tune_func pid=102560)\u001b[0m Hurray! GPU available.\n",
      "\u001b[36m(tune_func pid=102560)\u001b[0m Total trainable parameters: 111934465\n",
      "\u001b[36m(tune_func pid=102560)\u001b[0m Epoch [1/50], Step [100/2981], Train Loss: 0.2104 , Logging Time Proportion: 0.0006, Data Loading Time Proportion: 0.0010\n",
      "\u001b[36m(tune_func pid=102560)\u001b[0m Epoch [1/50], Step [200/2981], Train Loss: 0.1120 , Logging Time Proportion: 0.0003, Data Loading Time Proportion: 0.0011\n",
      "\u001b[36m(tune_func pid=102560)\u001b[0m Epoch [1/50], Step [300/2981], Train Loss: 0.0868 , Logging Time Proportion: 0.0001, Data Loading Time Proportion: 0.0011\n",
      "\u001b[36m(tune_func pid=102560)\u001b[0m Epoch [1/50], Step [400/2981], Train Loss: 0.0686 , Logging Time Proportion: 0.0001, Data Loading Time Proportion: 0.0011\n",
      "\u001b[36m(tune_func pid=102560)\u001b[0m Epoch [1/50], Step [500/2981], Train Loss: 0.0640 , Logging Time Proportion: 0.0001, Data Loading Time Proportion: 0.0011\n",
      "\u001b[36m(tune_func pid=102560)\u001b[0m #######################################################################################\n",
      "\u001b[36m(tune_func pid=102560)\u001b[0m Epoch [1/50], Step [596/2981], Val Loss: 0.0623 Val Log Time Proportion: 0.1312\n",
      "\u001b[36m(tune_func pid=102560)\u001b[0m #######################################################################################\n"
     ]
    },
    {
     "name": "stderr",
     "output_type": "stream",
     "text": [
      "\u001b[36m(tune_func pid=102560)\u001b[0m Checkpoint successfully created at: Checkpoint(filesystem=local, path=/home/daniel/ray_results/tune_func_2024-06-23_03-06-45/tune_func_dc56f_00026_26_batch_size=8,channels=128,depth=5,lr=0.0003_2024-06-23_03-06-46/checkpoint_000000)\n"
     ]
    },
    {
     "name": "stdout",
     "output_type": "stream",
     "text": [
      "\u001b[36m(tune_func pid=102560)\u001b[0m Epoch [1/50], Step [600/2981], Train Loss: 0.0629\n",
      "\u001b[36m(tune_func pid=102560)\u001b[0m  , Logging Time Proportion: 0.0001, Data Loading Time Proportion: 0.0006\n",
      "\u001b[36m(tune_func pid=102560)\u001b[0m Epoch [1/50], Step [700/2981], Train Loss: 0.0606 , Logging Time Proportion: 0.0001, Data Loading Time Proportion: 0.0009\n",
      "\u001b[36m(tune_func pid=102560)\u001b[0m Epoch [1/50], Step [800/2981], Train Loss: 0.0591 , Logging Time Proportion: 0.0001, Data Loading Time Proportion: 0.0010\n",
      "\u001b[36m(tune_func pid=102560)\u001b[0m Epoch [1/50], Step [900/2981], Train Loss: 0.0591 , Logging Time Proportion: 0.0001, Data Loading Time Proportion: 0.0010\n",
      "\u001b[36m(tune_func pid=102560)\u001b[0m Epoch [1/50], Step [1000/2981], Train Loss: 0.0579 , Logging Time Proportion: 0.0001, Data Loading Time Proportion: 0.0010\n",
      "\u001b[36m(tune_func pid=102560)\u001b[0m Epoch [1/50], Step [1100/2981], Train Loss: 0.0562 , Logging Time Proportion: 0.0002, Data Loading Time Proportion: 0.0010\n",
      "\u001b[36m(tune_func pid=102560)\u001b[0m #######################################################################################\n",
      "\u001b[36m(tune_func pid=102560)\u001b[0m Epoch [1/50], Step [1192/2981], Val Loss: 0.0536 Val Log Time Proportion: 0.1256\n",
      "\u001b[36m(tune_func pid=102560)\u001b[0m #######################################################################################\n"
     ]
    },
    {
     "name": "stderr",
     "output_type": "stream",
     "text": [
      "\u001b[36m(tune_func pid=102560)\u001b[0m Checkpoint successfully created at: Checkpoint(filesystem=local, path=/home/daniel/ray_results/tune_func_2024-06-23_03-06-45/tune_func_dc56f_00026_26_batch_size=8,channels=128,depth=5,lr=0.0003_2024-06-23_03-06-46/checkpoint_000001)\n"
     ]
    },
    {
     "name": "stdout",
     "output_type": "stream",
     "text": [
      "\u001b[36m(tune_func pid=102560)\u001b[0m Epoch [1/50], Step [1200/2981], Train Loss: 0.0566 , Logging Time Proportion: 0.0001, Data Loading Time Proportion: 0.0005\n",
      "\u001b[36m(tune_func pid=102560)\u001b[0m Epoch [1/50], Step [1300/2981], Train Loss: 0.0558 , Logging Time Proportion: 0.0001, Data Loading Time Proportion: 0.0009\n",
      "\u001b[36m(tune_func pid=102560)\u001b[0m Epoch [1/50], Step [1400/2981], Train Loss: 0.0553 , Logging Time Proportion: 0.0001, Data Loading Time Proportion: 0.0010\n",
      "\u001b[36m(tune_func pid=102560)\u001b[0m Epoch [1/50], Step [1500/2981], Train Loss: 0.0572 , Logging Time Proportion: 0.0002, Data Loading Time Proportion: 0.0010\n",
      "\u001b[36m(tune_func pid=102560)\u001b[0m Epoch [1/50], Step [1600/2981], Train Loss: 0.0547 , Logging Time Proportion: 0.0001, Data Loading Time Proportion: 0.0010\n",
      "\u001b[36m(tune_func pid=102560)\u001b[0m Epoch [1/50], Step [1700/2981], Train Loss: 0.0524 , Logging Time Proportion: 0.0001, Data Loading Time Proportion: 0.0010\n",
      "\u001b[36m(tune_func pid=102560)\u001b[0m #######################################################################################\n",
      "\u001b[36m(tune_func pid=102560)\u001b[0m Epoch [1/50], Step [1788/2981], Val Loss: 0.0525 Val Log Time Proportion: 0.1245\n",
      "\u001b[36m(tune_func pid=102560)\u001b[0m #######################################################################################\n"
     ]
    },
    {
     "name": "stderr",
     "output_type": "stream",
     "text": [
      "\u001b[36m(tune_func pid=102560)\u001b[0m Checkpoint successfully created at: Checkpoint(filesystem=local, path=/home/daniel/ray_results/tune_func_2024-06-23_03-06-45/tune_func_dc56f_00026_26_batch_size=8,channels=128,depth=5,lr=0.0003_2024-06-23_03-06-46/checkpoint_000002)\n"
     ]
    },
    {
     "name": "stdout",
     "output_type": "stream",
     "text": [
      "\u001b[36m(tune_func pid=102560)\u001b[0m Epoch [1/50], Step [1800/2981], Train Loss: 0.0531 , Logging Time Proportion: 0.0001, Data Loading Time Proportion: 0.0005\n",
      "\u001b[36m(tune_func pid=102560)\u001b[0m Epoch [1/50], Step [1900/2981], Train Loss: 0.0534 , Logging Time Proportion: 0.0001, Data Loading Time Proportion: 0.0009\n",
      "\u001b[36m(tune_func pid=102560)\u001b[0m Epoch [1/50], Step [2000/2981], Train Loss: 0.0523 , Logging Time Proportion: 0.0001, Data Loading Time Proportion: 0.0010\n",
      "\u001b[36m(tune_func pid=102560)\u001b[0m Epoch [1/50], Step [2100/2981], Train Loss: 0.0509 , Logging Time Proportion: 0.0002, Data Loading Time Proportion: 0.0010\n",
      "\u001b[36m(tune_func pid=102560)\u001b[0m Epoch [1/50], Step [2200/2981], Train Loss: 0.0529 , Logging Time Proportion: 0.0001, Data Loading Time Proportion: 0.0009\n",
      "\u001b[36m(tune_func pid=102560)\u001b[0m Epoch [1/50], Step [2300/2981], Train Loss: 0.0515 , Logging Time Proportion: 0.0001, Data Loading Time Proportion: 0.0009\n",
      "\u001b[36m(tune_func pid=102560)\u001b[0m #######################################################################################\n",
      "\u001b[36m(tune_func pid=102560)\u001b[0m Epoch [1/50], Step [2384/2981], Val Loss: 0.0532 Val Log Time Proportion: 0.1199\n",
      "\u001b[36m(tune_func pid=102560)\u001b[0m #######################################################################################\n"
     ]
    },
    {
     "name": "stderr",
     "output_type": "stream",
     "text": [
      "\u001b[36m(tune_func pid=102560)\u001b[0m Checkpoint successfully created at: Checkpoint(filesystem=local, path=/home/daniel/ray_results/tune_func_2024-06-23_03-06-45/tune_func_dc56f_00026_26_batch_size=8,channels=128,depth=5,lr=0.0003_2024-06-23_03-06-46/checkpoint_000003)\n"
     ]
    },
    {
     "name": "stdout",
     "output_type": "stream",
     "text": [
      "\u001b[36m(tune_func pid=105388)\u001b[0m Hurray! GPU available.\n",
      "\u001b[36m(tune_func pid=105388)\u001b[0m Total trainable parameters: 6998785\n",
      "\u001b[36m(tune_func pid=105388)\u001b[0m Epoch [1/50], Step [100/2981], Train Loss: 0.2329 , Logging Time Proportion: 0.0032, Data Loading Time Proportion: 0.0045\n",
      "\u001b[36m(tune_func pid=105388)\u001b[0m Epoch [1/50], Step [200/2981], Train Loss: 0.1059 , Logging Time Proportion: 0.0009, Data Loading Time Proportion: 0.0047\n",
      "\u001b[36m(tune_func pid=105388)\u001b[0m Epoch [1/50], Step [300/2981], Train Loss: 0.0677 , Logging Time Proportion: 0.0008, Data Loading Time Proportion: 0.0047\n",
      "\u001b[36m(tune_func pid=105388)\u001b[0m Epoch [1/50], Step [400/2981], Train Loss: 0.0592 , Logging Time Proportion: 0.0012, Data Loading Time Proportion: 0.0046\n",
      "\u001b[36m(tune_func pid=105388)\u001b[0m Epoch [1/50], Step [500/2981], Train Loss: 0.0574 , Logging Time Proportion: 0.0007, Data Loading Time Proportion: 0.0048\n",
      "\u001b[36m(tune_func pid=105388)\u001b[0m #######################################################################################\n",
      "\u001b[36m(tune_func pid=105388)\u001b[0m Epoch [1/50], Step [596/2981], Val Loss: 0.0525 Val Log Time Proportion: 0.0826\n",
      "\u001b[36m(tune_func pid=105388)\u001b[0m #######################################################################################\n"
     ]
    },
    {
     "name": "stderr",
     "output_type": "stream",
     "text": [
      "\u001b[36m(tune_func pid=105388)\u001b[0m Checkpoint successfully created at: Checkpoint(filesystem=local, path=/home/daniel/ray_results/tune_func_2024-06-23_03-06-45/tune_func_dc56f_00027_27_batch_size=8,channels=32,depth=5,lr=0.0006_2024-06-23_03-06-46/checkpoint_000000)\n"
     ]
    },
    {
     "name": "stdout",
     "output_type": "stream",
     "text": [
      "\u001b[36m(tune_func pid=105388)\u001b[0m Epoch [1/50], Step [600/2981], Train Loss: 0.0546 , Logging Time Proportion: 0.0006, Data Loading Time Proportion: 0.0031\n",
      "\u001b[36m(tune_func pid=105388)\u001b[0m Epoch [1/50], Step [700/2981], Train Loss: 0.0544 , Logging Time Proportion: 0.0010, Data Loading Time Proportion: 0.0045\n",
      "\u001b[36m(tune_func pid=105388)\u001b[0m Epoch [1/50], Step [800/2981], Train Loss: 0.0520 , Logging Time Proportion: 0.0009, Data Loading Time Proportion: 0.0045\n",
      "\u001b[36m(tune_func pid=105388)\u001b[0m Epoch [1/50], Step [900/2981], Train Loss: 0.0520 , Logging Time Proportion: 0.0008, Data Loading Time Proportion: 0.0044\n",
      "\u001b[36m(tune_func pid=105388)\u001b[0m Epoch [1/50], Step [1000/2981], Train Loss: 0.0515 , Logging Time Proportion: 0.0007, Data Loading Time Proportion: 0.0045\n",
      "\u001b[36m(tune_func pid=105388)\u001b[0m Epoch [1/50], Step [1100/2981], Train Loss: 0.0506 , Logging Time Proportion: 0.0009, Data Loading Time Proportion: 0.0046\n",
      "\u001b[36m(tune_func pid=105388)\u001b[0m #######################################################################################\n",
      "\u001b[36m(tune_func pid=105388)\u001b[0m Epoch [1/50], Step [1192/2981], Val Loss: 0.0506 Val Log Time Proportion: 0.0827\n",
      "\u001b[36m(tune_func pid=105388)\u001b[0m #######################################################################################\n"
     ]
    },
    {
     "name": "stderr",
     "output_type": "stream",
     "text": [
      "\u001b[36m(tune_func pid=105388)\u001b[0m Checkpoint successfully created at: Checkpoint(filesystem=local, path=/home/daniel/ray_results/tune_func_2024-06-23_03-06-45/tune_func_dc56f_00027_27_batch_size=8,channels=32,depth=5,lr=0.0006_2024-06-23_03-06-46/checkpoint_000001)\n"
     ]
    },
    {
     "name": "stdout",
     "output_type": "stream",
     "text": [
      "\u001b[36m(tune_func pid=105388)\u001b[0m Epoch [1/50], Step [1200/2981], Train Loss: 0.0495 , Logging Time Proportion: 0.0006, Data Loading Time Proportion: 0.0031\n",
      "\u001b[36m(tune_func pid=105388)\u001b[0m Epoch [1/50], Step [1300/2981], Train Loss: 0.0496 , Logging Time Proportion: 0.0007, Data Loading Time Proportion: 0.0041\n",
      "\u001b[36m(tune_func pid=105388)\u001b[0m Epoch [1/50], Step [1400/2981], Train Loss: 0.0478 , Logging Time Proportion: 0.0008, Data Loading Time Proportion: 0.0042\n",
      "\u001b[36m(tune_func pid=105388)\u001b[0m Epoch [1/50], Step [1500/2981], Train Loss: 0.0481 , Logging Time Proportion: 0.0008, Data Loading Time Proportion: 0.0041\n",
      "\u001b[36m(tune_func pid=105388)\u001b[0m Epoch [1/50], Step [1600/2981], Train Loss: 0.0496 , Logging Time Proportion: 0.0009, Data Loading Time Proportion: 0.0040\n",
      "\u001b[36m(tune_func pid=105388)\u001b[0m Epoch [1/50], Step [1700/2981], Train Loss: 0.0467 , Logging Time Proportion: 0.0008, Data Loading Time Proportion: 0.0043\n",
      "\u001b[36m(tune_func pid=105388)\u001b[0m #######################################################################################\n",
      "\u001b[36m(tune_func pid=105388)\u001b[0m Epoch [1/50], Step [1788/2981], Val Loss: 0.0474 Val Log Time Proportion: 0.0755\n",
      "\u001b[36m(tune_func pid=105388)\u001b[0m #######################################################################################\n"
     ]
    },
    {
     "name": "stderr",
     "output_type": "stream",
     "text": [
      "\u001b[36m(tune_func pid=105388)\u001b[0m Checkpoint successfully created at: Checkpoint(filesystem=local, path=/home/daniel/ray_results/tune_func_2024-06-23_03-06-45/tune_func_dc56f_00027_27_batch_size=8,channels=32,depth=5,lr=0.0006_2024-06-23_03-06-46/checkpoint_000002)\n"
     ]
    },
    {
     "name": "stdout",
     "output_type": "stream",
     "text": [
      "\u001b[36m(tune_func pid=105388)\u001b[0m Epoch [1/50], Step [1800/2981], Train Loss: 0.0475 , Logging Time Proportion: 0.0005, Data Loading Time Proportion: 0.0029\n",
      "\u001b[36m(tune_func pid=105388)\u001b[0m Epoch [1/50], Step [1900/2981], Train Loss: 0.0458 , Logging Time Proportion: 0.0009, Data Loading Time Proportion: 0.0039\n",
      "\u001b[36m(tune_func pid=105388)\u001b[0m Epoch [1/50], Step [2000/2981], Train Loss: 0.0474 , Logging Time Proportion: 0.0006, Data Loading Time Proportion: 0.0040\n",
      "\u001b[36m(tune_func pid=105388)\u001b[0m Epoch [1/50], Step [2100/2981], Train Loss: 0.0468 , Logging Time Proportion: 0.0008, Data Loading Time Proportion: 0.0041\n",
      "\u001b[36m(tune_func pid=105388)\u001b[0m Epoch [1/50], Step [2200/2981], Train Loss: 0.0462 , Logging Time Proportion: 0.0012, Data Loading Time Proportion: 0.0040\n",
      "\u001b[36m(tune_func pid=105388)\u001b[0m Epoch [1/50], Step [2300/2981], Train Loss: 0.0461 , Logging Time Proportion: 0.0010, Data Loading Time Proportion: 0.0041\n",
      "\u001b[36m(tune_func pid=105388)\u001b[0m #######################################################################################\n",
      "\u001b[36m(tune_func pid=105388)\u001b[0m Epoch [1/50], Step [2384/2981], Val Loss: 0.0456 Val Log Time Proportion: 0.0735\n",
      "\u001b[36m(tune_func pid=105388)\u001b[0m #######################################################################################\n"
     ]
    },
    {
     "name": "stderr",
     "output_type": "stream",
     "text": [
      "\u001b[36m(tune_func pid=105388)\u001b[0m Checkpoint successfully created at: Checkpoint(filesystem=local, path=/home/daniel/ray_results/tune_func_2024-06-23_03-06-45/tune_func_dc56f_00027_27_batch_size=8,channels=32,depth=5,lr=0.0006_2024-06-23_03-06-46/checkpoint_000003)\n"
     ]
    },
    {
     "name": "stdout",
     "output_type": "stream",
     "text": [
      "\u001b[36m(tune_func pid=105388)\u001b[0m Epoch [1/50], Step [2400/2981], Train Loss: 0.0454 , Logging Time Proportion: 0.0005, Data Loading Time Proportion: 0.0027\n",
      "\u001b[36m(tune_func pid=105388)\u001b[0m Epoch [1/50], Step [2500/2981], Train Loss: 0.0449 , Logging Time Proportion: 0.0006, Data Loading Time Proportion: 0.0039\n",
      "\u001b[36m(tune_func pid=105388)\u001b[0m Epoch [1/50], Step [2600/2981], Train Loss: 0.0464 , Logging Time Proportion: 0.0007, Data Loading Time Proportion: 0.0039\n",
      "\u001b[36m(tune_func pid=105388)\u001b[0m Epoch [1/50], Step [2700/2981], Train Loss: 0.0455 , Logging Time Proportion: 0.0008, Data Loading Time Proportion: 0.0039\n",
      "\u001b[36m(tune_func pid=105388)\u001b[0m Epoch [1/50], Step [2800/2981], Train Loss: 0.0455 , Logging Time Proportion: 0.0006, Data Loading Time Proportion: 0.0039\n",
      "\u001b[36m(tune_func pid=105388)\u001b[0m Epoch [1/50], Step [2900/2981], Train Loss: 0.0437 , Logging Time Proportion: 0.0007, Data Loading Time Proportion: 0.0040\n",
      "\u001b[36m(tune_func pid=105388)\u001b[0m #######################################################################################\n",
      "\u001b[36m(tune_func pid=105388)\u001b[0m Epoch [1/50], Step [2980/2981], Val Loss: 0.0476 Val Log Time Proportion: 0.0719\n",
      "\u001b[36m(tune_func pid=105388)\u001b[0m #######################################################################################\n"
     ]
    },
    {
     "name": "stderr",
     "output_type": "stream",
     "text": [
      "\u001b[36m(tune_func pid=105388)\u001b[0m Checkpoint successfully created at: Checkpoint(filesystem=local, path=/home/daniel/ray_results/tune_func_2024-06-23_03-06-45/tune_func_dc56f_00027_27_batch_size=8,channels=32,depth=5,lr=0.0006_2024-06-23_03-06-46/checkpoint_000004)\n"
     ]
    },
    {
     "name": "stdout",
     "output_type": "stream",
     "text": [
      "\u001b[36m(tune_func pid=105388)\u001b[0m Epoch [2/50], Step [19/2981], Train Loss: 0.0089 , Logging Time Proportion: 0.0005, Data Loading Time Proportion: 0.0028\n",
      "\u001b[36m(tune_func pid=105388)\u001b[0m Epoch [2/50], Step [119/2981], Train Loss: 0.0443 , Logging Time Proportion: 0.0009, Data Loading Time Proportion: 0.0051\n",
      "\u001b[36m(tune_func pid=105388)\u001b[0m Epoch [2/50], Step [219/2981], Train Loss: 0.0457 , Logging Time Proportion: 0.0011, Data Loading Time Proportion: 0.0058\n",
      "\u001b[36m(tune_func pid=105388)\u001b[0m Epoch [2/50], Step [319/2981], Train Loss: 0.0438 , Logging Time Proportion: 0.0009, Data Loading Time Proportion: 0.0055\n",
      "\u001b[36m(tune_func pid=105388)\u001b[0m Epoch [2/50], Step [419/2981], Train Loss: 0.0453 , Logging Time Proportion: 0.0014, Data Loading Time Proportion: 0.0052\n",
      "\u001b[36m(tune_func pid=105388)\u001b[0m Epoch [2/50], Step [519/2981], Train Loss: 0.0434 , Logging Time Proportion: 0.0011, Data Loading Time Proportion: 0.0054\n",
      "\u001b[36m(tune_func pid=105388)\u001b[0m #######################################################################################\n",
      "\u001b[36m(tune_func pid=105388)\u001b[0m Epoch [2/50], Step [596/2981], Val Loss: 0.0441 Val Log Time Proportion: 0.1163\n",
      "\u001b[36m(tune_func pid=105388)\u001b[0m #######################################################################################\n"
     ]
    },
    {
     "name": "stderr",
     "output_type": "stream",
     "text": [
      "\u001b[36m(tune_func pid=105388)\u001b[0m Checkpoint successfully created at: Checkpoint(filesystem=local, path=/home/daniel/ray_results/tune_func_2024-06-23_03-06-45/tune_func_dc56f_00027_27_batch_size=8,channels=32,depth=5,lr=0.0006_2024-06-23_03-06-46/checkpoint_000005)\n"
     ]
    },
    {
     "name": "stdout",
     "output_type": "stream",
     "text": [
      "\u001b[36m(tune_func pid=105388)\u001b[0m Epoch [2/50], Step [619/2981], Train Loss: 0.0454 , Logging Time Proportion: 0.0006, Data Loading Time Proportion: 0.0031\n",
      "\u001b[36m(tune_func pid=105388)\u001b[0m Epoch [2/50], Step [719/2981], Train Loss: 0.0434 , Logging Time Proportion: 0.0011, Data Loading Time Proportion: 0.0053\n",
      "\u001b[36m(tune_func pid=105388)\u001b[0m Epoch [2/50], Step [819/2981], Train Loss: 0.0433 , Logging Time Proportion: 0.0012, Data Loading Time Proportion: 0.0053\n",
      "\u001b[36m(tune_func pid=105388)\u001b[0m Epoch [2/50], Step [919/2981], Train Loss: 0.0438 , Logging Time Proportion: 0.0012, Data Loading Time Proportion: 0.0055\n",
      "\u001b[36m(tune_func pid=105388)\u001b[0m Epoch [2/50], Step [1019/2981], Train Loss: 0.0438 , Logging Time Proportion: 0.0007, Data Loading Time Proportion: 0.0048\n",
      "\u001b[36m(tune_func pid=105388)\u001b[0m Epoch [2/50], Step [1119/2981], Train Loss: 0.0438 , Logging Time Proportion: 0.0010, Data Loading Time Proportion: 0.0049\n",
      "\u001b[36m(tune_func pid=105388)\u001b[0m #######################################################################################\n",
      "\u001b[36m(tune_func pid=105388)\u001b[0m Epoch [2/50], Step [1192/2981], Val Loss: 0.0434 Val Log Time Proportion: 0.2466\n",
      "\u001b[36m(tune_func pid=105388)\u001b[0m #######################################################################################\n"
     ]
    },
    {
     "name": "stderr",
     "output_type": "stream",
     "text": [
      "\u001b[36m(tune_func pid=105388)\u001b[0m Checkpoint successfully created at: Checkpoint(filesystem=local, path=/home/daniel/ray_results/tune_func_2024-06-23_03-06-45/tune_func_dc56f_00027_27_batch_size=8,channels=32,depth=5,lr=0.0006_2024-06-23_03-06-46/checkpoint_000006)\n"
     ]
    },
    {
     "name": "stdout",
     "output_type": "stream",
     "text": [
      "\u001b[36m(tune_func pid=105388)\u001b[0m Epoch [2/50], Step [1219/2981], Train Loss: 0.0425 , Logging Time Proportion: 0.0003, Data Loading Time Proportion: 0.0020\n",
      "\u001b[36m(tune_func pid=105388)\u001b[0m Epoch [2/50], Step [1319/2981], Train Loss: 0.0445 , Logging Time Proportion: 0.0007, Data Loading Time Proportion: 0.0047\n",
      "\u001b[36m(tune_func pid=105388)\u001b[0m Epoch [2/50], Step [1419/2981], Train Loss: 0.0431 , Logging Time Proportion: 0.0007, Data Loading Time Proportion: 0.0039\n",
      "\u001b[36m(tune_func pid=105388)\u001b[0m Epoch [2/50], Step [1519/2981], Train Loss: 0.0428 , Logging Time Proportion: 0.0010, Data Loading Time Proportion: 0.0052\n",
      "\u001b[36m(tune_func pid=105388)\u001b[0m Epoch [2/50], Step [1619/2981], Train Loss: 0.0421 , Logging Time Proportion: 0.0011, Data Loading Time Proportion: 0.0051\n",
      "\u001b[36m(tune_func pid=105388)\u001b[0m Epoch [2/50], Step [1719/2981], Train Loss: 0.0427 , Logging Time Proportion: 0.0008, Data Loading Time Proportion: 0.0049\n",
      "\u001b[36m(tune_func pid=105388)\u001b[0m #######################################################################################\n",
      "\u001b[36m(tune_func pid=105388)\u001b[0m Epoch [2/50], Step [1788/2981], Val Loss: 0.0437 Val Log Time Proportion: 0.2361\n",
      "\u001b[36m(tune_func pid=105388)\u001b[0m #######################################################################################\n"
     ]
    },
    {
     "name": "stderr",
     "output_type": "stream",
     "text": [
      "\u001b[36m(tune_func pid=105388)\u001b[0m Checkpoint successfully created at: Checkpoint(filesystem=local, path=/home/daniel/ray_results/tune_func_2024-06-23_03-06-45/tune_func_dc56f_00027_27_batch_size=8,channels=32,depth=5,lr=0.0006_2024-06-23_03-06-46/checkpoint_000007)\n"
     ]
    },
    {
     "name": "stdout",
     "output_type": "stream",
     "text": [
      "\u001b[36m(tune_func pid=106547)\u001b[0m Hurray! GPU available.\n",
      "\u001b[36m(tune_func pid=106547)\u001b[0m Total trainable parameters: 439041\n",
      "\u001b[36m(tune_func pid=106547)\u001b[0m Epoch [1/50], Step [100/2981], Train Loss: 0.6904 , Logging Time Proportion: 0.0125, Data Loading Time Proportion: 0.0054\n",
      "\u001b[36m(tune_func pid=106547)\u001b[0m Epoch [1/50], Step [200/2981], Train Loss: 0.6854 , Logging Time Proportion: 0.0014, Data Loading Time Proportion: 0.0068\n",
      "\u001b[36m(tune_func pid=106547)\u001b[0m Epoch [1/50], Step [300/2981], Train Loss: 0.6786 , Logging Time Proportion: 0.0020, Data Loading Time Proportion: 0.0076\n",
      "\u001b[36m(tune_func pid=106547)\u001b[0m Epoch [1/50], Step [400/2981], Train Loss: 0.6688 , Logging Time Proportion: 0.0016, Data Loading Time Proportion: 0.0049\n",
      "\u001b[36m(tune_func pid=106547)\u001b[0m Epoch [1/50], Step [500/2981], Train Loss: 0.6543 , Logging Time Proportion: 0.0018, Data Loading Time Proportion: 0.0063\n",
      "\u001b[36m(tune_func pid=106547)\u001b[0m #######################################################################################\n",
      "\u001b[36m(tune_func pid=106547)\u001b[0m Epoch [1/50], Step [596/2981], Val Loss: 0.6184 Val Log Time Proportion: 0.3126\n",
      "\u001b[36m(tune_func pid=106547)\u001b[0m #######################################################################################\n"
     ]
    },
    {
     "name": "stderr",
     "output_type": "stream",
     "text": [
      "\u001b[36m(tune_func pid=106547)\u001b[0m Checkpoint successfully created at: Checkpoint(filesystem=local, path=/home/daniel/ray_results/tune_func_2024-06-23_03-06-45/tune_func_dc56f_00028_28_batch_size=8,channels=16,depth=4,lr=0.0000_2024-06-23_03-06-46/checkpoint_000000)\n"
     ]
    },
    {
     "name": "stdout",
     "output_type": "stream",
     "text": [
      "\u001b[36m(tune_func pid=106791)\u001b[0m Hurray! GPU available.\n",
      "\u001b[36m(tune_func pid=106791)\u001b[0m Total trainable parameters: 111934465\n"
     ]
    },
    {
     "name": "stderr",
     "output_type": "stream",
     "text": [
      "2024-06-23 10:50:33,227\tERROR tune_controller.py:1331 -- Trial task failed for trial tune_func_dc56f_00029\n",
      "Traceback (most recent call last):\n",
      "  File \"/home/daniel/anaconda3/envs/adlr/lib/python3.9/site-packages/ray/air/execution/_internal/event_manager.py\", line 110, in resolve_future\n",
      "    result = ray.get(future)\n",
      "  File \"/home/daniel/anaconda3/envs/adlr/lib/python3.9/site-packages/ray/_private/auto_init_hook.py\", line 21, in auto_init_wrapper\n",
      "    return fn(*args, **kwargs)\n",
      "  File \"/home/daniel/anaconda3/envs/adlr/lib/python3.9/site-packages/ray/_private/client_mode_hook.py\", line 103, in wrapper\n",
      "    return func(*args, **kwargs)\n",
      "  File \"/home/daniel/anaconda3/envs/adlr/lib/python3.9/site-packages/ray/_private/worker.py\", line 2630, in get\n",
      "    values, debugger_breakpoint = worker.get_objects(object_refs, timeout=timeout)\n",
      "  File \"/home/daniel/anaconda3/envs/adlr/lib/python3.9/site-packages/ray/_private/worker.py\", line 863, in get_objects\n",
      "    raise value.as_instanceof_cause()\n",
      "ray.exceptions.RayTaskError(OutOfMemoryError): \u001b[36mray::ImplicitFunc.train()\u001b[39m (pid=106791, ip=192.168.42.46, actor_id=fae07f2664712702ab24da2101000000, repr=tune_func)\n",
      "  File \"/home/daniel/anaconda3/envs/adlr/lib/python3.9/site-packages/ray/tune/trainable/trainable.py\", line 331, in train\n",
      "    raise skipped from exception_cause(skipped)\n",
      "  File \"/home/daniel/anaconda3/envs/adlr/lib/python3.9/site-packages/ray/air/_internal/util.py\", line 98, in run\n",
      "    self._ret = self._target(*self._args, **self._kwargs)\n",
      "  File \"/home/daniel/anaconda3/envs/adlr/lib/python3.9/site-packages/ray/tune/trainable/function_trainable.py\", line 45, in <lambda>\n",
      "    training_func=lambda: self._trainable_func(self.config),\n",
      "  File \"/home/daniel/anaconda3/envs/adlr/lib/python3.9/site-packages/ray/tune/trainable/function_trainable.py\", line 248, in _trainable_func\n",
      "    output = fn()\n",
      "  File \"/tmp/ipykernel_66204/815730020.py\", line 25, in tune_func\n",
      "  File \"/home/daniel/Documents/TUM/ADLR/tum-adlr-02/neural_nets/trainer.py\", line 131, in train_from_dict\n",
      "    self.train()\n",
      "  File \"/home/daniel/Documents/TUM/ADLR/tum-adlr-02/neural_nets/trainer.py\", line 213, in train\n",
      "    loss.backward()\n",
      "  File \"/home/daniel/anaconda3/envs/adlr/lib/python3.9/site-packages/torch/_tensor.py\", line 525, in backward\n",
      "    torch.autograd.backward(\n",
      "  File \"/home/daniel/anaconda3/envs/adlr/lib/python3.9/site-packages/torch/autograd/__init__.py\", line 267, in backward\n",
      "    _engine_run_backward(\n",
      "  File \"/home/daniel/anaconda3/envs/adlr/lib/python3.9/site-packages/torch/autograd/graph.py\", line 744, in _engine_run_backward\n",
      "    return Variable._execution_engine.run_backward(  # Calls into the C++ engine to run the backward pass\n",
      "torch.cuda.OutOfMemoryError: CUDA out of memory. Tried to allocate 512.00 MiB. GPU\n"
     ]
    },
    {
     "name": "stdout",
     "output_type": "stream",
     "text": [
      "\u001b[36m(tune_func pid=106921)\u001b[0m Hurray! GPU available.\n",
      "\u001b[36m(tune_func pid=106921)\u001b[0m Total trainable parameters: 28255233\n",
      "\u001b[36m(tune_func pid=106921)\u001b[0m Epoch [1/50], Step [100/2981], Train Loss: 0.3072 , Logging Time Proportion: 0.0001, Data Loading Time Proportion: 0.0004\n",
      "\u001b[36m(tune_func pid=106921)\u001b[0m Epoch [1/50], Step [200/2981], Train Loss: 0.1618 , Logging Time Proportion: 0.0001, Data Loading Time Proportion: 0.0004\n",
      "\u001b[36m(tune_func pid=106921)\u001b[0m Epoch [1/50], Step [300/2981], Train Loss: 0.1525 , Logging Time Proportion: 0.0001, Data Loading Time Proportion: 0.0004\n",
      "\u001b[36m(tune_func pid=106921)\u001b[0m Epoch [1/50], Step [400/2981], Train Loss: 0.1537 , Logging Time Proportion: 0.0001, Data Loading Time Proportion: 0.0005\n",
      "\u001b[36m(tune_func pid=106921)\u001b[0m Epoch [1/50], Step [500/2981], Train Loss: 0.1475 , Logging Time Proportion: 0.0001, Data Loading Time Proportion: 0.0004\n",
      "\u001b[36m(tune_func pid=106921)\u001b[0m #######################################################################################\n",
      "\u001b[36m(tune_func pid=106921)\u001b[0m Epoch [1/50], Step [596/2981], Val Loss: 0.1444 Val Log Time Proportion: 0.1419\n",
      "\u001b[36m(tune_func pid=106921)\u001b[0m #######################################################################################\n"
     ]
    },
    {
     "name": "stderr",
     "output_type": "stream",
     "text": [
      "\u001b[36m(tune_func pid=106921)\u001b[0m Checkpoint successfully created at: Checkpoint(filesystem=local, path=/home/daniel/ray_results/tune_func_2024-06-23_03-06-45/tune_func_dc56f_00030_30_batch_size=8,channels=256,depth=3,lr=0.0000_2024-06-23_03-06-47/checkpoint_000000)\n"
     ]
    },
    {
     "name": "stdout",
     "output_type": "stream",
     "text": [
      "\u001b[36m(tune_func pid=108506)\u001b[0m Hurray! GPU available.\n",
      "\u001b[36m(tune_func pid=108506)\u001b[0m Total trainable parameters: 6995329\n",
      "\u001b[36m(tune_func pid=108506)\u001b[0m Epoch [1/50], Step [100/5961], Train Loss: 0.1610 , Logging Time Proportion: 0.0040, Data Loading Time Proportion: 0.0064\n",
      "\u001b[36m(tune_func pid=108506)\u001b[0m Epoch [1/50], Step [200/5961], Train Loss: 0.0880 , Logging Time Proportion: 0.0040, Data Loading Time Proportion: 0.0071\n",
      "\u001b[36m(tune_func pid=108506)\u001b[0m Epoch [1/50], Step [300/5961], Train Loss: 0.0801 , Logging Time Proportion: 0.0021, Data Loading Time Proportion: 0.0065\n",
      "\u001b[36m(tune_func pid=108506)\u001b[0m Epoch [1/50], Step [400/5961], Train Loss: 0.0753 , Logging Time Proportion: 0.0022, Data Loading Time Proportion: 0.0064\n",
      "\u001b[36m(tune_func pid=108506)\u001b[0m Epoch [1/50], Step [500/5961], Train Loss: 0.0660 , Logging Time Proportion: 0.0026, Data Loading Time Proportion: 0.0066\n",
      "\u001b[36m(tune_func pid=108506)\u001b[0m Epoch [1/50], Step [600/5961], Train Loss: 0.0623 , Logging Time Proportion: 0.0021, Data Loading Time Proportion: 0.0063\n",
      "\u001b[36m(tune_func pid=108506)\u001b[0m Epoch [1/50], Step [700/5961], Train Loss: 0.0588 , Logging Time Proportion: 0.0028, Data Loading Time Proportion: 0.0069\n",
      "\u001b[36m(tune_func pid=108506)\u001b[0m Epoch [1/50], Step [800/5961], Train Loss: 0.0568 , Logging Time Proportion: 0.0019, Data Loading Time Proportion: 0.0078\n",
      "\u001b[36m(tune_func pid=108506)\u001b[0m Epoch [1/50], Step [900/5961], Train Loss: 0.0574 , Logging Time Proportion: 0.0022, Data Loading Time Proportion: 0.0069\n",
      "\u001b[36m(tune_func pid=108506)\u001b[0m Epoch [1/50], Step [1000/5961], Train Loss: 0.0557 , Logging Time Proportion: 0.0025, Data Loading Time Proportion: 0.0076\n",
      "\u001b[36m(tune_func pid=108506)\u001b[0m Epoch [1/50], Step [1100/5961], Train Loss: 0.0524 , Logging Time Proportion: 0.0022, Data Loading Time Proportion: 0.0073\n",
      "\u001b[36m(tune_func pid=108506)\u001b[0m #######################################################################################\n",
      "\u001b[36m(tune_func pid=108506)\u001b[0m Epoch [1/50], Step [1192/5961], Val Loss: 0.0512 Val Log Time Proportion: 0.0615\n",
      "\u001b[36m(tune_func pid=108506)\u001b[0m #######################################################################################\n"
     ]
    },
    {
     "name": "stderr",
     "output_type": "stream",
     "text": [
      "\u001b[36m(tune_func pid=108506)\u001b[0m Checkpoint successfully created at: Checkpoint(filesystem=local, path=/home/daniel/ray_results/tune_func_2024-06-23_03-06-45/tune_func_dc56f_00031_31_batch_size=4,channels=16,depth=6,lr=0.0002_2024-06-23_03-06-47/checkpoint_000000)\n"
     ]
    },
    {
     "name": "stdout",
     "output_type": "stream",
     "text": [
      "\u001b[36m(tune_func pid=108506)\u001b[0m Epoch [1/50], Step [1200/5961], Train Loss: 0.0548 , Logging Time Proportion: 0.0013, Data Loading Time Proportion: 0.0040\n",
      "\u001b[36m(tune_func pid=108506)\u001b[0m Epoch [1/50], Step [1300/5961], Train Loss: 0.0518 , Logging Time Proportion: 0.0027, Data Loading Time Proportion: 0.0070\n",
      "\u001b[36m(tune_func pid=108506)\u001b[0m Epoch [1/50], Step [1400/5961], Train Loss: 0.0515 , Logging Time Proportion: 0.0020, Data Loading Time Proportion: 0.0061\n",
      "\u001b[36m(tune_func pid=108506)\u001b[0m Epoch [1/50], Step [1500/5961], Train Loss: 0.0516 , Logging Time Proportion: 0.0017, Data Loading Time Proportion: 0.0066\n",
      "\u001b[36m(tune_func pid=108506)\u001b[0m Epoch [1/50], Step [1600/5961], Train Loss: 0.0522 , Logging Time Proportion: 0.0022, Data Loading Time Proportion: 0.0074\n",
      "\u001b[36m(tune_func pid=108506)\u001b[0m Epoch [1/50], Step [1700/5961], Train Loss: 0.0503 , Logging Time Proportion: 0.0022, Data Loading Time Proportion: 0.0069\n",
      "\u001b[36m(tune_func pid=108506)\u001b[0m Epoch [1/50], Step [1800/5961], Train Loss: 0.0527 , Logging Time Proportion: 0.0020, Data Loading Time Proportion: 0.0069\n",
      "\u001b[36m(tune_func pid=108506)\u001b[0m Epoch [1/50], Step [1900/5961], Train Loss: 0.0466 , Logging Time Proportion: 0.0020, Data Loading Time Proportion: 0.0071\n",
      "\u001b[36m(tune_func pid=108506)\u001b[0m Epoch [1/50], Step [2000/5961], Train Loss: 0.0482 , Logging Time Proportion: 0.0047, Data Loading Time Proportion: 0.0066\n",
      "\u001b[36m(tune_func pid=108506)\u001b[0m Epoch [1/50], Step [2100/5961], Train Loss: 0.0468 , Logging Time Proportion: 0.0022, Data Loading Time Proportion: 0.0063\n",
      "\u001b[36m(tune_func pid=108506)\u001b[0m Epoch [1/50], Step [2200/5961], Train Loss: 0.0470 , Logging Time Proportion: 0.0019, Data Loading Time Proportion: 0.0061\n",
      "\u001b[36m(tune_func pid=108506)\u001b[0m Epoch [1/50], Step [2300/5961], Train Loss: 0.0490 , Logging Time Proportion: 0.0018, Data Loading Time Proportion: 0.0059\n",
      "\u001b[36m(tune_func pid=108506)\u001b[0m #######################################################################################\n",
      "\u001b[36m(tune_func pid=108506)\u001b[0m Epoch [1/50], Step [2384/5961], Val Loss: 0.0471 Val Log Time Proportion: 0.0614\n",
      "\u001b[36m(tune_func pid=108506)\u001b[0m #######################################################################################\n"
     ]
    },
    {
     "name": "stderr",
     "output_type": "stream",
     "text": [
      "\u001b[36m(tune_func pid=108506)\u001b[0m Checkpoint successfully created at: Checkpoint(filesystem=local, path=/home/daniel/ray_results/tune_func_2024-06-23_03-06-45/tune_func_dc56f_00031_31_batch_size=4,channels=16,depth=6,lr=0.0002_2024-06-23_03-06-47/checkpoint_000001)\n"
     ]
    },
    {
     "name": "stdout",
     "output_type": "stream",
     "text": [
      "\u001b[36m(tune_func pid=108506)\u001b[0m Epoch [1/50], Step [2400/5961], Train Loss: 0.0466 , Logging Time Proportion: 0.0011, Data Loading Time Proportion: 0.0036\n",
      "\u001b[36m(tune_func pid=108506)\u001b[0m Epoch [1/50], Step [2500/5961], Train Loss: 0.0471 , Logging Time Proportion: 0.0021, Data Loading Time Proportion: 0.0065\n",
      "\u001b[36m(tune_func pid=108506)\u001b[0m Epoch [1/50], Step [2600/5961], Train Loss: 0.0461 , Logging Time Proportion: 0.0019, Data Loading Time Proportion: 0.0062\n",
      "\u001b[36m(tune_func pid=108506)\u001b[0m Epoch [1/50], Step [2700/5961], Train Loss: 0.0456 , Logging Time Proportion: 0.0020, Data Loading Time Proportion: 0.0061\n",
      "\u001b[36m(tune_func pid=108506)\u001b[0m Epoch [1/50], Step [2800/5961], Train Loss: 0.0457 , Logging Time Proportion: 0.0017, Data Loading Time Proportion: 0.0062\n",
      "\u001b[36m(tune_func pid=108506)\u001b[0m Epoch [1/50], Step [2900/5961], Train Loss: 0.0471 , Logging Time Proportion: 0.0020, Data Loading Time Proportion: 0.0061\n",
      "\u001b[36m(tune_func pid=108506)\u001b[0m Epoch [1/50], Step [3000/5961], Train Loss: 0.0456 , Logging Time Proportion: 0.0022, Data Loading Time Proportion: 0.0056\n",
      "\u001b[36m(tune_func pid=108506)\u001b[0m Epoch [1/50], Step [3100/5961], Train Loss: 0.0473 , Logging Time Proportion: 0.0023, Data Loading Time Proportion: 0.0061\n",
      "\u001b[36m(tune_func pid=108506)\u001b[0m Epoch [1/50], Step [3200/5961], Train Loss: 0.0455\n",
      "\u001b[36m(tune_func pid=108506)\u001b[0m  , Logging Time Proportion: 0.0021, Data Loading Time Proportion: 0.0059\n",
      "\u001b[36m(tune_func pid=108506)\u001b[0m Epoch [1/50], Step [3300/5961], Train Loss: 0.0452 , Logging Time Proportion: 0.0020, Data Loading Time Proportion: 0.0058\n",
      "\u001b[36m(tune_func pid=108506)\u001b[0m Epoch [1/50], Step [3400/5961], Train Loss: 0.0442 , Logging Time Proportion: 0.0019, Data Loading Time Proportion: 0.0058\n",
      "\u001b[36m(tune_func pid=108506)\u001b[0m Epoch [1/50], Step [3500/5961], Train Loss: 0.0454 , Logging Time Proportion: 0.0019, Data Loading Time Proportion: 0.0057\n",
      "\u001b[36m(tune_func pid=108506)\u001b[0m #######################################################################################\n",
      "\u001b[36m(tune_func pid=108506)\u001b[0m Epoch [1/50], Step [3576/5961], Val Loss: 0.0434 Val Log Time Proportion: 0.0573\n",
      "\u001b[36m(tune_func pid=108506)\u001b[0m #######################################################################################\n"
     ]
    },
    {
     "name": "stderr",
     "output_type": "stream",
     "text": [
      "\u001b[36m(tune_func pid=108506)\u001b[0m Checkpoint successfully created at: Checkpoint(filesystem=local, path=/home/daniel/ray_results/tune_func_2024-06-23_03-06-45/tune_func_dc56f_00031_31_batch_size=4,channels=16,depth=6,lr=0.0002_2024-06-23_03-06-47/checkpoint_000002)\n"
     ]
    },
    {
     "name": "stdout",
     "output_type": "stream",
     "text": [
      "\u001b[36m(tune_func pid=108506)\u001b[0m Epoch [1/50], Step [3600/5961], Train Loss: 0.0443 , Logging Time Proportion: 0.0010, Data Loading Time Proportion: 0.0034\n",
      "\u001b[36m(tune_func pid=108506)\u001b[0m Epoch [1/50], Step [3700/5961], Train Loss: 0.0433 , Logging Time Proportion: 0.0018, Data Loading Time Proportion: 0.0063\n",
      "\u001b[36m(tune_func pid=108506)\u001b[0m Epoch [1/50], Step [3800/5961], Train Loss: 0.0455 , Logging Time Proportion: 0.0016, Data Loading Time Proportion: 0.0050\n",
      "\u001b[36m(tune_func pid=108506)\u001b[0m Epoch [1/50], Step [3900/5961], Train Loss: 0.0454 , Logging Time Proportion: 0.0018, Data Loading Time Proportion: 0.0058\n",
      "\u001b[36m(tune_func pid=108506)\u001b[0m Epoch [1/50], Step [4000/5961], Train Loss: 0.0449 , Logging Time Proportion: 0.0022, Data Loading Time Proportion: 0.0060\n",
      "\u001b[36m(tune_func pid=108506)\u001b[0m Epoch [1/50], Step [4100/5961], Train Loss: 0.0454 , Logging Time Proportion: 0.0018, Data Loading Time Proportion: 0.0059\n",
      "\u001b[36m(tune_func pid=108506)\u001b[0m Epoch [1/50], Step [4200/5961], Train Loss: 0.0436 , Logging Time Proportion: 0.0020, Data Loading Time Proportion: 0.0054\n",
      "\u001b[36m(tune_func pid=108506)\u001b[0m Epoch [1/50], Step [4300/5961], Train Loss: 0.0447 , Logging Time Proportion: 0.0017, Data Loading Time Proportion: 0.0061\n",
      "\u001b[36m(tune_func pid=108506)\u001b[0m Epoch [1/50], Step [4400/5961], Train Loss: 0.0443 , Logging Time Proportion: 0.0016, Data Loading Time Proportion: 0.0058\n",
      "\u001b[36m(tune_func pid=108506)\u001b[0m Epoch [1/50], Step [4500/5961], Train Loss: 0.0409 , Logging Time Proportion: 0.0013, Data Loading Time Proportion: 0.0053\n",
      "\u001b[36m(tune_func pid=108506)\u001b[0m Epoch [1/50], Step [4600/5961], Train Loss: 0.0429 , Logging Time Proportion: 0.0018, Data Loading Time Proportion: 0.0058\n",
      "\u001b[36m(tune_func pid=108506)\u001b[0m Epoch [1/50], Step [4700/5961], Train Loss: 0.0425 , Logging Time Proportion: 0.0023, Data Loading Time Proportion: 0.0060\n",
      "\u001b[36m(tune_func pid=108506)\u001b[0m #######################################################################################\n",
      "\u001b[36m(tune_func pid=108506)\u001b[0m Epoch [1/50], Step [4768/5961], Val Loss: 0.0426 Val Log Time Proportion: 0.0514\n",
      "\u001b[36m(tune_func pid=108506)\u001b[0m #######################################################################################\n"
     ]
    },
    {
     "name": "stderr",
     "output_type": "stream",
     "text": [
      "\u001b[36m(tune_func pid=108506)\u001b[0m Checkpoint successfully created at: Checkpoint(filesystem=local, path=/home/daniel/ray_results/tune_func_2024-06-23_03-06-45/tune_func_dc56f_00031_31_batch_size=4,channels=16,depth=6,lr=0.0002_2024-06-23_03-06-47/checkpoint_000003)\n"
     ]
    },
    {
     "name": "stdout",
     "output_type": "stream",
     "text": [
      "\u001b[36m(tune_func pid=108506)\u001b[0m Epoch [1/50], Step [4800/5961], Train Loss: 0.0442 , Logging Time Proportion: 0.0009, Data Loading Time Proportion: 0.0033\n",
      "\u001b[36m(tune_func pid=108506)\u001b[0m Epoch [1/50], Step [4900/5961], Train Loss: 0.0429 , Logging Time Proportion: 0.0014, Data Loading Time Proportion: 0.0058\n",
      "\u001b[36m(tune_func pid=108506)\u001b[0m Epoch [1/50], Step [5000/5961], Train Loss: 0.0445 , Logging Time Proportion: 0.0012, Data Loading Time Proportion: 0.0053\n",
      "\u001b[36m(tune_func pid=108506)\u001b[0m Epoch [1/50], Step [5100/5961], Train Loss: 0.0438 , Logging Time Proportion: 0.0016, Data Loading Time Proportion: 0.0053\n",
      "\u001b[36m(tune_func pid=108506)\u001b[0m Epoch [1/50], Step [5200/5961], Train Loss: 0.0420 , Logging Time Proportion: 0.0017, Data Loading Time Proportion: 0.0056\n",
      "\u001b[36m(tune_func pid=108506)\u001b[0m Epoch [1/50], Step [5300/5961], Train Loss: 0.0436 , Logging Time Proportion: 0.0015, Data Loading Time Proportion: 0.0046\n",
      "\u001b[36m(tune_func pid=108506)\u001b[0m Epoch [1/50], Step [5400/5961], Train Loss: 0.0414 , Logging Time Proportion: 0.0016, Data Loading Time Proportion: 0.0053\n",
      "\u001b[36m(tune_func pid=108506)\u001b[0m Epoch [1/50], Step [5500/5961], Train Loss: 0.0434\n",
      "\u001b[36m(tune_func pid=108506)\u001b[0m  , Logging Time Proportion: 0.0017, Data Loading Time Proportion: 0.0056\n",
      "\u001b[36m(tune_func pid=108506)\u001b[0m Epoch [1/50], Step [5600/5961], Train Loss: 0.0431 \n",
      "\u001b[36m(tune_func pid=108506)\u001b[0m , Logging Time Proportion: 0.0016, Data Loading Time Proportion: 0.0052\n",
      "\u001b[36m(tune_func pid=108506)\u001b[0m Epoch [1/50], Step [5700/5961], Train Loss: 0.0446 , Logging Time Proportion: 0.0013, Data Loading Time Proportion: 0.0047\n",
      "\u001b[36m(tune_func pid=108506)\u001b[0m Epoch [1/50], Step [5800/5961], Train Loss: 0.0432 , Logging Time Proportion: 0.0013, Data Loading Time Proportion: 0.0045\n",
      "\u001b[36m(tune_func pid=108506)\u001b[0m Epoch [1/50], Step [5900/5961], Train Loss: 0.0431 , Logging Time Proportion: 0.0013, Data Loading Time Proportion: 0.0050\n",
      "\u001b[36m(tune_func pid=108506)\u001b[0m #######################################################################################\n",
      "\u001b[36m(tune_func pid=108506)\u001b[0m Epoch [1/50], Step [5960/5961], Val Loss: 0.0424 Val Log Time Proportion: 0.0630\n",
      "\u001b[36m(tune_func pid=108506)\u001b[0m #######################################################################################\n"
     ]
    },
    {
     "name": "stderr",
     "output_type": "stream",
     "text": [
      "\u001b[36m(tune_func pid=108506)\u001b[0m Checkpoint successfully created at: Checkpoint(filesystem=local, path=/home/daniel/ray_results/tune_func_2024-06-23_03-06-45/tune_func_dc56f_00031_31_batch_size=4,channels=16,depth=6,lr=0.0002_2024-06-23_03-06-47/checkpoint_000004)\n"
     ]
    },
    {
     "name": "stdout",
     "output_type": "stream",
     "text": [
      "\u001b[36m(tune_func pid=108506)\u001b[0m Epoch [2/50], Step [39/5961], Train Loss: 0.0161 , Logging Time Proportion: 0.0008, Data Loading Time Proportion: 0.0031\n",
      "\u001b[36m(tune_func pid=108506)\u001b[0m Epoch [2/50], Step [139/5961], Train Loss: 0.0435 , Logging Time Proportion: 0.0032, Data Loading Time Proportion: 0.0074\n",
      "\u001b[36m(tune_func pid=108506)\u001b[0m Epoch [2/50], Step [239/5961], Train Loss: 0.0440 , Logging Time Proportion: 0.0016, Data Loading Time Proportion: 0.0063\n",
      "\u001b[36m(tune_func pid=108506)\u001b[0m Epoch [2/50], Step [339/5961], Train Loss: 0.0412 , Logging Time Proportion: 0.0017, Data Loading Time Proportion: 0.0057\n",
      "\u001b[36m(tune_func pid=108506)\u001b[0m Epoch [2/50], Step [439/5961], Train Loss: 0.0425 , Logging Time Proportion: 0.0017, Data Loading Time Proportion: 0.0054\n",
      "\u001b[36m(tune_func pid=108506)\u001b[0m Epoch [2/50], Step [539/5961], Train Loss: 0.0418 , Logging Time Proportion: 0.0017, Data Loading Time Proportion: 0.0067\n",
      "\u001b[36m(tune_func pid=108506)\u001b[0m Epoch [2/50], Step [639/5961], Train Loss: 0.0417 , Logging Time Proportion: 0.0023, Data Loading Time Proportion: 0.0078\n",
      "\u001b[36m(tune_func pid=108506)\u001b[0m Epoch [2/50], Step [739/5961], Train Loss: 0.0416 , Logging Time Proportion: 0.0021, Data Loading Time Proportion: 0.0065\n",
      "\u001b[36m(tune_func pid=108506)\u001b[0m Epoch [2/50], Step [839/5961], Train Loss: 0.0420 , Logging Time Proportion: 0.0031, Data Loading Time Proportion: 0.0085\n",
      "\u001b[36m(tune_func pid=108506)\u001b[0m Epoch [2/50], Step [939/5961], Train Loss: 0.0431 , Logging Time Proportion: 0.0020, Data Loading Time Proportion: 0.0078\n",
      "\u001b[36m(tune_func pid=108506)\u001b[0m Epoch [2/50], Step [1039/5961], Train Loss: 0.0424 , Logging Time Proportion: 0.0026, Data Loading Time Proportion: 0.0075\n",
      "\u001b[36m(tune_func pid=108506)\u001b[0m Epoch [2/50], Step [1139/5961], Train Loss: 0.0416 , Logging Time Proportion: 0.0021, Data Loading Time Proportion: 0.0077\n",
      "\u001b[36m(tune_func pid=108506)\u001b[0m #######################################################################################\n",
      "\u001b[36m(tune_func pid=108506)\u001b[0m Epoch [2/50], Step [1192/5961], Val Loss: 0.0407 Val Log Time Proportion: 0.0800\n",
      "\u001b[36m(tune_func pid=108506)\u001b[0m #######################################################################################\n"
     ]
    },
    {
     "name": "stderr",
     "output_type": "stream",
     "text": [
      "\u001b[36m(tune_func pid=108506)\u001b[0m Checkpoint successfully created at: Checkpoint(filesystem=local, path=/home/daniel/ray_results/tune_func_2024-06-23_03-06-45/tune_func_dc56f_00031_31_batch_size=4,channels=16,depth=6,lr=0.0002_2024-06-23_03-06-47/checkpoint_000005)\n"
     ]
    },
    {
     "name": "stdout",
     "output_type": "stream",
     "text": [
      "\u001b[36m(tune_func pid=108506)\u001b[0m Epoch [2/50], Step [1239/5961], Train Loss: 0.0423 , Logging Time Proportion: 0.0010, Data Loading Time Proportion: 0.0031\n",
      "\u001b[36m(tune_func pid=108506)\u001b[0m Epoch [2/50], Step [1339/5961], Train Loss: 0.0435 , Logging Time Proportion: 0.0016, Data Loading Time Proportion: 0.0064\n",
      "\u001b[36m(tune_func pid=108506)\u001b[0m Epoch [2/50], Step [1439/5961], Train Loss: 0.0424 , Logging Time Proportion: 0.0019, Data Loading Time Proportion: 0.0073\n",
      "\u001b[36m(tune_func pid=108506)\u001b[0m Epoch [2/50], Step [1539/5961], Train Loss: 0.0414 , Logging Time Proportion: 0.0019, Data Loading Time Proportion: 0.0080\n",
      "\u001b[36m(tune_func pid=108506)\u001b[0m Epoch [2/50], Step [1639/5961], Train Loss: 0.0406 , Logging Time Proportion: 0.0020, Data Loading Time Proportion: 0.0069\n",
      "\u001b[36m(tune_func pid=108506)\u001b[0m Epoch [2/50], Step [1739/5961], Train Loss: 0.0438 , Logging Time Proportion: 0.0023, Data Loading Time Proportion: 0.0071\n",
      "\u001b[36m(tune_func pid=108506)\u001b[0m Epoch [2/50], Step [1839/5961], Train Loss: 0.0423 , Logging Time Proportion: 0.0013, Data Loading Time Proportion: 0.0054\n",
      "\u001b[36m(tune_func pid=108506)\u001b[0m Epoch [2/50], Step [1939/5961], Train Loss: 0.0403 , Logging Time Proportion: 0.0019, Data Loading Time Proportion: 0.0064\n",
      "\u001b[36m(tune_func pid=108506)\u001b[0m Epoch [2/50], Step [2039/5961], Train Loss: 0.0413 , Logging Time Proportion: 0.0011, Data Loading Time Proportion: 0.0039\n",
      "\u001b[36m(tune_func pid=108506)\u001b[0m Epoch [2/50], Step [2139/5961], Train Loss: 0.0402 , Logging Time Proportion: 0.0015, Data Loading Time Proportion: 0.0052\n",
      "\u001b[36m(tune_func pid=108506)\u001b[0m Epoch [2/50], Step [2239/5961], Train Loss: 0.0428 , Logging Time Proportion: 0.0026, Data Loading Time Proportion: 0.0071\n",
      "\u001b[36m(tune_func pid=108506)\u001b[0m Epoch [2/50], Step [2339/5961], Train Loss: 0.0401 , Logging Time Proportion: 0.0018, Data Loading Time Proportion: 0.0075\n",
      "\u001b[36m(tune_func pid=108506)\u001b[0m #######################################################################################\n",
      "\u001b[36m(tune_func pid=108506)\u001b[0m Epoch [2/50], Step [2384/5961], Val Loss: 0.0403 Val Log Time Proportion: 0.0573\n",
      "\u001b[36m(tune_func pid=108506)\u001b[0m #######################################################################################\n"
     ]
    },
    {
     "name": "stderr",
     "output_type": "stream",
     "text": [
      "\u001b[36m(tune_func pid=108506)\u001b[0m Checkpoint successfully created at: Checkpoint(filesystem=local, path=/home/daniel/ray_results/tune_func_2024-06-23_03-06-45/tune_func_dc56f_00031_31_batch_size=4,channels=16,depth=6,lr=0.0002_2024-06-23_03-06-47/checkpoint_000006)\n"
     ]
    },
    {
     "name": "stdout",
     "output_type": "stream",
     "text": [
      "\u001b[36m(tune_func pid=108506)\u001b[0m Epoch [2/50], Step [2439/5961], Train Loss: 0.0423 , Logging Time Proportion: 0.0011, Data Loading Time Proportion: 0.0033\n",
      "\u001b[36m(tune_func pid=108506)\u001b[0m Epoch [2/50], Step [2539/5961], Train Loss: 0.0413 , Logging Time Proportion: 0.0018, Data Loading Time Proportion: 0.0064\n",
      "\u001b[36m(tune_func pid=108506)\u001b[0m Epoch [2/50], Step [2639/5961], Train Loss: 0.0399 , Logging Time Proportion: 0.0017, Data Loading Time Proportion: 0.0064\n",
      "\u001b[36m(tune_func pid=108506)\u001b[0m Epoch [2/50], Step [2739/5961], Train Loss: 0.0405 , Logging Time Proportion: 0.0014, Data Loading Time Proportion: 0.0057\n",
      "\u001b[36m(tune_func pid=108506)\u001b[0m Epoch [2/50], Step [2839/5961], Train Loss: 0.0412 , Logging Time Proportion: 0.0011, Data Loading Time Proportion: 0.0042\n",
      "\u001b[36m(tune_func pid=108506)\u001b[0m Epoch [2/50], Step [2939/5961], Train Loss: 0.0415 , Logging Time Proportion: 0.0010, Data Loading Time Proportion: 0.0038\n",
      "\u001b[36m(tune_func pid=108506)\u001b[0m Epoch [2/50], Step [3039/5961], Train Loss: 0.0413 , Logging Time Proportion: 0.0017, Data Loading Time Proportion: 0.0047\n",
      "\u001b[36m(tune_func pid=108506)\u001b[0m Epoch [2/50], Step [3139/5961], Train Loss: 0.0397 , Logging Time Proportion: 0.0022, Data Loading Time Proportion: 0.0062\n",
      "\u001b[36m(tune_func pid=108506)\u001b[0m Epoch [2/50], Step [3239/5961], Train Loss: 0.0406 , Logging Time Proportion: 0.0018, Data Loading Time Proportion: 0.0068\n",
      "\u001b[36m(tune_func pid=108506)\u001b[0m Epoch [2/50], Step [3339/5961], Train Loss: 0.0422\n",
      "\u001b[36m(tune_func pid=108506)\u001b[0m  , Logging Time Proportion: 0.0019, Data Loading Time Proportion: 0.0065\n",
      "\u001b[36m(tune_func pid=108506)\u001b[0m Epoch [2/50], Step [3439/5961], Train Loss: 0.0409 , Logging Time Proportion: 0.0031, Data Loading Time Proportion: 0.0063\n",
      "\u001b[36m(tune_func pid=108506)\u001b[0m Epoch [2/50], Step [3539/5961], Train Loss: 0.0426 , Logging Time Proportion: 0.0013, Data Loading Time Proportion: 0.0056\n",
      "\u001b[36m(tune_func pid=108506)\u001b[0m #######################################################################################\n",
      "\u001b[36m(tune_func pid=108506)\u001b[0m Epoch [2/50], Step [3576/5961], Val Loss: 0.0405 Val Log Time Proportion: 0.2679\n",
      "\u001b[36m(tune_func pid=108506)\u001b[0m #######################################################################################\n"
     ]
    },
    {
     "name": "stderr",
     "output_type": "stream",
     "text": [
      "\u001b[36m(tune_func pid=108506)\u001b[0m Checkpoint successfully created at: Checkpoint(filesystem=local, path=/home/daniel/ray_results/tune_func_2024-06-23_03-06-45/tune_func_dc56f_00031_31_batch_size=4,channels=16,depth=6,lr=0.0002_2024-06-23_03-06-47/checkpoint_000007)\n"
     ]
    },
    {
     "name": "stdout",
     "output_type": "stream",
     "text": [
      "\u001b[36m(tune_func pid=108506)\u001b[0m Epoch [2/50], Step [3639/5961], Train Loss: 0.0400 , Logging Time Proportion: 0.0003, Data Loading Time Proportion: 0.0013\n",
      "\u001b[36m(tune_func pid=108506)\u001b[0m Epoch [2/50], Step [3739/5961], Train Loss: 0.0403 , Logging Time Proportion: 0.0024, Data Loading Time Proportion: 0.0061\n",
      "\u001b[36m(tune_func pid=108506)\u001b[0m Epoch [2/50], Step [3839/5961], Train Loss: 0.0398 , Logging Time Proportion: 0.0020, Data Loading Time Proportion: 0.0064\n",
      "\u001b[36m(tune_func pid=108506)\u001b[0m Epoch [2/50], Step [3939/5961], Train Loss: 0.0397 , Logging Time Proportion: 0.0015, Data Loading Time Proportion: 0.0049\n",
      "\u001b[36m(tune_func pid=108506)\u001b[0m Epoch [2/50], Step [4039/5961], Train Loss: 0.0415 , Logging Time Proportion: 0.0019, Data Loading Time Proportion: 0.0066\n",
      "\u001b[36m(tune_func pid=108506)\u001b[0m Epoch [2/50], Step [4139/5961], Train Loss: 0.0396 , Logging Time Proportion: 0.0019, Data Loading Time Proportion: 0.0060\n",
      "\u001b[36m(tune_func pid=108506)\u001b[0m Epoch [2/50], Step [4239/5961], Train Loss: 0.0397 , Logging Time Proportion: 0.0032, Data Loading Time Proportion: 0.0062\n",
      "\u001b[36m(tune_func pid=108506)\u001b[0m Epoch [2/50], Step [4339/5961], Train Loss: 0.0420 , Logging Time Proportion: 0.0011, Data Loading Time Proportion: 0.0041\n",
      "\u001b[36m(tune_func pid=108506)\u001b[0m Epoch [2/50], Step [4439/5961], Train Loss: 0.0411 , Logging Time Proportion: 0.0009, Data Loading Time Proportion: 0.0031\n",
      "\u001b[36m(tune_func pid=108506)\u001b[0m Epoch [2/50], Step [4539/5961], Train Loss: 0.0411 , Logging Time Proportion: 0.0010, Data Loading Time Proportion: 0.0032\n",
      "\u001b[36m(tune_func pid=108506)\u001b[0m Epoch [2/50], Step [4639/5961], Train Loss: 0.0401 , Logging Time Proportion: 0.0012, Data Loading Time Proportion: 0.0039\n",
      "\u001b[36m(tune_func pid=108506)\u001b[0m Epoch [2/50], Step [4739/5961], Train Loss: 0.0430 , Logging Time Proportion: 0.0017, Data Loading Time Proportion: 0.0051\n",
      "\u001b[36m(tune_func pid=108506)\u001b[0m #######################################################################################\n",
      "\u001b[36m(tune_func pid=108506)\u001b[0m Epoch [2/50], Step [4768/5961], Val Loss: 0.0396 Val Log Time Proportion: 0.1103\n",
      "\u001b[36m(tune_func pid=108506)\u001b[0m #######################################################################################\n"
     ]
    },
    {
     "name": "stderr",
     "output_type": "stream",
     "text": [
      "\u001b[36m(tune_func pid=108506)\u001b[0m Checkpoint successfully created at: Checkpoint(filesystem=local, path=/home/daniel/ray_results/tune_func_2024-06-23_03-06-45/tune_func_dc56f_00031_31_batch_size=4,channels=16,depth=6,lr=0.0002_2024-06-23_03-06-47/checkpoint_000008)\n"
     ]
    },
    {
     "name": "stdout",
     "output_type": "stream",
     "text": [
      "\u001b[36m(tune_func pid=108506)\u001b[0m Epoch [2/50], Step [4839/5961], Train Loss: 0.0402 , Logging Time Proportion: 0.0008, Data Loading Time Proportion: 0.0022\n",
      "\u001b[36m(tune_func pid=108506)\u001b[0m Epoch [2/50], Step [4939/5961], Train Loss: 0.0395 , Logging Time Proportion: 0.0021, Data Loading Time Proportion: 0.0057\n",
      "\u001b[36m(tune_func pid=108506)\u001b[0m Epoch [2/50], Step [5039/5961], Train Loss: 0.0405 , Logging Time Proportion: 0.0016, Data Loading Time Proportion: 0.0052\n",
      "\u001b[36m(tune_func pid=108506)\u001b[0m Epoch [2/50], Step [5139/5961], Train Loss: 0.0393 , Logging Time Proportion: 0.0010, Data Loading Time Proportion: 0.0025\n",
      "\u001b[36m(tune_func pid=108506)\u001b[0m Epoch [2/50], Step [5239/5961], Train Loss: 0.0405 , Logging Time Proportion: 0.0007, Data Loading Time Proportion: 0.0025\n",
      "\u001b[36m(tune_func pid=108506)\u001b[0m Epoch [2/50], Step [5339/5961], Train Loss: 0.0405 , Logging Time Proportion: 0.0013, Data Loading Time Proportion: 0.0032\n",
      "\u001b[36m(tune_func pid=108506)\u001b[0m Epoch [2/50], Step [5439/5961], Train Loss: 0.0418 , Logging Time Proportion: 0.0015, Data Loading Time Proportion: 0.0049\n",
      "\u001b[36m(tune_func pid=108506)\u001b[0m Epoch [2/50], Step [5539/5961], Train Loss: 0.0399 , Logging Time Proportion: 0.0014, Data Loading Time Proportion: 0.0045\n",
      "\u001b[36m(tune_func pid=108506)\u001b[0m Epoch [2/50], Step [5639/5961], Train Loss: 0.0377 , Logging Time Proportion: 0.0016, Data Loading Time Proportion: 0.0045\n",
      "\u001b[36m(tune_func pid=108506)\u001b[0m Epoch [2/50], Step [5739/5961], Train Loss: 0.0397 , Logging Time Proportion: 0.0016, Data Loading Time Proportion: 0.0045\n",
      "\u001b[36m(tune_func pid=108506)\u001b[0m Epoch [2/50], Step [5839/5961], Train Loss: 0.0399 , Logging Time Proportion: 0.0010, Data Loading Time Proportion: 0.0040\n",
      "\u001b[36m(tune_func pid=108506)\u001b[0m Epoch [2/50], Step [5939/5961], Train Loss: 0.0401 , Logging Time Proportion: 0.0006, Data Loading Time Proportion: 0.0022\n",
      "\u001b[36m(tune_func pid=108506)\u001b[0m #######################################################################################\n",
      "\u001b[36m(tune_func pid=108506)\u001b[0m Epoch [2/50], Step [5960/5961], Val Loss: 0.0402 Val Log Time Proportion: 0.2153\n",
      "\u001b[36m(tune_func pid=108506)\u001b[0m #######################################################################################\n"
     ]
    },
    {
     "name": "stderr",
     "output_type": "stream",
     "text": [
      "\u001b[36m(tune_func pid=108506)\u001b[0m Checkpoint successfully created at: Checkpoint(filesystem=local, path=/home/daniel/ray_results/tune_func_2024-06-23_03-06-45/tune_func_dc56f_00031_31_batch_size=4,channels=16,depth=6,lr=0.0002_2024-06-23_03-06-47/checkpoint_000009)\n"
     ]
    },
    {
     "name": "stdout",
     "output_type": "stream",
     "text": [
      "\u001b[36m(tune_func pid=108506)\u001b[0m Epoch [3/50], Step [78/5961], Train Loss: 0.0323 , Logging Time Proportion: 0.0003, Data Loading Time Proportion: 0.0011\n",
      "\u001b[36m(tune_func pid=108506)\u001b[0m Epoch [3/50], Step [178/5961], Train Loss: 0.0379 , Logging Time Proportion: 0.0020, Data Loading Time Proportion: 0.0066\n",
      "\u001b[36m(tune_func pid=108506)\u001b[0m Epoch [3/50], Step [278/5961], Train Loss: 0.0411 , Logging Time Proportion: 0.0029, Data Loading Time Proportion: 0.0074\n",
      "\u001b[36m(tune_func pid=108506)\u001b[0m Epoch [3/50], Step [378/5961], Train Loss: 0.0396 , Logging Time Proportion: 0.0030, Data Loading Time Proportion: 0.0074\n",
      "\u001b[36m(tune_func pid=108506)\u001b[0m Epoch [3/50], Step [478/5961], Train Loss: 0.0386 , Logging Time Proportion: 0.0018, Data Loading Time Proportion: 0.0082\n",
      "\u001b[36m(tune_func pid=108506)\u001b[0m Epoch [3/50], Step [578/5961], Train Loss: 0.0394 , Logging Time Proportion: 0.0022, Data Loading Time Proportion: 0.0085\n",
      "\u001b[36m(tune_func pid=108506)\u001b[0m Epoch [3/50], Step [678/5961], Train Loss: 0.0388 , Logging Time Proportion: 0.0019, Data Loading Time Proportion: 0.0062\n",
      "\u001b[36m(tune_func pid=108506)\u001b[0m Epoch [3/50], Step [778/5961], Train Loss: 0.0388 , Logging Time Proportion: 0.0014, Data Loading Time Proportion: 0.0049\n",
      "\u001b[36m(tune_func pid=108506)\u001b[0m Epoch [3/50], Step [878/5961], Train Loss: 0.0390 , Logging Time Proportion: 0.0015, Data Loading Time Proportion: 0.0051\n",
      "\u001b[36m(tune_func pid=108506)\u001b[0m Epoch [3/50], Step [978/5961], Train Loss: 0.0397 , Logging Time Proportion: 0.0015, Data Loading Time Proportion: 0.0048\n",
      "\u001b[36m(tune_func pid=108506)\u001b[0m Epoch [3/50], Step [1078/5961], Train Loss: 0.0387 , Logging Time Proportion: 0.0034, Data Loading Time Proportion: 0.0081\n",
      "\u001b[36m(tune_func pid=108506)\u001b[0m Epoch [3/50], Step [1178/5961], Train Loss: 0.0389 , Logging Time Proportion: 0.0023, Data Loading Time Proportion: 0.0073\n",
      "\u001b[36m(tune_func pid=108506)\u001b[0m #######################################################################################\n",
      "\u001b[36m(tune_func pid=108506)\u001b[0m Epoch [3/50], Step [1192/5961], Val Loss: 0.0397 Val Log Time Proportion: 0.1156\n",
      "\u001b[36m(tune_func pid=108506)\u001b[0m #######################################################################################\n"
     ]
    },
    {
     "name": "stderr",
     "output_type": "stream",
     "text": [
      "\u001b[36m(tune_func pid=108506)\u001b[0m Checkpoint successfully created at: Checkpoint(filesystem=local, path=/home/daniel/ray_results/tune_func_2024-06-23_03-06-45/tune_func_dc56f_00031_31_batch_size=4,channels=16,depth=6,lr=0.0002_2024-06-23_03-06-47/checkpoint_000010)\n"
     ]
    },
    {
     "name": "stdout",
     "output_type": "stream",
     "text": [
      "\u001b[36m(tune_func pid=108506)\u001b[0m Epoch [3/50], Step [1278/5961], Train Loss: 0.0403 , Logging Time Proportion: 0.0009, Data Loading Time Proportion: 0.0029\n",
      "\u001b[36m(tune_func pid=108506)\u001b[0m Epoch [3/50], Step [1378/5961], Train Loss: 0.0388 , Logging Time Proportion: 0.0021, Data Loading Time Proportion: 0.0069\n",
      "\u001b[36m(tune_func pid=108506)\u001b[0m Epoch [3/50], Step [1478/5961], Train Loss: 0.0399 , Logging Time Proportion: 0.0024, Data Loading Time Proportion: 0.0075\n",
      "\u001b[36m(tune_func pid=108506)\u001b[0m Epoch [3/50], Step [1578/5961], Train Loss: 0.0405 , Logging Time Proportion: 0.0024, Data Loading Time Proportion: 0.0081\n",
      "\u001b[36m(tune_func pid=108506)\u001b[0m Epoch [3/50], Step [1678/5961], Train Loss: 0.0392 , Logging Time Proportion: 0.0021, Data Loading Time Proportion: 0.0072\n",
      "\u001b[36m(tune_func pid=108506)\u001b[0m Epoch [3/50], Step [1778/5961], Train Loss: 0.0373 , Logging Time Proportion: 0.0022, Data Loading Time Proportion: 0.0074\n",
      "\u001b[36m(tune_func pid=108506)\u001b[0m Epoch [3/50], Step [1878/5961], Train Loss: 0.0384 , Logging Time Proportion: 0.0012, Data Loading Time Proportion: 0.0046\n",
      "\u001b[36m(tune_func pid=108506)\u001b[0m Epoch [3/50], Step [1978/5961], Train Loss: 0.0385 , Logging Time Proportion: 0.0016, Data Loading Time Proportion: 0.0067\n",
      "\u001b[36m(tune_func pid=108506)\u001b[0m Epoch [3/50], Step [2078/5961], Train Loss: 0.0415 , Logging Time Proportion: 0.0022, Data Loading Time Proportion: 0.0081\n",
      "\u001b[36m(tune_func pid=108506)\u001b[0m Epoch [3/50], Step [2178/5961], Train Loss: 0.0369 , Logging Time Proportion: 0.0022, Data Loading Time Proportion: 0.0074\n",
      "\u001b[36m(tune_func pid=108506)\u001b[0m Epoch [3/50], Step [2278/5961], Train Loss: 0.0398 , Logging Time Proportion: 0.0023, Data Loading Time Proportion: 0.0071\n",
      "\u001b[36m(tune_func pid=108506)\u001b[0m Epoch [3/50], Step [2378/5961], Train Loss: 0.0399 , Logging Time Proportion: 0.0022, Data Loading Time Proportion: 0.0071\n",
      "\u001b[36m(tune_func pid=108506)\u001b[0m #######################################################################################\n",
      "\u001b[36m(tune_func pid=108506)\u001b[0m Epoch [3/50], Step [2384/5961], Val Loss: 0.0391 Val Log Time Proportion: 0.0699\n",
      "\u001b[36m(tune_func pid=108506)\u001b[0m #######################################################################################\n"
     ]
    },
    {
     "name": "stderr",
     "output_type": "stream",
     "text": [
      "\u001b[36m(tune_func pid=108506)\u001b[0m Checkpoint successfully created at: Checkpoint(filesystem=local, path=/home/daniel/ray_results/tune_func_2024-06-23_03-06-45/tune_func_dc56f_00031_31_batch_size=4,channels=16,depth=6,lr=0.0002_2024-06-23_03-06-47/checkpoint_000011)\n"
     ]
    },
    {
     "name": "stdout",
     "output_type": "stream",
     "text": [
      "\u001b[36m(tune_func pid=108506)\u001b[0m Epoch [3/50], Step [2478/5961], Train Loss: 0.0393 , Logging Time Proportion: 0.0012, Data Loading Time Proportion: 0.0035\n",
      "\u001b[36m(tune_func pid=108506)\u001b[0m Epoch [3/50], Step [2578/5961], Train Loss: 0.0395 , Logging Time Proportion: 0.0017, Data Loading Time Proportion: 0.0055\n",
      "\u001b[36m(tune_func pid=108506)\u001b[0m Epoch [3/50], Step [2678/5961], Train Loss: 0.0397 , Logging Time Proportion: 0.0026, Data Loading Time Proportion: 0.0070\n",
      "\u001b[36m(tune_func pid=108506)\u001b[0m Epoch [3/50], Step [2778/5961], Train Loss: 0.0376 , Logging Time Proportion: 0.0021, Data Loading Time Proportion: 0.0070\n",
      "\u001b[36m(tune_func pid=108506)\u001b[0m Epoch [3/50], Step [2878/5961], Train Loss: 0.0414 , Logging Time Proportion: 0.0019, Data Loading Time Proportion: 0.0060\n",
      "\u001b[36m(tune_func pid=108506)\u001b[0m Epoch [3/50], Step [2978/5961], Train Loss: 0.0400 , Logging Time Proportion: 0.0021, Data Loading Time Proportion: 0.0069\n",
      "\u001b[36m(tune_func pid=108506)\u001b[0m Epoch [3/50], Step [3078/5961], Train Loss: 0.0396 , Logging Time Proportion: 0.0021, Data Loading Time Proportion: 0.0066\n",
      "\u001b[36m(tune_func pid=108506)\u001b[0m Epoch [3/50], Step [3178/5961], Train Loss: 0.0391 , Logging Time Proportion: 0.0025, Data Loading Time Proportion: 0.0070\n",
      "\u001b[36m(tune_func pid=108506)\u001b[0m Epoch [3/50], Step [3278/5961], Train Loss: 0.0390 , Logging Time Proportion: 0.0021, Data Loading Time Proportion: 0.0071\n",
      "\u001b[36m(tune_func pid=108506)\u001b[0m Epoch [3/50], Step [3378/5961], Train Loss: 0.0403 , Logging Time Proportion: 0.0028, Data Loading Time Proportion: 0.0082\n",
      "\u001b[36m(tune_func pid=108506)\u001b[0m Epoch [3/50], Step [3478/5961], Train Loss: 0.0408 , Logging Time Proportion: 0.0024, Data Loading Time Proportion: 0.0059\n",
      "\u001b[36m(tune_func pid=108506)\u001b[0m #######################################################################################\n",
      "\u001b[36m(tune_func pid=108506)\u001b[0m Epoch [3/50], Step [3576/5961], Val Loss: 0.0391 Val Log Time Proportion: 0.0627\n",
      "\u001b[36m(tune_func pid=108506)\u001b[0m #######################################################################################\n"
     ]
    },
    {
     "name": "stderr",
     "output_type": "stream",
     "text": [
      "\u001b[36m(tune_func pid=108506)\u001b[0m Checkpoint successfully created at: Checkpoint(filesystem=local, path=/home/daniel/ray_results/tune_func_2024-06-23_03-06-45/tune_func_dc56f_00031_31_batch_size=4,channels=16,depth=6,lr=0.0002_2024-06-23_03-06-47/checkpoint_000012)\n"
     ]
    },
    {
     "name": "stdout",
     "output_type": "stream",
     "text": [
      "\u001b[36m(tune_func pid=108506)\u001b[0m Epoch [3/50], Step [3578/5961], Train Loss: 0.0399 , Logging Time Proportion: 0.0010, Data Loading Time Proportion: 0.0038\n",
      "\u001b[36m(tune_func pid=108506)\u001b[0m Epoch [3/50], Step [3678/5961], Train Loss: 0.0391 , Logging Time Proportion: 0.0018, Data Loading Time Proportion: 0.0067\n",
      "\u001b[36m(tune_func pid=108506)\u001b[0m Epoch [3/50], Step [3778/5961], Train Loss: 0.0402 , Logging Time Proportion: 0.0024, Data Loading Time Proportion: 0.0064\n",
      "\u001b[36m(tune_func pid=108506)\u001b[0m Epoch [3/50], Step [3878/5961], Train Loss: 0.0387 , Logging Time Proportion: 0.0018, Data Loading Time Proportion: 0.0057\n",
      "\u001b[36m(tune_func pid=108506)\u001b[0m Epoch [3/50], Step [3978/5961], Train Loss: 0.0380 , Logging Time Proportion: 0.0017, Data Loading Time Proportion: 0.0061\n",
      "\u001b[36m(tune_func pid=108506)\u001b[0m Epoch [3/50], Step [4078/5961], Train Loss: 0.0397 , Logging Time Proportion: 0.0015, Data Loading Time Proportion: 0.0062\n",
      "\u001b[36m(tune_func pid=108506)\u001b[0m Epoch [3/50], Step [4178/5961], Train Loss: 0.0398 , Logging Time Proportion: 0.0025, Data Loading Time Proportion: 0.0059\n",
      "\u001b[36m(tune_func pid=108506)\u001b[0m Epoch [3/50], Step [4278/5961], Train Loss: 0.0404 , Logging Time Proportion: 0.0019, Data Loading Time Proportion: 0.0050\n",
      "\u001b[36m(tune_func pid=108506)\u001b[0m Epoch [3/50], Step [4378/5961], Train Loss: 0.0387 , Logging Time Proportion: 0.0017, Data Loading Time Proportion: 0.0058\n",
      "\u001b[36m(tune_func pid=108506)\u001b[0m Epoch [3/50], Step [4478/5961], Train Loss: 0.0407 , Logging Time Proportion: 0.0022, Data Loading Time Proportion: 0.0070\n",
      "\u001b[36m(tune_func pid=108506)\u001b[0m Epoch [3/50], Step [4578/5961], Train Loss: 0.0372 , Logging Time Proportion: 0.0020, Data Loading Time Proportion: 0.0065\n",
      "\u001b[36m(tune_func pid=108506)\u001b[0m Epoch [3/50], Step [4678/5961], Train Loss: 0.0395\n",
      "\u001b[36m(tune_func pid=108506)\u001b[0m  , Logging Time Proportion: 0.0017, Data Loading Time Proportion: 0.0062\n",
      "\u001b[36m(tune_func pid=108506)\u001b[0m #######################################################################################\n",
      "\u001b[36m(tune_func pid=108506)\u001b[0m Epoch [3/50], Step [4768/5961], Val Loss: 0.0393 Val Log Time Proportion: 0.0582\n",
      "\u001b[36m(tune_func pid=108506)\u001b[0m #######################################################################################\n"
     ]
    },
    {
     "name": "stderr",
     "output_type": "stream",
     "text": [
      "\u001b[36m(tune_func pid=108506)\u001b[0m Checkpoint successfully created at: Checkpoint(filesystem=local, path=/home/daniel/ray_results/tune_func_2024-06-23_03-06-45/tune_func_dc56f_00031_31_batch_size=4,channels=16,depth=6,lr=0.0002_2024-06-23_03-06-47/checkpoint_000013)\n"
     ]
    },
    {
     "name": "stdout",
     "output_type": "stream",
     "text": [
      "\u001b[36m(tune_func pid=108506)\u001b[0m Epoch [3/50], Step [4778/5961], Train Loss: 0.0376\n",
      "\u001b[36m(tune_func pid=108506)\u001b[0m  , Logging Time Proportion: 0.0011, Data Loading Time Proportion: 0.0035\n",
      "\u001b[36m(tune_func pid=108506)\u001b[0m Epoch [3/50], Step [4878/5961], Train Loss: 0.0393 , Logging Time Proportion: 0.0018, Data Loading Time Proportion: 0.0056\n",
      "\u001b[36m(tune_func pid=108506)\u001b[0m Epoch [3/50], Step [4978/5961], Train Loss: 0.0389 , Logging Time Proportion: 0.0024, Data Loading Time Proportion: 0.0062\n",
      "\u001b[36m(tune_func pid=108506)\u001b[0m Epoch [3/50], Step [5078/5961], Train Loss: 0.0375 , Logging Time Proportion: 0.0021, Data Loading Time Proportion: 0.0059\n",
      "\u001b[36m(tune_func pid=108506)\u001b[0m Epoch [3/50], Step [5178/5961], Train Loss: 0.0375 , Logging Time Proportion: 0.0017, Data Loading Time Proportion: 0.0054\n",
      "\u001b[36m(tune_func pid=108506)\u001b[0m Epoch [3/50], Step [5278/5961], Train Loss: 0.0380 , Logging Time Proportion: 0.0011, Data Loading Time Proportion: 0.0033\n",
      "\u001b[36m(tune_func pid=108506)\u001b[0m Epoch [3/50], Step [5378/5961], Train Loss: 0.0388 , Logging Time Proportion: 0.0016, Data Loading Time Proportion: 0.0051\n",
      "\u001b[36m(tune_func pid=108506)\u001b[0m Epoch [3/50], Step [5478/5961], Train Loss: 0.0386 , Logging Time Proportion: 0.0015, Data Loading Time Proportion: 0.0048\n",
      "\u001b[36m(tune_func pid=108506)\u001b[0m Epoch [3/50], Step [5578/5961], Train Loss: 0.0395 , Logging Time Proportion: 0.0013, Data Loading Time Proportion: 0.0051\n",
      "\u001b[36m(tune_func pid=108506)\u001b[0m Epoch [3/50], Step [5678/5961], Train Loss: 0.0370 , Logging Time Proportion: 0.0012, Data Loading Time Proportion: 0.0048\n",
      "\u001b[36m(tune_func pid=108506)\u001b[0m Epoch [3/50], Step [5778/5961], Train Loss: 0.0384 , Logging Time Proportion: 0.0012, Data Loading Time Proportion: 0.0048\n",
      "\u001b[36m(tune_func pid=108506)\u001b[0m Epoch [3/50], Step [5878/5961], Train Loss: 0.0390 , Logging Time Proportion: 0.0017, Data Loading Time Proportion: 0.0053\n",
      "\u001b[36m(tune_func pid=108506)\u001b[0m #######################################################################################\n",
      "\u001b[36m(tune_func pid=108506)\u001b[0m Epoch [3/50], Step [5960/5961], Val Loss: 0.0394 Val Log Time Proportion: 0.0597\n",
      "\u001b[36m(tune_func pid=108506)\u001b[0m #######################################################################################\n"
     ]
    },
    {
     "name": "stderr",
     "output_type": "stream",
     "text": [
      "\u001b[36m(tune_func pid=108506)\u001b[0m Checkpoint successfully created at: Checkpoint(filesystem=local, path=/home/daniel/ray_results/tune_func_2024-06-23_03-06-45/tune_func_dc56f_00031_31_batch_size=4,channels=16,depth=6,lr=0.0002_2024-06-23_03-06-47/checkpoint_000014)\n"
     ]
    },
    {
     "name": "stdout",
     "output_type": "stream",
     "text": [
      "\u001b[36m(tune_func pid=108506)\u001b[0m Epoch [4/50], Step [17/5961], Train Loss: 0.0062 , Logging Time Proportion: 0.0008, Data Loading Time Proportion: 0.0027\n",
      "\u001b[36m(tune_func pid=108506)\u001b[0m Epoch [4/50], Step [117/5961], Train Loss: 0.0402 , Logging Time Proportion: 0.0017, Data Loading Time Proportion: 0.0062\n",
      "\u001b[36m(tune_func pid=108506)\u001b[0m Epoch [4/50], Step [217/5961], Train Loss: 0.0392 , Logging Time Proportion: 0.0026, Data Loading Time Proportion: 0.0082\n",
      "\u001b[36m(tune_func pid=108506)\u001b[0m Epoch [4/50], Step [317/5961], Train Loss: 0.0378 , Logging Time Proportion: 0.0018, Data Loading Time Proportion: 0.0072\n",
      "\u001b[36m(tune_func pid=108506)\u001b[0m Epoch [4/50], Step [417/5961], Train Loss: 0.0371 , Logging Time Proportion: 0.0024, Data Loading Time Proportion: 0.0068\n",
      "\u001b[36m(tune_func pid=108506)\u001b[0m Epoch [4/50], Step [517/5961], Train Loss: 0.0372 , Logging Time Proportion: 0.0024, Data Loading Time Proportion: 0.0080\n",
      "\u001b[36m(tune_func pid=108506)\u001b[0m Epoch [4/50], Step [617/5961], Train Loss: 0.0388 , Logging Time Proportion: 0.0021, Data Loading Time Proportion: 0.0060\n",
      "\u001b[36m(tune_func pid=108506)\u001b[0m Epoch [4/50], Step [717/5961], Train Loss: 0.0382 , Logging Time Proportion: 0.0027, Data Loading Time Proportion: 0.0080\n",
      "\u001b[36m(tune_func pid=108506)\u001b[0m Epoch [4/50], Step [817/5961], Train Loss: 0.0370 , Logging Time Proportion: 0.0026, Data Loading Time Proportion: 0.0074\n",
      "\u001b[36m(tune_func pid=108506)\u001b[0m Epoch [4/50], Step [917/5961], Train Loss: 0.0390 , Logging Time Proportion: 0.0022, Data Loading Time Proportion: 0.0074\n",
      "\u001b[36m(tune_func pid=108506)\u001b[0m Epoch [4/50], Step [1017/5961], Train Loss: 0.0364 , Logging Time Proportion: 0.0022, Data Loading Time Proportion: 0.0074\n",
      "\u001b[36m(tune_func pid=108506)\u001b[0m Epoch [4/50], Step [1117/5961], Train Loss: 0.0387 , Logging Time Proportion: 0.0020, Data Loading Time Proportion: 0.0069\n",
      "\u001b[36m(tune_func pid=108506)\u001b[0m #######################################################################################\n",
      "\u001b[36m(tune_func pid=108506)\u001b[0m Epoch [4/50], Step [1192/5961], Val Loss: 0.0375 Val Log Time Proportion: 0.0635\n",
      "\u001b[36m(tune_func pid=108506)\u001b[0m #######################################################################################\n"
     ]
    },
    {
     "name": "stderr",
     "output_type": "stream",
     "text": [
      "\u001b[36m(tune_func pid=108506)\u001b[0m Checkpoint successfully created at: Checkpoint(filesystem=local, path=/home/daniel/ray_results/tune_func_2024-06-23_03-06-45/tune_func_dc56f_00031_31_batch_size=4,channels=16,depth=6,lr=0.0002_2024-06-23_03-06-47/checkpoint_000015)\n"
     ]
    },
    {
     "name": "stdout",
     "output_type": "stream",
     "text": [
      "\u001b[36m(tune_func pid=108506)\u001b[0m Epoch [4/50], Step [1217/5961], Train Loss: 0.0391 , Logging Time Proportion: 0.0011, Data Loading Time Proportion: 0.0036\n",
      "\u001b[36m(tune_func pid=108506)\u001b[0m Epoch [4/50], Step [1317/5961], Train Loss: 0.0372 , Logging Time Proportion: 0.0016, Data Loading Time Proportion: 0.0058\n",
      "\u001b[36m(tune_func pid=108506)\u001b[0m Epoch [4/50], Step [1417/5961], Train Loss: 0.0371 , Logging Time Proportion: 0.0020, Data Loading Time Proportion: 0.0075\n",
      "\u001b[36m(tune_func pid=108506)\u001b[0m Epoch [4/50], Step [1517/5961], Train Loss: 0.0380 , Logging Time Proportion: 0.0023, Data Loading Time Proportion: 0.0071\n",
      "\u001b[36m(tune_func pid=108506)\u001b[0m Epoch [4/50], Step [1617/5961], Train Loss: 0.0375 , Logging Time Proportion: 0.0017, Data Loading Time Proportion: 0.0053\n",
      "\u001b[36m(tune_func pid=108506)\u001b[0m Epoch [4/50], Step [1717/5961], Train Loss: 0.0362 , Logging Time Proportion: 0.0014, Data Loading Time Proportion: 0.0048\n",
      "\u001b[36m(tune_func pid=108506)\u001b[0m Epoch [4/50], Step [1817/5961], Train Loss: 0.0366 , Logging Time Proportion: 0.0014, Data Loading Time Proportion: 0.0050\n",
      "\u001b[36m(tune_func pid=108506)\u001b[0m Epoch [4/50], Step [1917/5961], Train Loss: 0.0365 , Logging Time Proportion: 0.0021, Data Loading Time Proportion: 0.0074\n",
      "\u001b[36m(tune_func pid=108506)\u001b[0m Epoch [4/50], Step [2017/5961], Train Loss: 0.0382 , Logging Time Proportion: 0.0028, Data Loading Time Proportion: 0.0068\n",
      "\u001b[36m(tune_func pid=108506)\u001b[0m Epoch [4/50], Step [2117/5961], Train Loss: 0.0392 , Logging Time Proportion: 0.0021, Data Loading Time Proportion: 0.0061\n",
      "\u001b[36m(tune_func pid=108506)\u001b[0m Epoch [4/50], Step [2217/5961], Train Loss: 0.0378 , Logging Time Proportion: 0.0021, Data Loading Time Proportion: 0.0062\n",
      "\u001b[36m(tune_func pid=108506)\u001b[0m Epoch [4/50], Step [2317/5961], Train Loss: 0.0373 , Logging Time Proportion: 0.0022, Data Loading Time Proportion: 0.0072\n",
      "\u001b[36m(tune_func pid=108506)\u001b[0m #######################################################################################\n",
      "\u001b[36m(tune_func pid=108506)\u001b[0m Epoch [4/50], Step [2384/5961], Val Loss: 0.0379 Val Log Time Proportion: 0.0563\n",
      "\u001b[36m(tune_func pid=108506)\u001b[0m #######################################################################################\n"
     ]
    },
    {
     "name": "stderr",
     "output_type": "stream",
     "text": [
      "\u001b[36m(tune_func pid=108506)\u001b[0m Checkpoint successfully created at: Checkpoint(filesystem=local, path=/home/daniel/ray_results/tune_func_2024-06-23_03-06-45/tune_func_dc56f_00031_31_batch_size=4,channels=16,depth=6,lr=0.0002_2024-06-23_03-06-47/checkpoint_000016)\n"
     ]
    },
    {
     "name": "stdout",
     "output_type": "stream",
     "text": [
      "\u001b[36m(tune_func pid=108506)\u001b[0m Epoch [4/50], Step [2417/5961], Train Loss: 0.0374 , Logging Time Proportion: 0.0013, Data Loading Time Proportion: 0.0039\n",
      "\u001b[36m(tune_func pid=108506)\u001b[0m Epoch [4/50], Step [2517/5961], Train Loss: 0.0379 , Logging Time Proportion: 0.0022, Data Loading Time Proportion: 0.0072\n",
      "\u001b[36m(tune_func pid=108506)\u001b[0m Epoch [4/50], Step [2617/5961], Train Loss: 0.0382 , Logging Time Proportion: 0.0019, Data Loading Time Proportion: 0.0059\n",
      "\u001b[36m(tune_func pid=108506)\u001b[0m Epoch [4/50], Step [2717/5961], Train Loss: 0.0362 , Logging Time Proportion: 0.0030, Data Loading Time Proportion: 0.0067\n",
      "\u001b[36m(tune_func pid=108506)\u001b[0m Epoch [4/50], Step [2817/5961], Train Loss: 0.0369 , Logging Time Proportion: 0.0022, Data Loading Time Proportion: 0.0071\n",
      "\u001b[36m(tune_func pid=108506)\u001b[0m Epoch [4/50], Step [2917/5961], Train Loss: 0.0385 , Logging Time Proportion: 0.0022, Data Loading Time Proportion: 0.0073\n",
      "\u001b[36m(tune_func pid=108506)\u001b[0m Epoch [4/50], Step [3017/5961], Train Loss: 0.0364 , Logging Time Proportion: 0.0015, Data Loading Time Proportion: 0.0061\n",
      "\u001b[36m(tune_func pid=108506)\u001b[0m Epoch [4/50], Step [3117/5961], Train Loss: 0.0364 , Logging Time Proportion: 0.0019, Data Loading Time Proportion: 0.0066\n",
      "\u001b[36m(tune_func pid=108506)\u001b[0m Epoch [4/50], Step [3217/5961], Train Loss: 0.0394 , Logging Time Proportion: 0.0020, Data Loading Time Proportion: 0.0063\n",
      "\u001b[36m(tune_func pid=108506)\u001b[0m Epoch [4/50], Step [3317/5961], Train Loss: 0.0385\n",
      "\u001b[36m(tune_func pid=108506)\u001b[0m  , Logging Time Proportion: 0.0030, Data Loading Time Proportion: 0.0069\n",
      "\u001b[36m(tune_func pid=108506)\u001b[0m Epoch [4/50], Step [3417/5961], Train Loss: 0.0368 , Logging Time Proportion: 0.0021, Data Loading Time Proportion: 0.0069\n",
      "\u001b[36m(tune_func pid=108506)\u001b[0m Epoch [4/50], Step [3517/5961], Train Loss: 0.0385 , Logging Time Proportion: 0.0014, Data Loading Time Proportion: 0.0058\n",
      "\u001b[36m(tune_func pid=108506)\u001b[0m #######################################################################################\n",
      "\u001b[36m(tune_func pid=108506)\u001b[0m Epoch [4/50], Step [3576/5961], Val Loss: 0.0386 Val Log Time Proportion: 0.0625\n",
      "\u001b[36m(tune_func pid=108506)\u001b[0m #######################################################################################\n"
     ]
    },
    {
     "name": "stderr",
     "output_type": "stream",
     "text": [
      "\u001b[36m(tune_func pid=108506)\u001b[0m Checkpoint successfully created at: Checkpoint(filesystem=local, path=/home/daniel/ray_results/tune_func_2024-06-23_03-06-45/tune_func_dc56f_00031_31_batch_size=4,channels=16,depth=6,lr=0.0002_2024-06-23_03-06-47/checkpoint_000017)\n"
     ]
    },
    {
     "name": "stdout",
     "output_type": "stream",
     "text": [
      "\u001b[36m(tune_func pid=108506)\u001b[0m Epoch [4/50], Step [3617/5961], Train Loss: 0.0372 , Logging Time Proportion: 0.0010, Data Loading Time Proportion: 0.0033\n",
      "\u001b[36m(tune_func pid=108506)\u001b[0m Epoch [4/50], Step [3717/5961], Train Loss: 0.0377 , Logging Time Proportion: 0.0017, Data Loading Time Proportion: 0.0062\n",
      "\u001b[36m(tune_func pid=108506)\u001b[0m Epoch [4/50], Step [3817/5961], Train Loss: 0.0391 , Logging Time Proportion: 0.0019, Data Loading Time Proportion: 0.0063\n",
      "\u001b[36m(tune_func pid=108506)\u001b[0m Epoch [4/50], Step [3917/5961], Train Loss: 0.0377 , Logging Time Proportion: 0.0021, Data Loading Time Proportion: 0.0062\n",
      "\u001b[36m(tune_func pid=108506)\u001b[0m Epoch [4/50], Step [4017/5961], Train Loss: 0.0361 , Logging Time Proportion: 0.0023, Data Loading Time Proportion: 0.0063\n",
      "\u001b[36m(tune_func pid=108506)\u001b[0m Epoch [4/50], Step [4117/5961], Train Loss: 0.0362 , Logging Time Proportion: 0.0020, Data Loading Time Proportion: 0.0070\n",
      "\u001b[36m(tune_func pid=108506)\u001b[0m Epoch [4/50], Step [4217/5961], Train Loss: 0.0368 , Logging Time Proportion: 0.0018, Data Loading Time Proportion: 0.0061\n",
      "\u001b[36m(tune_func pid=108506)\u001b[0m Epoch [4/50], Step [4317/5961], Train Loss: 0.0388 , Logging Time Proportion: 0.0020, Data Loading Time Proportion: 0.0067\n",
      "\u001b[36m(tune_func pid=108506)\u001b[0m Epoch [4/50], Step [4417/5961], Train Loss: 0.0379 , Logging Time Proportion: 0.0021, Data Loading Time Proportion: 0.0067\n",
      "\u001b[36m(tune_func pid=108506)\u001b[0m Epoch [4/50], Step [4517/5961], Train Loss: 0.0384 , Logging Time Proportion: 0.0019, Data Loading Time Proportion: 0.0062\n",
      "\u001b[36m(tune_func pid=108506)\u001b[0m Epoch [4/50], Step [4617/5961], Train Loss: 0.0366 , Logging Time Proportion: 0.0019, Data Loading Time Proportion: 0.0066\n",
      "\u001b[36m(tune_func pid=108506)\u001b[0m Epoch [4/50], Step [4717/5961], Train Loss: 0.0370 , Logging Time Proportion: 0.0013, Data Loading Time Proportion: 0.0049\n",
      "\u001b[36m(tune_func pid=108506)\u001b[0m #######################################################################################\n",
      "\u001b[36m(tune_func pid=108506)\u001b[0m Epoch [4/50], Step [4768/5961], Val Loss: 0.0384 Val Log Time Proportion: 0.0732\n",
      "\u001b[36m(tune_func pid=108506)\u001b[0m #######################################################################################\n"
     ]
    },
    {
     "name": "stderr",
     "output_type": "stream",
     "text": [
      "\u001b[36m(tune_func pid=108506)\u001b[0m Checkpoint successfully created at: Checkpoint(filesystem=local, path=/home/daniel/ray_results/tune_func_2024-06-23_03-06-45/tune_func_dc56f_00031_31_batch_size=4,channels=16,depth=6,lr=0.0002_2024-06-23_03-06-47/checkpoint_000018)\n"
     ]
    },
    {
     "name": "stdout",
     "output_type": "stream",
     "text": [
      "\u001b[36m(tune_func pid=108506)\u001b[0m Epoch [4/50], Step [4817/5961], Train Loss: 0.0382 , Logging Time Proportion: 0.0009, Data Loading Time Proportion: 0.0033\n",
      "\u001b[36m(tune_func pid=108506)\u001b[0m Epoch [4/50], Step [4917/5961], Train Loss: 0.0384 , Logging Time Proportion: 0.0016, Data Loading Time Proportion: 0.0053\n",
      "\u001b[36m(tune_func pid=108506)\u001b[0m Epoch [4/50], Step [5017/5961], Train Loss: 0.0391 , Logging Time Proportion: 0.0016, Data Loading Time Proportion: 0.0064\n",
      "\u001b[36m(tune_func pid=108506)\u001b[0m Epoch [4/50], Step [5117/5961], Train Loss: 0.0358 , Logging Time Proportion: 0.0021, Data Loading Time Proportion: 0.0063\n",
      "\u001b[36m(tune_func pid=108506)\u001b[0m Epoch [4/50], Step [5217/5961], Train Loss: 0.0367 , Logging Time Proportion: 0.0016, Data Loading Time Proportion: 0.0061\n",
      "\u001b[36m(tune_func pid=108506)\u001b[0m Epoch [4/50], Step [5317/5961], Train Loss: 0.0382 , Logging Time Proportion: 0.0018, Data Loading Time Proportion: 0.0061\n",
      "\u001b[36m(tune_func pid=108506)\u001b[0m Epoch [4/50], Step [5417/5961], Train Loss: 0.0379 , Logging Time Proportion: 0.0010, Data Loading Time Proportion: 0.0038\n",
      "\u001b[36m(tune_func pid=108506)\u001b[0m Epoch [4/50], Step [5517/5961], Train Loss: 0.0391 , Logging Time Proportion: 0.0013, Data Loading Time Proportion: 0.0042\n",
      "\u001b[36m(tune_func pid=108506)\u001b[0m Epoch [4/50], Step [5617/5961], Train Loss: 0.0357 , Logging Time Proportion: 0.0015, Data Loading Time Proportion: 0.0056\n",
      "\u001b[36m(tune_func pid=108506)\u001b[0m Epoch [4/50], Step [5717/5961], Train Loss: 0.0376 , Logging Time Proportion: 0.0015, Data Loading Time Proportion: 0.0058\n",
      "\u001b[36m(tune_func pid=108506)\u001b[0m Epoch [4/50], Step [5817/5961], Train Loss: 0.0364 , Logging Time Proportion: 0.0018, Data Loading Time Proportion: 0.0062\n",
      "\u001b[36m(tune_func pid=108506)\u001b[0m Epoch [4/50], Step [5917/5961], Train Loss: 0.0376 , Logging Time Proportion: 0.0013, Data Loading Time Proportion: 0.0048\n",
      "\u001b[36m(tune_func pid=108506)\u001b[0m #######################################################################################\n",
      "\u001b[36m(tune_func pid=108506)\u001b[0m Epoch [4/50], Step [5960/5961], Val Loss: 0.0380 Val Log Time Proportion: 0.2684\n",
      "\u001b[36m(tune_func pid=108506)\u001b[0m #######################################################################################\n"
     ]
    },
    {
     "name": "stderr",
     "output_type": "stream",
     "text": [
      "\u001b[36m(tune_func pid=108506)\u001b[0m Checkpoint successfully created at: Checkpoint(filesystem=local, path=/home/daniel/ray_results/tune_func_2024-06-23_03-06-45/tune_func_dc56f_00031_31_batch_size=4,channels=16,depth=6,lr=0.0002_2024-06-23_03-06-47/checkpoint_000019)\n"
     ]
    },
    {
     "name": "stdout",
     "output_type": "stream",
     "text": [
      "\u001b[36m(tune_func pid=111093)\u001b[0m Hurray! GPU available.\n",
      "\u001b[36m(tune_func pid=111093)\u001b[0m Total trainable parameters: 111934465\n",
      "\u001b[36m(tune_func pid=111093)\u001b[0m Epoch [1/50], Step [100/5961], Train Loss: 5.9036 , Logging Time Proportion: 0.0113, Data Loading Time Proportion: 0.0008\n",
      "\u001b[36m(tune_func pid=111093)\u001b[0m Epoch [1/50], Step [200/5961], Train Loss: 6.0743 , Logging Time Proportion: 0.0003, Data Loading Time Proportion: 0.0011\n",
      "\u001b[36m(tune_func pid=111093)\u001b[0m Epoch [1/50], Step [300/5961], Train Loss: 6.0219 , Logging Time Proportion: 0.0004, Data Loading Time Proportion: 0.0012\n",
      "\u001b[36m(tune_func pid=111093)\u001b[0m Epoch [1/50], Step [400/5961], Train Loss: 6.0424 , Logging Time Proportion: 0.0002, Data Loading Time Proportion: 0.0012\n",
      "\u001b[36m(tune_func pid=111093)\u001b[0m Epoch [1/50], Step [500/5961], Train Loss: 6.0081 , Logging Time Proportion: 0.0002, Data Loading Time Proportion: 0.0012\n",
      "\u001b[36m(tune_func pid=111093)\u001b[0m Epoch [1/50], Step [600/5961], Train Loss: 6.1055 , Logging Time Proportion: 0.0002, Data Loading Time Proportion: 0.0012\n",
      "\u001b[36m(tune_func pid=111093)\u001b[0m Epoch [1/50], Step [700/5961], Train Loss: 6.0571 , Logging Time Proportion: 0.0002, Data Loading Time Proportion: 0.0012\n",
      "\u001b[36m(tune_func pid=111093)\u001b[0m Epoch [1/50], Step [800/5961], Train Loss: 5.8993 , Logging Time Proportion: 0.0003, Data Loading Time Proportion: 0.0012\n",
      "\u001b[36m(tune_func pid=111093)\u001b[0m Epoch [1/50], Step [900/5961], Train Loss: 5.9257 , Logging Time Proportion: 0.0002, Data Loading Time Proportion: 0.0012\n",
      "\u001b[36m(tune_func pid=111093)\u001b[0m Epoch [1/50], Step [1000/5961], Train Loss: 6.0592 , Logging Time Proportion: 0.0002, Data Loading Time Proportion: 0.0012\n",
      "\u001b[36m(tune_func pid=111093)\u001b[0m Epoch [1/50], Step [1100/5961], Train Loss: 5.9651 , Logging Time Proportion: 0.0002, Data Loading Time Proportion: 0.0012\n",
      "\u001b[36m(tune_func pid=111093)\u001b[0m #######################################################################################\n",
      "\u001b[36m(tune_func pid=111093)\u001b[0m Epoch [1/50], Step [1192/5961], Val Loss: 6.0600 Val Log Time Proportion: 0.1328\n",
      "\u001b[36m(tune_func pid=111093)\u001b[0m #######################################################################################\n"
     ]
    },
    {
     "name": "stderr",
     "output_type": "stream",
     "text": [
      "\u001b[36m(tune_func pid=111093)\u001b[0m Checkpoint successfully created at: Checkpoint(filesystem=local, path=/home/daniel/ray_results/tune_func_2024-06-23_03-06-45/tune_func_dc56f_00032_32_batch_size=4,channels=128,depth=5,lr=0.0039_2024-06-23_03-06-47/checkpoint_000000)\n"
     ]
    },
    {
     "name": "stdout",
     "output_type": "stream",
     "text": [
      "\u001b[36m(tune_func pid=111905)\u001b[0m Hurray! GPU available.\n",
      "\u001b[36m(tune_func pid=111905)\u001b[0m Total trainable parameters: 439041\n",
      "\u001b[36m(tune_func pid=111905)\u001b[0m Epoch [1/50], Step [100/2981], Train Loss: 0.6928 , Logging Time Proportion: 0.0009, Data Loading Time Proportion: 0.0028\n",
      "\u001b[36m(tune_func pid=111905)\u001b[0m Epoch [1/50], Step [200/2981], Train Loss: 0.6905 , Logging Time Proportion: 0.0006, Data Loading Time Proportion: 0.0026\n",
      "\u001b[36m(tune_func pid=111905)\u001b[0m Epoch [1/50], Step [300/2981], Train Loss: 0.6880 , Logging Time Proportion: 0.0011, Data Loading Time Proportion: 0.0042\n",
      "\u001b[36m(tune_func pid=111905)\u001b[0m Epoch [1/50], Step [400/2981], Train Loss: 0.6854 , Logging Time Proportion: 0.0012, Data Loading Time Proportion: 0.0057\n",
      "\u001b[36m(tune_func pid=111905)\u001b[0m Epoch [1/50], Step [500/2981], Train Loss: 0.6825 , Logging Time Proportion: 0.0013, Data Loading Time Proportion: 0.0056\n",
      "\u001b[36m(tune_func pid=111905)\u001b[0m #######################################################################################\n",
      "\u001b[36m(tune_func pid=111905)\u001b[0m Epoch [1/50], Step [596/2981], Val Loss: 0.6775 Val Log Time Proportion: 0.1984\n",
      "\u001b[36m(tune_func pid=111905)\u001b[0m #######################################################################################\n"
     ]
    },
    {
     "name": "stderr",
     "output_type": "stream",
     "text": [
      "\u001b[36m(tune_func pid=111905)\u001b[0m Checkpoint successfully created at: Checkpoint(filesystem=local, path=/home/daniel/ray_results/tune_func_2024-06-23_03-06-45/tune_func_dc56f_00033_33_batch_size=8,channels=16,depth=4,lr=0.0000_2024-06-23_03-06-47/checkpoint_000000)\n"
     ]
    },
    {
     "name": "stdout",
     "output_type": "stream",
     "text": [
      "\u001b[36m(tune_func pid=112189)\u001b[0m Hurray! GPU available.\n",
      "\u001b[36m(tune_func pid=112189)\u001b[0m Total trainable parameters: 1754113\n",
      "\u001b[36m(tune_func pid=112189)\u001b[0m Epoch [1/50], Step [100/2981], Train Loss: 0.2384 , Logging Time Proportion: 0.0019, Data Loading Time Proportion: 0.0048\n",
      "\u001b[36m(tune_func pid=112189)\u001b[0m Epoch [1/50], Step [200/2981], Train Loss: 0.1339 , Logging Time Proportion: 0.0015, Data Loading Time Proportion: 0.0049\n",
      "\u001b[36m(tune_func pid=112189)\u001b[0m Epoch [1/50], Step [300/2981], Train Loss: 0.1251 , Logging Time Proportion: 0.0016, Data Loading Time Proportion: 0.0052\n",
      "\u001b[36m(tune_func pid=112189)\u001b[0m Epoch [1/50], Step [400/2981], Train Loss: 0.1175 , Logging Time Proportion: 0.0014, Data Loading Time Proportion: 0.0055\n",
      "\u001b[36m(tune_func pid=112189)\u001b[0m Epoch [1/50], Step [500/2981], Train Loss: 0.1087 , Logging Time Proportion: 0.0011, Data Loading Time Proportion: 0.0050\n",
      "\u001b[36m(tune_func pid=112189)\u001b[0m #######################################################################################\n",
      "\u001b[36m(tune_func pid=112189)\u001b[0m Epoch [1/50], Step [596/2981], Val Loss: 0.1037 Val Log Time Proportion: 0.0869\n",
      "\u001b[36m(tune_func pid=112189)\u001b[0m #######################################################################################\n"
     ]
    },
    {
     "name": "stderr",
     "output_type": "stream",
     "text": [
      "\u001b[36m(tune_func pid=112189)\u001b[0m Checkpoint successfully created at: Checkpoint(filesystem=local, path=/home/daniel/ray_results/tune_func_2024-06-23_03-06-45/tune_func_dc56f_00034_34_batch_size=8,channels=32,depth=4,lr=0.0001_2024-06-23_03-06-47/checkpoint_000000)\n"
     ]
    },
    {
     "name": "stdout",
     "output_type": "stream",
     "text": [
      "\u001b[36m(tune_func pid=112189)\u001b[0m Epoch [1/50], Step [600/2981], Train Loss: 0.1065 , Logging Time Proportion: 0.0008, Data Loading Time Proportion: 0.0034\n",
      "\u001b[36m(tune_func pid=112189)\u001b[0m Epoch [1/50], Step [700/2981], Train Loss: 0.1027 , Logging Time Proportion: 0.0013, Data Loading Time Proportion: 0.0055\n",
      "\u001b[36m(tune_func pid=112189)\u001b[0m Epoch [1/50], Step [800/2981], Train Loss: 0.1011 , Logging Time Proportion: 0.0012, Data Loading Time Proportion: 0.0053\n",
      "\u001b[36m(tune_func pid=112189)\u001b[0m Epoch [1/50], Step [900/2981], Train Loss: 0.1017 , Logging Time Proportion: 0.0013, Data Loading Time Proportion: 0.0048\n",
      "\u001b[36m(tune_func pid=112189)\u001b[0m Epoch [1/50], Step [1000/2981], Train Loss: 0.0983 , Logging Time Proportion: 0.0008, Data Loading Time Proportion: 0.0038\n",
      "\u001b[36m(tune_func pid=112189)\u001b[0m Epoch [1/50], Step [1100/2981], Train Loss: 0.0965 , Logging Time Proportion: 0.0011, Data Loading Time Proportion: 0.0049\n",
      "\u001b[36m(tune_func pid=112189)\u001b[0m #######################################################################################\n",
      "\u001b[36m(tune_func pid=112189)\u001b[0m Epoch [1/50], Step [1192/2981], Val Loss: 0.0900 Val Log Time Proportion: 0.1354\n",
      "\u001b[36m(tune_func pid=112189)\u001b[0m #######################################################################################\n"
     ]
    },
    {
     "name": "stderr",
     "output_type": "stream",
     "text": [
      "\u001b[36m(tune_func pid=112189)\u001b[0m Checkpoint successfully created at: Checkpoint(filesystem=local, path=/home/daniel/ray_results/tune_func_2024-06-23_03-06-45/tune_func_dc56f_00034_34_batch_size=8,channels=32,depth=4,lr=0.0001_2024-06-23_03-06-47/checkpoint_000001)\n"
     ]
    },
    {
     "name": "stdout",
     "output_type": "stream",
     "text": [
      "\u001b[36m(tune_func pid=112524)\u001b[0m Hurray! GPU available.\n",
      "\u001b[36m(tune_func pid=112524)\u001b[0m Total trainable parameters: 7066113\n",
      "\u001b[36m(tune_func pid=112524)\u001b[0m Epoch [1/50], Step [100/1491], Train Loss: 0.6187 , Logging Time Proportion: 0.0002, Data Loading Time Proportion: 0.0014\n",
      "\u001b[36m(tune_func pid=112524)\u001b[0m Epoch [1/50], Step [200/1491], Train Loss: 0.2545 , Logging Time Proportion: 0.0001, Data Loading Time Proportion: 0.0013\n",
      "\u001b[36m(tune_func pid=112524)\u001b[0m #######################################################################################\n",
      "\u001b[36m(tune_func pid=112524)\u001b[0m Epoch [1/50], Step [298/1491], Val Loss: 0.1870 Val Log Time Proportion: 0.1092\n",
      "\u001b[36m(tune_func pid=112524)\u001b[0m #######################################################################################\n"
     ]
    },
    {
     "name": "stderr",
     "output_type": "stream",
     "text": [
      "\u001b[36m(tune_func pid=112524)\u001b[0m Checkpoint successfully created at: Checkpoint(filesystem=local, path=/home/daniel/ray_results/tune_func_2024-06-23_03-06-45/tune_func_dc56f_00035_35_batch_size=16,channels=128,depth=3,lr=0.0000_2024-06-23_03-06-47/checkpoint_000000)\n"
     ]
    },
    {
     "name": "stdout",
     "output_type": "stream",
     "text": [
      "\u001b[36m(tune_func pid=113062)\u001b[0m Hurray! GPU available.\n",
      "\u001b[36m(tune_func pid=113062)\u001b[0m Total trainable parameters: 1754113\n",
      "\u001b[36m(tune_func pid=113062)\u001b[0m Epoch [1/50], Step [100/1491], Train Loss: 0.6922 , Logging Time Proportion: 0.0009, Data Loading Time Proportion: 0.0056\n",
      "\u001b[36m(tune_func pid=113062)\u001b[0m Epoch [1/50], Step [200/1491], Train Loss: 0.6889 , Logging Time Proportion: 0.0008, Data Loading Time Proportion: 0.0056\n",
      "\u001b[36m(tune_func pid=113062)\u001b[0m #######################################################################################\n",
      "\u001b[36m(tune_func pid=113062)\u001b[0m Epoch [1/50], Step [298/1491], Val Loss: 0.6832 Val Log Time Proportion: 0.0987\n",
      "\u001b[36m(tune_func pid=113062)\u001b[0m #######################################################################################\n"
     ]
    },
    {
     "name": "stderr",
     "output_type": "stream",
     "text": [
      "\u001b[36m(tune_func pid=113062)\u001b[0m Checkpoint successfully created at: Checkpoint(filesystem=local, path=/home/daniel/ray_results/tune_func_2024-06-23_03-06-45/tune_func_dc56f_00036_36_batch_size=16,channels=32,depth=4,lr=0.0000_2024-06-23_03-06-47/checkpoint_000000)\n"
     ]
    },
    {
     "name": "stdout",
     "output_type": "stream",
     "text": [
      "\u001b[36m(tune_func pid=113278)\u001b[0m Hurray! GPU available.\n",
      "\u001b[36m(tune_func pid=113278)\u001b[0m Total trainable parameters: 1754113\n",
      "\u001b[36m(tune_func pid=113278)\u001b[0m Epoch [1/50], Step [100/5961], Train Loss: 0.2691 , Logging Time Proportion: 0.0077, Data Loading Time Proportion: 0.0073\n",
      "\u001b[36m(tune_func pid=113278)\u001b[0m Epoch [1/50], Step [200/5961], Train Loss: 0.1320 , Logging Time Proportion: 0.0041, Data Loading Time Proportion: 0.0069\n",
      "\u001b[36m(tune_func pid=113278)\u001b[0m Epoch [1/50], Step [300/5961], Train Loss: 0.1183 , Logging Time Proportion: 0.0031, Data Loading Time Proportion: 0.0079\n",
      "\u001b[36m(tune_func pid=113278)\u001b[0m Epoch [1/50], Step [400/5961], Train Loss: 0.1097 , Logging Time Proportion: 0.0024, Data Loading Time Proportion: 0.0075\n",
      "\u001b[36m(tune_func pid=113278)\u001b[0m Epoch [1/50], Step [500/5961], Train Loss: 0.1076 , Logging Time Proportion: 0.0032, Data Loading Time Proportion: 0.0071\n",
      "\u001b[36m(tune_func pid=113278)\u001b[0m Epoch [1/50], Step [600/5961], Train Loss: 0.1049 , Logging Time Proportion: 0.0034, Data Loading Time Proportion: 0.0078\n",
      "\u001b[36m(tune_func pid=113278)\u001b[0m Epoch [1/50], Step [700/5961], Train Loss: 0.1025 , Logging Time Proportion: 0.0031, Data Loading Time Proportion: 0.0078\n",
      "\u001b[36m(tune_func pid=113278)\u001b[0m Epoch [1/50], Step [800/5961], Train Loss: 0.1060\n",
      "\u001b[36m(tune_func pid=113278)\u001b[0m  \n",
      "\u001b[36m(tune_func pid=113278)\u001b[0m , Logging Time Proportion: 0.0033, Data Loading Time Proportion: 0.0078\n",
      "\u001b[36m(tune_func pid=113278)\u001b[0m Epoch [1/50], Step [900/5961], Train Loss: 0.1060 , Logging Time Proportion: 0.0036, Data Loading Time Proportion: 0.0075\n",
      "\u001b[36m(tune_func pid=113278)\u001b[0m Epoch [1/50], Step [1000/5961], Train Loss: 0.1072 , Logging Time Proportion: 0.0030, Data Loading Time Proportion: 0.0075\n",
      "\u001b[36m(tune_func pid=113278)\u001b[0m Epoch [1/50], Step [1100/5961], Train Loss: 0.1052 , Logging Time Proportion: 0.0036, Data Loading Time Proportion: 0.0079\n",
      "\u001b[36m(tune_func pid=113278)\u001b[0m #######################################################################################\n",
      "\u001b[36m(tune_func pid=113278)\u001b[0m Epoch [1/50], Step [1192/5961], Val Loss: 0.1025 Val Log Time Proportion: 0.1081\n",
      "\u001b[36m(tune_func pid=113278)\u001b[0m #######################################################################################\n"
     ]
    },
    {
     "name": "stderr",
     "output_type": "stream",
     "text": [
      "\u001b[36m(tune_func pid=113278)\u001b[0m Checkpoint successfully created at: Checkpoint(filesystem=local, path=/home/daniel/ray_results/tune_func_2024-06-23_03-06-45/tune_func_dc56f_00037_37_batch_size=4,channels=32,depth=4,lr=0.0002_2024-06-23_03-06-47/checkpoint_000000)\n"
     ]
    },
    {
     "name": "stdout",
     "output_type": "stream",
     "text": [
      "\u001b[36m(tune_func pid=113278)\u001b[0m Epoch [1/50], Step [1200/5961], Train Loss: 0.1041 , Logging Time Proportion: 0.0015, Data Loading Time Proportion: 0.0034\n",
      "\u001b[36m(tune_func pid=113278)\u001b[0m Epoch [1/50], Step [1300/5961], Train Loss: 0.1025 , Logging Time Proportion: 0.0035, Data Loading Time Proportion: 0.0072\n",
      "\u001b[36m(tune_func pid=113278)\u001b[0m Epoch [1/50], Step [1400/5961], Train Loss: 0.1021 , Logging Time Proportion: 0.0028, Data Loading Time Proportion: 0.0066\n",
      "\u001b[36m(tune_func pid=113278)\u001b[0m Epoch [1/50], Step [1500/5961], Train Loss: 0.0965 , Logging Time Proportion: 0.0032, Data Loading Time Proportion: 0.0066\n",
      "\u001b[36m(tune_func pid=113278)\u001b[0m Epoch [1/50], Step [1600/5961], Train Loss: 0.0961 , Logging Time Proportion: 0.0028, Data Loading Time Proportion: 0.0071\n",
      "\u001b[36m(tune_func pid=113278)\u001b[0m Epoch [1/50], Step [1700/5961], Train Loss: 0.0928 , Logging Time Proportion: 0.0028, Data Loading Time Proportion: 0.0073\n",
      "\u001b[36m(tune_func pid=113278)\u001b[0m Epoch [1/50], Step [1800/5961], Train Loss: 0.0871 , Logging Time Proportion: 0.0024, Data Loading Time Proportion: 0.0073\n",
      "\u001b[36m(tune_func pid=113278)\u001b[0m Epoch [1/50], Step [1900/5961], Train Loss: 0.0875 , Logging Time Proportion: 0.0028, Data Loading Time Proportion: 0.0075\n",
      "\u001b[36m(tune_func pid=113278)\u001b[0m Epoch [1/50], Step [2000/5961], Train Loss: 0.0906 , Logging Time Proportion: 0.0026, Data Loading Time Proportion: 0.0072\n",
      "\u001b[36m(tune_func pid=113278)\u001b[0m Epoch [1/50], Step [2100/5961], Train Loss: 0.0892 , Logging Time Proportion: 0.0026, Data Loading Time Proportion: 0.0074\n",
      "\u001b[36m(tune_func pid=113278)\u001b[0m Epoch [1/50], Step [2200/5961], Train Loss: 0.0876 , Logging Time Proportion: 0.0026, Data Loading Time Proportion: 0.0076\n",
      "\u001b[36m(tune_func pid=113278)\u001b[0m Epoch [1/50], Step [2300/5961], Train Loss: 0.0892 , Logging Time Proportion: 0.0028, Data Loading Time Proportion: 0.0077\n",
      "\u001b[36m(tune_func pid=113278)\u001b[0m #######################################################################################\n",
      "\u001b[36m(tune_func pid=113278)\u001b[0m Epoch [1/50], Step [2384/5961], Val Loss: 0.0879 Val Log Time Proportion: 0.1016\n",
      "\u001b[36m(tune_func pid=113278)\u001b[0m #######################################################################################\n"
     ]
    },
    {
     "name": "stderr",
     "output_type": "stream",
     "text": [
      "\u001b[36m(tune_func pid=113278)\u001b[0m Checkpoint successfully created at: Checkpoint(filesystem=local, path=/home/daniel/ray_results/tune_func_2024-06-23_03-06-45/tune_func_dc56f_00037_37_batch_size=4,channels=32,depth=4,lr=0.0002_2024-06-23_03-06-47/checkpoint_000001)\n"
     ]
    },
    {
     "name": "stdout",
     "output_type": "stream",
     "text": [
      "\u001b[36m(tune_func pid=113581)\u001b[0m Hurray! GPU available.\n",
      "\u001b[36m(tune_func pid=113581)\u001b[0m Total trainable parameters: 439041\n",
      "\u001b[36m(tune_func pid=113581)\u001b[0m Epoch [1/50], Step [100/2981], Train Loss: 0.4071 , Logging Time Proportion: 0.0037, Data Loading Time Proportion: 0.0083\n",
      "\u001b[36m(tune_func pid=113581)\u001b[0m Epoch [1/50], Step [200/2981], Train Loss: 0.1618 , Logging Time Proportion: 0.0031, Data Loading Time Proportion: 0.0098\n",
      "\u001b[36m(tune_func pid=113581)\u001b[0m Epoch [1/50], Step [300/2981], Train Loss: 0.1402 , Logging Time Proportion: 0.0027, Data Loading Time Proportion: 0.0092\n",
      "\u001b[36m(tune_func pid=113581)\u001b[0m Epoch [1/50], Step [400/2981], Train Loss: 0.1350 , Logging Time Proportion: 0.0028, Data Loading Time Proportion: 0.0104\n",
      "\u001b[36m(tune_func pid=113581)\u001b[0m Epoch [1/50], Step [500/2981], Train Loss: 0.1281 , Logging Time Proportion: 0.0032, Data Loading Time Proportion: 0.0100\n",
      "\u001b[36m(tune_func pid=113581)\u001b[0m #######################################################################################\n",
      "\u001b[36m(tune_func pid=113581)\u001b[0m Epoch [1/50], Step [596/2981], Val Loss: 0.1205 Val Log Time Proportion: 0.0961\n",
      "\u001b[36m(tune_func pid=113581)\u001b[0m #######################################################################################\n"
     ]
    },
    {
     "name": "stderr",
     "output_type": "stream",
     "text": [
      "\u001b[36m(tune_func pid=113581)\u001b[0m Checkpoint successfully created at: Checkpoint(filesystem=local, path=/home/daniel/ray_results/tune_func_2024-06-23_03-06-45/tune_func_dc56f_00038_38_batch_size=8,channels=16,depth=4,lr=0.0001_2024-06-23_03-06-47/checkpoint_000000)\n"
     ]
    },
    {
     "name": "stdout",
     "output_type": "stream",
     "text": [
      "\u001b[36m(tune_func pid=113581)\u001b[0m Epoch [1/50], Step [600/2981], Train Loss: 0.1198 , Logging Time Proportion: 0.0019, Data Loading Time Proportion: 0.0060\n",
      "\u001b[36m(tune_func pid=113581)\u001b[0m Epoch [1/50], Step [700/2981], Train Loss: 0.1154 , Logging Time Proportion: 0.0019, Data Loading Time Proportion: 0.0091\n",
      "\u001b[36m(tune_func pid=113581)\u001b[0m Epoch [1/50], Step [800/2981], Train Loss: 0.1129 , Logging Time Proportion: 0.0032, Data Loading Time Proportion: 0.0087\n",
      "\u001b[36m(tune_func pid=113581)\u001b[0m Epoch [1/50], Step [900/2981], Train Loss: 0.1131 , Logging Time Proportion: 0.0024, Data Loading Time Proportion: 0.0096\n",
      "\u001b[36m(tune_func pid=113581)\u001b[0m Epoch [1/50], Step [1000/2981], Train Loss: 0.1102 , Logging Time Proportion: 0.0018, Data Loading Time Proportion: 0.0078\n",
      "\u001b[36m(tune_func pid=113581)\u001b[0m Epoch [1/50], Step [1100/2981], Train Loss: 0.1084 , Logging Time Proportion: 0.0019, Data Loading Time Proportion: 0.0087\n",
      "\u001b[36m(tune_func pid=113581)\u001b[0m #######################################################################################\n",
      "\u001b[36m(tune_func pid=113581)\u001b[0m Epoch [1/50], Step [1192/2981], Val Loss: 0.1081 Val Log Time Proportion: 0.0819\n",
      "\u001b[36m(tune_func pid=113581)\u001b[0m #######################################################################################\n"
     ]
    },
    {
     "name": "stderr",
     "output_type": "stream",
     "text": [
      "\u001b[36m(tune_func pid=113581)\u001b[0m Checkpoint successfully created at: Checkpoint(filesystem=local, path=/home/daniel/ray_results/tune_func_2024-06-23_03-06-45/tune_func_dc56f_00038_38_batch_size=8,channels=16,depth=4,lr=0.0001_2024-06-23_03-06-47/checkpoint_000001)\n"
     ]
    },
    {
     "name": "stdout",
     "output_type": "stream",
     "text": [
      "\u001b[36m(tune_func pid=113831)\u001b[0m Hurray! GPU available.\n",
      "\u001b[36m(tune_func pid=113831)\u001b[0m Total trainable parameters: 447707137\n"
     ]
    },
    {
     "name": "stderr",
     "output_type": "stream",
     "text": [
      "2024-06-23 12:13:39,032\tERROR tune_controller.py:1331 -- Trial task failed for trial tune_func_dc56f_00039\n",
      "Traceback (most recent call last):\n",
      "  File \"/home/daniel/anaconda3/envs/adlr/lib/python3.9/site-packages/ray/air/execution/_internal/event_manager.py\", line 110, in resolve_future\n",
      "    result = ray.get(future)\n",
      "  File \"/home/daniel/anaconda3/envs/adlr/lib/python3.9/site-packages/ray/_private/auto_init_hook.py\", line 21, in auto_init_wrapper\n",
      "    return fn(*args, **kwargs)\n",
      "  File \"/home/daniel/anaconda3/envs/adlr/lib/python3.9/site-packages/ray/_private/client_mode_hook.py\", line 103, in wrapper\n",
      "    return func(*args, **kwargs)\n",
      "  File \"/home/daniel/anaconda3/envs/adlr/lib/python3.9/site-packages/ray/_private/worker.py\", line 2630, in get\n",
      "    values, debugger_breakpoint = worker.get_objects(object_refs, timeout=timeout)\n",
      "  File \"/home/daniel/anaconda3/envs/adlr/lib/python3.9/site-packages/ray/_private/worker.py\", line 863, in get_objects\n",
      "    raise value.as_instanceof_cause()\n",
      "ray.exceptions.RayTaskError(OutOfMemoryError): \u001b[36mray::ImplicitFunc.train()\u001b[39m (pid=113831, ip=192.168.42.46, actor_id=87e23b89508071afc3494a1101000000, repr=tune_func)\n",
      "  File \"/home/daniel/anaconda3/envs/adlr/lib/python3.9/site-packages/ray/tune/trainable/trainable.py\", line 331, in train\n",
      "    raise skipped from exception_cause(skipped)\n",
      "  File \"/home/daniel/anaconda3/envs/adlr/lib/python3.9/site-packages/ray/air/_internal/util.py\", line 98, in run\n",
      "    self._ret = self._target(*self._args, **self._kwargs)\n",
      "  File \"/home/daniel/anaconda3/envs/adlr/lib/python3.9/site-packages/ray/tune/trainable/function_trainable.py\", line 45, in <lambda>\n",
      "    training_func=lambda: self._trainable_func(self.config),\n",
      "  File \"/home/daniel/anaconda3/envs/adlr/lib/python3.9/site-packages/ray/tune/trainable/function_trainable.py\", line 248, in _trainable_func\n",
      "    output = fn()\n",
      "  File \"/tmp/ipykernel_66204/815730020.py\", line 25, in tune_func\n",
      "  File \"/home/daniel/Documents/TUM/ADLR/tum-adlr-02/neural_nets/trainer.py\", line 131, in train_from_dict\n",
      "    self.train()\n",
      "  File \"/home/daniel/Documents/TUM/ADLR/tum-adlr-02/neural_nets/trainer.py\", line 214, in train\n",
      "    optimizer.step()\n",
      "  File \"/home/daniel/anaconda3/envs/adlr/lib/python3.9/site-packages/torch/optim/optimizer.py\", line 391, in wrapper\n",
      "    out = func(*args, **kwargs)\n",
      "  File \"/home/daniel/anaconda3/envs/adlr/lib/python3.9/site-packages/torch/optim/optimizer.py\", line 76, in _use_grad\n",
      "    ret = func(self, *args, **kwargs)\n",
      "  File \"/home/daniel/anaconda3/envs/adlr/lib/python3.9/site-packages/torch/optim/adam.py\", line 168, in step\n",
      "    adam(\n",
      "  File \"/home/daniel/anaconda3/envs/adlr/lib/python3.9/site-packages/torch/optim/adam.py\", line 318, in adam\n",
      "    func(params,\n",
      "  File \"/home/daniel/anaconda3/envs/adlr/lib/python3.9/site-packages/torch/optim/adam.py\", line 581, in _multi_tensor_adam\n",
      "    exp_avg_sq_sqrt = torch._foreach_sqrt(device_exp_avg_sqs)\n",
      "torch.cuda.OutOfMemoryError: CUDA out of memory. Tried to allocate 288.00 MiB. GPU\n",
      "2024-06-23 12:13:39,279\tINFO tune.py:1009 -- Wrote the latest version of all result files and experiment state to '/home/daniel/ray_results/tune_func_2024-06-23_03-06-45' in 0.2258s.\n",
      "2024-06-23 12:13:39,410\tERROR tune.py:1037 -- Trials did not complete: [tune_func_dc56f_00003, tune_func_dc56f_00006, tune_func_dc56f_00007, tune_func_dc56f_00008, tune_func_dc56f_00010, tune_func_dc56f_00029, tune_func_dc56f_00039]\n",
      "2024-06-23 12:13:39,410\tINFO tune.py:1041 -- Total run time: 32813.60 seconds (32813.12 seconds for the tuning loop).\n"
     ]
    },
    {
     "name": "stdout",
     "output_type": "stream",
     "text": [
      "Best trial config: {'batch_size': 4, 'lr': 0.000245858179648005, 'depth': 6, 'channels': 16}\n",
      "Best trial final validation loss: 0.037954512037718484\n"
     ]
    },
    {
     "ename": "KeyError",
     "evalue": "'accuracy'",
     "output_type": "error",
     "traceback": [
      "\u001b[0;31m---------------------------------------------------------------------------\u001b[0m",
      "\u001b[0;31mKeyError\u001b[0m                                  Traceback (most recent call last)",
      "Cell \u001b[0;32mIn[9], line 40\u001b[0m\n\u001b[1;32m     38\u001b[0m \u001b[38;5;28mprint\u001b[39m(\u001b[38;5;124mf\u001b[39m\u001b[38;5;124m\"\u001b[39m\u001b[38;5;124mBest trial config: \u001b[39m\u001b[38;5;132;01m{\u001b[39;00mbest_trial\u001b[38;5;241m.\u001b[39mconfig\u001b[38;5;132;01m}\u001b[39;00m\u001b[38;5;124m\"\u001b[39m)\n\u001b[1;32m     39\u001b[0m \u001b[38;5;28mprint\u001b[39m(\u001b[38;5;124mf\u001b[39m\u001b[38;5;124m\"\u001b[39m\u001b[38;5;124mBest trial final validation loss: \u001b[39m\u001b[38;5;132;01m{\u001b[39;00mbest_trial\u001b[38;5;241m.\u001b[39mlast_result[\u001b[38;5;124m'\u001b[39m\u001b[38;5;124mloss\u001b[39m\u001b[38;5;124m'\u001b[39m]\u001b[38;5;132;01m}\u001b[39;00m\u001b[38;5;124m\"\u001b[39m)\n\u001b[0;32m---> 40\u001b[0m \u001b[38;5;28mprint\u001b[39m(\u001b[38;5;124mf\u001b[39m\u001b[38;5;124m\"\u001b[39m\u001b[38;5;124mBest trial final validation accuracy: \u001b[39m\u001b[38;5;132;01m{\u001b[39;00mbest_trial\u001b[38;5;241m.\u001b[39mlast_result[\u001b[38;5;124m'\u001b[39m\u001b[38;5;124maccuracy\u001b[39m\u001b[38;5;124m'\u001b[39m]\u001b[38;5;132;01m}\u001b[39;00m\u001b[38;5;124m\"\u001b[39m)\n",
      "\u001b[0;31mKeyError\u001b[0m: 'accuracy'"
     ]
    }
   ],
   "source": [
    "\n",
    "if False:\n",
    "    num_samples=40\n",
    "    max_num_epochs=4*nt_h.log_val_freq # it is not num epochs, but how often we calculae val loss (we can also calc it mid epoch) todo: make it more logical\n",
    "    gpus_per_trial = 1\n",
    "    \n",
    "    scheduler = ASHAScheduler(\n",
    "            metric=\"loss\",\n",
    "            mode=\"min\",\n",
    "            max_t=max_num_epochs,\n",
    "            grace_period=1,\n",
    "            reduction_factor=2,\n",
    "        )\n",
    "    \n",
    "    def tune_func(config):\n",
    "        tune.utils.wait_for_gpu(target_util=0.2)\n",
    "        trainer.train_from_dict(config)\n",
    "    \n",
    "    result = tune.run(\n",
    "            tune_func,\n",
    "            resources_per_trial={\"cpu\": 10, \"gpu\": gpus_per_trial},\n",
    "            config=config,\n",
    "            num_samples=num_samples,\n",
    "            scheduler=scheduler,\n",
    "    \n",
    "            raise_on_failed_trial=False,\n",
    "        )\n",
    "    \n",
    "\n"
   ]
  },
  {
   "cell_type": "markdown",
   "metadata": {},
   "source": [
    "### BOHB (Bayesian Optimization HyperBand)"
   ]
  },
  {
   "cell_type": "code",
   "execution_count": null,
   "metadata": {},
   "outputs": [],
   "source": [
    "if True\n",
    "    from ray.tune.schedulers import HyperBandForBOHB\n",
    "    from ray.tune.suggest.bohb import TuneBOHB\n",
    "    \n",
    "    \n",
    "    num_samples=100\n",
    "    max_num_epochs=4*nt_h.log_val_freq # it is not num epochs, but how often we calculae val loss (we can also calc it mid epoch) todo: make it more logical\n",
    "    gpus_per_trial = 1\n",
    "        \n",
    "    \n",
    "    search_alg = TuneBOHB()\n",
    "    scheduler = HyperBandForBOHB(metric=\"loss\",\n",
    "                mode=\"min\",\n",
    "                max_t=max_num_epochs, # Maximum number of iterations\n",
    "                grace_period=1, # Minimum iterations to run before considering stopping\n",
    "                reduction_factor=2, # Reduce trials by a factor of 2 at each stage)\n",
    "\n",
    "\n",
    "\n",
    "    result = tune.run(\n",
    "        tune_func,\n",
    "        config=config,\n",
    "        search_alg=search_alg,\n",
    "        scheduler=scheduler,\n",
    "        num_samples=num_samples,  # Typically requires more samples to be effective\n",
    "        raise_on_failed_trial=False,\n",
    "        resources_per_trial={\"cpu\": 10, \"gpu\": gpus_per_trial},\n",
    "    \n",
    "    )\n",
    "    \n",
    "\n",
    "\n",
    "\n",
    "\n",
    "    \n",
    "    "
   ]
  },
  {
   "cell_type": "code",
   "execution_count": null,
   "metadata": {},
   "outputs": [],
   "source": []
  },
  {
   "cell_type": "markdown",
   "metadata": {},
   "source": [
    "### Print Result"
   ]
  },
  {
   "cell_type": "code",
   "execution_count": null,
   "metadata": {},
   "outputs": [],
   "source": [
    "best_trial = result.get_best_trial(\"loss\", \"min\", \"last\")\n",
    "print(f\"Best trial config: {best_trial.config}\")\n",
    "print(f\"Best trial final validation loss: {best_trial.last_result['loss']}\")"
   ]
  },
  {
   "cell_type": "code",
   "execution_count": null,
   "metadata": {},
   "outputs": [],
   "source": []
  },
  {
   "cell_type": "code",
   "execution_count": null,
   "metadata": {},
   "outputs": [],
   "source": []
  },
  {
   "cell_type": "code",
   "execution_count": null,
   "metadata": {},
   "outputs": [],
   "source": []
  },
  {
   "cell_type": "code",
   "execution_count": null,
   "metadata": {},
   "outputs": [],
   "source": []
  }
 ],
 "metadata": {
  "kernelspec": {
   "display_name": "Python 3 (ipykernel)",
   "language": "python",
   "name": "python3"
  },
  "language_info": {
   "codemirror_mode": {
    "name": "ipython",
    "version": 3
   },
   "file_extension": ".py",
   "mimetype": "text/x-python",
   "name": "python",
   "nbconvert_exporter": "python",
   "pygments_lexer": "ipython3",
   "version": "3.9.7"
  }
 },
 "nbformat": 4,
 "nbformat_minor": 4
}
