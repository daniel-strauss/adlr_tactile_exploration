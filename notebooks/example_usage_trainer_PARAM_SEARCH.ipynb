{
 "cells": [
  {
   "cell_type": "markdown",
   "metadata": {},
   "source": [
    "# Example usage of trainer class"
   ]
  },
  {
   "cell_type": "code",
   "execution_count": 1,
   "metadata": {},
   "outputs": [],
   "source": [
    "# autoreload after code has changed\n",
    "%load_ext autoreload\n",
    "%autoreload 2"
   ]
  },
  {
   "cell_type": "code",
   "execution_count": 2,
   "metadata": {},
   "outputs": [
    {
     "name": "stdout",
     "output_type": "stream",
     "text": [
      "Running first time, moving up one dir level\n",
      "This path should be the root directory of the project:  /home/daniel/Documents/TUM/ADLR/tum-adlr-02\n"
     ]
    }
   ],
   "source": [
    "import os\n",
    "\n",
    "# move into the correct dirrectory, e.g. move up one directory level iif this cell is run for the first time\n",
    "try:\n",
    "    a = first_time\n",
    "except NameError:\n",
    "    print(\"Running first time, moving up one dir level\")\n",
    "    os.chdir('..')  # Move up one directory level to the root directory of project\n",
    "    first_time = False\n",
    "\n",
    "print(\"This path should be the root directory of the project: \", os.getcwd())\n",
    "    \n"
   ]
  },
  {
   "cell_type": "markdown",
   "metadata": {},
   "source": [
    "## Define Dataset\n",
    "Creating the dataset object and applzing transformations to the data."
   ]
  },
  {
   "cell_type": "code",
   "execution_count": 3,
   "metadata": {},
   "outputs": [],
   "source": [
    "from data.model_classes import Mug, Bottle\n",
    "from data.dataconverter import DataConverter\n",
    "\n",
    "# generate data\n",
    "dataconverter = DataConverter(\n",
    "    classes=[Mug(),Bottle()],\n",
    "    min_order = 1,\n",
    "    tact_order = 10,\n",
    "    tact_number=2, \n",
    "    rand_rotations=2\n",
    "    \n",
    ")\n",
    "# set regenerate to true, if you run this after changes in dataconverter have been made\n",
    "#dataconverter.generate_2d_dataset(show_results=False, regenerate=False)\n"
   ]
  },
  {
   "cell_type": "code",
   "execution_count": 4,
   "metadata": {},
   "outputs": [],
   "source": [
    "from data.reconstruction_dataset import *\n",
    "\n",
    "csv_file = './datasets/2D_shapes/annotations.csv'\n",
    "root_dir = './datasets/2D_shapes'\n",
    "composed = transforms.Compose([RandomOrientation(),\n",
    "                               ToTensor()])\n",
    "\n",
    "dataset = ReconstructionDataset(csv_file=csv_file,\n",
    "                                root_dir=root_dir,\n",
    "                                transform=composed)"
   ]
  },
  {
   "cell_type": "markdown",
   "metadata": {},
   "source": [
    "Examplary data pairs:"
   ]
  },
  {
   "cell_type": "code",
   "execution_count": 5,
   "metadata": {},
   "outputs": [
    {
     "name": "stdout",
     "output_type": "stream",
     "text": [
      "tensor([[[0., 0., 0.,  ..., 0., 0., 0.],\n",
      "         [0., 0., 0.,  ..., 0., 0., 0.],\n",
      "         [0., 0., 0.,  ..., 0., 0., 0.],\n",
      "         ...,\n",
      "         [0., 0., 0.,  ..., 0., 0., 0.],\n",
      "         [0., 0., 0.,  ..., 0., 0., 0.],\n",
      "         [0., 0., 0.,  ..., 0., 0., 0.]]])\n"
     ]
    },
    {
     "data": {
      "text/plain": [
       "<Figure size 640x480 with 0 Axes>"
      ]
     },
     "metadata": {},
     "output_type": "display_data"
    },
    {
     "data": {
      "image/png": "[encoded data removed]",
      "text/plain": [
       "<Figure size 640x480 with 2 Axes>"
      ]
     },
     "metadata": {},
     "output_type": "display_data"
    }
   ],
   "source": [
    "example_data = dataset[5]\n",
    "\n",
    "plt.figure()\n",
    "print(example_data['image'])\n",
    "show_datapair(example_data['image'], example_data['label'])\n",
    "plt.show()"
   ]
  },
  {
   "cell_type": "markdown",
   "metadata": {},
   "source": [
    "## Choose Hyperparamters\n",
    "\n",
    "Look into the file neural_nets.trainer to see which hyperparameters you can choose.\n",
    "The seperation into tunable and non tunable hyperparameters is made, because this makes parameter searches with ray easier.\n"
   ]
  },
  {
   "cell_type": "markdown",
   "metadata": {},
   "source": [
    "#### Non Tunable Hyperparameters\n"
   ]
  },
  {
   "cell_type": "code",
   "execution_count": 6,
   "metadata": {},
   "outputs": [],
   "source": [
    "from neural_nets.trainer import NonTHparams\n",
    "\n",
    "\n",
    "nt_h = NonTHparams()\n",
    "nt_h.num_epochs = 50\n",
    "nt_h.train_prop = 0.9 # set way to high to make validation period short and make testing this search easier\n",
    "\n",
    "nt_h.print_log = True # to better see param search results\n",
    "nt_h.log_train_period = 100\n",
    "nt_h.log_val_freq = 5 #int(nt_h.train_prop*len(dataset)/f)-1 #set low to test this parameter search\n"
   ]
  },
  {
   "cell_type": "markdown",
   "metadata": {},
   "source": [
    "#### Define Tunable Hyperparameters and parameter spaces for upgrade\n",
    "\n",
    "The hyperparameters we want to tone have to be put into a list of possible values and that list into a dict, for the hyperparameter optimizer to do its job."
   ]
  },
  {
   "cell_type": "code",
   "execution_count": 7,
   "metadata": {},
   "outputs": [],
   "source": [
    "import numpy as np\n",
    "import torch.nn as nn\n",
    "import torch.optim as optim\n",
    "\n",
    "from neural_nets.trainer import THparams\n",
    "from neural_nets.weight_inits import weight_init_kx\n",
    "from neural_nets.models.unet import UNet2\n",
    "\n",
    "\n",
    "from ray import tune\n",
    "from ray import train\n",
    "from ray.train import Checkpoint, get_checkpoint\n",
    "from ray.tune.schedulers import ASHAScheduler\n",
    "import ray.cloudpickle as pickle\n",
    "\n",
    "t_h = THparams()\n",
    "t_h.batch_size = 16\n",
    "\n",
    "t_h.model = UNet2\n",
    "t_h.weight_init = weight_init_kx\n",
    "t_h.depth = 5\n",
    "t_h.channels = 64\n",
    "\n",
    "t_h.lr = 1e-4\n",
    "t_h.optimizer = optim.Adam\n",
    "t_h.loss_func = nn.BCELoss()\n",
    "\n",
    "\n",
    "image_resolution = dataset[0]['image'].shape[1]\n",
    "max_unet_depth = int(np.log2(image_resolution))\n",
    "\n",
    "# config is the set of params, that will be searched, they got to ghave the same key names, as variables in THparams\n",
    "config = {\n",
    "    \"batch_size\": tune.choice([2 ** i for i in range(2,5)]),\n",
    "    \"lr\": tune.loguniform(1e-9, 1e-2),\n",
    "    \"depth\": tune.choice([i for i in range(3,max_unet_depth+1-2)]),\n",
    "    \"channels\": tune.choice([2 ** i for i in range(4,9)])\n",
    "}\n",
    "\n",
    "\n"
   ]
  },
  {
   "cell_type": "markdown",
   "metadata": {},
   "source": [
    "## Initialize Trainer"
   ]
  },
  {
   "cell_type": "code",
   "execution_count": 8,
   "metadata": {},
   "outputs": [
    {
     "name": "stdout",
     "output_type": "stream",
     "text": [
      "During training, progress will be logged to tensorboard. Go to project folder, activate appropritae conda environment and run 'tensorboard --logdir runs/' to see the logs.\n"
     ]
    }
   ],
   "source": [
    "from neural_nets.trainer import Trainer\n",
    "\n",
    "trainer = Trainer(nt_h, t_h, dataset)\n",
    "\n"
   ]
  },
  {
   "cell_type": "markdown",
   "metadata": {},
   "source": [
    "## Run Parameter Search"
   ]
  },
  {
   "cell_type": "code",
   "execution_count": null,
   "metadata": {},
   "outputs": [
    {
     "name": "stderr",
     "output_type": "stream",
     "text": [
      "2024-06-23 02:30:35,600\tINFO worker.py:1761 -- Started a local Ray instance. View the dashboard at \u001b[1m\u001b[32m127.0.0.1:8265 \u001b[39m\u001b[22m\n",
      "2024-06-23 02:30:36,363\tINFO tune.py:616 -- [output] This uses the legacy output and progress reporter, as Jupyter notebooks are not supported by the new engine, yet. For more information, please see https://github.com/ray-project/ray/issues/36949\n"
     ]
    },
    {
     "name": "stdout",
     "output_type": "stream",
     "text": [
      "Ray dashboard URL:  127.0.0.1:8265\n"
     ]
    },
    {
     "data": {
      "text/html": [
       "<div class=\"tuneStatus\">\n",
       "  <div style=\"display: flex;flex-direction: row\">\n",
       "    <div style=\"display: flex;flex-direction: column;\">\n",
       "      <h3>Tune Status</h3>\n",
       "      <table>\n",
       "<tbody>\n",
       "<tr><td>Current time:</td><td>2024-06-23 02:46:15</td></tr>\n",
       "<tr><td>Running for: </td><td>00:15:39.40        </td></tr>\n",
       "<tr><td>Memory:      </td><td>6.4/15.6 GiB       </td></tr>\n",
       "</tbody>\n",
       "</table>\n",
       "    </div>\n",
       "    <div class=\"vDivider\"></div>\n",
       "    <div class=\"systemInfo\">\n",
       "      <h3>System Info</h3>\n",
       "      Using AsyncHyperBand: num_stopped=0<br>Bracket: Iter 16.000: None | Iter 8.000: -0.22611757329492227 | Iter 4.000: -0.22617090731719727 | Iter 2.000: -0.22605179870928319 | Iter 1.000: -0.22532411568250374<br>Logical resource usage: 10.0/10 CPUs, 1.0/1 GPUs (0.0/1.0 accelerator_type:G)\n",
       "    </div>\n",
       "    <div class=\"vDivider\"></div>\n",
       "<div class=\"messages\">\n",
       "  <h3>Messages</h3>\n",
       "  \n",
       "  ... 20 more trials not shown (20 PENDING)\n",
       "  \n",
       "</div>\n",
       "<style>\n",
       ".messages {\n",
       "  color: var(--jp-ui-font-color1);\n",
       "  display: flex;\n",
       "  flex-direction: column;\n",
       "  padding-left: 1em;\n",
       "  overflow-y: auto;\n",
       "}\n",
       ".messages h3 {\n",
       "  font-weight: bold;\n",
       "}\n",
       ".vDivider {\n",
       "  border-left-width: var(--jp-border-width);\n",
       "  border-left-color: var(--jp-border-color0);\n",
       "  border-left-style: solid;\n",
       "  margin: 0.5em 1em 0.5em 1em;\n",
       "}\n",
       "</style>\n",
       "\n",
       "  </div>\n",
       "  <div class=\"hDivider\"></div>\n",
       "  <div class=\"trialStatus\">\n",
       "    <h3>Trial Status</h3>\n",
       "    <table>\n",
       "<thead>\n",
       "<tr><th>Trial name           </th><th>status  </th><th>loc                </th><th style=\"text-align: right;\">  batch_size</th><th style=\"text-align: right;\">  channels</th><th style=\"text-align: right;\">  depth</th><th style=\"text-align: right;\">         lr</th><th style=\"text-align: right;\">  iter</th><th style=\"text-align: right;\">  total time (s)</th><th style=\"text-align: right;\">    loss</th></tr>\n",
       "</thead>\n",
       "<tbody>\n",
       "<tr><td>tune_func_cf41b_00000</td><td>RUNNING </td><td>192.168.42.46:59746</td><td style=\"text-align: right;\">           4</td><td style=\"text-align: right;\">        32</td><td style=\"text-align: right;\">      3</td><td style=\"text-align: right;\">0.00642911 </td><td style=\"text-align: right;\">     8</td><td style=\"text-align: right;\">         848.373</td><td style=\"text-align: right;\">0.226118</td></tr>\n",
       "<tr><td>tune_func_cf41b_00001</td><td>PENDING </td><td>                   </td><td style=\"text-align: right;\">           8</td><td style=\"text-align: right;\">       256</td><td style=\"text-align: right;\">      6</td><td style=\"text-align: right;\">0.000456854</td><td style=\"text-align: right;\">      </td><td style=\"text-align: right;\">                </td><td style=\"text-align: right;\">        </td></tr>\n",
       "<tr><td>tune_func_cf41b_00002</td><td>PENDING </td><td>                   </td><td style=\"text-align: right;\">          16</td><td style=\"text-align: right;\">        16</td><td style=\"text-align: right;\">      4</td><td style=\"text-align: right;\">6.47535e-05</td><td style=\"text-align: right;\">      </td><td style=\"text-align: right;\">                </td><td style=\"text-align: right;\">        </td></tr>\n",
       "<tr><td>tune_func_cf41b_00003</td><td>PENDING </td><td>                   </td><td style=\"text-align: right;\">          16</td><td style=\"text-align: right;\">       256</td><td style=\"text-align: right;\">      5</td><td style=\"text-align: right;\">1.22012e-06</td><td style=\"text-align: right;\">      </td><td style=\"text-align: right;\">                </td><td style=\"text-align: right;\">        </td></tr>\n",
       "<tr><td>tune_func_cf41b_00004</td><td>PENDING </td><td>                   </td><td style=\"text-align: right;\">           8</td><td style=\"text-align: right;\">        64</td><td style=\"text-align: right;\">      6</td><td style=\"text-align: right;\">3.55011e-09</td><td style=\"text-align: right;\">      </td><td style=\"text-align: right;\">                </td><td style=\"text-align: right;\">        </td></tr>\n",
       "<tr><td>tune_func_cf41b_00005</td><td>PENDING </td><td>                   </td><td style=\"text-align: right;\">          16</td><td style=\"text-align: right;\">       256</td><td style=\"text-align: right;\">      3</td><td style=\"text-align: right;\">8.58756e-07</td><td style=\"text-align: right;\">      </td><td style=\"text-align: right;\">                </td><td style=\"text-align: right;\">        </td></tr>\n",
       "<tr><td>tune_func_cf41b_00006</td><td>PENDING </td><td>                   </td><td style=\"text-align: right;\">           4</td><td style=\"text-align: right;\">        16</td><td style=\"text-align: right;\">      3</td><td style=\"text-align: right;\">0.00794652 </td><td style=\"text-align: right;\">      </td><td style=\"text-align: right;\">                </td><td style=\"text-align: right;\">        </td></tr>\n",
       "<tr><td>tune_func_cf41b_00007</td><td>PENDING </td><td>                   </td><td style=\"text-align: right;\">          16</td><td style=\"text-align: right;\">       256</td><td style=\"text-align: right;\">      5</td><td style=\"text-align: right;\">5.76108e-08</td><td style=\"text-align: right;\">      </td><td style=\"text-align: right;\">                </td><td style=\"text-align: right;\">        </td></tr>\n",
       "<tr><td>tune_func_cf41b_00008</td><td>PENDING </td><td>                   </td><td style=\"text-align: right;\">          16</td><td style=\"text-align: right;\">        16</td><td style=\"text-align: right;\">      4</td><td style=\"text-align: right;\">0.00130405 </td><td style=\"text-align: right;\">      </td><td style=\"text-align: right;\">                </td><td style=\"text-align: right;\">        </td></tr>\n",
       "<tr><td>tune_func_cf41b_00009</td><td>PENDING </td><td>                   </td><td style=\"text-align: right;\">          16</td><td style=\"text-align: right;\">        32</td><td style=\"text-align: right;\">      5</td><td style=\"text-align: right;\">0.00879068 </td><td style=\"text-align: right;\">      </td><td style=\"text-align: right;\">                </td><td style=\"text-align: right;\">        </td></tr>\n",
       "<tr><td>tune_func_cf41b_00010</td><td>PENDING </td><td>                   </td><td style=\"text-align: right;\">          16</td><td style=\"text-align: right;\">        16</td><td style=\"text-align: right;\">      3</td><td style=\"text-align: right;\">3.19564e-06</td><td style=\"text-align: right;\">      </td><td style=\"text-align: right;\">                </td><td style=\"text-align: right;\">        </td></tr>\n",
       "<tr><td>tune_func_cf41b_00011</td><td>PENDING </td><td>                   </td><td style=\"text-align: right;\">          16</td><td style=\"text-align: right;\">        64</td><td style=\"text-align: right;\">      5</td><td style=\"text-align: right;\">5.44831e-09</td><td style=\"text-align: right;\">      </td><td style=\"text-align: right;\">                </td><td style=\"text-align: right;\">        </td></tr>\n",
       "<tr><td>tune_func_cf41b_00012</td><td>PENDING </td><td>                   </td><td style=\"text-align: right;\">           8</td><td style=\"text-align: right;\">       128</td><td style=\"text-align: right;\">      6</td><td style=\"text-align: right;\">7.12773e-09</td><td style=\"text-align: right;\">      </td><td style=\"text-align: right;\">                </td><td style=\"text-align: right;\">        </td></tr>\n",
       "<tr><td>tune_func_cf41b_00013</td><td>PENDING </td><td>                   </td><td style=\"text-align: right;\">           4</td><td style=\"text-align: right;\">       128</td><td style=\"text-align: right;\">      6</td><td style=\"text-align: right;\">9.80383e-05</td><td style=\"text-align: right;\">      </td><td style=\"text-align: right;\">                </td><td style=\"text-align: right;\">        </td></tr>\n",
       "<tr><td>tune_func_cf41b_00014</td><td>PENDING </td><td>                   </td><td style=\"text-align: right;\">           8</td><td style=\"text-align: right;\">        32</td><td style=\"text-align: right;\">      3</td><td style=\"text-align: right;\">1.12749e-07</td><td style=\"text-align: right;\">      </td><td style=\"text-align: right;\">                </td><td style=\"text-align: right;\">        </td></tr>\n",
       "<tr><td>tune_func_cf41b_00015</td><td>PENDING </td><td>                   </td><td style=\"text-align: right;\">           8</td><td style=\"text-align: right;\">        64</td><td style=\"text-align: right;\">      6</td><td style=\"text-align: right;\">0.00053722 </td><td style=\"text-align: right;\">      </td><td style=\"text-align: right;\">                </td><td style=\"text-align: right;\">        </td></tr>\n",
       "<tr><td>tune_func_cf41b_00016</td><td>PENDING </td><td>                   </td><td style=\"text-align: right;\">           4</td><td style=\"text-align: right;\">        16</td><td style=\"text-align: right;\">      3</td><td style=\"text-align: right;\">1.10326e-07</td><td style=\"text-align: right;\">      </td><td style=\"text-align: right;\">                </td><td style=\"text-align: right;\">        </td></tr>\n",
       "<tr><td>tune_func_cf41b_00017</td><td>PENDING </td><td>                   </td><td style=\"text-align: right;\">          16</td><td style=\"text-align: right;\">        32</td><td style=\"text-align: right;\">      3</td><td style=\"text-align: right;\">5.40845e-07</td><td style=\"text-align: right;\">      </td><td style=\"text-align: right;\">                </td><td style=\"text-align: right;\">        </td></tr>\n",
       "<tr><td>tune_func_cf41b_00018</td><td>PENDING </td><td>                   </td><td style=\"text-align: right;\">          16</td><td style=\"text-align: right;\">        16</td><td style=\"text-align: right;\">      3</td><td style=\"text-align: right;\">1.57799e-09</td><td style=\"text-align: right;\">      </td><td style=\"text-align: right;\">                </td><td style=\"text-align: right;\">        </td></tr>\n",
       "<tr><td>tune_func_cf41b_00019</td><td>PENDING </td><td>                   </td><td style=\"text-align: right;\">           8</td><td style=\"text-align: right;\">       256</td><td style=\"text-align: right;\">      5</td><td style=\"text-align: right;\">0.000358392</td><td style=\"text-align: right;\">      </td><td style=\"text-align: right;\">                </td><td style=\"text-align: right;\">        </td></tr>\n",
       "</tbody>\n",
       "</table>\n",
       "  </div>\n",
       "</div>\n",
       "<style>\n",
       ".tuneStatus {\n",
       "  color: var(--jp-ui-font-color1);\n",
       "}\n",
       ".tuneStatus .systemInfo {\n",
       "  display: flex;\n",
       "  flex-direction: column;\n",
       "}\n",
       ".tuneStatus td {\n",
       "  white-space: nowrap;\n",
       "}\n",
       ".tuneStatus .trialStatus {\n",
       "  display: flex;\n",
       "  flex-direction: column;\n",
       "}\n",
       ".tuneStatus h3 {\n",
       "  font-weight: bold;\n",
       "}\n",
       ".tuneStatus .hDivider {\n",
       "  border-bottom-width: var(--jp-border-width);\n",
       "  border-bottom-color: var(--jp-border-color0);\n",
       "  border-bottom-style: solid;\n",
       "}\n",
       ".tuneStatus .vDivider {\n",
       "  border-left-width: var(--jp-border-width);\n",
       "  border-left-color: var(--jp-border-color0);\n",
       "  border-left-style: solid;\n",
       "  margin: 0.5em 1em 0.5em 1em;\n",
       "}\n",
       "</style>\n"
      ],
      "text/plain": [
       "<IPython.core.display.HTML object>"
      ]
     },
     "metadata": {},
     "output_type": "display_data"
    },
    {
     "name": "stdout",
     "output_type": "stream",
     "text": [
      "\u001b[36m(tune_func pid=59746)\u001b[0m Hurray! GPU available.\n",
      "\u001b[36m(tune_func pid=59746)\u001b[0m Total trainable parameters: 442497\n",
      "\u001b[36m(tune_func pid=59746)\u001b[0m Epoch [1/50], Step [100/5769], Train Loss: 0.2453 , Logging Time Proportion: 0.0034, Data Loading Time Proportion: 0.0053\n",
      "\u001b[36m(tune_func pid=59746)\u001b[0m Epoch [1/50], Step [200/5769], Train Loss: 0.2301 , Logging Time Proportion: 0.0019, Data Loading Time Proportion: 0.0057\n",
      "\u001b[36m(tune_func pid=59746)\u001b[0m Epoch [1/50], Step [300/5769], Train Loss: 0.2255 , Logging Time Proportion: 0.0016, Data Loading Time Proportion: 0.0054\n",
      "\u001b[36m(tune_func pid=59746)\u001b[0m Epoch [1/50], Step [400/5769], Train Loss: 0.2266 , Logging Time Proportion: 0.0015, Data Loading Time Proportion: 0.0058\n",
      "\u001b[36m(tune_func pid=59746)\u001b[0m Epoch [1/50], Step [500/5769], Train Loss: 0.2254 , Logging Time Proportion: 0.0014, Data Loading Time Proportion: 0.0056\n",
      "\u001b[36m(tune_func pid=59746)\u001b[0m Epoch [1/50], Step [600/5769], Train Loss: 0.2231 , Logging Time Proportion: 0.0022, Data Loading Time Proportion: 0.0051\n",
      "\u001b[36m(tune_func pid=59746)\u001b[0m Epoch [1/50], Step [700/5769], Train Loss: 0.2274 , Logging Time Proportion: 0.0021, Data Loading Time Proportion: 0.0057\n",
      "\u001b[36m(tune_func pid=59746)\u001b[0m Epoch [1/50], Step [800/5769], Train Loss: 0.2251 , Logging Time Proportion: 0.0017, Data Loading Time Proportion: 0.0051\n",
      "\u001b[36m(tune_func pid=59746)\u001b[0m Epoch [1/50], Step [900/5769], Train Loss: 0.2263 , Logging Time Proportion: 0.0014, Data Loading Time Proportion: 0.0048\n",
      "\u001b[36m(tune_func pid=59746)\u001b[0m Epoch [1/50], Step [1000/5769], Train Loss: 0.2272 , Logging Time Proportion: 0.0016, Data Loading Time Proportion: 0.0056\n",
      "\u001b[36m(tune_func pid=59746)\u001b[0m Epoch [1/50], Step [1100/5769], Train Loss: 0.2250 , Logging Time Proportion: 0.0015, Data Loading Time Proportion: 0.0059\n"
     ]
    },
    {
     "data": {
      "text/html": [
       "<div class=\"trialProgress\">\n",
       "  <h3>Trial Progress</h3>\n",
       "  <table>\n",
       "<thead>\n",
       "<tr><th>Trial name           </th><th style=\"text-align: right;\">    loss</th><th>should_checkpoint  </th></tr>\n",
       "</thead>\n",
       "<tbody>\n",
       "<tr><td>tune_func_cf41b_00000</td><td style=\"text-align: right;\">0.226118</td><td>True               </td></tr>\n",
       "</tbody>\n",
       "</table>\n",
       "</div>\n",
       "<style>\n",
       ".trialProgress {\n",
       "  display: flex;\n",
       "  flex-direction: column;\n",
       "  color: var(--jp-ui-font-color1);\n",
       "}\n",
       ".trialProgress h3 {\n",
       "  font-weight: bold;\n",
       "}\n",
       ".trialProgress td {\n",
       "  white-space: nowrap;\n",
       "}\n",
       "</style>\n"
      ],
      "text/plain": [
       "<IPython.core.display.HTML object>"
      ]
     },
     "metadata": {},
     "output_type": "display_data"
    },
    {
     "name": "stderr",
     "output_type": "stream",
     "text": [
      "\u001b[36m(tune_func pid=59746)\u001b[0m Checkpoint successfully created at: Checkpoint(filesystem=local, path=/home/daniel/ray_results/tune_func_2024-06-23_02-30-36/tune_func_cf41b_00000_0_batch_size=4,channels=32,depth=3,lr=0.0064_2024-06-23_02-30-37/checkpoint_000000)\n"
     ]
    },
    {
     "name": "stdout",
     "output_type": "stream",
     "text": [
      "\u001b[36m(tune_func pid=59746)\u001b[0m #######################################################################################\n",
      "\u001b[36m(tune_func pid=59746)\u001b[0m Epoch [1/50], Step [1153/5769], Val Loss: 0.2253 Val Log Time Proportion: 0.3692\n",
      "\u001b[36m(tune_func pid=59746)\u001b[0m #######################################################################################\n",
      "\u001b[36m(tune_func pid=59746)\u001b[0m Epoch [1/50], Step [1200/5769], Train Loss: 0.2275 , Logging Time Proportion: 0.0003, Data Loading Time Proportion: 0.0010\n",
      "\u001b[36m(tune_func pid=59746)\u001b[0m Epoch [1/50], Step [1300/5769], Train Loss: 0.2259 , Logging Time Proportion: 0.0016, Data Loading Time Proportion: 0.0055\n",
      "\u001b[36m(tune_func pid=59746)\u001b[0m Epoch [1/50], Step [1400/5769], Train Loss: 0.2250 , Logging Time Proportion: 0.0017, Data Loading Time Proportion: 0.0058\n",
      "\u001b[36m(tune_func pid=59746)\u001b[0m Epoch [1/50], Step [1500/5769], Train Loss: 0.2278 , Logging Time Proportion: 0.0013, Data Loading Time Proportion: 0.0058\n",
      "\u001b[36m(tune_func pid=59746)\u001b[0m Epoch [1/50], Step [1600/5769], Train Loss: 0.2254 , Logging Time Proportion: 0.0014, Data Loading Time Proportion: 0.0053\n",
      "\u001b[36m(tune_func pid=59746)\u001b[0m Epoch [1/50], Step [1700/5769], Train Loss: 0.2244 , Logging Time Proportion: 0.0016, Data Loading Time Proportion: 0.0057\n",
      "\u001b[36m(tune_func pid=59746)\u001b[0m Epoch [1/50], Step [1800/5769], Train Loss: 0.2260 , Logging Time Proportion: 0.0015, Data Loading Time Proportion: 0.0054\n",
      "\u001b[36m(tune_func pid=59746)\u001b[0m Epoch [1/50], Step [1900/5769], Train Loss: 0.2239 , Logging Time Proportion: 0.0015, Data Loading Time Proportion: 0.0052\n",
      "\u001b[36m(tune_func pid=59746)\u001b[0m Epoch [1/50], Step [2000/5769], Train Loss: 0.2291 , Logging Time Proportion: 0.0015, Data Loading Time Proportion: 0.0054\n",
      "\u001b[36m(tune_func pid=59746)\u001b[0m Epoch [1/50], Step [2100/5769], Train Loss: 0.2231 , Logging Time Proportion: 0.0018, Data Loading Time Proportion: 0.0057\n",
      "\u001b[36m(tune_func pid=59746)\u001b[0m Epoch [1/50], Step [2200/5769], Train Loss: 0.2280 , Logging Time Proportion: 0.0015, Data Loading Time Proportion: 0.0059\n",
      "\u001b[36m(tune_func pid=59746)\u001b[0m Epoch [1/50], Step [2300/5769], Train Loss: 0.2242 , Logging Time Proportion: 0.0011, Data Loading Time Proportion: 0.0044\n"
     ]
    },
    {
     "name": "stderr",
     "output_type": "stream",
     "text": [
      "\u001b[36m(tune_func pid=59746)\u001b[0m Checkpoint successfully created at: Checkpoint(filesystem=local, path=/home/daniel/ray_results/tune_func_2024-06-23_02-30-36/tune_func_cf41b_00000_0_batch_size=4,channels=32,depth=3,lr=0.0064_2024-06-23_02-30-37/checkpoint_000001)\n"
     ]
    },
    {
     "name": "stdout",
     "output_type": "stream",
     "text": [
      "\u001b[36m(tune_func pid=59746)\u001b[0m #######################################################################################\n",
      "\u001b[36m(tune_func pid=59746)\u001b[0m Epoch [1/50], Step [2306/5769], Val Loss: 0.2261 Val Log Time Proportion: 0.1038\n",
      "\u001b[36m(tune_func pid=59746)\u001b[0m #######################################################################################\n",
      "\u001b[36m(tune_func pid=59746)\u001b[0m Epoch [1/50], Step [2400/5769], Train Loss: 0.2272 , Logging Time Proportion: 0.0008, Data Loading Time Proportion: 0.0026\n",
      "\u001b[36m(tune_func pid=59746)\u001b[0m Epoch [1/50], Step [2500/5769], Train Loss: 0.2258 , Logging Time Proportion: 0.0016, Data Loading Time Proportion: 0.0054\n",
      "\u001b[36m(tune_func pid=59746)\u001b[0m Epoch [1/50], Step [2600/5769], Train Loss: 0.2234 , Logging Time Proportion: 0.0017, Data Loading Time Proportion: 0.0054\n",
      "\u001b[36m(tune_func pid=59746)\u001b[0m Epoch [1/50], Step [2700/5769], Train Loss: 0.2251 , Logging Time Proportion: 0.0014, Data Loading Time Proportion: 0.0055\n",
      "\u001b[36m(tune_func pid=59746)\u001b[0m Epoch [1/50], Step [2800/5769], Train Loss: 0.2278 , Logging Time Proportion: 0.0017, Data Loading Time Proportion: 0.0053\n",
      "\u001b[36m(tune_func pid=59746)\u001b[0m Epoch [1/50], Step [2900/5769], Train Loss: 0.2267 , Logging Time Proportion: 0.0018, Data Loading Time Proportion: 0.0054\n",
      "\u001b[36m(tune_func pid=59746)\u001b[0m Epoch [1/50], Step [3000/5769], Train Loss: 0.2269 , Logging Time Proportion: 0.0008, Data Loading Time Proportion: 0.0032\n",
      "\u001b[36m(tune_func pid=59746)\u001b[0m Epoch [1/50], Step [3100/5769], Train Loss: 0.2256 , Logging Time Proportion: 0.0010, Data Loading Time Proportion: 0.0036\n",
      "\u001b[36m(tune_func pid=59746)\u001b[0m Epoch [1/50], Step [3200/5769], Train Loss: 0.2237 , Logging Time Proportion: 0.0016, Data Loading Time Proportion: 0.0054\n",
      "\u001b[36m(tune_func pid=59746)\u001b[0m Epoch [1/50], Step [3300/5769], Train Loss: 0.2246 , Logging Time Proportion: 0.0010, Data Loading Time Proportion: 0.0041\n",
      "\u001b[36m(tune_func pid=59746)\u001b[0m Epoch [1/50], Step [3400/5769], Train Loss: 0.2272 , Logging Time Proportion: 0.0013, Data Loading Time Proportion: 0.0042\n",
      "\u001b[36m(tune_func pid=59746)\u001b[0m #######################################################################################\n",
      "\u001b[36m(tune_func pid=59746)\u001b[0m Epoch [1/50], Step [3459/5769], Val Loss: 0.2262 Val Log Time Proportion: 0.2327\n",
      "\u001b[36m(tune_func pid=59746)\u001b[0m #######################################################################################\n"
     ]
    },
    {
     "name": "stderr",
     "output_type": "stream",
     "text": [
      "\u001b[36m(tune_func pid=59746)\u001b[0m Checkpoint successfully created at: Checkpoint(filesystem=local, path=/home/daniel/ray_results/tune_func_2024-06-23_02-30-36/tune_func_cf41b_00000_0_batch_size=4,channels=32,depth=3,lr=0.0064_2024-06-23_02-30-37/checkpoint_000002)\n"
     ]
    },
    {
     "name": "stdout",
     "output_type": "stream",
     "text": [
      "\u001b[36m(tune_func pid=59746)\u001b[0m Epoch [1/50], Step [3500/5769], Train Loss: 0.2274 , Logging Time Proportion: 0.0004, Data Loading Time Proportion: 0.0011\n",
      "\u001b[36m(tune_func pid=59746)\u001b[0m Epoch [1/50], Step [3600/5769], Train Loss: 0.2244 , Logging Time Proportion: 0.0014, Data Loading Time Proportion: 0.0045\n",
      "\u001b[36m(tune_func pid=59746)\u001b[0m Epoch [1/50], Step [3700/5769], Train Loss: 0.2271 , Logging Time Proportion: 0.0012, Data Loading Time Proportion: 0.0043\n",
      "\u001b[36m(tune_func pid=59746)\u001b[0m Epoch [1/50], Step [3800/5769], Train Loss: 0.2258 , Logging Time Proportion: 0.0013, Data Loading Time Proportion: 0.0047\n",
      "\u001b[36m(tune_func pid=59746)\u001b[0m Epoch [1/50], Step [3900/5769], Train Loss: 0.2291 , Logging Time Proportion: 0.0012, Data Loading Time Proportion: 0.0042\n",
      "\u001b[36m(tune_func pid=59746)\u001b[0m Epoch [1/50], Step [4000/5769], Train Loss: 0.2257 , Logging Time Proportion: 0.0011, Data Loading Time Proportion: 0.0049\n",
      "\u001b[36m(tune_func pid=59746)\u001b[0m Epoch [1/50], Step [4100/5769], Train Loss: 0.2289 , Logging Time Proportion: 0.0012, Data Loading Time Proportion: 0.0047\n",
      "\u001b[36m(tune_func pid=59746)\u001b[0m Epoch [1/50], Step [4200/5769], Train Loss: 0.2266 , Logging Time Proportion: 0.0013, Data Loading Time Proportion: 0.0051\n",
      "\u001b[36m(tune_func pid=59746)\u001b[0m Epoch [1/50], Step [4300/5769], Train Loss: 0.2242 , Logging Time Proportion: 0.0011, Data Loading Time Proportion: 0.0050\n",
      "\u001b[36m(tune_func pid=59746)\u001b[0m Epoch [1/50], Step [4400/5769], Train Loss: 0.2255 , Logging Time Proportion: 0.0013, Data Loading Time Proportion: 0.0051\n",
      "\u001b[36m(tune_func pid=59746)\u001b[0m Epoch [1/50], Step [4500/5769], Train Loss: 0.2263 , Logging Time Proportion: 0.0013, Data Loading Time Proportion: 0.0045\n",
      "\u001b[36m(tune_func pid=59746)\u001b[0m Epoch [1/50], Step [4600/5769], Train Loss: 0.2277 , Logging Time Proportion: 0.0014, Data Loading Time Proportion: 0.0052\n"
     ]
    },
    {
     "name": "stderr",
     "output_type": "stream",
     "text": [
      "\u001b[36m(tune_func pid=59746)\u001b[0m Checkpoint successfully created at: Checkpoint(filesystem=local, path=/home/daniel/ray_results/tune_func_2024-06-23_02-30-36/tune_func_cf41b_00000_0_batch_size=4,channels=32,depth=3,lr=0.0064_2024-06-23_02-30-37/checkpoint_000003)\n"
     ]
    },
    {
     "name": "stdout",
     "output_type": "stream",
     "text": [
      "\u001b[36m(tune_func pid=59746)\u001b[0m #######################################################################################\n",
      "\u001b[36m(tune_func pid=59746)\u001b[0m Epoch [1/50], Step [4612/5769], Val Loss: 0.2262 Val Log Time Proportion: 0.1190\n",
      "\u001b[36m(tune_func pid=59746)\u001b[0m #######################################################################################\n",
      "\u001b[36m(tune_func pid=59746)\u001b[0m Epoch [1/50], Step [4700/5769], Train Loss: 0.2256 , Logging Time Proportion: 0.0006, Data Loading Time Proportion: 0.0020\n",
      "\u001b[36m(tune_func pid=59746)\u001b[0m Epoch [1/50], Step [4800/5769], Train Loss: 0.2280 , Logging Time Proportion: 0.0014, Data Loading Time Proportion: 0.0053\n",
      "\u001b[36m(tune_func pid=59746)\u001b[0m Epoch [1/50], Step [4900/5769], Train Loss: 0.2270 , Logging Time Proportion: 0.0011, Data Loading Time Proportion: 0.0050\n",
      "\u001b[36m(tune_func pid=59746)\u001b[0m Epoch [1/50], Step [5000/5769], Train Loss: 0.2290 , Logging Time Proportion: 0.0012, Data Loading Time Proportion: 0.0045\n",
      "\u001b[36m(tune_func pid=59746)\u001b[0m Epoch [1/50], Step [5100/5769], Train Loss: 0.2272 , Logging Time Proportion: 0.0012, Data Loading Time Proportion: 0.0050\n",
      "\u001b[36m(tune_func pid=59746)\u001b[0m Epoch [1/50], Step [5200/5769], Train Loss: 0.2238 , Logging Time Proportion: 0.0013, Data Loading Time Proportion: 0.0049\n",
      "\u001b[36m(tune_func pid=59746)\u001b[0m Epoch [1/50], Step [5300/5769], Train Loss: 0.2259 , Logging Time Proportion: 0.0012, Data Loading Time Proportion: 0.0052\n",
      "\u001b[36m(tune_func pid=59746)\u001b[0m Epoch [1/50], Step [5400/5769], Train Loss: 0.2249\n",
      "\u001b[36m(tune_func pid=59746)\u001b[0m  , Logging Time Proportion: 0.0013, Data Loading Time Proportion: 0.0043\n",
      "\u001b[36m(tune_func pid=59746)\u001b[0m Epoch [1/50], Step [5500/5769], Train Loss: 0.2249 , Logging Time Proportion: 0.0014, Data Loading Time Proportion: 0.0047\n",
      "\u001b[36m(tune_func pid=59746)\u001b[0m Epoch [1/50], Step [5600/5769], Train Loss: 0.2268 , Logging Time Proportion: 0.0013, Data Loading Time Proportion: 0.0047\n",
      "\u001b[36m(tune_func pid=59746)\u001b[0m Epoch [1/50], Step [5700/5769], Train Loss: 0.2260 , Logging Time Proportion: 0.0009, Data Loading Time Proportion: 0.0043\n"
     ]
    },
    {
     "name": "stderr",
     "output_type": "stream",
     "text": [
      "\u001b[36m(tune_func pid=59746)\u001b[0m Checkpoint successfully created at: Checkpoint(filesystem=local, path=/home/daniel/ray_results/tune_func_2024-06-23_02-30-36/tune_func_cf41b_00000_0_batch_size=4,channels=32,depth=3,lr=0.0064_2024-06-23_02-30-37/checkpoint_000004)\n"
     ]
    },
    {
     "name": "stdout",
     "output_type": "stream",
     "text": [
      "\u001b[36m(tune_func pid=59746)\u001b[0m #######################################################################################\n",
      "\u001b[36m(tune_func pid=59746)\u001b[0m Epoch [1/50], Step [5765/5769], Val Loss: 0.2262 Val Log Time Proportion: 0.1004\n",
      "\u001b[36m(tune_func pid=59746)\u001b[0m #######################################################################################\n",
      "\u001b[36m(tune_func pid=59746)\u001b[0m Epoch [2/50], Step [31/5769], Train Loss: 0.0710 , Logging Time Proportion: 0.0007, Data Loading Time Proportion: 0.0023\n",
      "\u001b[36m(tune_func pid=59746)\u001b[0m Epoch [2/50], Step [131/5769], Train Loss: 0.2267 , Logging Time Proportion: 0.0027, Data Loading Time Proportion: 0.0078\n",
      "\u001b[36m(tune_func pid=59746)\u001b[0m Epoch [2/50], Step [231/5769], Train Loss: 0.2258 , Logging Time Proportion: 0.0029, Data Loading Time Proportion: 0.0079\n",
      "\u001b[36m(tune_func pid=59746)\u001b[0m Epoch [2/50], Step [331/5769], Train Loss: 0.2261\n",
      "\u001b[36m(tune_func pid=59746)\u001b[0m  , Logging Time Proportion: 0.0028, Data Loading Time Proportion: 0.0080\n",
      "\u001b[36m(tune_func pid=59746)\u001b[0m Epoch [2/50], Step [431/5769], Train Loss: 0.2277 , Logging Time Proportion: 0.0023, Data Loading Time Proportion: 0.0079\n",
      "\u001b[36m(tune_func pid=59746)\u001b[0m Epoch [2/50], Step [531/5769], Train Loss: 0.2250 , Logging Time Proportion: 0.0018, Data Loading Time Proportion: 0.0077\n",
      "\u001b[36m(tune_func pid=59746)\u001b[0m Epoch [2/50], Step [631/5769], Train Loss: 0.2250 , Logging Time Proportion: 0.0021, Data Loading Time Proportion: 0.0088\n",
      "\u001b[36m(tune_func pid=59746)\u001b[0m Epoch [2/50], Step [731/5769], Train Loss: 0.2269 , Logging Time Proportion: 0.0020, Data Loading Time Proportion: 0.0096\n",
      "\u001b[36m(tune_func pid=59746)\u001b[0m Epoch [2/50], Step [831/5769], Train Loss: 0.2259 , Logging Time Proportion: 0.0022, Data Loading Time Proportion: 0.0076\n",
      "\u001b[36m(tune_func pid=59746)\u001b[0m Epoch [2/50], Step [931/5769], Train Loss: 0.2236 , Logging Time Proportion: 0.0023, Data Loading Time Proportion: 0.0074\n",
      "\u001b[36m(tune_func pid=59746)\u001b[0m Epoch [2/50], Step [1031/5769], Train Loss: 0.2270 , Logging Time Proportion: 0.0020, Data Loading Time Proportion: 0.0079\n",
      "\u001b[36m(tune_func pid=59746)\u001b[0m Epoch [2/50], Step [1131/5769], Train Loss: 0.2267 , Logging Time Proportion: 0.0023, Data Loading Time Proportion: 0.0084\n",
      "\u001b[36m(tune_func pid=59746)\u001b[0m #######################################################################################\n",
      "\u001b[36m(tune_func pid=59746)\u001b[0m Epoch [2/50], Step [1153/5769], Val Loss: 0.2261 Val Log Time Proportion: 0.1557\n",
      "\u001b[36m(tune_func pid=59746)\u001b[0m #######################################################################################\n"
     ]
    },
    {
     "name": "stderr",
     "output_type": "stream",
     "text": [
      "\u001b[36m(tune_func pid=59746)\u001b[0m Checkpoint successfully created at: Checkpoint(filesystem=local, path=/home/daniel/ray_results/tune_func_2024-06-23_02-30-36/tune_func_cf41b_00000_0_batch_size=4,channels=32,depth=3,lr=0.0064_2024-06-23_02-30-37/checkpoint_000005)\n"
     ]
    },
    {
     "name": "stdout",
     "output_type": "stream",
     "text": [
      "\u001b[36m(tune_func pid=59746)\u001b[0m Epoch [2/50], Step [1231/5769], Train Loss: 0.2257 , Logging Time Proportion: 0.0008, Data Loading Time Proportion: 0.0027\n",
      "\u001b[36m(tune_func pid=59746)\u001b[0m Epoch [2/50], Step [1331/5769], Train Loss: 0.2230 , Logging Time Proportion: 0.0028, Data Loading Time Proportion: 0.0074\n",
      "\u001b[36m(tune_func pid=59746)\u001b[0m Epoch [2/50], Step [1431/5769], Train Loss: 0.2270 , Logging Time Proportion: 0.0024, Data Loading Time Proportion: 0.0086\n",
      "\u001b[36m(tune_func pid=59746)\u001b[0m Epoch [2/50], Step [1531/5769], Train Loss: 0.2246 , Logging Time Proportion: 0.0019, Data Loading Time Proportion: 0.0078\n",
      "\u001b[36m(tune_func pid=59746)\u001b[0m Epoch [2/50], Step [1631/5769], Train Loss: 0.2253 , Logging Time Proportion: 0.0021, Data Loading Time Proportion: 0.0077\n",
      "\u001b[36m(tune_func pid=59746)\u001b[0m Epoch [2/50], Step [1731/5769], Train Loss: 0.2277 , Logging Time Proportion: 0.0022, Data Loading Time Proportion: 0.0074\n",
      "\u001b[36m(tune_func pid=59746)\u001b[0m Epoch [2/50], Step [1831/5769], Train Loss: 0.2275 , Logging Time Proportion: 0.0022, Data Loading Time Proportion: 0.0088\n",
      "\u001b[36m(tune_func pid=59746)\u001b[0m Epoch [2/50], Step [1931/5769], Train Loss: 0.2247 , Logging Time Proportion: 0.0021, Data Loading Time Proportion: 0.0080\n",
      "\u001b[36m(tune_func pid=59746)\u001b[0m Epoch [2/50], Step [2031/5769], Train Loss: 0.2283 , Logging Time Proportion: 0.0027, Data Loading Time Proportion: 0.0079\n",
      "\u001b[36m(tune_func pid=59746)\u001b[0m Epoch [2/50], Step [2131/5769], Train Loss: 0.2257 , Logging Time Proportion: 0.0019, Data Loading Time Proportion: 0.0077\n",
      "\u001b[36m(tune_func pid=59746)\u001b[0m Epoch [2/50], Step [2231/5769], Train Loss: 0.2210 , Logging Time Proportion: 0.0026, Data Loading Time Proportion: 0.0080\n"
     ]
    },
    {
     "name": "stderr",
     "output_type": "stream",
     "text": [
      "\u001b[36m(tune_func pid=59746)\u001b[0m Checkpoint successfully created at: Checkpoint(filesystem=local, path=/home/daniel/ray_results/tune_func_2024-06-23_02-30-36/tune_func_cf41b_00000_0_batch_size=4,channels=32,depth=3,lr=0.0064_2024-06-23_02-30-37/checkpoint_000006)\n"
     ]
    },
    {
     "name": "stdout",
     "output_type": "stream",
     "text": [
      "\u001b[36m(tune_func pid=59746)\u001b[0m #######################################################################################\n",
      "\u001b[36m(tune_func pid=59746)\u001b[0m Epoch [2/50], Step [2306/5769], Val Loss: 0.2260 Val Log Time Proportion: 0.4225\n",
      "\u001b[36m(tune_func pid=59746)\u001b[0m #######################################################################################\n",
      "\u001b[36m(tune_func pid=59746)\u001b[0m Epoch [2/50], Step [2331/5769], Train Loss: 0.2269 , Logging Time Proportion: 0.0004, Data Loading Time Proportion: 0.0012\n",
      "\u001b[36m(tune_func pid=59746)\u001b[0m Epoch [2/50], Step [2431/5769], Train Loss: 0.2253 , Logging Time Proportion: 0.0029, Data Loading Time Proportion: 0.0078\n",
      "\u001b[36m(tune_func pid=59746)\u001b[0m Epoch [2/50], Step [2531/5769], Train Loss: 0.2249 , Logging Time Proportion: 0.0021, Data Loading Time Proportion: 0.0073\n",
      "\u001b[36m(tune_func pid=59746)\u001b[0m Epoch [2/50], Step [2631/5769], Train Loss: 0.2270 , Logging Time Proportion: 0.0021, Data Loading Time Proportion: 0.0075\n",
      "\u001b[36m(tune_func pid=59746)\u001b[0m Epoch [2/50], Step [2731/5769], Train Loss: 0.2269 , Logging Time Proportion: 0.0015, Data Loading Time Proportion: 0.0071\n",
      "\u001b[36m(tune_func pid=59746)\u001b[0m Epoch [2/50], Step [2831/5769], Train Loss: 0.2258 , Logging Time Proportion: 0.0024, Data Loading Time Proportion: 0.0068\n",
      "\u001b[36m(tune_func pid=59746)\u001b[0m Epoch [2/50], Step [2931/5769], Train Loss: 0.2237 , Logging Time Proportion: 0.0016, Data Loading Time Proportion: 0.0073\n",
      "\u001b[36m(tune_func pid=59746)\u001b[0m Epoch [2/50], Step [3031/5769], Train Loss: 0.2287 , Logging Time Proportion: 0.0015, Data Loading Time Proportion: 0.0064\n",
      "\u001b[36m(tune_func pid=59746)\u001b[0m Epoch [2/50], Step [3131/5769], Train Loss: 0.2262 , Logging Time Proportion: 0.0021, Data Loading Time Proportion: 0.0073\n",
      "\u001b[36m(tune_func pid=59746)\u001b[0m Epoch [2/50], Step [3231/5769], Train Loss: 0.2292 , Logging Time Proportion: 0.0020, Data Loading Time Proportion: 0.0075\n",
      "\u001b[36m(tune_func pid=59746)\u001b[0m Epoch [2/50], Step [3331/5769], Train Loss: 0.2254 , Logging Time Proportion: 0.0020, Data Loading Time Proportion: 0.0073\n",
      "\u001b[36m(tune_func pid=59746)\u001b[0m Epoch [2/50], Step [3431/5769], Train Loss: 0.2274 , Logging Time Proportion: 0.0025, Data Loading Time Proportion: 0.0075\n",
      "\u001b[36m(tune_func pid=59746)\u001b[0m #######################################################################################\n",
      "\u001b[36m(tune_func pid=59746)\u001b[0m Epoch [2/50], Step [3459/5769], Val Loss: 0.2261 Val Log Time Proportion: 0.2552\n",
      "\u001b[36m(tune_func pid=59746)\u001b[0m #######################################################################################\n"
     ]
    },
    {
     "name": "stderr",
     "output_type": "stream",
     "text": [
      "\u001b[36m(tune_func pid=59746)\u001b[0m Checkpoint successfully created at: Checkpoint(filesystem=local, path=/home/daniel/ray_results/tune_func_2024-06-23_02-30-36/tune_func_cf41b_00000_0_batch_size=4,channels=32,depth=3,lr=0.0064_2024-06-23_02-30-37/checkpoint_000007)\n"
     ]
    },
    {
     "name": "stdout",
     "output_type": "stream",
     "text": [
      "\u001b[36m(tune_func pid=59746)\u001b[0m Epoch [2/50], Step [3531/5769], Train Loss: 0.2277 , Logging Time Proportion: 0.0004, Data Loading Time Proportion: 0.0019\n",
      "\u001b[36m(tune_func pid=59746)\u001b[0m Epoch [2/50], Step [3631/5769], Train Loss: 0.2272 , Logging Time Proportion: 0.0015, Data Loading Time Proportion: 0.0065\n",
      "\u001b[36m(tune_func pid=59746)\u001b[0m Epoch [2/50], Step [3731/5769], Train Loss: 0.2261 , Logging Time Proportion: 0.0016, Data Loading Time Proportion: 0.0063\n",
      "\u001b[36m(tune_func pid=59746)\u001b[0m Epoch [2/50], Step [3831/5769], Train Loss: 0.2259 , Logging Time Proportion: 0.0019, Data Loading Time Proportion: 0.0064\n",
      "\u001b[36m(tune_func pid=59746)\u001b[0m Epoch [2/50], Step [3931/5769], Train Loss: 0.2243 , Logging Time Proportion: 0.0017, Data Loading Time Proportion: 0.0065\n",
      "\u001b[36m(tune_func pid=59746)\u001b[0m Epoch [2/50], Step [4031/5769], Train Loss: 0.2238 , Logging Time Proportion: 0.0018, Data Loading Time Proportion: 0.0067\n",
      "\u001b[36m(tune_func pid=59746)\u001b[0m Epoch [2/50], Step [4131/5769], Train Loss: 0.2262 , Logging Time Proportion: 0.0016, Data Loading Time Proportion: 0.0066\n",
      "\u001b[36m(tune_func pid=59746)\u001b[0m Epoch [2/50], Step [4231/5769], Train Loss: 0.2274 , Logging Time Proportion: 0.0019, Data Loading Time Proportion: 0.0065\n",
      "\u001b[36m(tune_func pid=59746)\u001b[0m Epoch [2/50], Step [4331/5769], Train Loss: 0.2258 , Logging Time Proportion: 0.0016, Data Loading Time Proportion: 0.0061\n",
      "\u001b[36m(tune_func pid=59746)\u001b[0m Epoch [2/50], Step [4431/5769], Train Loss: 0.2256 , Logging Time Proportion: 0.0018, Data Loading Time Proportion: 0.0052\n",
      "\u001b[36m(tune_func pid=59746)\u001b[0m Epoch [2/50], Step [4531/5769], Train Loss: 0.2238 , Logging Time Proportion: 0.0017, Data Loading Time Proportion: 0.0068\n"
     ]
    }
   ],
   "source": [
    "import ray\n",
    "import GPUtil\n",
    "\n",
    "num_samples=40\n",
    "max_num_epochs=4*nt_h.log_val_freq # it is not num epochs, but how often we calculae val loss (we can also calc it mid epoch) todo: make it more logical\n",
    "gpus_per_trial = 1\n",
    "\n",
    "os.environ[\"RAY_CHDIR_TO_TRIAL_DIR\"] = \"0\" # needed so that we still can load files using path relative to working directory, \n",
    "                                           # as these fuckers change it \n",
    "ray.shutdown()\n",
    "context = ray.init(num_cpus=10)\n",
    "print(\"Ray dashboard URL: \", context.dashboard_url)\n",
    "\n",
    "\n",
    "scheduler = ASHAScheduler(\n",
    "        metric=\"loss\",\n",
    "        mode=\"min\",\n",
    "        max_t=max_num_epochs,\n",
    "        grace_period=1,\n",
    "        reduction_factor=2,\n",
    "    )\n",
    "\n",
    "def tune_func(config):\n",
    "    tune.utils.wait_for_gpu(target_util=0.2)\n",
    "    trainer.train_from_dict(config)\n",
    "\n",
    "result = tune.run(\n",
    "        tune_func,\n",
    "        resources_per_trial={\"cpu\": 10, \"gpu\": gpus_per_trial},\n",
    "        config=config,\n",
    "        num_samples=num_samples,\n",
    "        scheduler=scheduler,\n",
    "\n",
    "        raise_on_failed_trial=False,\n",
    "    )\n",
    "\n",
    "best_trial = result.get_best_trial(\"loss\", \"min\", \"last\")\n",
    "print(f\"Best trial config: {best_trial.config}\")\n",
    "print(f\"Best trial final validation loss: {best_trial.last_result['loss']}\")\n",
    "print(f\"Best trial final validation accuracy: {best_trial.last_result['accuracy']}\")\n"
   ]
  },
  {
   "cell_type": "code",
   "execution_count": null,
   "metadata": {},
   "outputs": [],
   "source": [
    "print(result)"
   ]
  },
  {
   "cell_type": "code",
   "execution_count": null,
   "metadata": {},
   "outputs": [],
   "source": []
  },
  {
   "cell_type": "code",
   "execution_count": null,
   "metadata": {},
   "outputs": [],
   "source": []
  },
  {
   "cell_type": "code",
   "execution_count": null,
   "metadata": {},
   "outputs": [],
   "source": []
  },
  {
   "cell_type": "code",
   "execution_count": null,
   "metadata": {},
   "outputs": [],
   "source": []
  },
  {
   "cell_type": "code",
   "execution_count": null,
   "metadata": {},
   "outputs": [],
   "source": []
  }
 ],
 "metadata": {
  "kernelspec": {
   "display_name": "Python 3 (ipykernel)",
   "language": "python",
   "name": "python3"
  },
  "language_info": {
   "codemirror_mode": {
    "name": "ipython",
    "version": 3
   },
   "file_extension": ".py",
   "mimetype": "text/x-python",
   "name": "python",
   "nbconvert_exporter": "python",
   "pygments_lexer": "ipython3",
   "version": "3.9.7"
  }
 },
 "nbformat": 4,
 "nbformat_minor": 4
}
